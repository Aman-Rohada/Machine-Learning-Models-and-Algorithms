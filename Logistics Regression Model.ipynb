{
 "cells": [
  {
   "cell_type": "markdown",
   "id": "746e47e1",
   "metadata": {},
   "source": [
    "# LOGISTIC REGRESSION\n",
    "By:\n",
    "Aman Rohada | Kunal Dey | Analytics in Banking & Services"
   ]
  },
  {
   "cell_type": "code",
   "execution_count": 5,
   "id": "db50d8fd",
   "metadata": {},
   "outputs": [
    {
     "data": {
      "text/html": [
       "        <script type=\"text/javascript\">\n",
       "        window.PlotlyConfig = {MathJaxConfig: 'local'};\n",
       "        if (window.MathJax && window.MathJax.Hub && window.MathJax.Hub.Config) {window.MathJax.Hub.Config({SVG: {font: \"STIX-Web\"}});}\n",
       "        if (typeof require !== 'undefined') {\n",
       "        require.undef(\"plotly\");\n",
       "        requirejs.config({\n",
       "            paths: {\n",
       "                'plotly': ['https://cdn.plot.ly/plotly-2.12.1.min']\n",
       "            }\n",
       "        });\n",
       "        require(['plotly'], function(Plotly) {\n",
       "            window._Plotly = Plotly;\n",
       "        });\n",
       "        }\n",
       "        </script>\n",
       "        "
      ]
     },
     "metadata": {},
     "output_type": "display_data"
    }
   ],
   "source": [
    "#Importing libraries\n",
    "import numpy as np \n",
    "import pandas as pd \n",
    "import os\n",
    "import itertools\n",
    "import warnings\n",
    "warnings.filterwarnings(\"ignore\")\n",
    "import io\n",
    "import matplotlib.pyplot as plt \n",
    "from PIL import  Image\n",
    "import seaborn as sns \n",
    "import plotly.offline as py\n",
    "py.init_notebook_mode(connected=True)\n",
    "import plotly.graph_objs as go\n",
    "import plotly.tools as tls\n",
    "import plotly.figure_factory as ff"
   ]
  },
  {
   "cell_type": "markdown",
   "id": "bfa2f372",
   "metadata": {},
   "source": [
    "# Step 1. Data Importing"
   ]
  },
  {
   "cell_type": "code",
   "execution_count": 6,
   "id": "5ca4a944",
   "metadata": {},
   "outputs": [],
   "source": [
    "from sklearn import model_selection\n",
    "from sklearn.linear_model import LogisticRegression\n",
    "from sklearn.metrics import classification_report\n",
    "from sklearn.metrics import accuracy_score\n",
    "from sklearn.metrics import confusion_matrix\n",
    "from sklearn.preprocessing import StandardScaler"
   ]
  },
  {
   "cell_type": "code",
   "execution_count": 7,
   "id": "dd0c473d",
   "metadata": {},
   "outputs": [],
   "source": [
    "data_set = pd.read_csv (r\"C:\\Users\\amanr\\Downloads\\suv_data.csv\")"
   ]
  },
  {
   "cell_type": "code",
   "execution_count": 8,
   "id": "e224f613",
   "metadata": {},
   "outputs": [
    {
     "data": {
      "text/html": [
       "<div>\n",
       "<style scoped>\n",
       "    .dataframe tbody tr th:only-of-type {\n",
       "        vertical-align: middle;\n",
       "    }\n",
       "\n",
       "    .dataframe tbody tr th {\n",
       "        vertical-align: top;\n",
       "    }\n",
       "\n",
       "    .dataframe thead th {\n",
       "        text-align: right;\n",
       "    }\n",
       "</style>\n",
       "<table border=\"1\" class=\"dataframe\">\n",
       "  <thead>\n",
       "    <tr style=\"text-align: right;\">\n",
       "      <th></th>\n",
       "      <th>User ID</th>\n",
       "      <th>Gender</th>\n",
       "      <th>Age</th>\n",
       "      <th>EstimatedSalary</th>\n",
       "      <th>Purchased</th>\n",
       "    </tr>\n",
       "  </thead>\n",
       "  <tbody>\n",
       "    <tr>\n",
       "      <th>0</th>\n",
       "      <td>15624510</td>\n",
       "      <td>Male</td>\n",
       "      <td>19</td>\n",
       "      <td>19000</td>\n",
       "      <td>0</td>\n",
       "    </tr>\n",
       "    <tr>\n",
       "      <th>1</th>\n",
       "      <td>15810944</td>\n",
       "      <td>Male</td>\n",
       "      <td>35</td>\n",
       "      <td>20000</td>\n",
       "      <td>0</td>\n",
       "    </tr>\n",
       "    <tr>\n",
       "      <th>2</th>\n",
       "      <td>15668575</td>\n",
       "      <td>Female</td>\n",
       "      <td>26</td>\n",
       "      <td>43000</td>\n",
       "      <td>0</td>\n",
       "    </tr>\n",
       "    <tr>\n",
       "      <th>3</th>\n",
       "      <td>15603246</td>\n",
       "      <td>Female</td>\n",
       "      <td>27</td>\n",
       "      <td>57000</td>\n",
       "      <td>0</td>\n",
       "    </tr>\n",
       "    <tr>\n",
       "      <th>4</th>\n",
       "      <td>15804002</td>\n",
       "      <td>Male</td>\n",
       "      <td>19</td>\n",
       "      <td>76000</td>\n",
       "      <td>0</td>\n",
       "    </tr>\n",
       "    <tr>\n",
       "      <th>5</th>\n",
       "      <td>15728773</td>\n",
       "      <td>Male</td>\n",
       "      <td>27</td>\n",
       "      <td>58000</td>\n",
       "      <td>0</td>\n",
       "    </tr>\n",
       "    <tr>\n",
       "      <th>6</th>\n",
       "      <td>15598044</td>\n",
       "      <td>Female</td>\n",
       "      <td>27</td>\n",
       "      <td>84000</td>\n",
       "      <td>0</td>\n",
       "    </tr>\n",
       "    <tr>\n",
       "      <th>7</th>\n",
       "      <td>15694829</td>\n",
       "      <td>Female</td>\n",
       "      <td>32</td>\n",
       "      <td>150000</td>\n",
       "      <td>1</td>\n",
       "    </tr>\n",
       "    <tr>\n",
       "      <th>8</th>\n",
       "      <td>15600575</td>\n",
       "      <td>Male</td>\n",
       "      <td>25</td>\n",
       "      <td>33000</td>\n",
       "      <td>0</td>\n",
       "    </tr>\n",
       "    <tr>\n",
       "      <th>9</th>\n",
       "      <td>15727311</td>\n",
       "      <td>Female</td>\n",
       "      <td>35</td>\n",
       "      <td>65000</td>\n",
       "      <td>0</td>\n",
       "    </tr>\n",
       "  </tbody>\n",
       "</table>\n",
       "</div>"
      ],
      "text/plain": [
       "    User ID  Gender  Age  EstimatedSalary  Purchased\n",
       "0  15624510    Male   19            19000          0\n",
       "1  15810944    Male   35            20000          0\n",
       "2  15668575  Female   26            43000          0\n",
       "3  15603246  Female   27            57000          0\n",
       "4  15804002    Male   19            76000          0\n",
       "5  15728773    Male   27            58000          0\n",
       "6  15598044  Female   27            84000          0\n",
       "7  15694829  Female   32           150000          1\n",
       "8  15600575    Male   25            33000          0\n",
       "9  15727311  Female   35            65000          0"
      ]
     },
     "execution_count": 8,
     "metadata": {},
     "output_type": "execute_result"
    }
   ],
   "source": [
    "data_set.head (10)"
   ]
  },
  {
   "cell_type": "markdown",
   "id": "193ad7fc",
   "metadata": {},
   "source": [
    "# Step 2.Data Pre-Processing"
   ]
  },
  {
   "cell_type": "code",
   "execution_count": 9,
   "id": "a2afbbcf",
   "metadata": {},
   "outputs": [
    {
     "data": {
      "text/plain": [
       "(400, 5)"
      ]
     },
     "execution_count": 9,
     "metadata": {},
     "output_type": "execute_result"
    }
   ],
   "source": [
    "data_set.shape"
   ]
  },
  {
   "cell_type": "code",
   "execution_count": 10,
   "id": "d26610df",
   "metadata": {},
   "outputs": [
    {
     "name": "stdout",
     "output_type": "stream",
     "text": [
      "<class 'pandas.core.frame.DataFrame'>\n",
      "RangeIndex: 400 entries, 0 to 399\n",
      "Data columns (total 5 columns):\n",
      " #   Column           Non-Null Count  Dtype \n",
      "---  ------           --------------  ----- \n",
      " 0   User ID          400 non-null    int64 \n",
      " 1   Gender           400 non-null    object\n",
      " 2   Age              400 non-null    int64 \n",
      " 3   EstimatedSalary  400 non-null    int64 \n",
      " 4   Purchased        400 non-null    int64 \n",
      "dtypes: int64(4), object(1)\n",
      "memory usage: 15.8+ KB\n"
     ]
    }
   ],
   "source": [
    "data_set.info()"
   ]
  },
  {
   "cell_type": "code",
   "execution_count": 11,
   "id": "faf2460a",
   "metadata": {},
   "outputs": [
    {
     "data": {
      "text/plain": [
       "User ID            0\n",
       "Gender             0\n",
       "Age                0\n",
       "EstimatedSalary    0\n",
       "Purchased          0\n",
       "dtype: int64"
      ]
     },
     "execution_count": 11,
     "metadata": {},
     "output_type": "execute_result"
    }
   ],
   "source": [
    "data_set.isnull().sum()"
   ]
  },
  {
   "cell_type": "code",
   "execution_count": 12,
   "id": "a22f498b",
   "metadata": {},
   "outputs": [
    {
     "data": {
      "text/html": [
       "<div>\n",
       "<style scoped>\n",
       "    .dataframe tbody tr th:only-of-type {\n",
       "        vertical-align: middle;\n",
       "    }\n",
       "\n",
       "    .dataframe tbody tr th {\n",
       "        vertical-align: top;\n",
       "    }\n",
       "\n",
       "    .dataframe thead th {\n",
       "        text-align: right;\n",
       "    }\n",
       "</style>\n",
       "<table border=\"1\" class=\"dataframe\">\n",
       "  <thead>\n",
       "    <tr style=\"text-align: right;\">\n",
       "      <th></th>\n",
       "      <th>User ID</th>\n",
       "      <th>Gender</th>\n",
       "      <th>Age</th>\n",
       "      <th>EstimatedSalary</th>\n",
       "      <th>Purchased</th>\n",
       "    </tr>\n",
       "  </thead>\n",
       "  <tbody>\n",
       "    <tr>\n",
       "      <th>0</th>\n",
       "      <td>15624510</td>\n",
       "      <td>Male</td>\n",
       "      <td>19</td>\n",
       "      <td>19000</td>\n",
       "      <td>0</td>\n",
       "    </tr>\n",
       "    <tr>\n",
       "      <th>1</th>\n",
       "      <td>15810944</td>\n",
       "      <td>Male</td>\n",
       "      <td>35</td>\n",
       "      <td>20000</td>\n",
       "      <td>0</td>\n",
       "    </tr>\n",
       "    <tr>\n",
       "      <th>2</th>\n",
       "      <td>15668575</td>\n",
       "      <td>Female</td>\n",
       "      <td>26</td>\n",
       "      <td>43000</td>\n",
       "      <td>0</td>\n",
       "    </tr>\n",
       "    <tr>\n",
       "      <th>3</th>\n",
       "      <td>15603246</td>\n",
       "      <td>Female</td>\n",
       "      <td>27</td>\n",
       "      <td>57000</td>\n",
       "      <td>0</td>\n",
       "    </tr>\n",
       "    <tr>\n",
       "      <th>4</th>\n",
       "      <td>15804002</td>\n",
       "      <td>Male</td>\n",
       "      <td>19</td>\n",
       "      <td>76000</td>\n",
       "      <td>0</td>\n",
       "    </tr>\n",
       "    <tr>\n",
       "      <th>5</th>\n",
       "      <td>15728773</td>\n",
       "      <td>Male</td>\n",
       "      <td>27</td>\n",
       "      <td>58000</td>\n",
       "      <td>0</td>\n",
       "    </tr>\n",
       "    <tr>\n",
       "      <th>6</th>\n",
       "      <td>15598044</td>\n",
       "      <td>Female</td>\n",
       "      <td>27</td>\n",
       "      <td>84000</td>\n",
       "      <td>0</td>\n",
       "    </tr>\n",
       "    <tr>\n",
       "      <th>7</th>\n",
       "      <td>15694829</td>\n",
       "      <td>Female</td>\n",
       "      <td>32</td>\n",
       "      <td>150000</td>\n",
       "      <td>1</td>\n",
       "    </tr>\n",
       "    <tr>\n",
       "      <th>8</th>\n",
       "      <td>15600575</td>\n",
       "      <td>Male</td>\n",
       "      <td>25</td>\n",
       "      <td>33000</td>\n",
       "      <td>0</td>\n",
       "    </tr>\n",
       "    <tr>\n",
       "      <th>9</th>\n",
       "      <td>15727311</td>\n",
       "      <td>Female</td>\n",
       "      <td>35</td>\n",
       "      <td>65000</td>\n",
       "      <td>0</td>\n",
       "    </tr>\n",
       "  </tbody>\n",
       "</table>\n",
       "</div>"
      ],
      "text/plain": [
       "    User ID  Gender  Age  EstimatedSalary  Purchased\n",
       "0  15624510    Male   19            19000          0\n",
       "1  15810944    Male   35            20000          0\n",
       "2  15668575  Female   26            43000          0\n",
       "3  15603246  Female   27            57000          0\n",
       "4  15804002    Male   19            76000          0\n",
       "5  15728773    Male   27            58000          0\n",
       "6  15598044  Female   27            84000          0\n",
       "7  15694829  Female   32           150000          1\n",
       "8  15600575    Male   25            33000          0\n",
       "9  15727311  Female   35            65000          0"
      ]
     },
     "execution_count": 12,
     "metadata": {},
     "output_type": "execute_result"
    }
   ],
   "source": [
    "data_set.head(10)"
   ]
  },
  {
   "cell_type": "markdown",
   "id": "bb5bd063",
   "metadata": {},
   "source": [
    "* 0-Not Purchased  SUV\n",
    "* 1-Purchased SUV"
   ]
  },
  {
   "cell_type": "code",
   "execution_count": 13,
   "id": "18230e82",
   "metadata": {},
   "outputs": [
    {
     "data": {
      "text/html": [
       "<div>\n",
       "<style scoped>\n",
       "    .dataframe tbody tr th:only-of-type {\n",
       "        vertical-align: middle;\n",
       "    }\n",
       "\n",
       "    .dataframe tbody tr th {\n",
       "        vertical-align: top;\n",
       "    }\n",
       "\n",
       "    .dataframe thead th {\n",
       "        text-align: right;\n",
       "    }\n",
       "</style>\n",
       "<table border=\"1\" class=\"dataframe\">\n",
       "  <thead>\n",
       "    <tr style=\"text-align: right;\">\n",
       "      <th></th>\n",
       "      <th>Gender</th>\n",
       "      <th>Age</th>\n",
       "      <th>EstimatedSalary</th>\n",
       "      <th>Purchased</th>\n",
       "    </tr>\n",
       "  </thead>\n",
       "  <tbody>\n",
       "    <tr>\n",
       "      <th>0</th>\n",
       "      <td>Male</td>\n",
       "      <td>19</td>\n",
       "      <td>19000</td>\n",
       "      <td>0</td>\n",
       "    </tr>\n",
       "    <tr>\n",
       "      <th>1</th>\n",
       "      <td>Male</td>\n",
       "      <td>35</td>\n",
       "      <td>20000</td>\n",
       "      <td>0</td>\n",
       "    </tr>\n",
       "    <tr>\n",
       "      <th>2</th>\n",
       "      <td>Female</td>\n",
       "      <td>26</td>\n",
       "      <td>43000</td>\n",
       "      <td>0</td>\n",
       "    </tr>\n",
       "    <tr>\n",
       "      <th>3</th>\n",
       "      <td>Female</td>\n",
       "      <td>27</td>\n",
       "      <td>57000</td>\n",
       "      <td>0</td>\n",
       "    </tr>\n",
       "    <tr>\n",
       "      <th>4</th>\n",
       "      <td>Male</td>\n",
       "      <td>19</td>\n",
       "      <td>76000</td>\n",
       "      <td>0</td>\n",
       "    </tr>\n",
       "  </tbody>\n",
       "</table>\n",
       "</div>"
      ],
      "text/plain": [
       "   Gender  Age  EstimatedSalary  Purchased\n",
       "0    Male   19            19000          0\n",
       "1    Male   35            20000          0\n",
       "2  Female   26            43000          0\n",
       "3  Female   27            57000          0\n",
       "4    Male   19            76000          0"
      ]
     },
     "execution_count": 13,
     "metadata": {},
     "output_type": "execute_result"
    }
   ],
   "source": [
    "new_data_set = data_set.drop (columns = ['User ID'], axis = '1')\n",
    "new_data_set.head ()"
   ]
  },
  {
   "cell_type": "code",
   "execution_count": 14,
   "id": "840410ac",
   "metadata": {},
   "outputs": [
    {
     "data": {
      "text/html": [
       "<div>\n",
       "<style scoped>\n",
       "    .dataframe tbody tr th:only-of-type {\n",
       "        vertical-align: middle;\n",
       "    }\n",
       "\n",
       "    .dataframe tbody tr th {\n",
       "        vertical-align: top;\n",
       "    }\n",
       "\n",
       "    .dataframe thead th {\n",
       "        text-align: right;\n",
       "    }\n",
       "</style>\n",
       "<table border=\"1\" class=\"dataframe\">\n",
       "  <thead>\n",
       "    <tr style=\"text-align: right;\">\n",
       "      <th></th>\n",
       "      <th>Age</th>\n",
       "      <th>EstimatedSalary</th>\n",
       "      <th>Purchased</th>\n",
       "    </tr>\n",
       "  </thead>\n",
       "  <tbody>\n",
       "    <tr>\n",
       "      <th>count</th>\n",
       "      <td>400.000000</td>\n",
       "      <td>400.000000</td>\n",
       "      <td>400.000000</td>\n",
       "    </tr>\n",
       "    <tr>\n",
       "      <th>mean</th>\n",
       "      <td>37.655000</td>\n",
       "      <td>69742.500000</td>\n",
       "      <td>0.357500</td>\n",
       "    </tr>\n",
       "    <tr>\n",
       "      <th>std</th>\n",
       "      <td>10.482877</td>\n",
       "      <td>34096.960282</td>\n",
       "      <td>0.479864</td>\n",
       "    </tr>\n",
       "    <tr>\n",
       "      <th>min</th>\n",
       "      <td>18.000000</td>\n",
       "      <td>15000.000000</td>\n",
       "      <td>0.000000</td>\n",
       "    </tr>\n",
       "    <tr>\n",
       "      <th>25%</th>\n",
       "      <td>29.750000</td>\n",
       "      <td>43000.000000</td>\n",
       "      <td>0.000000</td>\n",
       "    </tr>\n",
       "    <tr>\n",
       "      <th>50%</th>\n",
       "      <td>37.000000</td>\n",
       "      <td>70000.000000</td>\n",
       "      <td>0.000000</td>\n",
       "    </tr>\n",
       "    <tr>\n",
       "      <th>75%</th>\n",
       "      <td>46.000000</td>\n",
       "      <td>88000.000000</td>\n",
       "      <td>1.000000</td>\n",
       "    </tr>\n",
       "    <tr>\n",
       "      <th>max</th>\n",
       "      <td>60.000000</td>\n",
       "      <td>150000.000000</td>\n",
       "      <td>1.000000</td>\n",
       "    </tr>\n",
       "  </tbody>\n",
       "</table>\n",
       "</div>"
      ],
      "text/plain": [
       "              Age  EstimatedSalary   Purchased\n",
       "count  400.000000       400.000000  400.000000\n",
       "mean    37.655000     69742.500000    0.357500\n",
       "std     10.482877     34096.960282    0.479864\n",
       "min     18.000000     15000.000000    0.000000\n",
       "25%     29.750000     43000.000000    0.000000\n",
       "50%     37.000000     70000.000000    0.000000\n",
       "75%     46.000000     88000.000000    1.000000\n",
       "max     60.000000    150000.000000    1.000000"
      ]
     },
     "execution_count": 14,
     "metadata": {},
     "output_type": "execute_result"
    }
   ],
   "source": [
    "new_data_set.describe ()"
   ]
  },
  {
   "cell_type": "markdown",
   "id": "a96b3b8b",
   "metadata": {},
   "source": [
    "# Step 3.Visualizing Data"
   ]
  },
  {
   "cell_type": "code",
   "execution_count": 15,
   "id": "6b319612",
   "metadata": {},
   "outputs": [
    {
     "data": {
      "text/plain": [
       "<AxesSubplot:xlabel='Purchased', ylabel='count'>"
      ]
     },
     "execution_count": 15,
     "metadata": {},
     "output_type": "execute_result"
    },
    {
     "data": {
      "image/png": "[encoded data removed]",
      "text/plain": [
       "<Figure size 640x480 with 1 Axes>"
      ]
     },
     "metadata": {},
     "output_type": "display_data"
    }
   ],
   "source": [
    "sns.countplot (x = 'Purchased', data = new_data_set)"
   ]
  },
  {
   "cell_type": "code",
   "execution_count": 16,
   "id": "e1397ccc",
   "metadata": {},
   "outputs": [
    {
     "data": {
      "text/plain": [
       "<AxesSubplot:>"
      ]
     },
     "execution_count": 16,
     "metadata": {},
     "output_type": "execute_result"
    },
    {
     "data": {
      "image/png": "[encoded data removed]",
      "text/plain": [
       "<Figure size 640x480 with 1 Axes>"
      ]
     },
     "metadata": {},
     "output_type": "display_data"
    }
   ],
   "source": [
    "sns.boxplot(data=new_data_set.EstimatedSalary)"
   ]
  },
  {
   "cell_type": "code",
   "execution_count": 77,
   "id": "c6ae6919",
   "metadata": {},
   "outputs": [
    {
     "data": {
      "text/plain": [
       "<AxesSubplot:xlabel='Purchased', ylabel='count'>"
      ]
     },
     "execution_count": 77,
     "metadata": {},
     "output_type": "execute_result"
    },
    {
     "data": {
      "image/png": "[encoded data removed]",
      "text/plain": [
       "<Figure size 640x480 with 1 Axes>"
      ]
     },
     "metadata": {},
     "output_type": "display_data"
    }
   ],
   "source": [
    "sns.countplot ( x = 'Purchased', hue = 'Gender',data = new_data_set)"
   ]
  },
  {
   "cell_type": "code",
   "execution_count": 18,
   "id": "da099c68",
   "metadata": {},
   "outputs": [
    {
     "data": {
      "text/plain": [
       "<AxesSubplot:>"
      ]
     },
     "execution_count": 18,
     "metadata": {},
     "output_type": "execute_result"
    },
    {
     "data": {
      "image/png": "[encoded data removed]",
      "text/plain": [
       "<Figure size 640x480 with 1 Axes>"
      ]
     },
     "metadata": {},
     "output_type": "display_data"
    }
   ],
   "source": [
    "new_data_set ['Age'].hist(bins = 20)"
   ]
  },
  {
   "cell_type": "code",
   "execution_count": 19,
   "id": "c53cdfc5",
   "metadata": {},
   "outputs": [],
   "source": [
    "def age_group (new_data_set):\n",
    "    if new_data_set ['Age']<= 20:\n",
    "        return 'A'\n",
    "    elif 20 < new_data_set ['Age'] <= 26:\n",
    "        return 'B'\n",
    "    elif 26 < new_data_set ['Age']<= 30:\n",
    "         return 'C'\n",
    "    elif 30 <new_data_set ['Age'] <= 40:\n",
    "         return 'D'\n",
    "    elif 40 < new_data_set ['Age']<= 50:\n",
    "         return 'E'\n",
    "    else:\n",
    "         return 'F'\n",
    "new_data_set['age_group']=new_data_set.apply(lambda x :age_group(x),axis=1)"
   ]
  },
  {
   "cell_type": "code",
   "execution_count": 20,
   "id": "84fd5711",
   "metadata": {},
   "outputs": [
    {
     "data": {
      "text/html": [
       "<div>\n",
       "<style scoped>\n",
       "    .dataframe tbody tr th:only-of-type {\n",
       "        vertical-align: middle;\n",
       "    }\n",
       "\n",
       "    .dataframe tbody tr th {\n",
       "        vertical-align: top;\n",
       "    }\n",
       "\n",
       "    .dataframe thead th {\n",
       "        text-align: right;\n",
       "    }\n",
       "</style>\n",
       "<table border=\"1\" class=\"dataframe\">\n",
       "  <thead>\n",
       "    <tr style=\"text-align: right;\">\n",
       "      <th></th>\n",
       "      <th>Gender</th>\n",
       "      <th>Age</th>\n",
       "      <th>EstimatedSalary</th>\n",
       "      <th>Purchased</th>\n",
       "      <th>age_group</th>\n",
       "    </tr>\n",
       "  </thead>\n",
       "  <tbody>\n",
       "    <tr>\n",
       "      <th>0</th>\n",
       "      <td>Male</td>\n",
       "      <td>19</td>\n",
       "      <td>19000</td>\n",
       "      <td>0</td>\n",
       "      <td>A</td>\n",
       "    </tr>\n",
       "    <tr>\n",
       "      <th>1</th>\n",
       "      <td>Male</td>\n",
       "      <td>35</td>\n",
       "      <td>20000</td>\n",
       "      <td>0</td>\n",
       "      <td>D</td>\n",
       "    </tr>\n",
       "    <tr>\n",
       "      <th>2</th>\n",
       "      <td>Female</td>\n",
       "      <td>26</td>\n",
       "      <td>43000</td>\n",
       "      <td>0</td>\n",
       "      <td>B</td>\n",
       "    </tr>\n",
       "    <tr>\n",
       "      <th>3</th>\n",
       "      <td>Female</td>\n",
       "      <td>27</td>\n",
       "      <td>57000</td>\n",
       "      <td>0</td>\n",
       "      <td>C</td>\n",
       "    </tr>\n",
       "    <tr>\n",
       "      <th>4</th>\n",
       "      <td>Male</td>\n",
       "      <td>19</td>\n",
       "      <td>76000</td>\n",
       "      <td>0</td>\n",
       "      <td>A</td>\n",
       "    </tr>\n",
       "  </tbody>\n",
       "</table>\n",
       "</div>"
      ],
      "text/plain": [
       "   Gender  Age  EstimatedSalary  Purchased age_group\n",
       "0    Male   19            19000          0         A\n",
       "1    Male   35            20000          0         D\n",
       "2  Female   26            43000          0         B\n",
       "3  Female   27            57000          0         C\n",
       "4    Male   19            76000          0         A"
      ]
     },
     "execution_count": 20,
     "metadata": {},
     "output_type": "execute_result"
    }
   ],
   "source": [
    "new_data_set.head()"
   ]
  },
  {
   "cell_type": "code",
   "execution_count": 21,
   "id": "aa2b38e6",
   "metadata": {},
   "outputs": [
    {
     "data": {
      "text/plain": [
       "D    142\n",
       "E     98\n",
       "F     49\n",
       "B     46\n",
       "C     46\n",
       "A     19\n",
       "Name: age_group, dtype: int64"
      ]
     },
     "execution_count": 21,
     "metadata": {},
     "output_type": "execute_result"
    }
   ],
   "source": [
    "new_data_set.age_group.value_counts(dropna=False)"
   ]
  },
  {
   "cell_type": "code",
   "execution_count": 22,
   "id": "f3e0c231",
   "metadata": {},
   "outputs": [
    {
     "data": {
      "text/plain": [
       "72.25"
      ]
     },
     "execution_count": 22,
     "metadata": {},
     "output_type": "execute_result"
    }
   ],
   "source": [
    "((142+98+49)/400)*100"
   ]
  },
  {
   "cell_type": "markdown",
   "id": "33087a91",
   "metadata": {},
   "source": [
    "72.25 % of customers lies between age_group 30 to 60 yrs"
   ]
  },
  {
   "cell_type": "code",
   "execution_count": 23,
   "id": "ae9378d3",
   "metadata": {},
   "outputs": [
    {
     "data": {
      "text/plain": [
       "<AxesSubplot:xlabel='Purchased', ylabel='count'>"
      ]
     },
     "execution_count": 23,
     "metadata": {},
     "output_type": "execute_result"
    },
    {
     "data": {
      "image/png": "[encoded data removed]",
      "text/plain": [
       "<Figure size 640x480 with 1 Axes>"
      ]
     },
     "metadata": {},
     "output_type": "display_data"
    }
   ],
   "source": [
    "sns.countplot ( x = 'Purchased', hue = 'age_group', data = new_data_set)"
   ]
  },
  {
   "cell_type": "markdown",
   "id": "bf140206",
   "metadata": {},
   "source": [
    "* People yonger than 20 years old don't buy a SUV.\n",
    "* People between 20 and 26 years old don't buy SUV.\n",
    "* People younger than 26 don't buy SUVs.\n",
    "* Most of the people buying SUV are between 40 to 60 years old."
   ]
  },
  {
   "cell_type": "code",
   "execution_count": 24,
   "id": "414e6887",
   "metadata": {},
   "outputs": [
    {
     "data": {
      "text/plain": [
       "<AxesSubplot:>"
      ]
     },
     "execution_count": 24,
     "metadata": {},
     "output_type": "execute_result"
    },
    {
     "data": {
      "image/png": "[encoded data removed]",
      "text/plain": [
       "<Figure size 640x480 with 1 Axes>"
      ]
     },
     "metadata": {},
     "output_type": "display_data"
    }
   ],
   "source": [
    "new_data_set ['EstimatedSalary'].hist(bins = 20)"
   ]
  },
  {
   "cell_type": "code",
   "execution_count": 25,
   "id": "1a88d156",
   "metadata": {},
   "outputs": [],
   "source": [
    "def income_category(new_data_set): \n",
    "\n",
    "    if new_data_set ['EstimatedSalary']<= 19500:\n",
    "        return ('Very Low')\n",
    "    elif 19500 < new_data_set ['EstimatedSalary'] <= 40000:\n",
    "        return ('Low')\n",
    "    elif 40000 < new_data_set ['EstimatedSalary']<= 60000:\n",
    "        return ('Moderately Low')\n",
    "    elif 60000 < new_data_set ['EstimatedSalary']<= 80000:\n",
    "        return ('Medium');\n",
    "    elif 80000 < new_data_set ['EstimatedSalary']<= 100000:\n",
    "        return ('Moderately high')\n",
    "    elif 100000 < new_data_set ['EstimatedSalary']<= 130000:\n",
    "        return ('Very High')\n",
    "    elif 130000 < new_data_set ['EstimatedSalary']<= 145000:\n",
    "        return ('Very High')\n",
    "    else:\n",
    "        return ('Extremely High')\n",
    "\n",
    "new_data_set['income_category']=new_data_set.apply(lambda x :income_category(x),axis=1)"
   ]
  },
  {
   "cell_type": "code",
   "execution_count": 26,
   "id": "16f58087",
   "metadata": {},
   "outputs": [
    {
     "data": {
      "text/html": [
       "<div>\n",
       "<style scoped>\n",
       "    .dataframe tbody tr th:only-of-type {\n",
       "        vertical-align: middle;\n",
       "    }\n",
       "\n",
       "    .dataframe tbody tr th {\n",
       "        vertical-align: top;\n",
       "    }\n",
       "\n",
       "    .dataframe thead th {\n",
       "        text-align: right;\n",
       "    }\n",
       "</style>\n",
       "<table border=\"1\" class=\"dataframe\">\n",
       "  <thead>\n",
       "    <tr style=\"text-align: right;\">\n",
       "      <th></th>\n",
       "      <th>Gender</th>\n",
       "      <th>Age</th>\n",
       "      <th>EstimatedSalary</th>\n",
       "      <th>Purchased</th>\n",
       "      <th>age_group</th>\n",
       "      <th>income_category</th>\n",
       "    </tr>\n",
       "  </thead>\n",
       "  <tbody>\n",
       "    <tr>\n",
       "      <th>0</th>\n",
       "      <td>Male</td>\n",
       "      <td>19</td>\n",
       "      <td>19000</td>\n",
       "      <td>0</td>\n",
       "      <td>A</td>\n",
       "      <td>Very Low</td>\n",
       "    </tr>\n",
       "    <tr>\n",
       "      <th>1</th>\n",
       "      <td>Male</td>\n",
       "      <td>35</td>\n",
       "      <td>20000</td>\n",
       "      <td>0</td>\n",
       "      <td>D</td>\n",
       "      <td>Low</td>\n",
       "    </tr>\n",
       "    <tr>\n",
       "      <th>2</th>\n",
       "      <td>Female</td>\n",
       "      <td>26</td>\n",
       "      <td>43000</td>\n",
       "      <td>0</td>\n",
       "      <td>B</td>\n",
       "      <td>Moderately Low</td>\n",
       "    </tr>\n",
       "    <tr>\n",
       "      <th>3</th>\n",
       "      <td>Female</td>\n",
       "      <td>27</td>\n",
       "      <td>57000</td>\n",
       "      <td>0</td>\n",
       "      <td>C</td>\n",
       "      <td>Moderately Low</td>\n",
       "    </tr>\n",
       "    <tr>\n",
       "      <th>4</th>\n",
       "      <td>Male</td>\n",
       "      <td>19</td>\n",
       "      <td>76000</td>\n",
       "      <td>0</td>\n",
       "      <td>A</td>\n",
       "      <td>Medium</td>\n",
       "    </tr>\n",
       "  </tbody>\n",
       "</table>\n",
       "</div>"
      ],
      "text/plain": [
       "   Gender  Age  EstimatedSalary  Purchased age_group income_category\n",
       "0    Male   19            19000          0         A        Very Low\n",
       "1    Male   35            20000          0         D             Low\n",
       "2  Female   26            43000          0         B  Moderately Low\n",
       "3  Female   27            57000          0         C  Moderately Low\n",
       "4    Male   19            76000          0         A          Medium"
      ]
     },
     "execution_count": 26,
     "metadata": {},
     "output_type": "execute_result"
    }
   ],
   "source": [
    "new_data_set.head()"
   ]
  },
  {
   "cell_type": "markdown",
   "id": "fe2f60ad",
   "metadata": {},
   "source": [
    "## Purchase SUV Analysis"
   ]
  },
  {
   "cell_type": "code",
   "execution_count": 27,
   "id": "85776c9e",
   "metadata": {},
   "outputs": [
    {
     "data": {
      "text/plain": [
       "<AxesSubplot:xlabel='Purchased', ylabel='count'>"
      ]
     },
     "execution_count": 27,
     "metadata": {},
     "output_type": "execute_result"
    },
    {
     "data": {
      "image/png": "[encoded data removed]",
      "text/plain": [
       "<Figure size 640x480 with 1 Axes>"
      ]
     },
     "metadata": {},
     "output_type": "display_data"
    }
   ],
   "source": [
    "sns.countplot ( x = 'Purchased', hue = 'income_category', data = new_data_set)"
   ]
  },
  {
   "cell_type": "markdown",
   "id": "401d4a47",
   "metadata": {},
   "source": [
    "* People with salaries higher that 145000 will buy SUVs.\n",
    "* People with salaries lower than 19500 won't buy SUVs.\n",
    "* Majority of people buying SUVs have slaries between 100000 to 130000."
   ]
  },
  {
   "cell_type": "code",
   "execution_count": 79,
   "id": "0f3dbe5b",
   "metadata": {},
   "outputs": [
    {
     "data": {
      "text/plain": [
       "Gender\n",
       "Female    204\n",
       "Male      196\n",
       "dtype: int64"
      ]
     },
     "execution_count": 79,
     "metadata": {},
     "output_type": "execute_result"
    }
   ],
   "source": [
    "new_data_set.groupby ('Gender').size()"
   ]
  },
  {
   "cell_type": "code",
   "execution_count": 28,
   "id": "e03a1f29",
   "metadata": {},
   "outputs": [
    {
     "data": {
      "text/plain": [
       "Purchased\n",
       "0    257\n",
       "1    143\n",
       "dtype: int64"
      ]
     },
     "execution_count": 28,
     "metadata": {},
     "output_type": "execute_result"
    }
   ],
   "source": [
    "new_data_set.groupby ('Purchased').size()"
   ]
  },
  {
   "cell_type": "code",
   "execution_count": 29,
   "id": "d2c8d4a7",
   "metadata": {},
   "outputs": [
    {
     "data": {
      "text/plain": [
       "64.25"
      ]
     },
     "execution_count": 29,
     "metadata": {},
     "output_type": "execute_result"
    }
   ],
   "source": [
    "(257/400)*100"
   ]
  },
  {
   "cell_type": "markdown",
   "id": "3e2fb3b3",
   "metadata": {},
   "source": [
    "64.25% of people did not purchased SUV"
   ]
  },
  {
   "cell_type": "code",
   "execution_count": 30,
   "id": "6e96c01a",
   "metadata": {},
   "outputs": [
    {
     "data": {
      "application/vnd.plotly.v1+json": {
       "config": {
        "plotlyServerURL": "https://plot.ly"
       },
       "data": [
        {
         "customdata": [
          [
           0
          ],
          [
           0
          ],
          [
           0
          ],
          [
           0
          ],
          [
           0
          ],
          [
           0
          ],
          [
           0
          ],
          [
           1
          ],
          [
           0
          ],
          [
           0
          ],
          [
           0
          ],
          [
           0
          ],
          [
           0
          ],
          [
           0
          ],
          [
           0
          ],
          [
           0
          ],
          [
           1
          ],
          [
           1
          ],
          [
           1
          ],
          [
           1
          ],
          [
           1
          ],
          [
           1
          ],
          [
           1
          ],
          [
           1
          ],
          [
           1
          ],
          [
           1
          ],
          [
           1
          ],
          [
           1
          ],
          [
           0
          ],
          [
           0
          ],
          [
           0
          ],
          [
           1
          ],
          [
           0
          ],
          [
           0
          ],
          [
           0
          ],
          [
           0
          ],
          [
           0
          ],
          [
           0
          ],
          [
           0
          ],
          [
           0
          ],
          [
           0
          ],
          [
           0
          ],
          [
           0
          ],
          [
           0
          ],
          [
           0
          ],
          [
           0
          ],
          [
           0
          ],
          [
           0
          ],
          [
           1
          ],
          [
           0
          ],
          [
           0
          ],
          [
           0
          ],
          [
           0
          ],
          [
           0
          ],
          [
           0
          ],
          [
           0
          ],
          [
           0
          ],
          [
           0
          ],
          [
           0
          ],
          [
           0
          ],
          [
           0
          ],
          [
           0
          ],
          [
           0
          ],
          [
           1
          ],
          [
           0
          ],
          [
           0
          ],
          [
           0
          ],
          [
           0
          ],
          [
           0
          ],
          [
           0
          ],
          [
           0
          ],
          [
           0
          ],
          [
           0
          ],
          [
           0
          ],
          [
           0
          ],
          [
           1
          ],
          [
           0
          ],
          [
           0
          ],
          [
           0
          ],
          [
           0
          ],
          [
           0
          ],
          [
           0
          ],
          [
           0
          ],
          [
           0
          ],
          [
           0
          ],
          [
           1
          ],
          [
           0
          ],
          [
           0
          ],
          [
           0
          ],
          [
           0
          ],
          [
           0
          ],
          [
           0
          ],
          [
           0
          ],
          [
           0
          ],
          [
           0
          ],
          [
           0
          ],
          [
           0
          ],
          [
           1
          ],
          [
           0
          ],
          [
           0
          ],
          [
           0
          ],
          [
           0
          ],
          [
           0
          ],
          [
           1
          ],
          [
           0
          ],
          [
           0
          ],
          [
           0
          ],
          [
           0
          ],
          [
           0
          ],
          [
           0
          ],
          [
           0
          ],
          [
           0
          ],
          [
           0
          ],
          [
           0
          ],
          [
           0
          ],
          [
           0
          ],
          [
           0
          ],
          [
           0
          ],
          [
           0
          ],
          [
           0
          ],
          [
           0
          ],
          [
           0
          ],
          [
           0
          ],
          [
           0
          ],
          [
           0
          ],
          [
           0
          ],
          [
           0
          ],
          [
           0
          ],
          [
           0
          ],
          [
           0
          ],
          [
           0
          ],
          [
           0
          ],
          [
           0
          ],
          [
           0
          ],
          [
           0
          ],
          [
           0
          ],
          [
           0
          ],
          [
           1
          ],
          [
           0
          ],
          [
           0
          ],
          [
           0
          ],
          [
           0
          ],
          [
           0
          ],
          [
           0
          ],
          [
           0
          ],
          [
           0
          ],
          [
           1
          ],
          [
           0
          ],
          [
           0
          ],
          [
           0
          ],
          [
           0
          ],
          [
           0
          ],
          [
           0
          ],
          [
           0
          ],
          [
           0
          ],
          [
           0
          ],
          [
           0
          ],
          [
           0
          ],
          [
           0
          ],
          [
           1
          ],
          [
           1
          ],
          [
           0
          ],
          [
           0
          ],
          [
           0
          ],
          [
           0
          ],
          [
           0
          ],
          [
           0
          ],
          [
           0
          ],
          [
           1
          ],
          [
           0
          ],
          [
           0
          ],
          [
           0
          ],
          [
           0
          ],
          [
           0
          ],
          [
           0
          ],
          [
           0
          ],
          [
           0
          ],
          [
           0
          ],
          [
           0
          ],
          [
           0
          ],
          [
           0
          ],
          [
           0
          ],
          [
           1
          ],
          [
           0
          ],
          [
           0
          ],
          [
           0
          ],
          [
           0
          ],
          [
           0
          ],
          [
           0
          ],
          [
           0
          ],
          [
           0
          ],
          [
           0
          ],
          [
           0
          ],
          [
           0
          ],
          [
           0
          ],
          [
           0
          ],
          [
           0
          ],
          [
           0
          ],
          [
           0
          ],
          [
           0
          ],
          [
           0
          ],
          [
           0
          ],
          [
           1
          ],
          [
           0
          ],
          [
           1
          ],
          [
           0
          ],
          [
           1
          ],
          [
           0
          ],
          [
           1
          ],
          [
           0
          ],
          [
           1
          ],
          [
           1
          ],
          [
           0
          ],
          [
           0
          ],
          [
           0
          ],
          [
           1
          ],
          [
           0
          ],
          [
           0
          ],
          [
           0
          ],
          [
           1
          ],
          [
           0
          ],
          [
           1
          ],
          [
           1
          ],
          [
           1
          ],
          [
           0
          ],
          [
           0
          ],
          [
           1
          ],
          [
           1
          ],
          [
           0
          ],
          [
           1
          ],
          [
           1
          ],
          [
           0
          ],
          [
           1
          ],
          [
           1
          ],
          [
           0
          ],
          [
           1
          ],
          [
           0
          ],
          [
           0
          ],
          [
           0
          ],
          [
           1
          ],
          [
           1
          ],
          [
           0
          ],
          [
           1
          ],
          [
           1
          ],
          [
           0
          ],
          [
           1
          ],
          [
           0
          ],
          [
           1
          ],
          [
           0
          ],
          [
           1
          ],
          [
           0
          ],
          [
           0
          ],
          [
           1
          ],
          [
           1
          ],
          [
           0
          ],
          [
           1
          ],
          [
           0
          ],
          [
           0
          ],
          [
           1
          ],
          [
           1
          ],
          [
           0
          ],
          [
           1
          ],
          [
           1
          ],
          [
           0
          ],
          [
           1
          ],
          [
           1
          ],
          [
           0
          ],
          [
           0
          ],
          [
           1
          ],
          [
           0
          ],
          [
           0
          ],
          [
           1
          ],
          [
           1
          ],
          [
           1
          ],
          [
           1
          ],
          [
           1
          ],
          [
           0
          ],
          [
           1
          ],
          [
           1
          ],
          [
           1
          ],
          [
           1
          ],
          [
           0
          ],
          [
           1
          ],
          [
           1
          ],
          [
           0
          ],
          [
           1
          ],
          [
           0
          ],
          [
           1
          ],
          [
           0
          ],
          [
           1
          ],
          [
           1
          ],
          [
           1
          ],
          [
           1
          ],
          [
           0
          ],
          [
           0
          ],
          [
           0
          ],
          [
           1
          ],
          [
           1
          ],
          [
           0
          ],
          [
           1
          ],
          [
           1
          ],
          [
           1
          ],
          [
           1
          ],
          [
           1
          ],
          [
           0
          ],
          [
           0
          ],
          [
           0
          ],
          [
           1
          ],
          [
           1
          ],
          [
           0
          ],
          [
           0
          ],
          [
           1
          ],
          [
           0
          ],
          [
           1
          ],
          [
           0
          ],
          [
           1
          ],
          [
           1
          ],
          [
           0
          ],
          [
           1
          ],
          [
           0
          ],
          [
           1
          ],
          [
           1
          ],
          [
           0
          ],
          [
           1
          ],
          [
           1
          ],
          [
           0
          ],
          [
           0
          ],
          [
           0
          ],
          [
           1
          ],
          [
           1
          ],
          [
           0
          ],
          [
           1
          ],
          [
           0
          ],
          [
           0
          ],
          [
           1
          ],
          [
           0
          ],
          [
           1
          ],
          [
           0
          ],
          [
           0
          ],
          [
           1
          ],
          [
           1
          ],
          [
           0
          ],
          [
           0
          ],
          [
           1
          ],
          [
           1
          ],
          [
           0
          ],
          [
           1
          ],
          [
           1
          ],
          [
           0
          ],
          [
           0
          ],
          [
           1
          ],
          [
           0
          ],
          [
           1
          ],
          [
           0
          ],
          [
           1
          ],
          [
           1
          ],
          [
           1
          ],
          [
           0
          ],
          [
           1
          ],
          [
           0
          ],
          [
           1
          ],
          [
           1
          ],
          [
           1
          ],
          [
           0
          ],
          [
           1
          ],
          [
           1
          ],
          [
           1
          ],
          [
           1
          ],
          [
           0
          ],
          [
           1
          ],
          [
           1
          ],
          [
           1
          ],
          [
           0
          ],
          [
           1
          ],
          [
           0
          ],
          [
           1
          ],
          [
           0
          ],
          [
           0
          ],
          [
           1
          ],
          [
           1
          ],
          [
           0
          ],
          [
           1
          ],
          [
           1
          ],
          [
           1
          ],
          [
           1
          ],
          [
           1
          ],
          [
           1
          ],
          [
           0
          ],
          [
           1
          ],
          [
           1
          ],
          [
           1
          ],
          [
           1
          ],
          [
           1
          ],
          [
           1
          ],
          [
           0
          ],
          [
           1
          ],
          [
           1
          ],
          [
           1
          ],
          [
           0
          ],
          [
           1
          ]
         ],
         "domain": {
          "x": [
           0,
           1
          ],
          "y": [
           0,
           1
          ]
         },
         "hovertemplate": "Purchased=%{customdata[0]}<extra></extra>",
         "labels": [
          0,
          0,
          0,
          0,
          0,
          0,
          0,
          1,
          0,
          0,
          0,
          0,
          0,
          0,
          0,
          0,
          1,
          1,
          1,
          1,
          1,
          1,
          1,
          1,
          1,
          1,
          1,
          1,
          0,
          0,
          0,
          1,
          0,
          0,
          0,
          0,
          0,
          0,
          0,
          0,
          0,
          0,
          0,
          0,
          0,
          0,
          0,
          0,
          1,
          0,
          0,
          0,
          0,
          0,
          0,
          0,
          0,
          0,
          0,
          0,
          0,
          0,
          0,
          1,
          0,
          0,
          0,
          0,
          0,
          0,
          0,
          0,
          0,
          0,
          0,
          1,
          0,
          0,
          0,
          0,
          0,
          0,
          0,
          0,
          0,
          1,
          0,
          0,
          0,
          0,
          0,
          0,
          0,
          0,
          0,
          0,
          0,
          1,
          0,
          0,
          0,
          0,
          0,
          1,
          0,
          0,
          0,
          0,
          0,
          0,
          0,
          0,
          0,
          0,
          0,
          0,
          0,
          0,
          0,
          0,
          0,
          0,
          0,
          0,
          0,
          0,
          0,
          0,
          0,
          0,
          0,
          0,
          0,
          0,
          0,
          0,
          0,
          1,
          0,
          0,
          0,
          0,
          0,
          0,
          0,
          0,
          1,
          0,
          0,
          0,
          0,
          0,
          0,
          0,
          0,
          0,
          0,
          0,
          0,
          1,
          1,
          0,
          0,
          0,
          0,
          0,
          0,
          0,
          1,
          0,
          0,
          0,
          0,
          0,
          0,
          0,
          0,
          0,
          0,
          0,
          0,
          0,
          1,
          0,
          0,
          0,
          0,
          0,
          0,
          0,
          0,
          0,
          0,
          0,
          0,
          0,
          0,
          0,
          0,
          0,
          0,
          0,
          1,
          0,
          1,
          0,
          1,
          0,
          1,
          0,
          1,
          1,
          0,
          0,
          0,
          1,
          0,
          0,
          0,
          1,
          0,
          1,
          1,
          1,
          0,
          0,
          1,
          1,
          0,
          1,
          1,
          0,
          1,
          1,
          0,
          1,
          0,
          0,
          0,
          1,
          1,
          0,
          1,
          1,
          0,
          1,
          0,
          1,
          0,
          1,
          0,
          0,
          1,
          1,
          0,
          1,
          0,
          0,
          1,
          1,
          0,
          1,
          1,
          0,
          1,
          1,
          0,
          0,
          1,
          0,
          0,
          1,
          1,
          1,
          1,
          1,
          0,
          1,
          1,
          1,
          1,
          0,
          1,
          1,
          0,
          1,
          0,
          1,
          0,
          1,
          1,
          1,
          1,
          0,
          0,
          0,
          1,
          1,
          0,
          1,
          1,
          1,
          1,
          1,
          0,
          0,
          0,
          1,
          1,
          0,
          0,
          1,
          0,
          1,
          0,
          1,
          1,
          0,
          1,
          0,
          1,
          1,
          0,
          1,
          1,
          0,
          0,
          0,
          1,
          1,
          0,
          1,
          0,
          0,
          1,
          0,
          1,
          0,
          0,
          1,
          1,
          0,
          0,
          1,
          1,
          0,
          1,
          1,
          0,
          0,
          1,
          0,
          1,
          0,
          1,
          1,
          1,
          0,
          1,
          0,
          1,
          1,
          1,
          0,
          1,
          1,
          1,
          1,
          0,
          1,
          1,
          1,
          0,
          1,
          0,
          1,
          0,
          0,
          1,
          1,
          0,
          1,
          1,
          1,
          1,
          1,
          1,
          0,
          1,
          1,
          1,
          1,
          1,
          1,
          0,
          1,
          1,
          1,
          0,
          1
         ],
         "legendgroup": "",
         "marker": {
          "colors": [
           "red",
           "red",
           "red",
           "red",
           "red",
           "red",
           "red",
           "green",
           "red",
           "red",
           "red",
           "red",
           "red",
           "red",
           "red",
           "red",
           "green",
           "green",
           "green",
           "green",
           "green",
           "green",
           "green",
           "green",
           "green",
           "green",
           "green",
           "green",
           "red",
           "red",
           "red",
           "green",
           "red",
           "red",
           "red",
           "red",
           "red",
           "red",
           "red",
           "red",
           "red",
           "red",
           "red",
           "red",
           "red",
           "red",
           "red",
           "red",
           "green",
           "red",
           "red",
           "red",
           "red",
           "red",
           "red",
           "red",
           "red",
           "red",
           "red",
           "red",
           "red",
           "red",
           "red",
           "green",
           "red",
           "red",
           "red",
           "red",
           "red",
           "red",
           "red",
           "red",
           "red",
           "red",
           "red",
           "green",
           "red",
           "red",
           "red",
           "red",
           "red",
           "red",
           "red",
           "red",
           "red",
           "green",
           "red",
           "red",
           "red",
           "red",
           "red",
           "red",
           "red",
           "red",
           "red",
           "red",
           "red",
           "green",
           "red",
           "red",
           "red",
           "red",
           "red",
           "green",
           "red",
           "red",
           "red",
           "red",
           "red",
           "red",
           "red",
           "red",
           "red",
           "red",
           "red",
           "red",
           "red",
           "red",
           "red",
           "red",
           "red",
           "red",
           "red",
           "red",
           "red",
           "red",
           "red",
           "red",
           "red",
           "red",
           "red",
           "red",
           "red",
           "red",
           "red",
           "red",
           "red",
           "green",
           "red",
           "red",
           "red",
           "red",
           "red",
           "red",
           "red",
           "red",
           "green",
           "red",
           "red",
           "red",
           "red",
           "red",
           "red",
           "red",
           "red",
           "red",
           "red",
           "red",
           "red",
           "green",
           "green",
           "red",
           "red",
           "red",
           "red",
           "red",
           "red",
           "red",
           "green",
           "red",
           "red",
           "red",
           "red",
           "red",
           "red",
           "red",
           "red",
           "red",
           "red",
           "red",
           "red",
           "red",
           "green",
           "red",
           "red",
           "red",
           "red",
           "red",
           "red",
           "red",
           "red",
           "red",
           "red",
           "red",
           "red",
           "red",
           "red",
           "red",
           "red",
           "red",
           "red",
           "red",
           "green",
           "red",
           "green",
           "red",
           "green",
           "red",
           "green",
           "red",
           "green",
           "green",
           "red",
           "red",
           "red",
           "green",
           "red",
           "red",
           "red",
           "green",
           "red",
           "green",
           "green",
           "green",
           "red",
           "red",
           "green",
           "green",
           "red",
           "green",
           "green",
           "red",
           "green",
           "green",
           "red",
           "green",
           "red",
           "red",
           "red",
           "green",
           "green",
           "red",
           "green",
           "green",
           "red",
           "green",
           "red",
           "green",
           "red",
           "green",
           "red",
           "red",
           "green",
           "green",
           "red",
           "green",
           "red",
           "red",
           "green",
           "green",
           "red",
           "green",
           "green",
           "red",
           "green",
           "green",
           "red",
           "red",
           "green",
           "red",
           "red",
           "green",
           "green",
           "green",
           "green",
           "green",
           "red",
           "green",
           "green",
           "green",
           "green",
           "red",
           "green",
           "green",
           "red",
           "green",
           "red",
           "green",
           "red",
           "green",
           "green",
           "green",
           "green",
           "red",
           "red",
           "red",
           "green",
           "green",
           "red",
           "green",
           "green",
           "green",
           "green",
           "green",
           "red",
           "red",
           "red",
           "green",
           "green",
           "red",
           "red",
           "green",
           "red",
           "green",
           "red",
           "green",
           "green",
           "red",
           "green",
           "red",
           "green",
           "green",
           "red",
           "green",
           "green",
           "red",
           "red",
           "red",
           "green",
           "green",
           "red",
           "green",
           "red",
           "red",
           "green",
           "red",
           "green",
           "red",
           "red",
           "green",
           "green",
           "red",
           "red",
           "green",
           "green",
           "red",
           "green",
           "green",
           "red",
           "red",
           "green",
           "red",
           "green",
           "red",
           "green",
           "green",
           "green",
           "red",
           "green",
           "red",
           "green",
           "green",
           "green",
           "red",
           "green",
           "green",
           "green",
           "green",
           "red",
           "green",
           "green",
           "green",
           "red",
           "green",
           "red",
           "green",
           "red",
           "red",
           "green",
           "green",
           "red",
           "green",
           "green",
           "green",
           "green",
           "green",
           "green",
           "red",
           "green",
           "green",
           "green",
           "green",
           "green",
           "green",
           "red",
           "green",
           "green",
           "green",
           "red",
           "green"
          ]
         },
         "name": "",
         "showlegend": true,
         "type": "pie"
        }
       ],
       "layout": {
        "legend": {
         "tracegroupgap": 0
        },
        "margin": {
         "t": 60
        },
        "template": {
         "data": {
          "bar": [
           {
            "error_x": {
             "color": "#2a3f5f"
            },
            "error_y": {
             "color": "#2a3f5f"
            },
            "marker": {
             "line": {
              "color": "#E5ECF6",
              "width": 0.5
             },
             "pattern": {
              "fillmode": "overlay",
              "size": 10,
              "solidity": 0.2
             }
            },
            "type": "bar"
           }
          ],
          "barpolar": [
           {
            "marker": {
             "line": {
              "color": "#E5ECF6",
              "width": 0.5
             },
             "pattern": {
              "fillmode": "overlay",
              "size": 10,
              "solidity": 0.2
             }
            },
            "type": "barpolar"
           }
          ],
          "carpet": [
           {
            "aaxis": {
             "endlinecolor": "#2a3f5f",
             "gridcolor": "white",
             "linecolor": "white",
             "minorgridcolor": "white",
             "startlinecolor": "#2a3f5f"
            },
            "baxis": {
             "endlinecolor": "#2a3f5f",
             "gridcolor": "white",
             "linecolor": "white",
             "minorgridcolor": "white",
             "startlinecolor": "#2a3f5f"
            },
            "type": "carpet"
           }
          ],
          "choropleth": [
           {
            "colorbar": {
             "outlinewidth": 0,
             "ticks": ""
            },
            "type": "choropleth"
           }
          ],
          "contour": [
           {
            "colorbar": {
             "outlinewidth": 0,
             "ticks": ""
            },
            "colorscale": [
             [
              0,
              "#0d0887"
             ],
             [
              0.1111111111111111,
              "#46039f"
             ],
             [
              0.2222222222222222,
              "#7201a8"
             ],
             [
              0.3333333333333333,
              "#9c179e"
             ],
             [
              0.4444444444444444,
              "#bd3786"
             ],
             [
              0.5555555555555556,
              "#d8576b"
             ],
             [
              0.6666666666666666,
              "#ed7953"
             ],
             [
              0.7777777777777778,
              "#fb9f3a"
             ],
             [
              0.8888888888888888,
              "#fdca26"
             ],
             [
              1,
              "#f0f921"
             ]
            ],
            "type": "contour"
           }
          ],
          "contourcarpet": [
           {
            "colorbar": {
             "outlinewidth": 0,
             "ticks": ""
            },
            "type": "contourcarpet"
           }
          ],
          "heatmap": [
           {
            "colorbar": {
             "outlinewidth": 0,
             "ticks": ""
            },
            "colorscale": [
             [
              0,
              "#0d0887"
             ],
             [
              0.1111111111111111,
              "#46039f"
             ],
             [
              0.2222222222222222,
              "#7201a8"
             ],
             [
              0.3333333333333333,
              "#9c179e"
             ],
             [
              0.4444444444444444,
              "#bd3786"
             ],
             [
              0.5555555555555556,
              "#d8576b"
             ],
             [
              0.6666666666666666,
              "#ed7953"
             ],
             [
              0.7777777777777778,
              "#fb9f3a"
             ],
             [
              0.8888888888888888,
              "#fdca26"
             ],
             [
              1,
              "#f0f921"
             ]
            ],
            "type": "heatmap"
           }
          ],
          "heatmapgl": [
           {
            "colorbar": {
             "outlinewidth": 0,
             "ticks": ""
            },
            "colorscale": [
             [
              0,
              "#0d0887"
             ],
             [
              0.1111111111111111,
              "#46039f"
             ],
             [
              0.2222222222222222,
              "#7201a8"
             ],
             [
              0.3333333333333333,
              "#9c179e"
             ],
             [
              0.4444444444444444,
              "#bd3786"
             ],
             [
              0.5555555555555556,
              "#d8576b"
             ],
             [
              0.6666666666666666,
              "#ed7953"
             ],
             [
              0.7777777777777778,
              "#fb9f3a"
             ],
             [
              0.8888888888888888,
              "#fdca26"
             ],
             [
              1,
              "#f0f921"
             ]
            ],
            "type": "heatmapgl"
           }
          ],
          "histogram": [
           {
            "marker": {
             "pattern": {
              "fillmode": "overlay",
              "size": 10,
              "solidity": 0.2
             }
            },
            "type": "histogram"
           }
          ],
          "histogram2d": [
           {
            "colorbar": {
             "outlinewidth": 0,
             "ticks": ""
            },
            "colorscale": [
             [
              0,
              "#0d0887"
             ],
             [
              0.1111111111111111,
              "#46039f"
             ],
             [
              0.2222222222222222,
              "#7201a8"
             ],
             [
              0.3333333333333333,
              "#9c179e"
             ],
             [
              0.4444444444444444,
              "#bd3786"
             ],
             [
              0.5555555555555556,
              "#d8576b"
             ],
             [
              0.6666666666666666,
              "#ed7953"
             ],
             [
              0.7777777777777778,
              "#fb9f3a"
             ],
             [
              0.8888888888888888,
              "#fdca26"
             ],
             [
              1,
              "#f0f921"
             ]
            ],
            "type": "histogram2d"
           }
          ],
          "histogram2dcontour": [
           {
            "colorbar": {
             "outlinewidth": 0,
             "ticks": ""
            },
            "colorscale": [
             [
              0,
              "#0d0887"
             ],
             [
              0.1111111111111111,
              "#46039f"
             ],
             [
              0.2222222222222222,
              "#7201a8"
             ],
             [
              0.3333333333333333,
              "#9c179e"
             ],
             [
              0.4444444444444444,
              "#bd3786"
             ],
             [
              0.5555555555555556,
              "#d8576b"
             ],
             [
              0.6666666666666666,
              "#ed7953"
             ],
             [
              0.7777777777777778,
              "#fb9f3a"
             ],
             [
              0.8888888888888888,
              "#fdca26"
             ],
             [
              1,
              "#f0f921"
             ]
            ],
            "type": "histogram2dcontour"
           }
          ],
          "mesh3d": [
           {
            "colorbar": {
             "outlinewidth": 0,
             "ticks": ""
            },
            "type": "mesh3d"
           }
          ],
          "parcoords": [
           {
            "line": {
             "colorbar": {
              "outlinewidth": 0,
              "ticks": ""
             }
            },
            "type": "parcoords"
           }
          ],
          "pie": [
           {
            "automargin": true,
            "type": "pie"
           }
          ],
          "scatter": [
           {
            "fillpattern": {
             "fillmode": "overlay",
             "size": 10,
             "solidity": 0.2
            },
            "type": "scatter"
           }
          ],
          "scatter3d": [
           {
            "line": {
             "colorbar": {
              "outlinewidth": 0,
              "ticks": ""
             }
            },
            "marker": {
             "colorbar": {
              "outlinewidth": 0,
              "ticks": ""
             }
            },
            "type": "scatter3d"
           }
          ],
          "scattercarpet": [
           {
            "marker": {
             "colorbar": {
              "outlinewidth": 0,
              "ticks": ""
             }
            },
            "type": "scattercarpet"
           }
          ],
          "scattergeo": [
           {
            "marker": {
             "colorbar": {
              "outlinewidth": 0,
              "ticks": ""
             }
            },
            "type": "scattergeo"
           }
          ],
          "scattergl": [
           {
            "marker": {
             "colorbar": {
              "outlinewidth": 0,
              "ticks": ""
             }
            },
            "type": "scattergl"
           }
          ],
          "scattermapbox": [
           {
            "marker": {
             "colorbar": {
              "outlinewidth": 0,
              "ticks": ""
             }
            },
            "type": "scattermapbox"
           }
          ],
          "scatterpolar": [
           {
            "marker": {
             "colorbar": {
              "outlinewidth": 0,
              "ticks": ""
             }
            },
            "type": "scatterpolar"
           }
          ],
          "scatterpolargl": [
           {
            "marker": {
             "colorbar": {
              "outlinewidth": 0,
              "ticks": ""
             }
            },
            "type": "scatterpolargl"
           }
          ],
          "scatterternary": [
           {
            "marker": {
             "colorbar": {
              "outlinewidth": 0,
              "ticks": ""
             }
            },
            "type": "scatterternary"
           }
          ],
          "surface": [
           {
            "colorbar": {
             "outlinewidth": 0,
             "ticks": ""
            },
            "colorscale": [
             [
              0,
              "#0d0887"
             ],
             [
              0.1111111111111111,
              "#46039f"
             ],
             [
              0.2222222222222222,
              "#7201a8"
             ],
             [
              0.3333333333333333,
              "#9c179e"
             ],
             [
              0.4444444444444444,
              "#bd3786"
             ],
             [
              0.5555555555555556,
              "#d8576b"
             ],
             [
              0.6666666666666666,
              "#ed7953"
             ],
             [
              0.7777777777777778,
              "#fb9f3a"
             ],
             [
              0.8888888888888888,
              "#fdca26"
             ],
             [
              1,
              "#f0f921"
             ]
            ],
            "type": "surface"
           }
          ],
          "table": [
           {
            "cells": {
             "fill": {
              "color": "#EBF0F8"
             },
             "line": {
              "color": "white"
             }
            },
            "header": {
             "fill": {
              "color": "#C8D4E3"
             },
             "line": {
              "color": "white"
             }
            },
            "type": "table"
           }
          ]
         },
         "layout": {
          "annotationdefaults": {
           "arrowcolor": "#2a3f5f",
           "arrowhead": 0,
           "arrowwidth": 1
          },
          "autotypenumbers": "strict",
          "coloraxis": {
           "colorbar": {
            "outlinewidth": 0,
            "ticks": ""
           }
          },
          "colorscale": {
           "diverging": [
            [
             0,
             "#8e0152"
            ],
            [
             0.1,
             "#c51b7d"
            ],
            [
             0.2,
             "#de77ae"
            ],
            [
             0.3,
             "#f1b6da"
            ],
            [
             0.4,
             "#fde0ef"
            ],
            [
             0.5,
             "#f7f7f7"
            ],
            [
             0.6,
             "#e6f5d0"
            ],
            [
             0.7,
             "#b8e186"
            ],
            [
             0.8,
             "#7fbc41"
            ],
            [
             0.9,
             "#4d9221"
            ],
            [
             1,
             "#276419"
            ]
           ],
           "sequential": [
            [
             0,
             "#0d0887"
            ],
            [
             0.1111111111111111,
             "#46039f"
            ],
            [
             0.2222222222222222,
             "#7201a8"
            ],
            [
             0.3333333333333333,
             "#9c179e"
            ],
            [
             0.4444444444444444,
             "#bd3786"
            ],
            [
             0.5555555555555556,
             "#d8576b"
            ],
            [
             0.6666666666666666,
             "#ed7953"
            ],
            [
             0.7777777777777778,
             "#fb9f3a"
            ],
            [
             0.8888888888888888,
             "#fdca26"
            ],
            [
             1,
             "#f0f921"
            ]
           ],
           "sequentialminus": [
            [
             0,
             "#0d0887"
            ],
            [
             0.1111111111111111,
             "#46039f"
            ],
            [
             0.2222222222222222,
             "#7201a8"
            ],
            [
             0.3333333333333333,
             "#9c179e"
            ],
            [
             0.4444444444444444,
             "#bd3786"
            ],
            [
             0.5555555555555556,
             "#d8576b"
            ],
            [
             0.6666666666666666,
             "#ed7953"
            ],
            [
             0.7777777777777778,
             "#fb9f3a"
            ],
            [
             0.8888888888888888,
             "#fdca26"
            ],
            [
             1,
             "#f0f921"
            ]
           ]
          },
          "colorway": [
           "#636efa",
           "#EF553B",
           "#00cc96",
           "#ab63fa",
           "#FFA15A",
           "#19d3f3",
           "#FF6692",
           "#B6E880",
           "#FF97FF",
           "#FECB52"
          ],
          "font": {
           "color": "#2a3f5f"
          },
          "geo": {
           "bgcolor": "white",
           "lakecolor": "white",
           "landcolor": "#E5ECF6",
           "showlakes": true,
           "showland": true,
           "subunitcolor": "white"
          },
          "hoverlabel": {
           "align": "left"
          },
          "hovermode": "closest",
          "mapbox": {
           "style": "light"
          },
          "paper_bgcolor": "white",
          "plot_bgcolor": "#E5ECF6",
          "polar": {
           "angularaxis": {
            "gridcolor": "white",
            "linecolor": "white",
            "ticks": ""
           },
           "bgcolor": "#E5ECF6",
           "radialaxis": {
            "gridcolor": "white",
            "linecolor": "white",
            "ticks": ""
           }
          },
          "scene": {
           "xaxis": {
            "backgroundcolor": "#E5ECF6",
            "gridcolor": "white",
            "gridwidth": 2,
            "linecolor": "white",
            "showbackground": true,
            "ticks": "",
            "zerolinecolor": "white"
           },
           "yaxis": {
            "backgroundcolor": "#E5ECF6",
            "gridcolor": "white",
            "gridwidth": 2,
            "linecolor": "white",
            "showbackground": true,
            "ticks": "",
            "zerolinecolor": "white"
           },
           "zaxis": {
            "backgroundcolor": "#E5ECF6",
            "gridcolor": "white",
            "gridwidth": 2,
            "linecolor": "white",
            "showbackground": true,
            "ticks": "",
            "zerolinecolor": "white"
           }
          },
          "shapedefaults": {
           "line": {
            "color": "#2a3f5f"
           }
          },
          "ternary": {
           "aaxis": {
            "gridcolor": "white",
            "linecolor": "white",
            "ticks": ""
           },
           "baxis": {
            "gridcolor": "white",
            "linecolor": "white",
            "ticks": ""
           },
           "bgcolor": "#E5ECF6",
           "caxis": {
            "gridcolor": "white",
            "linecolor": "white",
            "ticks": ""
           }
          },
          "title": {
           "x": 0.05
          },
          "xaxis": {
           "automargin": true,
           "gridcolor": "white",
           "linecolor": "white",
           "ticks": "",
           "title": {
            "standoff": 15
           },
           "zerolinecolor": "white",
           "zerolinewidth": 2
          },
          "yaxis": {
           "automargin": true,
           "gridcolor": "white",
           "linecolor": "white",
           "ticks": "",
           "title": {
            "standoff": 15
           },
           "zerolinecolor": "white",
           "zerolinewidth": 2
          }
         }
        }
       }
      },
      "text/html": [
       "<div>                            <div id=\"e3985045-fbf9-4fb5-bd10-abaeffc4c479\" class=\"plotly-graph-div\" style=\"height:525px; width:100%;\"></div>            <script type=\"text/javascript\">                require([\"plotly\"], function(Plotly) {                    window.PLOTLYENV=window.PLOTLYENV || {};                                    if (document.getElementById(\"e3985045-fbf9-4fb5-bd10-abaeffc4c479\")) {                    Plotly.newPlot(                        \"e3985045-fbf9-4fb5-bd10-abaeffc4c479\",                        [{\"customdata\":[[0],[0],[0],[0],[0],[0],[0],[1],[0],[0],[0],[0],[0],[0],[0],[0],[1],[1],[1],[1],[1],[1],[1],[1],[1],[1],[1],[1],[0],[0],[0],[1],[0],[0],[0],[0],[0],[0],[0],[0],[0],[0],[0],[0],[0],[0],[0],[0],[1],[0],[0],[0],[0],[0],[0],[0],[0],[0],[0],[0],[0],[0],[0],[1],[0],[0],[0],[0],[0],[0],[0],[0],[0],[0],[0],[1],[0],[0],[0],[0],[0],[0],[0],[0],[0],[1],[0],[0],[0],[0],[0],[0],[0],[0],[0],[0],[0],[1],[0],[0],[0],[0],[0],[1],[0],[0],[0],[0],[0],[0],[0],[0],[0],[0],[0],[0],[0],[0],[0],[0],[0],[0],[0],[0],[0],[0],[0],[0],[0],[0],[0],[0],[0],[0],[0],[0],[0],[1],[0],[0],[0],[0],[0],[0],[0],[0],[1],[0],[0],[0],[0],[0],[0],[0],[0],[0],[0],[0],[0],[1],[1],[0],[0],[0],[0],[0],[0],[0],[1],[0],[0],[0],[0],[0],[0],[0],[0],[0],[0],[0],[0],[0],[1],[0],[0],[0],[0],[0],[0],[0],[0],[0],[0],[0],[0],[0],[0],[0],[0],[0],[0],[0],[1],[0],[1],[0],[1],[0],[1],[0],[1],[1],[0],[0],[0],[1],[0],[0],[0],[1],[0],[1],[1],[1],[0],[0],[1],[1],[0],[1],[1],[0],[1],[1],[0],[1],[0],[0],[0],[1],[1],[0],[1],[1],[0],[1],[0],[1],[0],[1],[0],[0],[1],[1],[0],[1],[0],[0],[1],[1],[0],[1],[1],[0],[1],[1],[0],[0],[1],[0],[0],[1],[1],[1],[1],[1],[0],[1],[1],[1],[1],[0],[1],[1],[0],[1],[0],[1],[0],[1],[1],[1],[1],[0],[0],[0],[1],[1],[0],[1],[1],[1],[1],[1],[0],[0],[0],[1],[1],[0],[0],[1],[0],[1],[0],[1],[1],[0],[1],[0],[1],[1],[0],[1],[1],[0],[0],[0],[1],[1],[0],[1],[0],[0],[1],[0],[1],[0],[0],[1],[1],[0],[0],[1],[1],[0],[1],[1],[0],[0],[1],[0],[1],[0],[1],[1],[1],[0],[1],[0],[1],[1],[1],[0],[1],[1],[1],[1],[0],[1],[1],[1],[0],[1],[0],[1],[0],[0],[1],[1],[0],[1],[1],[1],[1],[1],[1],[0],[1],[1],[1],[1],[1],[1],[0],[1],[1],[1],[0],[1]],\"domain\":{\"x\":[0.0,1.0],\"y\":[0.0,1.0]},\"hovertemplate\":\"Purchased=%{customdata[0]}<extra></extra>\",\"labels\":[0,0,0,0,0,0,0,1,0,0,0,0,0,0,0,0,1,1,1,1,1,1,1,1,1,1,1,1,0,0,0,1,0,0,0,0,0,0,0,0,0,0,0,0,0,0,0,0,1,0,0,0,0,0,0,0,0,0,0,0,0,0,0,1,0,0,0,0,0,0,0,0,0,0,0,1,0,0,0,0,0,0,0,0,0,1,0,0,0,0,0,0,0,0,0,0,0,1,0,0,0,0,0,1,0,0,0,0,0,0,0,0,0,0,0,0,0,0,0,0,0,0,0,0,0,0,0,0,0,0,0,0,0,0,0,0,0,1,0,0,0,0,0,0,0,0,1,0,0,0,0,0,0,0,0,0,0,0,0,1,1,0,0,0,0,0,0,0,1,0,0,0,0,0,0,0,0,0,0,0,0,0,1,0,0,0,0,0,0,0,0,0,0,0,0,0,0,0,0,0,0,0,1,0,1,0,1,0,1,0,1,1,0,0,0,1,0,0,0,1,0,1,1,1,0,0,1,1,0,1,1,0,1,1,0,1,0,0,0,1,1,0,1,1,0,1,0,1,0,1,0,0,1,1,0,1,0,0,1,1,0,1,1,0,1,1,0,0,1,0,0,1,1,1,1,1,0,1,1,1,1,0,1,1,0,1,0,1,0,1,1,1,1,0,0,0,1,1,0,1,1,1,1,1,0,0,0,1,1,0,0,1,0,1,0,1,1,0,1,0,1,1,0,1,1,0,0,0,1,1,0,1,0,0,1,0,1,0,0,1,1,0,0,1,1,0,1,1,0,0,1,0,1,0,1,1,1,0,1,0,1,1,1,0,1,1,1,1,0,1,1,1,0,1,0,1,0,0,1,1,0,1,1,1,1,1,1,0,1,1,1,1,1,1,0,1,1,1,0,1],\"legendgroup\":\"\",\"marker\":{\"colors\":[\"red\",\"red\",\"red\",\"red\",\"red\",\"red\",\"red\",\"green\",\"red\",\"red\",\"red\",\"red\",\"red\",\"red\",\"red\",\"red\",\"green\",\"green\",\"green\",\"green\",\"green\",\"green\",\"green\",\"green\",\"green\",\"green\",\"green\",\"green\",\"red\",\"red\",\"red\",\"green\",\"red\",\"red\",\"red\",\"red\",\"red\",\"red\",\"red\",\"red\",\"red\",\"red\",\"red\",\"red\",\"red\",\"red\",\"red\",\"red\",\"green\",\"red\",\"red\",\"red\",\"red\",\"red\",\"red\",\"red\",\"red\",\"red\",\"red\",\"red\",\"red\",\"red\",\"red\",\"green\",\"red\",\"red\",\"red\",\"red\",\"red\",\"red\",\"red\",\"red\",\"red\",\"red\",\"red\",\"green\",\"red\",\"red\",\"red\",\"red\",\"red\",\"red\",\"red\",\"red\",\"red\",\"green\",\"red\",\"red\",\"red\",\"red\",\"red\",\"red\",\"red\",\"red\",\"red\",\"red\",\"red\",\"green\",\"red\",\"red\",\"red\",\"red\",\"red\",\"green\",\"red\",\"red\",\"red\",\"red\",\"red\",\"red\",\"red\",\"red\",\"red\",\"red\",\"red\",\"red\",\"red\",\"red\",\"red\",\"red\",\"red\",\"red\",\"red\",\"red\",\"red\",\"red\",\"red\",\"red\",\"red\",\"red\",\"red\",\"red\",\"red\",\"red\",\"red\",\"red\",\"red\",\"green\",\"red\",\"red\",\"red\",\"red\",\"red\",\"red\",\"red\",\"red\",\"green\",\"red\",\"red\",\"red\",\"red\",\"red\",\"red\",\"red\",\"red\",\"red\",\"red\",\"red\",\"red\",\"green\",\"green\",\"red\",\"red\",\"red\",\"red\",\"red\",\"red\",\"red\",\"green\",\"red\",\"red\",\"red\",\"red\",\"red\",\"red\",\"red\",\"red\",\"red\",\"red\",\"red\",\"red\",\"red\",\"green\",\"red\",\"red\",\"red\",\"red\",\"red\",\"red\",\"red\",\"red\",\"red\",\"red\",\"red\",\"red\",\"red\",\"red\",\"red\",\"red\",\"red\",\"red\",\"red\",\"green\",\"red\",\"green\",\"red\",\"green\",\"red\",\"green\",\"red\",\"green\",\"green\",\"red\",\"red\",\"red\",\"green\",\"red\",\"red\",\"red\",\"green\",\"red\",\"green\",\"green\",\"green\",\"red\",\"red\",\"green\",\"green\",\"red\",\"green\",\"green\",\"red\",\"green\",\"green\",\"red\",\"green\",\"red\",\"red\",\"red\",\"green\",\"green\",\"red\",\"green\",\"green\",\"red\",\"green\",\"red\",\"green\",\"red\",\"green\",\"red\",\"red\",\"green\",\"green\",\"red\",\"green\",\"red\",\"red\",\"green\",\"green\",\"red\",\"green\",\"green\",\"red\",\"green\",\"green\",\"red\",\"red\",\"green\",\"red\",\"red\",\"green\",\"green\",\"green\",\"green\",\"green\",\"red\",\"green\",\"green\",\"green\",\"green\",\"red\",\"green\",\"green\",\"red\",\"green\",\"red\",\"green\",\"red\",\"green\",\"green\",\"green\",\"green\",\"red\",\"red\",\"red\",\"green\",\"green\",\"red\",\"green\",\"green\",\"green\",\"green\",\"green\",\"red\",\"red\",\"red\",\"green\",\"green\",\"red\",\"red\",\"green\",\"red\",\"green\",\"red\",\"green\",\"green\",\"red\",\"green\",\"red\",\"green\",\"green\",\"red\",\"green\",\"green\",\"red\",\"red\",\"red\",\"green\",\"green\",\"red\",\"green\",\"red\",\"red\",\"green\",\"red\",\"green\",\"red\",\"red\",\"green\",\"green\",\"red\",\"red\",\"green\",\"green\",\"red\",\"green\",\"green\",\"red\",\"red\",\"green\",\"red\",\"green\",\"red\",\"green\",\"green\",\"green\",\"red\",\"green\",\"red\",\"green\",\"green\",\"green\",\"red\",\"green\",\"green\",\"green\",\"green\",\"red\",\"green\",\"green\",\"green\",\"red\",\"green\",\"red\",\"green\",\"red\",\"red\",\"green\",\"green\",\"red\",\"green\",\"green\",\"green\",\"green\",\"green\",\"green\",\"red\",\"green\",\"green\",\"green\",\"green\",\"green\",\"green\",\"red\",\"green\",\"green\",\"green\",\"red\",\"green\"]},\"name\":\"\",\"showlegend\":true,\"type\":\"pie\"}],                        {\"template\":{\"data\":{\"histogram2dcontour\":[{\"type\":\"histogram2dcontour\",\"colorbar\":{\"outlinewidth\":0,\"ticks\":\"\"},\"colorscale\":[[0.0,\"#0d0887\"],[0.1111111111111111,\"#46039f\"],[0.2222222222222222,\"#7201a8\"],[0.3333333333333333,\"#9c179e\"],[0.4444444444444444,\"#bd3786\"],[0.5555555555555556,\"#d8576b\"],[0.6666666666666666,\"#ed7953\"],[0.7777777777777778,\"#fb9f3a\"],[0.8888888888888888,\"#fdca26\"],[1.0,\"#f0f921\"]]}],\"choropleth\":[{\"type\":\"choropleth\",\"colorbar\":{\"outlinewidth\":0,\"ticks\":\"\"}}],\"histogram2d\":[{\"type\":\"histogram2d\",\"colorbar\":{\"outlinewidth\":0,\"ticks\":\"\"},\"colorscale\":[[0.0,\"#0d0887\"],[0.1111111111111111,\"#46039f\"],[0.2222222222222222,\"#7201a8\"],[0.3333333333333333,\"#9c179e\"],[0.4444444444444444,\"#bd3786\"],[0.5555555555555556,\"#d8576b\"],[0.6666666666666666,\"#ed7953\"],[0.7777777777777778,\"#fb9f3a\"],[0.8888888888888888,\"#fdca26\"],[1.0,\"#f0f921\"]]}],\"heatmap\":[{\"type\":\"heatmap\",\"colorbar\":{\"outlinewidth\":0,\"ticks\":\"\"},\"colorscale\":[[0.0,\"#0d0887\"],[0.1111111111111111,\"#46039f\"],[0.2222222222222222,\"#7201a8\"],[0.3333333333333333,\"#9c179e\"],[0.4444444444444444,\"#bd3786\"],[0.5555555555555556,\"#d8576b\"],[0.6666666666666666,\"#ed7953\"],[0.7777777777777778,\"#fb9f3a\"],[0.8888888888888888,\"#fdca26\"],[1.0,\"#f0f921\"]]}],\"heatmapgl\":[{\"type\":\"heatmapgl\",\"colorbar\":{\"outlinewidth\":0,\"ticks\":\"\"},\"colorscale\":[[0.0,\"#0d0887\"],[0.1111111111111111,\"#46039f\"],[0.2222222222222222,\"#7201a8\"],[0.3333333333333333,\"#9c179e\"],[0.4444444444444444,\"#bd3786\"],[0.5555555555555556,\"#d8576b\"],[0.6666666666666666,\"#ed7953\"],[0.7777777777777778,\"#fb9f3a\"],[0.8888888888888888,\"#fdca26\"],[1.0,\"#f0f921\"]]}],\"contourcarpet\":[{\"type\":\"contourcarpet\",\"colorbar\":{\"outlinewidth\":0,\"ticks\":\"\"}}],\"contour\":[{\"type\":\"contour\",\"colorbar\":{\"outlinewidth\":0,\"ticks\":\"\"},\"colorscale\":[[0.0,\"#0d0887\"],[0.1111111111111111,\"#46039f\"],[0.2222222222222222,\"#7201a8\"],[0.3333333333333333,\"#9c179e\"],[0.4444444444444444,\"#bd3786\"],[0.5555555555555556,\"#d8576b\"],[0.6666666666666666,\"#ed7953\"],[0.7777777777777778,\"#fb9f3a\"],[0.8888888888888888,\"#fdca26\"],[1.0,\"#f0f921\"]]}],\"surface\":[{\"type\":\"surface\",\"colorbar\":{\"outlinewidth\":0,\"ticks\":\"\"},\"colorscale\":[[0.0,\"#0d0887\"],[0.1111111111111111,\"#46039f\"],[0.2222222222222222,\"#7201a8\"],[0.3333333333333333,\"#9c179e\"],[0.4444444444444444,\"#bd3786\"],[0.5555555555555556,\"#d8576b\"],[0.6666666666666666,\"#ed7953\"],[0.7777777777777778,\"#fb9f3a\"],[0.8888888888888888,\"#fdca26\"],[1.0,\"#f0f921\"]]}],\"mesh3d\":[{\"type\":\"mesh3d\",\"colorbar\":{\"outlinewidth\":0,\"ticks\":\"\"}}],\"scatter\":[{\"fillpattern\":{\"fillmode\":\"overlay\",\"size\":10,\"solidity\":0.2},\"type\":\"scatter\"}],\"parcoords\":[{\"type\":\"parcoords\",\"line\":{\"colorbar\":{\"outlinewidth\":0,\"ticks\":\"\"}}}],\"scatterpolargl\":[{\"type\":\"scatterpolargl\",\"marker\":{\"colorbar\":{\"outlinewidth\":0,\"ticks\":\"\"}}}],\"bar\":[{\"error_x\":{\"color\":\"#2a3f5f\"},\"error_y\":{\"color\":\"#2a3f5f\"},\"marker\":{\"line\":{\"color\":\"#E5ECF6\",\"width\":0.5},\"pattern\":{\"fillmode\":\"overlay\",\"size\":10,\"solidity\":0.2}},\"type\":\"bar\"}],\"scattergeo\":[{\"type\":\"scattergeo\",\"marker\":{\"colorbar\":{\"outlinewidth\":0,\"ticks\":\"\"}}}],\"scatterpolar\":[{\"type\":\"scatterpolar\",\"marker\":{\"colorbar\":{\"outlinewidth\":0,\"ticks\":\"\"}}}],\"histogram\":[{\"marker\":{\"pattern\":{\"fillmode\":\"overlay\",\"size\":10,\"solidity\":0.2}},\"type\":\"histogram\"}],\"scattergl\":[{\"type\":\"scattergl\",\"marker\":{\"colorbar\":{\"outlinewidth\":0,\"ticks\":\"\"}}}],\"scatter3d\":[{\"type\":\"scatter3d\",\"line\":{\"colorbar\":{\"outlinewidth\":0,\"ticks\":\"\"}},\"marker\":{\"colorbar\":{\"outlinewidth\":0,\"ticks\":\"\"}}}],\"scattermapbox\":[{\"type\":\"scattermapbox\",\"marker\":{\"colorbar\":{\"outlinewidth\":0,\"ticks\":\"\"}}}],\"scatterternary\":[{\"type\":\"scatterternary\",\"marker\":{\"colorbar\":{\"outlinewidth\":0,\"ticks\":\"\"}}}],\"scattercarpet\":[{\"type\":\"scattercarpet\",\"marker\":{\"colorbar\":{\"outlinewidth\":0,\"ticks\":\"\"}}}],\"carpet\":[{\"aaxis\":{\"endlinecolor\":\"#2a3f5f\",\"gridcolor\":\"white\",\"linecolor\":\"white\",\"minorgridcolor\":\"white\",\"startlinecolor\":\"#2a3f5f\"},\"baxis\":{\"endlinecolor\":\"#2a3f5f\",\"gridcolor\":\"white\",\"linecolor\":\"white\",\"minorgridcolor\":\"white\",\"startlinecolor\":\"#2a3f5f\"},\"type\":\"carpet\"}],\"table\":[{\"cells\":{\"fill\":{\"color\":\"#EBF0F8\"},\"line\":{\"color\":\"white\"}},\"header\":{\"fill\":{\"color\":\"#C8D4E3\"},\"line\":{\"color\":\"white\"}},\"type\":\"table\"}],\"barpolar\":[{\"marker\":{\"line\":{\"color\":\"#E5ECF6\",\"width\":0.5},\"pattern\":{\"fillmode\":\"overlay\",\"size\":10,\"solidity\":0.2}},\"type\":\"barpolar\"}],\"pie\":[{\"automargin\":true,\"type\":\"pie\"}]},\"layout\":{\"autotypenumbers\":\"strict\",\"colorway\":[\"#636efa\",\"#EF553B\",\"#00cc96\",\"#ab63fa\",\"#FFA15A\",\"#19d3f3\",\"#FF6692\",\"#B6E880\",\"#FF97FF\",\"#FECB52\"],\"font\":{\"color\":\"#2a3f5f\"},\"hovermode\":\"closest\",\"hoverlabel\":{\"align\":\"left\"},\"paper_bgcolor\":\"white\",\"plot_bgcolor\":\"#E5ECF6\",\"polar\":{\"bgcolor\":\"#E5ECF6\",\"angularaxis\":{\"gridcolor\":\"white\",\"linecolor\":\"white\",\"ticks\":\"\"},\"radialaxis\":{\"gridcolor\":\"white\",\"linecolor\":\"white\",\"ticks\":\"\"}},\"ternary\":{\"bgcolor\":\"#E5ECF6\",\"aaxis\":{\"gridcolor\":\"white\",\"linecolor\":\"white\",\"ticks\":\"\"},\"baxis\":{\"gridcolor\":\"white\",\"linecolor\":\"white\",\"ticks\":\"\"},\"caxis\":{\"gridcolor\":\"white\",\"linecolor\":\"white\",\"ticks\":\"\"}},\"coloraxis\":{\"colorbar\":{\"outlinewidth\":0,\"ticks\":\"\"}},\"colorscale\":{\"sequential\":[[0.0,\"#0d0887\"],[0.1111111111111111,\"#46039f\"],[0.2222222222222222,\"#7201a8\"],[0.3333333333333333,\"#9c179e\"],[0.4444444444444444,\"#bd3786\"],[0.5555555555555556,\"#d8576b\"],[0.6666666666666666,\"#ed7953\"],[0.7777777777777778,\"#fb9f3a\"],[0.8888888888888888,\"#fdca26\"],[1.0,\"#f0f921\"]],\"sequentialminus\":[[0.0,\"#0d0887\"],[0.1111111111111111,\"#46039f\"],[0.2222222222222222,\"#7201a8\"],[0.3333333333333333,\"#9c179e\"],[0.4444444444444444,\"#bd3786\"],[0.5555555555555556,\"#d8576b\"],[0.6666666666666666,\"#ed7953\"],[0.7777777777777778,\"#fb9f3a\"],[0.8888888888888888,\"#fdca26\"],[1.0,\"#f0f921\"]],\"diverging\":[[0,\"#8e0152\"],[0.1,\"#c51b7d\"],[0.2,\"#de77ae\"],[0.3,\"#f1b6da\"],[0.4,\"#fde0ef\"],[0.5,\"#f7f7f7\"],[0.6,\"#e6f5d0\"],[0.7,\"#b8e186\"],[0.8,\"#7fbc41\"],[0.9,\"#4d9221\"],[1,\"#276419\"]]},\"xaxis\":{\"gridcolor\":\"white\",\"linecolor\":\"white\",\"ticks\":\"\",\"title\":{\"standoff\":15},\"zerolinecolor\":\"white\",\"automargin\":true,\"zerolinewidth\":2},\"yaxis\":{\"gridcolor\":\"white\",\"linecolor\":\"white\",\"ticks\":\"\",\"title\":{\"standoff\":15},\"zerolinecolor\":\"white\",\"automargin\":true,\"zerolinewidth\":2},\"scene\":{\"xaxis\":{\"backgroundcolor\":\"#E5ECF6\",\"gridcolor\":\"white\",\"linecolor\":\"white\",\"showbackground\":true,\"ticks\":\"\",\"zerolinecolor\":\"white\",\"gridwidth\":2},\"yaxis\":{\"backgroundcolor\":\"#E5ECF6\",\"gridcolor\":\"white\",\"linecolor\":\"white\",\"showbackground\":true,\"ticks\":\"\",\"zerolinecolor\":\"white\",\"gridwidth\":2},\"zaxis\":{\"backgroundcolor\":\"#E5ECF6\",\"gridcolor\":\"white\",\"linecolor\":\"white\",\"showbackground\":true,\"ticks\":\"\",\"zerolinecolor\":\"white\",\"gridwidth\":2}},\"shapedefaults\":{\"line\":{\"color\":\"#2a3f5f\"}},\"annotationdefaults\":{\"arrowcolor\":\"#2a3f5f\",\"arrowhead\":0,\"arrowwidth\":1},\"geo\":{\"bgcolor\":\"white\",\"landcolor\":\"#E5ECF6\",\"subunitcolor\":\"white\",\"showland\":true,\"showlakes\":true,\"lakecolor\":\"white\"},\"title\":{\"x\":0.05},\"mapbox\":{\"style\":\"light\"}}},\"legend\":{\"tracegroupgap\":0},\"margin\":{\"t\":60}},                        {\"responsive\": true}                    ).then(function(){\n",
       "                            \n",
       "var gd = document.getElementById('e3985045-fbf9-4fb5-bd10-abaeffc4c479');\n",
       "var x = new MutationObserver(function (mutations, observer) {{\n",
       "        var display = window.getComputedStyle(gd).display;\n",
       "        if (!display || display === 'none') {{\n",
       "            console.log([gd, 'removed!']);\n",
       "            Plotly.purge(gd);\n",
       "            observer.disconnect();\n",
       "        }}\n",
       "}});\n",
       "\n",
       "// Listen for the removal of the full notebook cells\n",
       "var notebookContainer = gd.closest('#notebook-container');\n",
       "if (notebookContainer) {{\n",
       "    x.observe(notebookContainer, {childList: true});\n",
       "}}\n",
       "\n",
       "// Listen for the clearing of the current output cell\n",
       "var outputEl = gd.closest('.output');\n",
       "if (outputEl) {{\n",
       "    x.observe(outputEl, {childList: true});\n",
       "}}\n",
       "\n",
       "                        })                };                });            </script>        </div>"
      ]
     },
     "metadata": {},
     "output_type": "display_data"
    }
   ],
   "source": [
    "import plotly.express as px\n",
    "\n",
    "fig = px.pie(new_data_set,names='Purchased',color='Purchased',\n",
    "             color_discrete_map={0:'red',\n",
    "                                 1:'green'})\n",
    "fig.show()"
   ]
  },
  {
   "cell_type": "markdown",
   "id": "37497f65",
   "metadata": {},
   "source": [
    "* 0-Not Purchased SUV\n",
    "* 1-Purchased SUV"
   ]
  },
  {
   "cell_type": "code",
   "execution_count": 31,
   "id": "041d802d",
   "metadata": {},
   "outputs": [
    {
     "data": {
      "text/html": [
       "<div>\n",
       "<style scoped>\n",
       "    .dataframe tbody tr th:only-of-type {\n",
       "        vertical-align: middle;\n",
       "    }\n",
       "\n",
       "    .dataframe tbody tr th {\n",
       "        vertical-align: top;\n",
       "    }\n",
       "\n",
       "    .dataframe thead th {\n",
       "        text-align: right;\n",
       "    }\n",
       "</style>\n",
       "<table border=\"1\" class=\"dataframe\">\n",
       "  <thead>\n",
       "    <tr style=\"text-align: right;\">\n",
       "      <th></th>\n",
       "      <th>Gender</th>\n",
       "      <th>Age</th>\n",
       "      <th>EstimatedSalary</th>\n",
       "      <th>Purchased</th>\n",
       "      <th>age_group</th>\n",
       "      <th>income_category</th>\n",
       "    </tr>\n",
       "  </thead>\n",
       "  <tbody>\n",
       "    <tr>\n",
       "      <th>0</th>\n",
       "      <td>Male</td>\n",
       "      <td>19</td>\n",
       "      <td>19000</td>\n",
       "      <td>0</td>\n",
       "      <td>A</td>\n",
       "      <td>Very Low</td>\n",
       "    </tr>\n",
       "    <tr>\n",
       "      <th>1</th>\n",
       "      <td>Male</td>\n",
       "      <td>35</td>\n",
       "      <td>20000</td>\n",
       "      <td>0</td>\n",
       "      <td>D</td>\n",
       "      <td>Low</td>\n",
       "    </tr>\n",
       "    <tr>\n",
       "      <th>2</th>\n",
       "      <td>Female</td>\n",
       "      <td>26</td>\n",
       "      <td>43000</td>\n",
       "      <td>0</td>\n",
       "      <td>B</td>\n",
       "      <td>Moderately Low</td>\n",
       "    </tr>\n",
       "    <tr>\n",
       "      <th>3</th>\n",
       "      <td>Female</td>\n",
       "      <td>27</td>\n",
       "      <td>57000</td>\n",
       "      <td>0</td>\n",
       "      <td>C</td>\n",
       "      <td>Moderately Low</td>\n",
       "    </tr>\n",
       "    <tr>\n",
       "      <th>4</th>\n",
       "      <td>Male</td>\n",
       "      <td>19</td>\n",
       "      <td>76000</td>\n",
       "      <td>0</td>\n",
       "      <td>A</td>\n",
       "      <td>Medium</td>\n",
       "    </tr>\n",
       "    <tr>\n",
       "      <th>...</th>\n",
       "      <td>...</td>\n",
       "      <td>...</td>\n",
       "      <td>...</td>\n",
       "      <td>...</td>\n",
       "      <td>...</td>\n",
       "      <td>...</td>\n",
       "    </tr>\n",
       "    <tr>\n",
       "      <th>377</th>\n",
       "      <td>Female</td>\n",
       "      <td>42</td>\n",
       "      <td>53000</td>\n",
       "      <td>0</td>\n",
       "      <td>E</td>\n",
       "      <td>Moderately Low</td>\n",
       "    </tr>\n",
       "    <tr>\n",
       "      <th>380</th>\n",
       "      <td>Male</td>\n",
       "      <td>42</td>\n",
       "      <td>64000</td>\n",
       "      <td>0</td>\n",
       "      <td>E</td>\n",
       "      <td>Medium</td>\n",
       "    </tr>\n",
       "    <tr>\n",
       "      <th>387</th>\n",
       "      <td>Male</td>\n",
       "      <td>39</td>\n",
       "      <td>71000</td>\n",
       "      <td>0</td>\n",
       "      <td>D</td>\n",
       "      <td>Medium</td>\n",
       "    </tr>\n",
       "    <tr>\n",
       "      <th>394</th>\n",
       "      <td>Female</td>\n",
       "      <td>39</td>\n",
       "      <td>59000</td>\n",
       "      <td>0</td>\n",
       "      <td>D</td>\n",
       "      <td>Moderately Low</td>\n",
       "    </tr>\n",
       "    <tr>\n",
       "      <th>398</th>\n",
       "      <td>Male</td>\n",
       "      <td>36</td>\n",
       "      <td>33000</td>\n",
       "      <td>0</td>\n",
       "      <td>D</td>\n",
       "      <td>Low</td>\n",
       "    </tr>\n",
       "  </tbody>\n",
       "</table>\n",
       "<p>257 rows × 6 columns</p>\n",
       "</div>"
      ],
      "text/plain": [
       "     Gender  Age  EstimatedSalary  Purchased age_group income_category\n",
       "0      Male   19            19000          0         A        Very Low\n",
       "1      Male   35            20000          0         D             Low\n",
       "2    Female   26            43000          0         B  Moderately Low\n",
       "3    Female   27            57000          0         C  Moderately Low\n",
       "4      Male   19            76000          0         A          Medium\n",
       "..      ...  ...              ...        ...       ...             ...\n",
       "377  Female   42            53000          0         E  Moderately Low\n",
       "380    Male   42            64000          0         E          Medium\n",
       "387    Male   39            71000          0         D          Medium\n",
       "394  Female   39            59000          0         D  Moderately Low\n",
       "398    Male   36            33000          0         D             Low\n",
       "\n",
       "[257 rows x 6 columns]"
      ]
     },
     "execution_count": 31,
     "metadata": {},
     "output_type": "execute_result"
    }
   ],
   "source": [
    "NotPurchased= new_data_set[new_data_set[\"Purchased\"] == 0]  #257\n",
    "\n",
    "NotPurchased"
   ]
  },
  {
   "cell_type": "code",
   "execution_count": 32,
   "id": "f029f0b5",
   "metadata": {},
   "outputs": [
    {
     "data": {
      "application/vnd.plotly.v1+json": {
       "config": {
        "plotlyServerURL": "https://plot.ly"
       },
       "data": [
        {
         "branchvalues": "total",
         "domain": {
          "x": [
           0,
           1
          ],
          "y": [
           0,
           1
          ]
         },
         "hovertemplate": "labels=%{label}<br>count=%{value}<br>parent=%{parent}<br>id=%{id}<extra></extra>",
         "ids": [
          "Female/19/21000/0/A/Low",
          "Female/20/23000/0/A/Low",
          "Male/19/25000/0/A/Low",
          "Female/19/26000/0/A/Low",
          "Female/20/36000/0/A/Low",
          "Male/23/20000/0/B/Low",
          "Male/25/22000/0/B/Low",
          "Male/24/23000/0/B/Low",
          "Female/22/27000/0/B/Low",
          "Female/24/27000/0/B/Low",
          "Female/23/28000/0/B/Low",
          "Male/26/30000/0/B/Low",
          "Female/24/32000/0/B/Low",
          "Male/26/32000/0/B/Low",
          "Male/25/33000/0/B/Low",
          "Female/26/35000/0/B/Low",
          "Male/27/20000/0/C/Low",
          "Female/29/28000/0/C/Low",
          "Female/27/31000/0/C/Low",
          "Male/28/32000/0/C/Low",
          "Female/28/37000/0/C/Low",
          "Male/35/20000/0/D/Low",
          "Male/35/22000/0/D/Low",
          "Female/35/23000/0/D/Low",
          "Female/34/25000/0/D/Low",
          "Female/35/25000/0/D/Low",
          "Male/35/27000/0/D/Low",
          "Female/33/28000/0/D/Low",
          "Male/33/31000/0/D/Low",
          "Male/36/33000/0/D/Low",
          "Female/37/33000/0/D/Low",
          "Female/31/34000/0/D/Low",
          "Male/35/38000/0/D/Low",
          "Male/35/39000/0/D/Low",
          "Female/46/22000/0/E/Low",
          "Female/41/30000/0/E/Low",
          "Female/44/39000/0/E/Low",
          "Female/18/68000/0/A/Medium",
          "Male/19/70000/0/A/Medium",
          "Male/20/74000/0/A/Medium",
          "Male/19/76000/0/A/Medium",
          "Female/22/63000/0/B/Medium",
          "Male/23/63000/0/B/Medium",
          "Female/23/66000/0/B/Medium",
          "Female/21/68000/0/B/Medium",
          "Male/21/72000/0/B/Medium",
          "Female/26/72000/0/B/Medium",
          "Male/25/79000/0/B/Medium",
          "Male/25/80000/0/B/Medium",
          "Female/26/80000/0/B/Medium",
          "Male/26/80000/0/B/Medium",
          "Male/29/61000/0/C/Medium",
          "Female/30/62000/0/C/Medium",
          "Male/29/75000/0/C/Medium",
          "Male/28/79000/0/C/Medium",
          "Female/30/79000/0/C/Medium",
          "Male/29/80000/0/C/Medium",
          "Male/30/80000/0/C/Medium",
          "Male/35/61000/0/D/Medium",
          "Male/38/61000/0/D/Medium",
          "Female/39/61000/0/D/Medium",
          "Male/40/61000/0/D/Medium",
          "Female/37/62000/0/D/Medium",
          "Female/36/63000/0/D/Medium",
          "Female/35/65000/0/D/Medium",
          "Female/38/65000/0/D/Medium",
          "Male/40/65000/0/D/Medium",
          "Male/31/66000/0/D/Medium",
          "Female/31/68000/0/D/Medium",
          "Female/33/69000/0/D/Medium",
          "Female/31/71000/0/D/Medium",
          "Female/35/71000/0/D/Medium",
          "Female/37/71000/0/D/Medium",
          "Male/38/71000/0/D/Medium",
          "Female/39/71000/0/D/Medium",
          "Male/39/71000/0/D/Medium",
          "Female/34/72000/0/D/Medium",
          "Female/35/72000/0/D/Medium",
          "Male/35/72000/0/D/Medium",
          "Male/37/72000/0/D/Medium",
          "Female/40/72000/0/D/Medium",
          "Male/35/73000/0/D/Medium",
          "Female/39/73000/0/D/Medium",
          "Male/31/74000/0/D/Medium",
          "Male/37/74000/0/D/Medium",
          "Male/35/75000/0/D/Medium",
          "Female/36/75000/0/D/Medium",
          "Male/37/75000/0/D/Medium",
          "Female/40/75000/0/D/Medium",
          "Male/40/75000/0/D/Medium",
          "Male/31/76000/0/D/Medium",
          "Female/35/77000/0/D/Medium",
          "Male/37/77000/0/D/Medium",
          "Male/39/77000/0/D/Medium",
          "Male/40/78000/0/D/Medium",
          "Male/35/79000/0/D/Medium",
          "Female/39/79000/0/D/Medium",
          "Female/37/80000/0/D/Medium",
          "Female/38/80000/0/D/Medium",
          "Female/41/63000/0/E/Medium",
          "Male/42/64000/0/E/Medium",
          "Male/42/65000/0/E/Medium",
          "Male/49/65000/0/E/Medium",
          "Female/42/70000/0/E/Medium",
          "Female/41/71000/0/E/Medium",
          "Female/41/72000/0/E/Medium",
          "Male/41/72000/0/E/Medium",
          "Female/46/74000/0/E/Medium",
          "Male/49/74000/0/E/Medium",
          "Female/42/75000/0/E/Medium",
          "Male/41/79000/0/E/Medium",
          "Female/42/79000/0/E/Medium",
          "Male/45/79000/0/E/Medium",
          "Female/41/80000/0/E/Medium",
          "Male/42/80000/0/E/Medium",
          "Female/18/44000/0/A/Moderately Low",
          "Male/20/49000/0/A/Moderately Low",
          "Male/18/52000/0/A/Moderately Low",
          "Female/26/43000/0/B/Moderately Low",
          "Female/23/48000/0/B/Moderately Low",
          "Female/26/52000/0/B/Moderately Low",
          "Female/22/55000/0/B/Moderately Low",
          "Female/24/55000/0/B/Moderately Low",
          "Male/24/55000/0/B/Moderately Low",
          "Male/24/58000/0/B/Moderately Low",
          "Male/29/43000/0/C/Moderately Low",
          "Female/28/44000/0/C/Moderately Low",
          "Female/29/47000/0/C/Moderately Low",
          "Male/30/49000/0/C/Moderately Low",
          "Female/27/54000/0/C/Moderately Low",
          "Female/28/55000/0/C/Moderately Low",
          "Female/27/57000/0/C/Moderately Low",
          "Female/27/58000/0/C/Moderately Low",
          "Male/27/58000/0/C/Moderately Low",
          "Female/28/59000/0/C/Moderately Low",
          "Male/28/59000/0/C/Moderately Low",
          "Female/33/41000/0/D/Moderately Low",
          "Male/39/42000/0/D/Moderately Low",
          "Male/33/43000/0/D/Moderately Low",
          "Female/34/43000/0/D/Moderately Low",
          "Male/34/43000/0/D/Moderately Low",
          "Female/35/44000/0/D/Moderately Low",
          "Female/35/47000/0/D/Moderately Low",
          "Male/40/47000/0/D/Moderately Low",
          "Female/35/50000/0/D/Moderately Low",
          "Male/35/50000/0/D/Moderately Low",
          "Female/36/50000/0/D/Moderately Low",
          "Female/38/50000/0/D/Moderately Low",
          "Female/33/51000/0/D/Moderately Low",
          "Male/38/51000/0/D/Moderately Low",
          "Male/36/52000/0/D/Moderately Low",
          "Male/37/52000/0/D/Moderately Low",
          "Male/35/53000/0/D/Moderately Low",
          "Male/37/53000/0/D/Moderately Low",
          "Female/36/54000/0/D/Moderately Low",
          "Male/35/55000/0/D/Moderately Low",
          "Male/37/55000/0/D/Moderately Low",
          "Female/38/55000/0/D/Moderately Low",
          "Female/35/57000/0/D/Moderately Low",
          "Female/37/57000/0/D/Moderately Low",
          "Male/40/57000/0/D/Moderately Low",
          "Male/31/58000/0/D/Moderately Low",
          "Male/35/58000/0/D/Moderately Low",
          "Male/35/59000/0/D/Moderately Low",
          "Male/38/59000/0/D/Moderately Low",
          "Female/39/59000/0/D/Moderately Low",
          "Male/40/59000/0/D/Moderately Low",
          "Female/33/60000/0/D/Moderately Low",
          "Female/35/60000/0/D/Moderately Low",
          "Male/36/60000/0/D/Moderately Low",
          "Female/40/60000/0/D/Moderately Low",
          "Male/47/43000/0/E/Moderately Low",
          "Female/50/44000/0/E/Moderately Low",
          "Male/41/45000/0/E/Moderately Low",
          "Female/47/47000/0/E/Moderately Low",
          "Female/41/51000/0/E/Moderately Low",
          "Male/41/52000/0/E/Moderately Low",
          "Female/42/53000/0/E/Moderately Low",
          "Male/42/54000/0/E/Moderately Low",
          "Male/41/59000/0/E/Moderately Low",
          "Male/46/59000/0/E/Moderately Low",
          "Female/41/60000/0/E/Moderately Low",
          "Female/59/42000/0/F/Moderately Low",
          "Male/18/82000/0/A/Moderately high",
          "Female/20/82000/0/A/Moderately high",
          "Male/19/85000/0/A/Moderately high",
          "Female/18/86000/0/A/Moderately high",
          "Male/20/86000/0/A/Moderately high",
          "Male/22/81000/0/B/Moderately high",
          "Male/26/81000/0/B/Moderately high",
          "Female/23/82000/0/B/Moderately high",
          "Male/24/84000/0/B/Moderately high",
          "Female/26/84000/0/B/Moderately high",
          "Male/26/86000/0/B/Moderately high",
          "Male/25/87000/0/B/Moderately high",
          "Male/21/88000/0/B/Moderately high",
          "Female/24/89000/0/B/Moderately high",
          "Male/25/90000/0/B/Moderately high",
          "Female/29/83000/0/C/Moderately high",
          "Female/27/84000/0/C/Moderately high",
          "Female/28/84000/0/C/Moderately high",
          "Female/28/85000/0/C/Moderately high",
          "Female/28/87000/0/C/Moderately high",
          "Male/30/87000/0/C/Moderately high",
          "Male/27/88000/0/C/Moderately high",
          "Male/27/89000/0/C/Moderately high",
          "Male/28/89000/0/C/Moderately high",
          "Male/30/89000/0/C/Moderately high",
          "Male/27/90000/0/C/Moderately high",
          "Female/32/86000/0/D/Moderately high",
          "Male/35/88000/0/D/Moderately high",
          "Female/31/89000/0/D/Moderately high",
          "Female/46/82000/0/E/Moderately high",
          "Female/46/96000/0/E/Moderately high",
          "Female/59/83000/0/F/Moderately high",
          "Female/26/118000/0/B/Very High",
          "Female/30/116000/0/C/Very High",
          "Male/35/108000/0/D/Very High",
          "Female/38/112000/0/D/Very High",
          "Female/33/113000/0/D/Very High",
          "Male/34/115000/0/D/Very High",
          "Female/32/117000/0/D/Very High",
          "Female/43/133000/0/E/Very High",
          "Male/48/141000/0/E/Very High",
          "Female/52/114000/0/F/Very High",
          "Female/51/134000/0/F/Very High",
          "Male/19/19000/0/A/Very Low",
          "Female/26/15000/0/B/Very Low",
          "Male/26/15000/0/B/Very Low",
          "Female/21/16000/0/B/Very Low",
          "Male/26/16000/0/B/Very Low",
          "Female/26/17000/0/B/Very Low",
          "Male/22/18000/0/B/Very Low",
          "Male/24/19000/0/B/Very Low",
          "Male/30/15000/0/C/Very Low",
          "Female/27/17000/0/C/Very Low",
          "Male/30/17000/0/C/Very Low",
          "Female/31/15000/0/D/Very Low",
          "Male/31/18000/0/D/Very Low",
          "Male/32/18000/0/D/Very Low",
          "Male/19/19000/0/A",
          "Female/19/21000/0/A",
          "Female/20/23000/0/A",
          "Male/19/25000/0/A",
          "Female/19/26000/0/A",
          "Female/20/36000/0/A",
          "Female/18/44000/0/A",
          "Male/20/49000/0/A",
          "Male/18/52000/0/A",
          "Female/18/68000/0/A",
          "Male/19/70000/0/A",
          "Male/20/74000/0/A",
          "Male/19/76000/0/A",
          "Male/18/82000/0/A",
          "Female/20/82000/0/A",
          "Male/19/85000/0/A",
          "Female/18/86000/0/A",
          "Male/20/86000/0/A",
          "Female/26/15000/0/B",
          "Male/26/15000/0/B",
          "Female/21/16000/0/B",
          "Male/26/16000/0/B",
          "Female/26/17000/0/B",
          "Male/22/18000/0/B",
          "Male/24/19000/0/B",
          "Male/23/20000/0/B",
          "Male/25/22000/0/B",
          "Male/24/23000/0/B",
          "Female/22/27000/0/B",
          "Female/24/27000/0/B",
          "Female/23/28000/0/B",
          "Male/26/30000/0/B",
          "Female/24/32000/0/B",
          "Male/26/32000/0/B",
          "Male/25/33000/0/B",
          "Female/26/35000/0/B",
          "Female/26/43000/0/B",
          "Female/23/48000/0/B",
          "Female/26/52000/0/B",
          "Female/22/55000/0/B",
          "Female/24/55000/0/B",
          "Male/24/55000/0/B",
          "Male/24/58000/0/B",
          "Female/22/63000/0/B",
          "Male/23/63000/0/B",
          "Female/23/66000/0/B",
          "Female/21/68000/0/B",
          "Male/21/72000/0/B",
          "Female/26/72000/0/B",
          "Male/25/79000/0/B",
          "Male/25/80000/0/B",
          "Female/26/80000/0/B",
          "Male/26/80000/0/B",
          "Male/22/81000/0/B",
          "Male/26/81000/0/B",
          "Female/23/82000/0/B",
          "Male/24/84000/0/B",
          "Female/26/84000/0/B",
          "Male/26/86000/0/B",
          "Male/25/87000/0/B",
          "Male/21/88000/0/B",
          "Female/24/89000/0/B",
          "Male/25/90000/0/B",
          "Female/26/118000/0/B",
          "Male/30/15000/0/C",
          "Female/27/17000/0/C",
          "Male/30/17000/0/C",
          "Male/27/20000/0/C",
          "Female/29/28000/0/C",
          "Female/27/31000/0/C",
          "Male/28/32000/0/C",
          "Female/28/37000/0/C",
          "Male/29/43000/0/C",
          "Female/28/44000/0/C",
          "Female/29/47000/0/C",
          "Male/30/49000/0/C",
          "Female/27/54000/0/C",
          "Female/28/55000/0/C",
          "Female/27/57000/0/C",
          "Female/27/58000/0/C",
          "Male/27/58000/0/C",
          "Female/28/59000/0/C",
          "Male/28/59000/0/C",
          "Male/29/61000/0/C",
          "Female/30/62000/0/C",
          "Male/29/75000/0/C",
          "Male/28/79000/0/C",
          "Female/30/79000/0/C",
          "Male/29/80000/0/C",
          "Male/30/80000/0/C",
          "Female/29/83000/0/C",
          "Female/27/84000/0/C",
          "Female/28/84000/0/C",
          "Female/28/85000/0/C",
          "Female/28/87000/0/C",
          "Male/30/87000/0/C",
          "Male/27/88000/0/C",
          "Male/27/89000/0/C",
          "Male/28/89000/0/C",
          "Male/30/89000/0/C",
          "Male/27/90000/0/C",
          "Female/30/116000/0/C",
          "Female/31/15000/0/D",
          "Male/31/18000/0/D",
          "Male/32/18000/0/D",
          "Male/35/20000/0/D",
          "Male/35/22000/0/D",
          "Female/35/23000/0/D",
          "Female/34/25000/0/D",
          "Female/35/25000/0/D",
          "Male/35/27000/0/D",
          "Female/33/28000/0/D",
          "Male/33/31000/0/D",
          "Male/36/33000/0/D",
          "Female/37/33000/0/D",
          "Female/31/34000/0/D",
          "Male/35/38000/0/D",
          "Male/35/39000/0/D",
          "Female/33/41000/0/D",
          "Male/39/42000/0/D",
          "Male/33/43000/0/D",
          "Female/34/43000/0/D",
          "Male/34/43000/0/D",
          "Female/35/44000/0/D",
          "Female/35/47000/0/D",
          "Male/40/47000/0/D",
          "Female/35/50000/0/D",
          "Male/35/50000/0/D",
          "Female/36/50000/0/D",
          "Female/38/50000/0/D",
          "Female/33/51000/0/D",
          "Male/38/51000/0/D",
          "Male/36/52000/0/D",
          "Male/37/52000/0/D",
          "Male/35/53000/0/D",
          "Male/37/53000/0/D",
          "Female/36/54000/0/D",
          "Male/35/55000/0/D",
          "Male/37/55000/0/D",
          "Female/38/55000/0/D",
          "Female/35/57000/0/D",
          "Female/37/57000/0/D",
          "Male/40/57000/0/D",
          "Male/31/58000/0/D",
          "Male/35/58000/0/D",
          "Male/35/59000/0/D",
          "Male/38/59000/0/D",
          "Female/39/59000/0/D",
          "Male/40/59000/0/D",
          "Female/33/60000/0/D",
          "Female/35/60000/0/D",
          "Male/36/60000/0/D",
          "Female/40/60000/0/D",
          "Male/35/61000/0/D",
          "Male/38/61000/0/D",
          "Female/39/61000/0/D",
          "Male/40/61000/0/D",
          "Female/37/62000/0/D",
          "Female/36/63000/0/D",
          "Female/35/65000/0/D",
          "Female/38/65000/0/D",
          "Male/40/65000/0/D",
          "Male/31/66000/0/D",
          "Female/31/68000/0/D",
          "Female/33/69000/0/D",
          "Female/31/71000/0/D",
          "Female/35/71000/0/D",
          "Female/37/71000/0/D",
          "Male/38/71000/0/D",
          "Female/39/71000/0/D",
          "Male/39/71000/0/D",
          "Female/34/72000/0/D",
          "Female/35/72000/0/D",
          "Male/35/72000/0/D",
          "Male/37/72000/0/D",
          "Female/40/72000/0/D",
          "Male/35/73000/0/D",
          "Female/39/73000/0/D",
          "Male/31/74000/0/D",
          "Male/37/74000/0/D",
          "Male/35/75000/0/D",
          "Female/36/75000/0/D",
          "Male/37/75000/0/D",
          "Female/40/75000/0/D",
          "Male/40/75000/0/D",
          "Male/31/76000/0/D",
          "Female/35/77000/0/D",
          "Male/37/77000/0/D",
          "Male/39/77000/0/D",
          "Male/40/78000/0/D",
          "Male/35/79000/0/D",
          "Female/39/79000/0/D",
          "Female/37/80000/0/D",
          "Female/38/80000/0/D",
          "Female/32/86000/0/D",
          "Male/35/88000/0/D",
          "Female/31/89000/0/D",
          "Male/35/108000/0/D",
          "Female/38/112000/0/D",
          "Female/33/113000/0/D",
          "Male/34/115000/0/D",
          "Female/32/117000/0/D",
          "Female/46/22000/0/E",
          "Female/41/30000/0/E",
          "Female/44/39000/0/E",
          "Male/47/43000/0/E",
          "Female/50/44000/0/E",
          "Male/41/45000/0/E",
          "Female/47/47000/0/E",
          "Female/41/51000/0/E",
          "Male/41/52000/0/E",
          "Female/42/53000/0/E",
          "Male/42/54000/0/E",
          "Male/41/59000/0/E",
          "Male/46/59000/0/E",
          "Female/41/60000/0/E",
          "Female/41/63000/0/E",
          "Male/42/64000/0/E",
          "Male/42/65000/0/E",
          "Male/49/65000/0/E",
          "Female/42/70000/0/E",
          "Female/41/71000/0/E",
          "Female/41/72000/0/E",
          "Male/41/72000/0/E",
          "Female/46/74000/0/E",
          "Male/49/74000/0/E",
          "Female/42/75000/0/E",
          "Male/41/79000/0/E",
          "Female/42/79000/0/E",
          "Male/45/79000/0/E",
          "Female/41/80000/0/E",
          "Male/42/80000/0/E",
          "Female/46/82000/0/E",
          "Female/46/96000/0/E",
          "Female/43/133000/0/E",
          "Male/48/141000/0/E",
          "Female/59/42000/0/F",
          "Female/59/83000/0/F",
          "Female/52/114000/0/F",
          "Female/51/134000/0/F",
          "Female/26/15000/0",
          "Male/26/15000/0",
          "Male/30/15000/0",
          "Female/31/15000/0",
          "Female/21/16000/0",
          "Male/26/16000/0",
          "Female/26/17000/0",
          "Female/27/17000/0",
          "Male/30/17000/0",
          "Male/22/18000/0",
          "Male/31/18000/0",
          "Male/32/18000/0",
          "Male/19/19000/0",
          "Male/24/19000/0",
          "Male/23/20000/0",
          "Male/27/20000/0",
          "Male/35/20000/0",
          "Female/19/21000/0",
          "Male/25/22000/0",
          "Male/35/22000/0",
          "Female/46/22000/0",
          "Female/20/23000/0",
          "Male/24/23000/0",
          "Female/35/23000/0",
          "Male/19/25000/0",
          "Female/34/25000/0",
          "Female/35/25000/0",
          "Female/19/26000/0",
          "Female/22/27000/0",
          "Female/24/27000/0",
          "Male/35/27000/0",
          "Female/23/28000/0",
          "Female/29/28000/0",
          "Female/33/28000/0",
          "Male/26/30000/0",
          "Female/41/30000/0",
          "Female/27/31000/0",
          "Male/33/31000/0",
          "Female/24/32000/0",
          "Male/26/32000/0",
          "Male/28/32000/0",
          "Male/25/33000/0",
          "Male/36/33000/0",
          "Female/37/33000/0",
          "Female/31/34000/0",
          "Female/26/35000/0",
          "Female/20/36000/0",
          "Female/28/37000/0",
          "Male/35/38000/0",
          "Male/35/39000/0",
          "Female/44/39000/0",
          "Female/33/41000/0",
          "Male/39/42000/0",
          "Female/59/42000/0",
          "Female/26/43000/0",
          "Male/29/43000/0",
          "Male/33/43000/0",
          "Female/34/43000/0",
          "Male/34/43000/0",
          "Male/47/43000/0",
          "Female/18/44000/0",
          "Female/28/44000/0",
          "Female/35/44000/0",
          "Female/50/44000/0",
          "Male/41/45000/0",
          "Female/29/47000/0",
          "Female/35/47000/0",
          "Male/40/47000/0",
          "Female/47/47000/0",
          "Female/23/48000/0",
          "Male/20/49000/0",
          "Male/30/49000/0",
          "Female/35/50000/0",
          "Male/35/50000/0",
          "Female/36/50000/0",
          "Female/38/50000/0",
          "Female/33/51000/0",
          "Male/38/51000/0",
          "Female/41/51000/0",
          "Male/18/52000/0",
          "Female/26/52000/0",
          "Male/36/52000/0",
          "Male/37/52000/0",
          "Male/41/52000/0",
          "Male/35/53000/0",
          "Male/37/53000/0",
          "Female/42/53000/0",
          "Female/27/54000/0",
          "Female/36/54000/0",
          "Male/42/54000/0",
          "Female/22/55000/0",
          "Female/24/55000/0",
          "Male/24/55000/0",
          "Female/28/55000/0",
          "Male/35/55000/0",
          "Male/37/55000/0",
          "Female/38/55000/0",
          "Female/27/57000/0",
          "Female/35/57000/0",
          "Female/37/57000/0",
          "Male/40/57000/0",
          "Male/24/58000/0",
          "Female/27/58000/0",
          "Male/27/58000/0",
          "Male/31/58000/0",
          "Male/35/58000/0",
          "Female/28/59000/0",
          "Male/28/59000/0",
          "Male/35/59000/0",
          "Male/38/59000/0",
          "Female/39/59000/0",
          "Male/40/59000/0",
          "Male/41/59000/0",
          "Male/46/59000/0",
          "Female/33/60000/0",
          "Female/35/60000/0",
          "Male/36/60000/0",
          "Female/40/60000/0",
          "Female/41/60000/0",
          "Male/29/61000/0",
          "Male/35/61000/0",
          "Male/38/61000/0",
          "Female/39/61000/0",
          "Male/40/61000/0",
          "Female/30/62000/0",
          "Female/37/62000/0",
          "Female/22/63000/0",
          "Male/23/63000/0",
          "Female/36/63000/0",
          "Female/41/63000/0",
          "Male/42/64000/0",
          "Female/35/65000/0",
          "Female/38/65000/0",
          "Male/40/65000/0",
          "Male/42/65000/0",
          "Male/49/65000/0",
          "Female/23/66000/0",
          "Male/31/66000/0",
          "Female/18/68000/0",
          "Female/21/68000/0",
          "Female/31/68000/0",
          "Female/33/69000/0",
          "Male/19/70000/0",
          "Female/42/70000/0",
          "Female/31/71000/0",
          "Female/35/71000/0",
          "Female/37/71000/0",
          "Male/38/71000/0",
          "Female/39/71000/0",
          "Male/39/71000/0",
          "Female/41/71000/0",
          "Male/21/72000/0",
          "Female/26/72000/0",
          "Female/34/72000/0",
          "Female/35/72000/0",
          "Male/35/72000/0",
          "Male/37/72000/0",
          "Female/40/72000/0",
          "Female/41/72000/0",
          "Male/41/72000/0",
          "Male/35/73000/0",
          "Female/39/73000/0",
          "Male/20/74000/0",
          "Male/31/74000/0",
          "Male/37/74000/0",
          "Female/46/74000/0",
          "Male/49/74000/0",
          "Male/29/75000/0",
          "Male/35/75000/0",
          "Female/36/75000/0",
          "Male/37/75000/0",
          "Female/40/75000/0",
          "Male/40/75000/0",
          "Female/42/75000/0",
          "Male/19/76000/0",
          "Male/31/76000/0",
          "Female/35/77000/0",
          "Male/37/77000/0",
          "Male/39/77000/0",
          "Male/40/78000/0",
          "Male/25/79000/0",
          "Male/28/79000/0",
          "Female/30/79000/0",
          "Male/35/79000/0",
          "Female/39/79000/0",
          "Male/41/79000/0",
          "Female/42/79000/0",
          "Male/45/79000/0",
          "Male/25/80000/0",
          "Female/26/80000/0",
          "Male/26/80000/0",
          "Male/29/80000/0",
          "Male/30/80000/0",
          "Female/37/80000/0",
          "Female/38/80000/0",
          "Female/41/80000/0",
          "Male/42/80000/0",
          "Male/22/81000/0",
          "Male/26/81000/0",
          "Male/18/82000/0",
          "Female/20/82000/0",
          "Female/23/82000/0",
          "Female/46/82000/0",
          "Female/29/83000/0",
          "Female/59/83000/0",
          "Male/24/84000/0",
          "Female/26/84000/0",
          "Female/27/84000/0",
          "Female/28/84000/0",
          "Male/19/85000/0",
          "Female/28/85000/0",
          "Female/18/86000/0",
          "Male/20/86000/0",
          "Male/26/86000/0",
          "Female/32/86000/0",
          "Male/25/87000/0",
          "Female/28/87000/0",
          "Male/30/87000/0",
          "Male/21/88000/0",
          "Male/27/88000/0",
          "Male/35/88000/0",
          "Female/24/89000/0",
          "Male/27/89000/0",
          "Male/28/89000/0",
          "Male/30/89000/0",
          "Female/31/89000/0",
          "Male/25/90000/0",
          "Male/27/90000/0",
          "Female/46/96000/0",
          "Male/35/108000/0",
          "Female/38/112000/0",
          "Female/33/113000/0",
          "Female/52/114000/0",
          "Male/34/115000/0",
          "Female/30/116000/0",
          "Female/32/117000/0",
          "Female/26/118000/0",
          "Female/43/133000/0",
          "Female/51/134000/0",
          "Male/48/141000/0",
          "Female/26/15000",
          "Male/26/15000",
          "Male/30/15000",
          "Female/31/15000",
          "Female/21/16000",
          "Male/26/16000",
          "Female/26/17000",
          "Female/27/17000",
          "Male/30/17000",
          "Male/22/18000",
          "Male/31/18000",
          "Male/32/18000",
          "Male/19/19000",
          "Male/24/19000",
          "Male/23/20000",
          "Male/27/20000",
          "Male/35/20000",
          "Female/19/21000",
          "Male/25/22000",
          "Male/35/22000",
          "Female/46/22000",
          "Female/20/23000",
          "Male/24/23000",
          "Female/35/23000",
          "Male/19/25000",
          "Female/34/25000",
          "Female/35/25000",
          "Female/19/26000",
          "Female/22/27000",
          "Female/24/27000",
          "Male/35/27000",
          "Female/23/28000",
          "Female/29/28000",
          "Female/33/28000",
          "Male/26/30000",
          "Female/41/30000",
          "Female/27/31000",
          "Male/33/31000",
          "Female/24/32000",
          "Male/26/32000",
          "Male/28/32000",
          "Male/25/33000",
          "Male/36/33000",
          "Female/37/33000",
          "Female/31/34000",
          "Female/26/35000",
          "Female/20/36000",
          "Female/28/37000",
          "Male/35/38000",
          "Male/35/39000",
          "Female/44/39000",
          "Female/33/41000",
          "Male/39/42000",
          "Female/59/42000",
          "Female/26/43000",
          "Male/29/43000",
          "Male/33/43000",
          "Female/34/43000",
          "Male/34/43000",
          "Male/47/43000",
          "Female/18/44000",
          "Female/28/44000",
          "Female/35/44000",
          "Female/50/44000",
          "Male/41/45000",
          "Female/29/47000",
          "Female/35/47000",
          "Male/40/47000",
          "Female/47/47000",
          "Female/23/48000",
          "Male/20/49000",
          "Male/30/49000",
          "Female/35/50000",
          "Male/35/50000",
          "Female/36/50000",
          "Female/38/50000",
          "Female/33/51000",
          "Male/38/51000",
          "Female/41/51000",
          "Male/18/52000",
          "Female/26/52000",
          "Male/36/52000",
          "Male/37/52000",
          "Male/41/52000",
          "Male/35/53000",
          "Male/37/53000",
          "Female/42/53000",
          "Female/27/54000",
          "Female/36/54000",
          "Male/42/54000",
          "Female/22/55000",
          "Female/24/55000",
          "Male/24/55000",
          "Female/28/55000",
          "Male/35/55000",
          "Male/37/55000",
          "Female/38/55000",
          "Female/27/57000",
          "Female/35/57000",
          "Female/37/57000",
          "Male/40/57000",
          "Male/24/58000",
          "Female/27/58000",
          "Male/27/58000",
          "Male/31/58000",
          "Male/35/58000",
          "Female/28/59000",
          "Male/28/59000",
          "Male/35/59000",
          "Male/38/59000",
          "Female/39/59000",
          "Male/40/59000",
          "Male/41/59000",
          "Male/46/59000",
          "Female/33/60000",
          "Female/35/60000",
          "Male/36/60000",
          "Female/40/60000",
          "Female/41/60000",
          "Male/29/61000",
          "Male/35/61000",
          "Male/38/61000",
          "Female/39/61000",
          "Male/40/61000",
          "Female/30/62000",
          "Female/37/62000",
          "Female/22/63000",
          "Male/23/63000",
          "Female/36/63000",
          "Female/41/63000",
          "Male/42/64000",
          "Female/35/65000",
          "Female/38/65000",
          "Male/40/65000",
          "Male/42/65000",
          "Male/49/65000",
          "Female/23/66000",
          "Male/31/66000",
          "Female/18/68000",
          "Female/21/68000",
          "Female/31/68000",
          "Female/33/69000",
          "Male/19/70000",
          "Female/42/70000",
          "Female/31/71000",
          "Female/35/71000",
          "Female/37/71000",
          "Male/38/71000",
          "Female/39/71000",
          "Male/39/71000",
          "Female/41/71000",
          "Male/21/72000",
          "Female/26/72000",
          "Female/34/72000",
          "Female/35/72000",
          "Male/35/72000",
          "Male/37/72000",
          "Female/40/72000",
          "Female/41/72000",
          "Male/41/72000",
          "Male/35/73000",
          "Female/39/73000",
          "Male/20/74000",
          "Male/31/74000",
          "Male/37/74000",
          "Female/46/74000",
          "Male/49/74000",
          "Male/29/75000",
          "Male/35/75000",
          "Female/36/75000",
          "Male/37/75000",
          "Female/40/75000",
          "Male/40/75000",
          "Female/42/75000",
          "Male/19/76000",
          "Male/31/76000",
          "Female/35/77000",
          "Male/37/77000",
          "Male/39/77000",
          "Male/40/78000",
          "Male/25/79000",
          "Male/28/79000",
          "Female/30/79000",
          "Male/35/79000",
          "Female/39/79000",
          "Male/41/79000",
          "Female/42/79000",
          "Male/45/79000",
          "Male/25/80000",
          "Female/26/80000",
          "Male/26/80000",
          "Male/29/80000",
          "Male/30/80000",
          "Female/37/80000",
          "Female/38/80000",
          "Female/41/80000",
          "Male/42/80000",
          "Male/22/81000",
          "Male/26/81000",
          "Male/18/82000",
          "Female/20/82000",
          "Female/23/82000",
          "Female/46/82000",
          "Female/29/83000",
          "Female/59/83000",
          "Male/24/84000",
          "Female/26/84000",
          "Female/27/84000",
          "Female/28/84000",
          "Male/19/85000",
          "Female/28/85000",
          "Female/18/86000",
          "Male/20/86000",
          "Male/26/86000",
          "Female/32/86000",
          "Male/25/87000",
          "Female/28/87000",
          "Male/30/87000",
          "Male/21/88000",
          "Male/27/88000",
          "Male/35/88000",
          "Female/24/89000",
          "Male/27/89000",
          "Male/28/89000",
          "Male/30/89000",
          "Female/31/89000",
          "Male/25/90000",
          "Male/27/90000",
          "Female/46/96000",
          "Male/35/108000",
          "Female/38/112000",
          "Female/33/113000",
          "Female/52/114000",
          "Male/34/115000",
          "Female/30/116000",
          "Female/32/117000",
          "Female/26/118000",
          "Female/43/133000",
          "Female/51/134000",
          "Male/48/141000",
          "Female/18",
          "Male/18",
          "Female/19",
          "Male/19",
          "Female/20",
          "Male/20",
          "Female/21",
          "Male/21",
          "Female/22",
          "Male/22",
          "Female/23",
          "Male/23",
          "Female/24",
          "Male/24",
          "Male/25",
          "Female/26",
          "Male/26",
          "Female/27",
          "Male/27",
          "Female/28",
          "Male/28",
          "Female/29",
          "Male/29",
          "Female/30",
          "Male/30",
          "Female/31",
          "Male/31",
          "Female/32",
          "Male/32",
          "Female/33",
          "Male/33",
          "Female/34",
          "Male/34",
          "Female/35",
          "Male/35",
          "Female/36",
          "Male/36",
          "Female/37",
          "Male/37",
          "Female/38",
          "Male/38",
          "Female/39",
          "Male/39",
          "Female/40",
          "Male/40",
          "Female/41",
          "Male/41",
          "Female/42",
          "Male/42",
          "Female/43",
          "Female/44",
          "Male/45",
          "Female/46",
          "Male/46",
          "Female/47",
          "Male/47",
          "Male/48",
          "Male/49",
          "Female/50",
          "Female/51",
          "Female/52",
          "Female/59",
          "Female",
          "Male"
         ],
         "labels": [
          "Low",
          "Low",
          "Low",
          "Low",
          "Low",
          "Low",
          "Low",
          "Low",
          "Low",
          "Low",
          "Low",
          "Low",
          "Low",
          "Low",
          "Low",
          "Low",
          "Low",
          "Low",
          "Low",
          "Low",
          "Low",
          "Low",
          "Low",
          "Low",
          "Low",
          "Low",
          "Low",
          "Low",
          "Low",
          "Low",
          "Low",
          "Low",
          "Low",
          "Low",
          "Low",
          "Low",
          "Low",
          "Medium",
          "Medium",
          "Medium",
          "Medium",
          "Medium",
          "Medium",
          "Medium",
          "Medium",
          "Medium",
          "Medium",
          "Medium",
          "Medium",
          "Medium",
          "Medium",
          "Medium",
          "Medium",
          "Medium",
          "Medium",
          "Medium",
          "Medium",
          "Medium",
          "Medium",
          "Medium",
          "Medium",
          "Medium",
          "Medium",
          "Medium",
          "Medium",
          "Medium",
          "Medium",
          "Medium",
          "Medium",
          "Medium",
          "Medium",
          "Medium",
          "Medium",
          "Medium",
          "Medium",
          "Medium",
          "Medium",
          "Medium",
          "Medium",
          "Medium",
          "Medium",
          "Medium",
          "Medium",
          "Medium",
          "Medium",
          "Medium",
          "Medium",
          "Medium",
          "Medium",
          "Medium",
          "Medium",
          "Medium",
          "Medium",
          "Medium",
          "Medium",
          "Medium",
          "Medium",
          "Medium",
          "Medium",
          "Medium",
          "Medium",
          "Medium",
          "Medium",
          "Medium",
          "Medium",
          "Medium",
          "Medium",
          "Medium",
          "Medium",
          "Medium",
          "Medium",
          "Medium",
          "Medium",
          "Medium",
          "Medium",
          "Moderately Low",
          "Moderately Low",
          "Moderately Low",
          "Moderately Low",
          "Moderately Low",
          "Moderately Low",
          "Moderately Low",
          "Moderately Low",
          "Moderately Low",
          "Moderately Low",
          "Moderately Low",
          "Moderately Low",
          "Moderately Low",
          "Moderately Low",
          "Moderately Low",
          "Moderately Low",
          "Moderately Low",
          "Moderately Low",
          "Moderately Low",
          "Moderately Low",
          "Moderately Low",
          "Moderately Low",
          "Moderately Low",
          "Moderately Low",
          "Moderately Low",
          "Moderately Low",
          "Moderately Low",
          "Moderately Low",
          "Moderately Low",
          "Moderately Low",
          "Moderately Low",
          "Moderately Low",
          "Moderately Low",
          "Moderately Low",
          "Moderately Low",
          "Moderately Low",
          "Moderately Low",
          "Moderately Low",
          "Moderately Low",
          "Moderately Low",
          "Moderately Low",
          "Moderately Low",
          "Moderately Low",
          "Moderately Low",
          "Moderately Low",
          "Moderately Low",
          "Moderately Low",
          "Moderately Low",
          "Moderately Low",
          "Moderately Low",
          "Moderately Low",
          "Moderately Low",
          "Moderately Low",
          "Moderately Low",
          "Moderately Low",
          "Moderately Low",
          "Moderately Low",
          "Moderately Low",
          "Moderately Low",
          "Moderately Low",
          "Moderately Low",
          "Moderately Low",
          "Moderately Low",
          "Moderately Low",
          "Moderately Low",
          "Moderately Low",
          "Moderately Low",
          "Moderately Low",
          "Moderately high",
          "Moderately high",
          "Moderately high",
          "Moderately high",
          "Moderately high",
          "Moderately high",
          "Moderately high",
          "Moderately high",
          "Moderately high",
          "Moderately high",
          "Moderately high",
          "Moderately high",
          "Moderately high",
          "Moderately high",
          "Moderately high",
          "Moderately high",
          "Moderately high",
          "Moderately high",
          "Moderately high",
          "Moderately high",
          "Moderately high",
          "Moderately high",
          "Moderately high",
          "Moderately high",
          "Moderately high",
          "Moderately high",
          "Moderately high",
          "Moderately high",
          "Moderately high",
          "Moderately high",
          "Moderately high",
          "Moderately high",
          "Very High",
          "Very High",
          "Very High",
          "Very High",
          "Very High",
          "Very High",
          "Very High",
          "Very High",
          "Very High",
          "Very High",
          "Very High",
          "Very Low",
          "Very Low",
          "Very Low",
          "Very Low",
          "Very Low",
          "Very Low",
          "Very Low",
          "Very Low",
          "Very Low",
          "Very Low",
          "Very Low",
          "Very Low",
          "Very Low",
          "Very Low",
          "A",
          "A",
          "A",
          "A",
          "A",
          "A",
          "A",
          "A",
          "A",
          "A",
          "A",
          "A",
          "A",
          "A",
          "A",
          "A",
          "A",
          "A",
          "B",
          "B",
          "B",
          "B",
          "B",
          "B",
          "B",
          "B",
          "B",
          "B",
          "B",
          "B",
          "B",
          "B",
          "B",
          "B",
          "B",
          "B",
          "B",
          "B",
          "B",
          "B",
          "B",
          "B",
          "B",
          "B",
          "B",
          "B",
          "B",
          "B",
          "B",
          "B",
          "B",
          "B",
          "B",
          "B",
          "B",
          "B",
          "B",
          "B",
          "B",
          "B",
          "B",
          "B",
          "B",
          "B",
          "C",
          "C",
          "C",
          "C",
          "C",
          "C",
          "C",
          "C",
          "C",
          "C",
          "C",
          "C",
          "C",
          "C",
          "C",
          "C",
          "C",
          "C",
          "C",
          "C",
          "C",
          "C",
          "C",
          "C",
          "C",
          "C",
          "C",
          "C",
          "C",
          "C",
          "C",
          "C",
          "C",
          "C",
          "C",
          "C",
          "C",
          "C",
          "D",
          "D",
          "D",
          "D",
          "D",
          "D",
          "D",
          "D",
          "D",
          "D",
          "D",
          "D",
          "D",
          "D",
          "D",
          "D",
          "D",
          "D",
          "D",
          "D",
          "D",
          "D",
          "D",
          "D",
          "D",
          "D",
          "D",
          "D",
          "D",
          "D",
          "D",
          "D",
          "D",
          "D",
          "D",
          "D",
          "D",
          "D",
          "D",
          "D",
          "D",
          "D",
          "D",
          "D",
          "D",
          "D",
          "D",
          "D",
          "D",
          "D",
          "D",
          "D",
          "D",
          "D",
          "D",
          "D",
          "D",
          "D",
          "D",
          "D",
          "D",
          "D",
          "D",
          "D",
          "D",
          "D",
          "D",
          "D",
          "D",
          "D",
          "D",
          "D",
          "D",
          "D",
          "D",
          "D",
          "D",
          "D",
          "D",
          "D",
          "D",
          "D",
          "D",
          "D",
          "D",
          "D",
          "D",
          "D",
          "D",
          "D",
          "D",
          "D",
          "D",
          "D",
          "D",
          "D",
          "D",
          "D",
          "D",
          "D",
          "E",
          "E",
          "E",
          "E",
          "E",
          "E",
          "E",
          "E",
          "E",
          "E",
          "E",
          "E",
          "E",
          "E",
          "E",
          "E",
          "E",
          "E",
          "E",
          "E",
          "E",
          "E",
          "E",
          "E",
          "E",
          "E",
          "E",
          "E",
          "E",
          "E",
          "E",
          "E",
          "E",
          "E",
          "F",
          "F",
          "F",
          "F",
          "0",
          "0",
          "0",
          "0",
          "0",
          "0",
          "0",
          "0",
          "0",
          "0",
          "0",
          "0",
          "0",
          "0",
          "0",
          "0",
          "0",
          "0",
          "0",
          "0",
          "0",
          "0",
          "0",
          "0",
          "0",
          "0",
          "0",
          "0",
          "0",
          "0",
          "0",
          "0",
          "0",
          "0",
          "0",
          "0",
          "0",
          "0",
          "0",
          "0",
          "0",
          "0",
          "0",
          "0",
          "0",
          "0",
          "0",
          "0",
          "0",
          "0",
          "0",
          "0",
          "0",
          "0",
          "0",
          "0",
          "0",
          "0",
          "0",
          "0",
          "0",
          "0",
          "0",
          "0",
          "0",
          "0",
          "0",
          "0",
          "0",
          "0",
          "0",
          "0",
          "0",
          "0",
          "0",
          "0",
          "0",
          "0",
          "0",
          "0",
          "0",
          "0",
          "0",
          "0",
          "0",
          "0",
          "0",
          "0",
          "0",
          "0",
          "0",
          "0",
          "0",
          "0",
          "0",
          "0",
          "0",
          "0",
          "0",
          "0",
          "0",
          "0",
          "0",
          "0",
          "0",
          "0",
          "0",
          "0",
          "0",
          "0",
          "0",
          "0",
          "0",
          "0",
          "0",
          "0",
          "0",
          "0",
          "0",
          "0",
          "0",
          "0",
          "0",
          "0",
          "0",
          "0",
          "0",
          "0",
          "0",
          "0",
          "0",
          "0",
          "0",
          "0",
          "0",
          "0",
          "0",
          "0",
          "0",
          "0",
          "0",
          "0",
          "0",
          "0",
          "0",
          "0",
          "0",
          "0",
          "0",
          "0",
          "0",
          "0",
          "0",
          "0",
          "0",
          "0",
          "0",
          "0",
          "0",
          "0",
          "0",
          "0",
          "0",
          "0",
          "0",
          "0",
          "0",
          "0",
          "0",
          "0",
          "0",
          "0",
          "0",
          "0",
          "0",
          "0",
          "0",
          "0",
          "0",
          "0",
          "0",
          "0",
          "0",
          "0",
          "0",
          "0",
          "0",
          "0",
          "0",
          "0",
          "0",
          "0",
          "0",
          "0",
          "0",
          "0",
          "0",
          "0",
          "0",
          "0",
          "0",
          "0",
          "0",
          "0",
          "0",
          "0",
          "0",
          "0",
          "0",
          "0",
          "0",
          "0",
          "0",
          "0",
          "0",
          "0",
          "0",
          "0",
          "0",
          "0",
          "0",
          "0",
          "0",
          "0",
          "0",
          "0",
          "0",
          "0",
          "0",
          "0",
          "0",
          "0",
          "0",
          "0",
          "0",
          "0",
          "0",
          "0",
          "0",
          "0",
          "15000",
          "15000",
          "15000",
          "15000",
          "16000",
          "16000",
          "17000",
          "17000",
          "17000",
          "18000",
          "18000",
          "18000",
          "19000",
          "19000",
          "20000",
          "20000",
          "20000",
          "21000",
          "22000",
          "22000",
          "22000",
          "23000",
          "23000",
          "23000",
          "25000",
          "25000",
          "25000",
          "26000",
          "27000",
          "27000",
          "27000",
          "28000",
          "28000",
          "28000",
          "30000",
          "30000",
          "31000",
          "31000",
          "32000",
          "32000",
          "32000",
          "33000",
          "33000",
          "33000",
          "34000",
          "35000",
          "36000",
          "37000",
          "38000",
          "39000",
          "39000",
          "41000",
          "42000",
          "42000",
          "43000",
          "43000",
          "43000",
          "43000",
          "43000",
          "43000",
          "44000",
          "44000",
          "44000",
          "44000",
          "45000",
          "47000",
          "47000",
          "47000",
          "47000",
          "48000",
          "49000",
          "49000",
          "50000",
          "50000",
          "50000",
          "50000",
          "51000",
          "51000",
          "51000",
          "52000",
          "52000",
          "52000",
          "52000",
          "52000",
          "53000",
          "53000",
          "53000",
          "54000",
          "54000",
          "54000",
          "55000",
          "55000",
          "55000",
          "55000",
          "55000",
          "55000",
          "55000",
          "57000",
          "57000",
          "57000",
          "57000",
          "58000",
          "58000",
          "58000",
          "58000",
          "58000",
          "59000",
          "59000",
          "59000",
          "59000",
          "59000",
          "59000",
          "59000",
          "59000",
          "60000",
          "60000",
          "60000",
          "60000",
          "60000",
          "61000",
          "61000",
          "61000",
          "61000",
          "61000",
          "62000",
          "62000",
          "63000",
          "63000",
          "63000",
          "63000",
          "64000",
          "65000",
          "65000",
          "65000",
          "65000",
          "65000",
          "66000",
          "66000",
          "68000",
          "68000",
          "68000",
          "69000",
          "70000",
          "70000",
          "71000",
          "71000",
          "71000",
          "71000",
          "71000",
          "71000",
          "71000",
          "72000",
          "72000",
          "72000",
          "72000",
          "72000",
          "72000",
          "72000",
          "72000",
          "72000",
          "73000",
          "73000",
          "74000",
          "74000",
          "74000",
          "74000",
          "74000",
          "75000",
          "75000",
          "75000",
          "75000",
          "75000",
          "75000",
          "75000",
          "76000",
          "76000",
          "77000",
          "77000",
          "77000",
          "78000",
          "79000",
          "79000",
          "79000",
          "79000",
          "79000",
          "79000",
          "79000",
          "79000",
          "80000",
          "80000",
          "80000",
          "80000",
          "80000",
          "80000",
          "80000",
          "80000",
          "80000",
          "81000",
          "81000",
          "82000",
          "82000",
          "82000",
          "82000",
          "83000",
          "83000",
          "84000",
          "84000",
          "84000",
          "84000",
          "85000",
          "85000",
          "86000",
          "86000",
          "86000",
          "86000",
          "87000",
          "87000",
          "87000",
          "88000",
          "88000",
          "88000",
          "89000",
          "89000",
          "89000",
          "89000",
          "89000",
          "90000",
          "90000",
          "96000",
          "108000",
          "112000",
          "113000",
          "114000",
          "115000",
          "116000",
          "117000",
          "118000",
          "133000",
          "134000",
          "141000",
          "18",
          "18",
          "19",
          "19",
          "20",
          "20",
          "21",
          "21",
          "22",
          "22",
          "23",
          "23",
          "24",
          "24",
          "25",
          "26",
          "26",
          "27",
          "27",
          "28",
          "28",
          "29",
          "29",
          "30",
          "30",
          "31",
          "31",
          "32",
          "32",
          "33",
          "33",
          "34",
          "34",
          "35",
          "35",
          "36",
          "36",
          "37",
          "37",
          "38",
          "38",
          "39",
          "39",
          "40",
          "40",
          "41",
          "41",
          "42",
          "42",
          "43",
          "44",
          "45",
          "46",
          "46",
          "47",
          "47",
          "48",
          "49",
          "50",
          "51",
          "52",
          "59",
          "Female",
          "Male"
         ],
         "name": "",
         "parents": [
          "Female/19/21000/0/A",
          "Female/20/23000/0/A",
          "Male/19/25000/0/A",
          "Female/19/26000/0/A",
          "Female/20/36000/0/A",
          "Male/23/20000/0/B",
          "Male/25/22000/0/B",
          "Male/24/23000/0/B",
          "Female/22/27000/0/B",
          "Female/24/27000/0/B",
          "Female/23/28000/0/B",
          "Male/26/30000/0/B",
          "Female/24/32000/0/B",
          "Male/26/32000/0/B",
          "Male/25/33000/0/B",
          "Female/26/35000/0/B",
          "Male/27/20000/0/C",
          "Female/29/28000/0/C",
          "Female/27/31000/0/C",
          "Male/28/32000/0/C",
          "Female/28/37000/0/C",
          "Male/35/20000/0/D",
          "Male/35/22000/0/D",
          "Female/35/23000/0/D",
          "Female/34/25000/0/D",
          "Female/35/25000/0/D",
          "Male/35/27000/0/D",
          "Female/33/28000/0/D",
          "Male/33/31000/0/D",
          "Male/36/33000/0/D",
          "Female/37/33000/0/D",
          "Female/31/34000/0/D",
          "Male/35/38000/0/D",
          "Male/35/39000/0/D",
          "Female/46/22000/0/E",
          "Female/41/30000/0/E",
          "Female/44/39000/0/E",
          "Female/18/68000/0/A",
          "Male/19/70000/0/A",
          "Male/20/74000/0/A",
          "Male/19/76000/0/A",
          "Female/22/63000/0/B",
          "Male/23/63000/0/B",
          "Female/23/66000/0/B",
          "Female/21/68000/0/B",
          "Male/21/72000/0/B",
          "Female/26/72000/0/B",
          "Male/25/79000/0/B",
          "Male/25/80000/0/B",
          "Female/26/80000/0/B",
          "Male/26/80000/0/B",
          "Male/29/61000/0/C",
          "Female/30/62000/0/C",
          "Male/29/75000/0/C",
          "Male/28/79000/0/C",
          "Female/30/79000/0/C",
          "Male/29/80000/0/C",
          "Male/30/80000/0/C",
          "Male/35/61000/0/D",
          "Male/38/61000/0/D",
          "Female/39/61000/0/D",
          "Male/40/61000/0/D",
          "Female/37/62000/0/D",
          "Female/36/63000/0/D",
          "Female/35/65000/0/D",
          "Female/38/65000/0/D",
          "Male/40/65000/0/D",
          "Male/31/66000/0/D",
          "Female/31/68000/0/D",
          "Female/33/69000/0/D",
          "Female/31/71000/0/D",
          "Female/35/71000/0/D",
          "Female/37/71000/0/D",
          "Male/38/71000/0/D",
          "Female/39/71000/0/D",
          "Male/39/71000/0/D",
          "Female/34/72000/0/D",
          "Female/35/72000/0/D",
          "Male/35/72000/0/D",
          "Male/37/72000/0/D",
          "Female/40/72000/0/D",
          "Male/35/73000/0/D",
          "Female/39/73000/0/D",
          "Male/31/74000/0/D",
          "Male/37/74000/0/D",
          "Male/35/75000/0/D",
          "Female/36/75000/0/D",
          "Male/37/75000/0/D",
          "Female/40/75000/0/D",
          "Male/40/75000/0/D",
          "Male/31/76000/0/D",
          "Female/35/77000/0/D",
          "Male/37/77000/0/D",
          "Male/39/77000/0/D",
          "Male/40/78000/0/D",
          "Male/35/79000/0/D",
          "Female/39/79000/0/D",
          "Female/37/80000/0/D",
          "Female/38/80000/0/D",
          "Female/41/63000/0/E",
          "Male/42/64000/0/E",
          "Male/42/65000/0/E",
          "Male/49/65000/0/E",
          "Female/42/70000/0/E",
          "Female/41/71000/0/E",
          "Female/41/72000/0/E",
          "Male/41/72000/0/E",
          "Female/46/74000/0/E",
          "Male/49/74000/0/E",
          "Female/42/75000/0/E",
          "Male/41/79000/0/E",
          "Female/42/79000/0/E",
          "Male/45/79000/0/E",
          "Female/41/80000/0/E",
          "Male/42/80000/0/E",
          "Female/18/44000/0/A",
          "Male/20/49000/0/A",
          "Male/18/52000/0/A",
          "Female/26/43000/0/B",
          "Female/23/48000/0/B",
          "Female/26/52000/0/B",
          "Female/22/55000/0/B",
          "Female/24/55000/0/B",
          "Male/24/55000/0/B",
          "Male/24/58000/0/B",
          "Male/29/43000/0/C",
          "Female/28/44000/0/C",
          "Female/29/47000/0/C",
          "Male/30/49000/0/C",
          "Female/27/54000/0/C",
          "Female/28/55000/0/C",
          "Female/27/57000/0/C",
          "Female/27/58000/0/C",
          "Male/27/58000/0/C",
          "Female/28/59000/0/C",
          "Male/28/59000/0/C",
          "Female/33/41000/0/D",
          "Male/39/42000/0/D",
          "Male/33/43000/0/D",
          "Female/34/43000/0/D",
          "Male/34/43000/0/D",
          "Female/35/44000/0/D",
          "Female/35/47000/0/D",
          "Male/40/47000/0/D",
          "Female/35/50000/0/D",
          "Male/35/50000/0/D",
          "Female/36/50000/0/D",
          "Female/38/50000/0/D",
          "Female/33/51000/0/D",
          "Male/38/51000/0/D",
          "Male/36/52000/0/D",
          "Male/37/52000/0/D",
          "Male/35/53000/0/D",
          "Male/37/53000/0/D",
          "Female/36/54000/0/D",
          "Male/35/55000/0/D",
          "Male/37/55000/0/D",
          "Female/38/55000/0/D",
          "Female/35/57000/0/D",
          "Female/37/57000/0/D",
          "Male/40/57000/0/D",
          "Male/31/58000/0/D",
          "Male/35/58000/0/D",
          "Male/35/59000/0/D",
          "Male/38/59000/0/D",
          "Female/39/59000/0/D",
          "Male/40/59000/0/D",
          "Female/33/60000/0/D",
          "Female/35/60000/0/D",
          "Male/36/60000/0/D",
          "Female/40/60000/0/D",
          "Male/47/43000/0/E",
          "Female/50/44000/0/E",
          "Male/41/45000/0/E",
          "Female/47/47000/0/E",
          "Female/41/51000/0/E",
          "Male/41/52000/0/E",
          "Female/42/53000/0/E",
          "Male/42/54000/0/E",
          "Male/41/59000/0/E",
          "Male/46/59000/0/E",
          "Female/41/60000/0/E",
          "Female/59/42000/0/F",
          "Male/18/82000/0/A",
          "Female/20/82000/0/A",
          "Male/19/85000/0/A",
          "Female/18/86000/0/A",
          "Male/20/86000/0/A",
          "Male/22/81000/0/B",
          "Male/26/81000/0/B",
          "Female/23/82000/0/B",
          "Male/24/84000/0/B",
          "Female/26/84000/0/B",
          "Male/26/86000/0/B",
          "Male/25/87000/0/B",
          "Male/21/88000/0/B",
          "Female/24/89000/0/B",
          "Male/25/90000/0/B",
          "Female/29/83000/0/C",
          "Female/27/84000/0/C",
          "Female/28/84000/0/C",
          "Female/28/85000/0/C",
          "Female/28/87000/0/C",
          "Male/30/87000/0/C",
          "Male/27/88000/0/C",
          "Male/27/89000/0/C",
          "Male/28/89000/0/C",
          "Male/30/89000/0/C",
          "Male/27/90000/0/C",
          "Female/32/86000/0/D",
          "Male/35/88000/0/D",
          "Female/31/89000/0/D",
          "Female/46/82000/0/E",
          "Female/46/96000/0/E",
          "Female/59/83000/0/F",
          "Female/26/118000/0/B",
          "Female/30/116000/0/C",
          "Male/35/108000/0/D",
          "Female/38/112000/0/D",
          "Female/33/113000/0/D",
          "Male/34/115000/0/D",
          "Female/32/117000/0/D",
          "Female/43/133000/0/E",
          "Male/48/141000/0/E",
          "Female/52/114000/0/F",
          "Female/51/134000/0/F",
          "Male/19/19000/0/A",
          "Female/26/15000/0/B",
          "Male/26/15000/0/B",
          "Female/21/16000/0/B",
          "Male/26/16000/0/B",
          "Female/26/17000/0/B",
          "Male/22/18000/0/B",
          "Male/24/19000/0/B",
          "Male/30/15000/0/C",
          "Female/27/17000/0/C",
          "Male/30/17000/0/C",
          "Female/31/15000/0/D",
          "Male/31/18000/0/D",
          "Male/32/18000/0/D",
          "Male/19/19000/0",
          "Female/19/21000/0",
          "Female/20/23000/0",
          "Male/19/25000/0",
          "Female/19/26000/0",
          "Female/20/36000/0",
          "Female/18/44000/0",
          "Male/20/49000/0",
          "Male/18/52000/0",
          "Female/18/68000/0",
          "Male/19/70000/0",
          "Male/20/74000/0",
          "Male/19/76000/0",
          "Male/18/82000/0",
          "Female/20/82000/0",
          "Male/19/85000/0",
          "Female/18/86000/0",
          "Male/20/86000/0",
          "Female/26/15000/0",
          "Male/26/15000/0",
          "Female/21/16000/0",
          "Male/26/16000/0",
          "Female/26/17000/0",
          "Male/22/18000/0",
          "Male/24/19000/0",
          "Male/23/20000/0",
          "Male/25/22000/0",
          "Male/24/23000/0",
          "Female/22/27000/0",
          "Female/24/27000/0",
          "Female/23/28000/0",
          "Male/26/30000/0",
          "Female/24/32000/0",
          "Male/26/32000/0",
          "Male/25/33000/0",
          "Female/26/35000/0",
          "Female/26/43000/0",
          "Female/23/48000/0",
          "Female/26/52000/0",
          "Female/22/55000/0",
          "Female/24/55000/0",
          "Male/24/55000/0",
          "Male/24/58000/0",
          "Female/22/63000/0",
          "Male/23/63000/0",
          "Female/23/66000/0",
          "Female/21/68000/0",
          "Male/21/72000/0",
          "Female/26/72000/0",
          "Male/25/79000/0",
          "Male/25/80000/0",
          "Female/26/80000/0",
          "Male/26/80000/0",
          "Male/22/81000/0",
          "Male/26/81000/0",
          "Female/23/82000/0",
          "Male/24/84000/0",
          "Female/26/84000/0",
          "Male/26/86000/0",
          "Male/25/87000/0",
          "Male/21/88000/0",
          "Female/24/89000/0",
          "Male/25/90000/0",
          "Female/26/118000/0",
          "Male/30/15000/0",
          "Female/27/17000/0",
          "Male/30/17000/0",
          "Male/27/20000/0",
          "Female/29/28000/0",
          "Female/27/31000/0",
          "Male/28/32000/0",
          "Female/28/37000/0",
          "Male/29/43000/0",
          "Female/28/44000/0",
          "Female/29/47000/0",
          "Male/30/49000/0",
          "Female/27/54000/0",
          "Female/28/55000/0",
          "Female/27/57000/0",
          "Female/27/58000/0",
          "Male/27/58000/0",
          "Female/28/59000/0",
          "Male/28/59000/0",
          "Male/29/61000/0",
          "Female/30/62000/0",
          "Male/29/75000/0",
          "Male/28/79000/0",
          "Female/30/79000/0",
          "Male/29/80000/0",
          "Male/30/80000/0",
          "Female/29/83000/0",
          "Female/27/84000/0",
          "Female/28/84000/0",
          "Female/28/85000/0",
          "Female/28/87000/0",
          "Male/30/87000/0",
          "Male/27/88000/0",
          "Male/27/89000/0",
          "Male/28/89000/0",
          "Male/30/89000/0",
          "Male/27/90000/0",
          "Female/30/116000/0",
          "Female/31/15000/0",
          "Male/31/18000/0",
          "Male/32/18000/0",
          "Male/35/20000/0",
          "Male/35/22000/0",
          "Female/35/23000/0",
          "Female/34/25000/0",
          "Female/35/25000/0",
          "Male/35/27000/0",
          "Female/33/28000/0",
          "Male/33/31000/0",
          "Male/36/33000/0",
          "Female/37/33000/0",
          "Female/31/34000/0",
          "Male/35/38000/0",
          "Male/35/39000/0",
          "Female/33/41000/0",
          "Male/39/42000/0",
          "Male/33/43000/0",
          "Female/34/43000/0",
          "Male/34/43000/0",
          "Female/35/44000/0",
          "Female/35/47000/0",
          "Male/40/47000/0",
          "Female/35/50000/0",
          "Male/35/50000/0",
          "Female/36/50000/0",
          "Female/38/50000/0",
          "Female/33/51000/0",
          "Male/38/51000/0",
          "Male/36/52000/0",
          "Male/37/52000/0",
          "Male/35/53000/0",
          "Male/37/53000/0",
          "Female/36/54000/0",
          "Male/35/55000/0",
          "Male/37/55000/0",
          "Female/38/55000/0",
          "Female/35/57000/0",
          "Female/37/57000/0",
          "Male/40/57000/0",
          "Male/31/58000/0",
          "Male/35/58000/0",
          "Male/35/59000/0",
          "Male/38/59000/0",
          "Female/39/59000/0",
          "Male/40/59000/0",
          "Female/33/60000/0",
          "Female/35/60000/0",
          "Male/36/60000/0",
          "Female/40/60000/0",
          "Male/35/61000/0",
          "Male/38/61000/0",
          "Female/39/61000/0",
          "Male/40/61000/0",
          "Female/37/62000/0",
          "Female/36/63000/0",
          "Female/35/65000/0",
          "Female/38/65000/0",
          "Male/40/65000/0",
          "Male/31/66000/0",
          "Female/31/68000/0",
          "Female/33/69000/0",
          "Female/31/71000/0",
          "Female/35/71000/0",
          "Female/37/71000/0",
          "Male/38/71000/0",
          "Female/39/71000/0",
          "Male/39/71000/0",
          "Female/34/72000/0",
          "Female/35/72000/0",
          "Male/35/72000/0",
          "Male/37/72000/0",
          "Female/40/72000/0",
          "Male/35/73000/0",
          "Female/39/73000/0",
          "Male/31/74000/0",
          "Male/37/74000/0",
          "Male/35/75000/0",
          "Female/36/75000/0",
          "Male/37/75000/0",
          "Female/40/75000/0",
          "Male/40/75000/0",
          "Male/31/76000/0",
          "Female/35/77000/0",
          "Male/37/77000/0",
          "Male/39/77000/0",
          "Male/40/78000/0",
          "Male/35/79000/0",
          "Female/39/79000/0",
          "Female/37/80000/0",
          "Female/38/80000/0",
          "Female/32/86000/0",
          "Male/35/88000/0",
          "Female/31/89000/0",
          "Male/35/108000/0",
          "Female/38/112000/0",
          "Female/33/113000/0",
          "Male/34/115000/0",
          "Female/32/117000/0",
          "Female/46/22000/0",
          "Female/41/30000/0",
          "Female/44/39000/0",
          "Male/47/43000/0",
          "Female/50/44000/0",
          "Male/41/45000/0",
          "Female/47/47000/0",
          "Female/41/51000/0",
          "Male/41/52000/0",
          "Female/42/53000/0",
          "Male/42/54000/0",
          "Male/41/59000/0",
          "Male/46/59000/0",
          "Female/41/60000/0",
          "Female/41/63000/0",
          "Male/42/64000/0",
          "Male/42/65000/0",
          "Male/49/65000/0",
          "Female/42/70000/0",
          "Female/41/71000/0",
          "Female/41/72000/0",
          "Male/41/72000/0",
          "Female/46/74000/0",
          "Male/49/74000/0",
          "Female/42/75000/0",
          "Male/41/79000/0",
          "Female/42/79000/0",
          "Male/45/79000/0",
          "Female/41/80000/0",
          "Male/42/80000/0",
          "Female/46/82000/0",
          "Female/46/96000/0",
          "Female/43/133000/0",
          "Male/48/141000/0",
          "Female/59/42000/0",
          "Female/59/83000/0",
          "Female/52/114000/0",
          "Female/51/134000/0",
          "Female/26/15000",
          "Male/26/15000",
          "Male/30/15000",
          "Female/31/15000",
          "Female/21/16000",
          "Male/26/16000",
          "Female/26/17000",
          "Female/27/17000",
          "Male/30/17000",
          "Male/22/18000",
          "Male/31/18000",
          "Male/32/18000",
          "Male/19/19000",
          "Male/24/19000",
          "Male/23/20000",
          "Male/27/20000",
          "Male/35/20000",
          "Female/19/21000",
          "Male/25/22000",
          "Male/35/22000",
          "Female/46/22000",
          "Female/20/23000",
          "Male/24/23000",
          "Female/35/23000",
          "Male/19/25000",
          "Female/34/25000",
          "Female/35/25000",
          "Female/19/26000",
          "Female/22/27000",
          "Female/24/27000",
          "Male/35/27000",
          "Female/23/28000",
          "Female/29/28000",
          "Female/33/28000",
          "Male/26/30000",
          "Female/41/30000",
          "Female/27/31000",
          "Male/33/31000",
          "Female/24/32000",
          "Male/26/32000",
          "Male/28/32000",
          "Male/25/33000",
          "Male/36/33000",
          "Female/37/33000",
          "Female/31/34000",
          "Female/26/35000",
          "Female/20/36000",
          "Female/28/37000",
          "Male/35/38000",
          "Male/35/39000",
          "Female/44/39000",
          "Female/33/41000",
          "Male/39/42000",
          "Female/59/42000",
          "Female/26/43000",
          "Male/29/43000",
          "Male/33/43000",
          "Female/34/43000",
          "Male/34/43000",
          "Male/47/43000",
          "Female/18/44000",
          "Female/28/44000",
          "Female/35/44000",
          "Female/50/44000",
          "Male/41/45000",
          "Female/29/47000",
          "Female/35/47000",
          "Male/40/47000",
          "Female/47/47000",
          "Female/23/48000",
          "Male/20/49000",
          "Male/30/49000",
          "Female/35/50000",
          "Male/35/50000",
          "Female/36/50000",
          "Female/38/50000",
          "Female/33/51000",
          "Male/38/51000",
          "Female/41/51000",
          "Male/18/52000",
          "Female/26/52000",
          "Male/36/52000",
          "Male/37/52000",
          "Male/41/52000",
          "Male/35/53000",
          "Male/37/53000",
          "Female/42/53000",
          "Female/27/54000",
          "Female/36/54000",
          "Male/42/54000",
          "Female/22/55000",
          "Female/24/55000",
          "Male/24/55000",
          "Female/28/55000",
          "Male/35/55000",
          "Male/37/55000",
          "Female/38/55000",
          "Female/27/57000",
          "Female/35/57000",
          "Female/37/57000",
          "Male/40/57000",
          "Male/24/58000",
          "Female/27/58000",
          "Male/27/58000",
          "Male/31/58000",
          "Male/35/58000",
          "Female/28/59000",
          "Male/28/59000",
          "Male/35/59000",
          "Male/38/59000",
          "Female/39/59000",
          "Male/40/59000",
          "Male/41/59000",
          "Male/46/59000",
          "Female/33/60000",
          "Female/35/60000",
          "Male/36/60000",
          "Female/40/60000",
          "Female/41/60000",
          "Male/29/61000",
          "Male/35/61000",
          "Male/38/61000",
          "Female/39/61000",
          "Male/40/61000",
          "Female/30/62000",
          "Female/37/62000",
          "Female/22/63000",
          "Male/23/63000",
          "Female/36/63000",
          "Female/41/63000",
          "Male/42/64000",
          "Female/35/65000",
          "Female/38/65000",
          "Male/40/65000",
          "Male/42/65000",
          "Male/49/65000",
          "Female/23/66000",
          "Male/31/66000",
          "Female/18/68000",
          "Female/21/68000",
          "Female/31/68000",
          "Female/33/69000",
          "Male/19/70000",
          "Female/42/70000",
          "Female/31/71000",
          "Female/35/71000",
          "Female/37/71000",
          "Male/38/71000",
          "Female/39/71000",
          "Male/39/71000",
          "Female/41/71000",
          "Male/21/72000",
          "Female/26/72000",
          "Female/34/72000",
          "Female/35/72000",
          "Male/35/72000",
          "Male/37/72000",
          "Female/40/72000",
          "Female/41/72000",
          "Male/41/72000",
          "Male/35/73000",
          "Female/39/73000",
          "Male/20/74000",
          "Male/31/74000",
          "Male/37/74000",
          "Female/46/74000",
          "Male/49/74000",
          "Male/29/75000",
          "Male/35/75000",
          "Female/36/75000",
          "Male/37/75000",
          "Female/40/75000",
          "Male/40/75000",
          "Female/42/75000",
          "Male/19/76000",
          "Male/31/76000",
          "Female/35/77000",
          "Male/37/77000",
          "Male/39/77000",
          "Male/40/78000",
          "Male/25/79000",
          "Male/28/79000",
          "Female/30/79000",
          "Male/35/79000",
          "Female/39/79000",
          "Male/41/79000",
          "Female/42/79000",
          "Male/45/79000",
          "Male/25/80000",
          "Female/26/80000",
          "Male/26/80000",
          "Male/29/80000",
          "Male/30/80000",
          "Female/37/80000",
          "Female/38/80000",
          "Female/41/80000",
          "Male/42/80000",
          "Male/22/81000",
          "Male/26/81000",
          "Male/18/82000",
          "Female/20/82000",
          "Female/23/82000",
          "Female/46/82000",
          "Female/29/83000",
          "Female/59/83000",
          "Male/24/84000",
          "Female/26/84000",
          "Female/27/84000",
          "Female/28/84000",
          "Male/19/85000",
          "Female/28/85000",
          "Female/18/86000",
          "Male/20/86000",
          "Male/26/86000",
          "Female/32/86000",
          "Male/25/87000",
          "Female/28/87000",
          "Male/30/87000",
          "Male/21/88000",
          "Male/27/88000",
          "Male/35/88000",
          "Female/24/89000",
          "Male/27/89000",
          "Male/28/89000",
          "Male/30/89000",
          "Female/31/89000",
          "Male/25/90000",
          "Male/27/90000",
          "Female/46/96000",
          "Male/35/108000",
          "Female/38/112000",
          "Female/33/113000",
          "Female/52/114000",
          "Male/34/115000",
          "Female/30/116000",
          "Female/32/117000",
          "Female/26/118000",
          "Female/43/133000",
          "Female/51/134000",
          "Male/48/141000",
          "Female/26",
          "Male/26",
          "Male/30",
          "Female/31",
          "Female/21",
          "Male/26",
          "Female/26",
          "Female/27",
          "Male/30",
          "Male/22",
          "Male/31",
          "Male/32",
          "Male/19",
          "Male/24",
          "Male/23",
          "Male/27",
          "Male/35",
          "Female/19",
          "Male/25",
          "Male/35",
          "Female/46",
          "Female/20",
          "Male/24",
          "Female/35",
          "Male/19",
          "Female/34",
          "Female/35",
          "Female/19",
          "Female/22",
          "Female/24",
          "Male/35",
          "Female/23",
          "Female/29",
          "Female/33",
          "Male/26",
          "Female/41",
          "Female/27",
          "Male/33",
          "Female/24",
          "Male/26",
          "Male/28",
          "Male/25",
          "Male/36",
          "Female/37",
          "Female/31",
          "Female/26",
          "Female/20",
          "Female/28",
          "Male/35",
          "Male/35",
          "Female/44",
          "Female/33",
          "Male/39",
          "Female/59",
          "Female/26",
          "Male/29",
          "Male/33",
          "Female/34",
          "Male/34",
          "Male/47",
          "Female/18",
          "Female/28",
          "Female/35",
          "Female/50",
          "Male/41",
          "Female/29",
          "Female/35",
          "Male/40",
          "Female/47",
          "Female/23",
          "Male/20",
          "Male/30",
          "Female/35",
          "Male/35",
          "Female/36",
          "Female/38",
          "Female/33",
          "Male/38",
          "Female/41",
          "Male/18",
          "Female/26",
          "Male/36",
          "Male/37",
          "Male/41",
          "Male/35",
          "Male/37",
          "Female/42",
          "Female/27",
          "Female/36",
          "Male/42",
          "Female/22",
          "Female/24",
          "Male/24",
          "Female/28",
          "Male/35",
          "Male/37",
          "Female/38",
          "Female/27",
          "Female/35",
          "Female/37",
          "Male/40",
          "Male/24",
          "Female/27",
          "Male/27",
          "Male/31",
          "Male/35",
          "Female/28",
          "Male/28",
          "Male/35",
          "Male/38",
          "Female/39",
          "Male/40",
          "Male/41",
          "Male/46",
          "Female/33",
          "Female/35",
          "Male/36",
          "Female/40",
          "Female/41",
          "Male/29",
          "Male/35",
          "Male/38",
          "Female/39",
          "Male/40",
          "Female/30",
          "Female/37",
          "Female/22",
          "Male/23",
          "Female/36",
          "Female/41",
          "Male/42",
          "Female/35",
          "Female/38",
          "Male/40",
          "Male/42",
          "Male/49",
          "Female/23",
          "Male/31",
          "Female/18",
          "Female/21",
          "Female/31",
          "Female/33",
          "Male/19",
          "Female/42",
          "Female/31",
          "Female/35",
          "Female/37",
          "Male/38",
          "Female/39",
          "Male/39",
          "Female/41",
          "Male/21",
          "Female/26",
          "Female/34",
          "Female/35",
          "Male/35",
          "Male/37",
          "Female/40",
          "Female/41",
          "Male/41",
          "Male/35",
          "Female/39",
          "Male/20",
          "Male/31",
          "Male/37",
          "Female/46",
          "Male/49",
          "Male/29",
          "Male/35",
          "Female/36",
          "Male/37",
          "Female/40",
          "Male/40",
          "Female/42",
          "Male/19",
          "Male/31",
          "Female/35",
          "Male/37",
          "Male/39",
          "Male/40",
          "Male/25",
          "Male/28",
          "Female/30",
          "Male/35",
          "Female/39",
          "Male/41",
          "Female/42",
          "Male/45",
          "Male/25",
          "Female/26",
          "Male/26",
          "Male/29",
          "Male/30",
          "Female/37",
          "Female/38",
          "Female/41",
          "Male/42",
          "Male/22",
          "Male/26",
          "Male/18",
          "Female/20",
          "Female/23",
          "Female/46",
          "Female/29",
          "Female/59",
          "Male/24",
          "Female/26",
          "Female/27",
          "Female/28",
          "Male/19",
          "Female/28",
          "Female/18",
          "Male/20",
          "Male/26",
          "Female/32",
          "Male/25",
          "Female/28",
          "Male/30",
          "Male/21",
          "Male/27",
          "Male/35",
          "Female/24",
          "Male/27",
          "Male/28",
          "Male/30",
          "Female/31",
          "Male/25",
          "Male/27",
          "Female/46",
          "Male/35",
          "Female/38",
          "Female/33",
          "Female/52",
          "Male/34",
          "Female/30",
          "Female/32",
          "Female/26",
          "Female/43",
          "Female/51",
          "Male/48",
          "Female",
          "Male",
          "Female",
          "Male",
          "Female",
          "Male",
          "Female",
          "Male",
          "Female",
          "Male",
          "Female",
          "Male",
          "Female",
          "Male",
          "Male",
          "Female",
          "Male",
          "Female",
          "Male",
          "Female",
          "Male",
          "Female",
          "Male",
          "Female",
          "Male",
          "Female",
          "Male",
          "Female",
          "Male",
          "Female",
          "Male",
          "Female",
          "Male",
          "Female",
          "Male",
          "Female",
          "Male",
          "Female",
          "Male",
          "Female",
          "Male",
          "Female",
          "Male",
          "Female",
          "Male",
          "Female",
          "Male",
          "Female",
          "Male",
          "Female",
          "Female",
          "Male",
          "Female",
          "Male",
          "Female",
          "Male",
          "Male",
          "Male",
          "Female",
          "Female",
          "Female",
          "Female",
          "",
          ""
         ],
         "type": "sunburst",
         "values": [
          1,
          1,
          1,
          1,
          1,
          1,
          1,
          1,
          1,
          1,
          1,
          1,
          1,
          1,
          1,
          1,
          1,
          1,
          1,
          1,
          1,
          1,
          1,
          1,
          1,
          1,
          1,
          1,
          1,
          1,
          1,
          1,
          1,
          1,
          1,
          1,
          1,
          1,
          1,
          1,
          1,
          1,
          1,
          1,
          1,
          1,
          1,
          1,
          1,
          1,
          1,
          1,
          1,
          1,
          1,
          1,
          1,
          1,
          1,
          2,
          1,
          1,
          1,
          1,
          1,
          1,
          1,
          1,
          1,
          1,
          1,
          1,
          1,
          2,
          1,
          1,
          1,
          1,
          1,
          1,
          1,
          1,
          1,
          1,
          1,
          2,
          1,
          1,
          1,
          1,
          1,
          1,
          1,
          1,
          1,
          1,
          1,
          2,
          1,
          1,
          1,
          2,
          1,
          1,
          1,
          3,
          1,
          1,
          1,
          1,
          1,
          1,
          1,
          1,
          1,
          1,
          1,
          1,
          1,
          1,
          1,
          1,
          1,
          1,
          1,
          2,
          1,
          1,
          1,
          1,
          1,
          1,
          1,
          1,
          1,
          1,
          1,
          2,
          1,
          1,
          1,
          1,
          1,
          1,
          1,
          1,
          1,
          2,
          1,
          1,
          1,
          1,
          1,
          1,
          1,
          1,
          1,
          1,
          1,
          1,
          3,
          1,
          1,
          1,
          1,
          1,
          1,
          1,
          1,
          1,
          1,
          1,
          1,
          1,
          1,
          1,
          2,
          1,
          2,
          1,
          1,
          1,
          1,
          1,
          2,
          1,
          1,
          1,
          1,
          1,
          1,
          1,
          1,
          1,
          1,
          1,
          1,
          1,
          2,
          1,
          1,
          1,
          1,
          1,
          1,
          1,
          1,
          1,
          1,
          1,
          1,
          1,
          1,
          1,
          1,
          1,
          1,
          1,
          1,
          1,
          1,
          1,
          1,
          1,
          1,
          1,
          1,
          1,
          1,
          1,
          1,
          1,
          1,
          1,
          1,
          1,
          1,
          1,
          1,
          2,
          1,
          1,
          1,
          1,
          1,
          1,
          1,
          1,
          1,
          1,
          1,
          1,
          1,
          1,
          2,
          1,
          1,
          1,
          1,
          1,
          1,
          1,
          1,
          1,
          1,
          1,
          1,
          1,
          1,
          1,
          1,
          1,
          1,
          1,
          1,
          1,
          1,
          1,
          1,
          1,
          1,
          1,
          1,
          1,
          1,
          1,
          1,
          1,
          1,
          1,
          1,
          1,
          1,
          1,
          1,
          1,
          1,
          1,
          1,
          1,
          1,
          1,
          1,
          1,
          1,
          1,
          1,
          1,
          1,
          1,
          1,
          1,
          2,
          1,
          1,
          1,
          1,
          1,
          1,
          1,
          1,
          1,
          1,
          1,
          1,
          1,
          1,
          1,
          1,
          1,
          2,
          1,
          1,
          1,
          1,
          1,
          1,
          1,
          1,
          1,
          1,
          1,
          1,
          1,
          2,
          1,
          1,
          1,
          1,
          1,
          1,
          1,
          1,
          1,
          1,
          1,
          1,
          1,
          1,
          2,
          1,
          1,
          1,
          1,
          1,
          1,
          1,
          1,
          1,
          2,
          1,
          1,
          1,
          1,
          1,
          1,
          1,
          1,
          1,
          1,
          1,
          1,
          3,
          1,
          1,
          1,
          1,
          1,
          1,
          1,
          1,
          1,
          1,
          1,
          2,
          1,
          1,
          1,
          1,
          1,
          1,
          1,
          1,
          1,
          1,
          1,
          1,
          1,
          2,
          1,
          1,
          1,
          1,
          1,
          1,
          1,
          1,
          1,
          1,
          1,
          2,
          1,
          1,
          1,
          1,
          1,
          1,
          1,
          1,
          1,
          1,
          1,
          2,
          1,
          1,
          1,
          1,
          1,
          1,
          1,
          1,
          1,
          1,
          1,
          1,
          1,
          1,
          1,
          1,
          1,
          2,
          1,
          2,
          1,
          1,
          1,
          1,
          1,
          2,
          1,
          1,
          1,
          3,
          1,
          1,
          1,
          1,
          1,
          1,
          1,
          1,
          1,
          1,
          1,
          1,
          1,
          1,
          1,
          1,
          1,
          1,
          1,
          1,
          1,
          1,
          1,
          1,
          1,
          1,
          1,
          1,
          2,
          1,
          1,
          1,
          1,
          1,
          1,
          1,
          1,
          1,
          1,
          1,
          1,
          1,
          1,
          1,
          1,
          1,
          1,
          1,
          1,
          1,
          1,
          1,
          1,
          1,
          1,
          1,
          1,
          1,
          1,
          1,
          1,
          1,
          1,
          1,
          1,
          1,
          1,
          1,
          1,
          2,
          1,
          1,
          2,
          1,
          1,
          1,
          1,
          1,
          1,
          1,
          1,
          1,
          1,
          1,
          1,
          1,
          1,
          1,
          1,
          1,
          1,
          1,
          2,
          1,
          1,
          1,
          1,
          1,
          1,
          1,
          2,
          1,
          1,
          1,
          1,
          1,
          2,
          1,
          1,
          1,
          1,
          1,
          1,
          1,
          1,
          1,
          1,
          3,
          1,
          1,
          1,
          1,
          1,
          1,
          1,
          1,
          1,
          1,
          1,
          1,
          1,
          1,
          1,
          1,
          1,
          1,
          1,
          1,
          2,
          1,
          1,
          1,
          1,
          1,
          1,
          1,
          1,
          1,
          1,
          1,
          1,
          2,
          1,
          1,
          1,
          1,
          1,
          1,
          1,
          1,
          1,
          1,
          1,
          1,
          2,
          1,
          1,
          1,
          1,
          1,
          1,
          1,
          1,
          1,
          1,
          3,
          1,
          1,
          1,
          1,
          1,
          1,
          1,
          1,
          1,
          2,
          1,
          1,
          1,
          1,
          1,
          1,
          1,
          1,
          1,
          1,
          1,
          1,
          1,
          1,
          1,
          1,
          1,
          1,
          1,
          1,
          1,
          1,
          1,
          1,
          2,
          1,
          1,
          1,
          1,
          1,
          1,
          2,
          1,
          1,
          2,
          1,
          1,
          1,
          1,
          1,
          1,
          1,
          1,
          1,
          1,
          1,
          1,
          1,
          1,
          1,
          1,
          1,
          1,
          1,
          1,
          1,
          1,
          1,
          1,
          1,
          1,
          1,
          1,
          1,
          1,
          1,
          1,
          1,
          1,
          1,
          1,
          1,
          1,
          1,
          1,
          1,
          1,
          1,
          1,
          1,
          1,
          1,
          2,
          1,
          1,
          1,
          1,
          1,
          1,
          1,
          1,
          1,
          1,
          1,
          1,
          1,
          1,
          1,
          1,
          1,
          1,
          1,
          1,
          1,
          1,
          1,
          1,
          1,
          1,
          1,
          1,
          1,
          1,
          1,
          1,
          1,
          1,
          1,
          1,
          1,
          1,
          1,
          1,
          2,
          1,
          1,
          2,
          1,
          1,
          1,
          1,
          1,
          1,
          1,
          1,
          1,
          1,
          1,
          1,
          1,
          1,
          1,
          1,
          1,
          1,
          1,
          2,
          1,
          1,
          1,
          1,
          1,
          1,
          1,
          2,
          1,
          1,
          1,
          1,
          1,
          2,
          1,
          1,
          1,
          1,
          1,
          1,
          1,
          1,
          1,
          1,
          3,
          1,
          1,
          1,
          1,
          1,
          1,
          1,
          1,
          1,
          1,
          1,
          1,
          1,
          1,
          1,
          1,
          1,
          1,
          1,
          1,
          2,
          1,
          1,
          1,
          1,
          1,
          1,
          1,
          1,
          1,
          1,
          1,
          1,
          2,
          1,
          1,
          1,
          1,
          1,
          1,
          1,
          1,
          1,
          1,
          1,
          1,
          2,
          1,
          1,
          1,
          1,
          1,
          1,
          1,
          1,
          1,
          1,
          3,
          1,
          1,
          1,
          1,
          1,
          1,
          1,
          1,
          1,
          2,
          1,
          1,
          1,
          1,
          1,
          1,
          1,
          1,
          1,
          1,
          1,
          1,
          1,
          1,
          1,
          1,
          1,
          1,
          1,
          1,
          1,
          1,
          1,
          1,
          2,
          1,
          1,
          1,
          1,
          1,
          1,
          2,
          1,
          1,
          2,
          1,
          1,
          1,
          1,
          1,
          1,
          1,
          1,
          1,
          1,
          1,
          1,
          1,
          1,
          1,
          1,
          1,
          1,
          1,
          1,
          1,
          1,
          1,
          1,
          1,
          1,
          1,
          1,
          1,
          1,
          1,
          1,
          1,
          1,
          1,
          1,
          3,
          2,
          2,
          5,
          4,
          3,
          2,
          2,
          3,
          2,
          4,
          2,
          4,
          5,
          6,
          9,
          7,
          6,
          5,
          7,
          4,
          4,
          5,
          3,
          6,
          5,
          5,
          2,
          2,
          6,
          2,
          3,
          2,
          11,
          18,
          4,
          3,
          6,
          7,
          6,
          6,
          5,
          4,
          3,
          9,
          9,
          6,
          4,
          6,
          1,
          1,
          1,
          4,
          1,
          1,
          1,
          1,
          2,
          1,
          1,
          1,
          2,
          127,
          130
         ]
        }
       ],
       "layout": {
        "legend": {
         "tracegroupgap": 0
        },
        "margin": {
         "t": 60
        },
        "template": {
         "data": {
          "bar": [
           {
            "error_x": {
             "color": "#2a3f5f"
            },
            "error_y": {
             "color": "#2a3f5f"
            },
            "marker": {
             "line": {
              "color": "#E5ECF6",
              "width": 0.5
             },
             "pattern": {
              "fillmode": "overlay",
              "size": 10,
              "solidity": 0.2
             }
            },
            "type": "bar"
           }
          ],
          "barpolar": [
           {
            "marker": {
             "line": {
              "color": "#E5ECF6",
              "width": 0.5
             },
             "pattern": {
              "fillmode": "overlay",
              "size": 10,
              "solidity": 0.2
             }
            },
            "type": "barpolar"
           }
          ],
          "carpet": [
           {
            "aaxis": {
             "endlinecolor": "#2a3f5f",
             "gridcolor": "white",
             "linecolor": "white",
             "minorgridcolor": "white",
             "startlinecolor": "#2a3f5f"
            },
            "baxis": {
             "endlinecolor": "#2a3f5f",
             "gridcolor": "white",
             "linecolor": "white",
             "minorgridcolor": "white",
             "startlinecolor": "#2a3f5f"
            },
            "type": "carpet"
           }
          ],
          "choropleth": [
           {
            "colorbar": {
             "outlinewidth": 0,
             "ticks": ""
            },
            "type": "choropleth"
           }
          ],
          "contour": [
           {
            "colorbar": {
             "outlinewidth": 0,
             "ticks": ""
            },
            "colorscale": [
             [
              0,
              "#0d0887"
             ],
             [
              0.1111111111111111,
              "#46039f"
             ],
             [
              0.2222222222222222,
              "#7201a8"
             ],
             [
              0.3333333333333333,
              "#9c179e"
             ],
             [
              0.4444444444444444,
              "#bd3786"
             ],
             [
              0.5555555555555556,
              "#d8576b"
             ],
             [
              0.6666666666666666,
              "#ed7953"
             ],
             [
              0.7777777777777778,
              "#fb9f3a"
             ],
             [
              0.8888888888888888,
              "#fdca26"
             ],
             [
              1,
              "#f0f921"
             ]
            ],
            "type": "contour"
           }
          ],
          "contourcarpet": [
           {
            "colorbar": {
             "outlinewidth": 0,
             "ticks": ""
            },
            "type": "contourcarpet"
           }
          ],
          "heatmap": [
           {
            "colorbar": {
             "outlinewidth": 0,
             "ticks": ""
            },
            "colorscale": [
             [
              0,
              "#0d0887"
             ],
             [
              0.1111111111111111,
              "#46039f"
             ],
             [
              0.2222222222222222,
              "#7201a8"
             ],
             [
              0.3333333333333333,
              "#9c179e"
             ],
             [
              0.4444444444444444,
              "#bd3786"
             ],
             [
              0.5555555555555556,
              "#d8576b"
             ],
             [
              0.6666666666666666,
              "#ed7953"
             ],
             [
              0.7777777777777778,
              "#fb9f3a"
             ],
             [
              0.8888888888888888,
              "#fdca26"
             ],
             [
              1,
              "#f0f921"
             ]
            ],
            "type": "heatmap"
           }
          ],
          "heatmapgl": [
           {
            "colorbar": {
             "outlinewidth": 0,
             "ticks": ""
            },
            "colorscale": [
             [
              0,
              "#0d0887"
             ],
             [
              0.1111111111111111,
              "#46039f"
             ],
             [
              0.2222222222222222,
              "#7201a8"
             ],
             [
              0.3333333333333333,
              "#9c179e"
             ],
             [
              0.4444444444444444,
              "#bd3786"
             ],
             [
              0.5555555555555556,
              "#d8576b"
             ],
             [
              0.6666666666666666,
              "#ed7953"
             ],
             [
              0.7777777777777778,
              "#fb9f3a"
             ],
             [
              0.8888888888888888,
              "#fdca26"
             ],
             [
              1,
              "#f0f921"
             ]
            ],
            "type": "heatmapgl"
           }
          ],
          "histogram": [
           {
            "marker": {
             "pattern": {
              "fillmode": "overlay",
              "size": 10,
              "solidity": 0.2
             }
            },
            "type": "histogram"
           }
          ],
          "histogram2d": [
           {
            "colorbar": {
             "outlinewidth": 0,
             "ticks": ""
            },
            "colorscale": [
             [
              0,
              "#0d0887"
             ],
             [
              0.1111111111111111,
              "#46039f"
             ],
             [
              0.2222222222222222,
              "#7201a8"
             ],
             [
              0.3333333333333333,
              "#9c179e"
             ],
             [
              0.4444444444444444,
              "#bd3786"
             ],
             [
              0.5555555555555556,
              "#d8576b"
             ],
             [
              0.6666666666666666,
              "#ed7953"
             ],
             [
              0.7777777777777778,
              "#fb9f3a"
             ],
             [
              0.8888888888888888,
              "#fdca26"
             ],
             [
              1,
              "#f0f921"
             ]
            ],
            "type": "histogram2d"
           }
          ],
          "histogram2dcontour": [
           {
            "colorbar": {
             "outlinewidth": 0,
             "ticks": ""
            },
            "colorscale": [
             [
              0,
              "#0d0887"
             ],
             [
              0.1111111111111111,
              "#46039f"
             ],
             [
              0.2222222222222222,
              "#7201a8"
             ],
             [
              0.3333333333333333,
              "#9c179e"
             ],
             [
              0.4444444444444444,
              "#bd3786"
             ],
             [
              0.5555555555555556,
              "#d8576b"
             ],
             [
              0.6666666666666666,
              "#ed7953"
             ],
             [
              0.7777777777777778,
              "#fb9f3a"
             ],
             [
              0.8888888888888888,
              "#fdca26"
             ],
             [
              1,
              "#f0f921"
             ]
            ],
            "type": "histogram2dcontour"
           }
          ],
          "mesh3d": [
           {
            "colorbar": {
             "outlinewidth": 0,
             "ticks": ""
            },
            "type": "mesh3d"
           }
          ],
          "parcoords": [
           {
            "line": {
             "colorbar": {
              "outlinewidth": 0,
              "ticks": ""
             }
            },
            "type": "parcoords"
           }
          ],
          "pie": [
           {
            "automargin": true,
            "type": "pie"
           }
          ],
          "scatter": [
           {
            "fillpattern": {
             "fillmode": "overlay",
             "size": 10,
             "solidity": 0.2
            },
            "type": "scatter"
           }
          ],
          "scatter3d": [
           {
            "line": {
             "colorbar": {
              "outlinewidth": 0,
              "ticks": ""
             }
            },
            "marker": {
             "colorbar": {
              "outlinewidth": 0,
              "ticks": ""
             }
            },
            "type": "scatter3d"
           }
          ],
          "scattercarpet": [
           {
            "marker": {
             "colorbar": {
              "outlinewidth": 0,
              "ticks": ""
             }
            },
            "type": "scattercarpet"
           }
          ],
          "scattergeo": [
           {
            "marker": {
             "colorbar": {
              "outlinewidth": 0,
              "ticks": ""
             }
            },
            "type": "scattergeo"
           }
          ],
          "scattergl": [
           {
            "marker": {
             "colorbar": {
              "outlinewidth": 0,
              "ticks": ""
             }
            },
            "type": "scattergl"
           }
          ],
          "scattermapbox": [
           {
            "marker": {
             "colorbar": {
              "outlinewidth": 0,
              "ticks": ""
             }
            },
            "type": "scattermapbox"
           }
          ],
          "scatterpolar": [
           {
            "marker": {
             "colorbar": {
              "outlinewidth": 0,
              "ticks": ""
             }
            },
            "type": "scatterpolar"
           }
          ],
          "scatterpolargl": [
           {
            "marker": {
             "colorbar": {
              "outlinewidth": 0,
              "ticks": ""
             }
            },
            "type": "scatterpolargl"
           }
          ],
          "scatterternary": [
           {
            "marker": {
             "colorbar": {
              "outlinewidth": 0,
              "ticks": ""
             }
            },
            "type": "scatterternary"
           }
          ],
          "surface": [
           {
            "colorbar": {
             "outlinewidth": 0,
             "ticks": ""
            },
            "colorscale": [
             [
              0,
              "#0d0887"
             ],
             [
              0.1111111111111111,
              "#46039f"
             ],
             [
              0.2222222222222222,
              "#7201a8"
             ],
             [
              0.3333333333333333,
              "#9c179e"
             ],
             [
              0.4444444444444444,
              "#bd3786"
             ],
             [
              0.5555555555555556,
              "#d8576b"
             ],
             [
              0.6666666666666666,
              "#ed7953"
             ],
             [
              0.7777777777777778,
              "#fb9f3a"
             ],
             [
              0.8888888888888888,
              "#fdca26"
             ],
             [
              1,
              "#f0f921"
             ]
            ],
            "type": "surface"
           }
          ],
          "table": [
           {
            "cells": {
             "fill": {
              "color": "#EBF0F8"
             },
             "line": {
              "color": "white"
             }
            },
            "header": {
             "fill": {
              "color": "#C8D4E3"
             },
             "line": {
              "color": "white"
             }
            },
            "type": "table"
           }
          ]
         },
         "layout": {
          "annotationdefaults": {
           "arrowcolor": "#2a3f5f",
           "arrowhead": 0,
           "arrowwidth": 1
          },
          "autotypenumbers": "strict",
          "coloraxis": {
           "colorbar": {
            "outlinewidth": 0,
            "ticks": ""
           }
          },
          "colorscale": {
           "diverging": [
            [
             0,
             "#8e0152"
            ],
            [
             0.1,
             "#c51b7d"
            ],
            [
             0.2,
             "#de77ae"
            ],
            [
             0.3,
             "#f1b6da"
            ],
            [
             0.4,
             "#fde0ef"
            ],
            [
             0.5,
             "#f7f7f7"
            ],
            [
             0.6,
             "#e6f5d0"
            ],
            [
             0.7,
             "#b8e186"
            ],
            [
             0.8,
             "#7fbc41"
            ],
            [
             0.9,
             "#4d9221"
            ],
            [
             1,
             "#276419"
            ]
           ],
           "sequential": [
            [
             0,
             "#0d0887"
            ],
            [
             0.1111111111111111,
             "#46039f"
            ],
            [
             0.2222222222222222,
             "#7201a8"
            ],
            [
             0.3333333333333333,
             "#9c179e"
            ],
            [
             0.4444444444444444,
             "#bd3786"
            ],
            [
             0.5555555555555556,
             "#d8576b"
            ],
            [
             0.6666666666666666,
             "#ed7953"
            ],
            [
             0.7777777777777778,
             "#fb9f3a"
            ],
            [
             0.8888888888888888,
             "#fdca26"
            ],
            [
             1,
             "#f0f921"
            ]
           ],
           "sequentialminus": [
            [
             0,
             "#0d0887"
            ],
            [
             0.1111111111111111,
             "#46039f"
            ],
            [
             0.2222222222222222,
             "#7201a8"
            ],
            [
             0.3333333333333333,
             "#9c179e"
            ],
            [
             0.4444444444444444,
             "#bd3786"
            ],
            [
             0.5555555555555556,
             "#d8576b"
            ],
            [
             0.6666666666666666,
             "#ed7953"
            ],
            [
             0.7777777777777778,
             "#fb9f3a"
            ],
            [
             0.8888888888888888,
             "#fdca26"
            ],
            [
             1,
             "#f0f921"
            ]
           ]
          },
          "colorway": [
           "#636efa",
           "#EF553B",
           "#00cc96",
           "#ab63fa",
           "#FFA15A",
           "#19d3f3",
           "#FF6692",
           "#B6E880",
           "#FF97FF",
           "#FECB52"
          ],
          "font": {
           "color": "#2a3f5f"
          },
          "geo": {
           "bgcolor": "white",
           "lakecolor": "white",
           "landcolor": "#E5ECF6",
           "showlakes": true,
           "showland": true,
           "subunitcolor": "white"
          },
          "hoverlabel": {
           "align": "left"
          },
          "hovermode": "closest",
          "mapbox": {
           "style": "light"
          },
          "paper_bgcolor": "white",
          "plot_bgcolor": "#E5ECF6",
          "polar": {
           "angularaxis": {
            "gridcolor": "white",
            "linecolor": "white",
            "ticks": ""
           },
           "bgcolor": "#E5ECF6",
           "radialaxis": {
            "gridcolor": "white",
            "linecolor": "white",
            "ticks": ""
           }
          },
          "scene": {
           "xaxis": {
            "backgroundcolor": "#E5ECF6",
            "gridcolor": "white",
            "gridwidth": 2,
            "linecolor": "white",
            "showbackground": true,
            "ticks": "",
            "zerolinecolor": "white"
           },
           "yaxis": {
            "backgroundcolor": "#E5ECF6",
            "gridcolor": "white",
            "gridwidth": 2,
            "linecolor": "white",
            "showbackground": true,
            "ticks": "",
            "zerolinecolor": "white"
           },
           "zaxis": {
            "backgroundcolor": "#E5ECF6",
            "gridcolor": "white",
            "gridwidth": 2,
            "linecolor": "white",
            "showbackground": true,
            "ticks": "",
            "zerolinecolor": "white"
           }
          },
          "shapedefaults": {
           "line": {
            "color": "#2a3f5f"
           }
          },
          "ternary": {
           "aaxis": {
            "gridcolor": "white",
            "linecolor": "white",
            "ticks": ""
           },
           "baxis": {
            "gridcolor": "white",
            "linecolor": "white",
            "ticks": ""
           },
           "bgcolor": "#E5ECF6",
           "caxis": {
            "gridcolor": "white",
            "linecolor": "white",
            "ticks": ""
           }
          },
          "title": {
           "x": 0.05
          },
          "xaxis": {
           "automargin": true,
           "gridcolor": "white",
           "linecolor": "white",
           "ticks": "",
           "title": {
            "standoff": 15
           },
           "zerolinecolor": "white",
           "zerolinewidth": 2
          },
          "yaxis": {
           "automargin": true,
           "gridcolor": "white",
           "linecolor": "white",
           "ticks": "",
           "title": {
            "standoff": 15
           },
           "zerolinecolor": "white",
           "zerolinewidth": 2
          }
         }
        }
       }
      },
      "text/html": [
       "<div>                            <div id=\"27ba7737-fc0f-4c0d-9735-618e7b93a154\" class=\"plotly-graph-div\" style=\"height:525px; width:100%;\"></div>            <script type=\"text/javascript\">                require([\"plotly\"], function(Plotly) {                    window.PLOTLYENV=window.PLOTLYENV || {};                                    if (document.getElementById(\"27ba7737-fc0f-4c0d-9735-618e7b93a154\")) {                    Plotly.newPlot(                        \"27ba7737-fc0f-4c0d-9735-618e7b93a154\",                        [{\"branchvalues\":\"total\",\"domain\":{\"x\":[0.0,1.0],\"y\":[0.0,1.0]},\"hovertemplate\":\"labels=%{label}<br>count=%{value}<br>parent=%{parent}<br>id=%{id}<extra></extra>\",\"ids\":[\"Female/19/21000/0/A/Low\",\"Female/20/23000/0/A/Low\",\"Male/19/25000/0/A/Low\",\"Female/19/26000/0/A/Low\",\"Female/20/36000/0/A/Low\",\"Male/23/20000/0/B/Low\",\"Male/25/22000/0/B/Low\",\"Male/24/23000/0/B/Low\",\"Female/22/27000/0/B/Low\",\"Female/24/27000/0/B/Low\",\"Female/23/28000/0/B/Low\",\"Male/26/30000/0/B/Low\",\"Female/24/32000/0/B/Low\",\"Male/26/32000/0/B/Low\",\"Male/25/33000/0/B/Low\",\"Female/26/35000/0/B/Low\",\"Male/27/20000/0/C/Low\",\"Female/29/28000/0/C/Low\",\"Female/27/31000/0/C/Low\",\"Male/28/32000/0/C/Low\",\"Female/28/37000/0/C/Low\",\"Male/35/20000/0/D/Low\",\"Male/35/22000/0/D/Low\",\"Female/35/23000/0/D/Low\",\"Female/34/25000/0/D/Low\",\"Female/35/25000/0/D/Low\",\"Male/35/27000/0/D/Low\",\"Female/33/28000/0/D/Low\",\"Male/33/31000/0/D/Low\",\"Male/36/33000/0/D/Low\",\"Female/37/33000/0/D/Low\",\"Female/31/34000/0/D/Low\",\"Male/35/38000/0/D/Low\",\"Male/35/39000/0/D/Low\",\"Female/46/22000/0/E/Low\",\"Female/41/30000/0/E/Low\",\"Female/44/39000/0/E/Low\",\"Female/18/68000/0/A/Medium\",\"Male/19/70000/0/A/Medium\",\"Male/20/74000/0/A/Medium\",\"Male/19/76000/0/A/Medium\",\"Female/22/63000/0/B/Medium\",\"Male/23/63000/0/B/Medium\",\"Female/23/66000/0/B/Medium\",\"Female/21/68000/0/B/Medium\",\"Male/21/72000/0/B/Medium\",\"Female/26/72000/0/B/Medium\",\"Male/25/79000/0/B/Medium\",\"Male/25/80000/0/B/Medium\",\"Female/26/80000/0/B/Medium\",\"Male/26/80000/0/B/Medium\",\"Male/29/61000/0/C/Medium\",\"Female/30/62000/0/C/Medium\",\"Male/29/75000/0/C/Medium\",\"Male/28/79000/0/C/Medium\",\"Female/30/79000/0/C/Medium\",\"Male/29/80000/0/C/Medium\",\"Male/30/80000/0/C/Medium\",\"Male/35/61000/0/D/Medium\",\"Male/38/61000/0/D/Medium\",\"Female/39/61000/0/D/Medium\",\"Male/40/61000/0/D/Medium\",\"Female/37/62000/0/D/Medium\",\"Female/36/63000/0/D/Medium\",\"Female/35/65000/0/D/Medium\",\"Female/38/65000/0/D/Medium\",\"Male/40/65000/0/D/Medium\",\"Male/31/66000/0/D/Medium\",\"Female/31/68000/0/D/Medium\",\"Female/33/69000/0/D/Medium\",\"Female/31/71000/0/D/Medium\",\"Female/35/71000/0/D/Medium\",\"Female/37/71000/0/D/Medium\",\"Male/38/71000/0/D/Medium\",\"Female/39/71000/0/D/Medium\",\"Male/39/71000/0/D/Medium\",\"Female/34/72000/0/D/Medium\",\"Female/35/72000/0/D/Medium\",\"Male/35/72000/0/D/Medium\",\"Male/37/72000/0/D/Medium\",\"Female/40/72000/0/D/Medium\",\"Male/35/73000/0/D/Medium\",\"Female/39/73000/0/D/Medium\",\"Male/31/74000/0/D/Medium\",\"Male/37/74000/0/D/Medium\",\"Male/35/75000/0/D/Medium\",\"Female/36/75000/0/D/Medium\",\"Male/37/75000/0/D/Medium\",\"Female/40/75000/0/D/Medium\",\"Male/40/75000/0/D/Medium\",\"Male/31/76000/0/D/Medium\",\"Female/35/77000/0/D/Medium\",\"Male/37/77000/0/D/Medium\",\"Male/39/77000/0/D/Medium\",\"Male/40/78000/0/D/Medium\",\"Male/35/79000/0/D/Medium\",\"Female/39/79000/0/D/Medium\",\"Female/37/80000/0/D/Medium\",\"Female/38/80000/0/D/Medium\",\"Female/41/63000/0/E/Medium\",\"Male/42/64000/0/E/Medium\",\"Male/42/65000/0/E/Medium\",\"Male/49/65000/0/E/Medium\",\"Female/42/70000/0/E/Medium\",\"Female/41/71000/0/E/Medium\",\"Female/41/72000/0/E/Medium\",\"Male/41/72000/0/E/Medium\",\"Female/46/74000/0/E/Medium\",\"Male/49/74000/0/E/Medium\",\"Female/42/75000/0/E/Medium\",\"Male/41/79000/0/E/Medium\",\"Female/42/79000/0/E/Medium\",\"Male/45/79000/0/E/Medium\",\"Female/41/80000/0/E/Medium\",\"Male/42/80000/0/E/Medium\",\"Female/18/44000/0/A/Moderately Low\",\"Male/20/49000/0/A/Moderately Low\",\"Male/18/52000/0/A/Moderately Low\",\"Female/26/43000/0/B/Moderately Low\",\"Female/23/48000/0/B/Moderately Low\",\"Female/26/52000/0/B/Moderately Low\",\"Female/22/55000/0/B/Moderately Low\",\"Female/24/55000/0/B/Moderately Low\",\"Male/24/55000/0/B/Moderately Low\",\"Male/24/58000/0/B/Moderately Low\",\"Male/29/43000/0/C/Moderately Low\",\"Female/28/44000/0/C/Moderately Low\",\"Female/29/47000/0/C/Moderately Low\",\"Male/30/49000/0/C/Moderately Low\",\"Female/27/54000/0/C/Moderately Low\",\"Female/28/55000/0/C/Moderately Low\",\"Female/27/57000/0/C/Moderately Low\",\"Female/27/58000/0/C/Moderately Low\",\"Male/27/58000/0/C/Moderately Low\",\"Female/28/59000/0/C/Moderately Low\",\"Male/28/59000/0/C/Moderately Low\",\"Female/33/41000/0/D/Moderately Low\",\"Male/39/42000/0/D/Moderately Low\",\"Male/33/43000/0/D/Moderately Low\",\"Female/34/43000/0/D/Moderately Low\",\"Male/34/43000/0/D/Moderately Low\",\"Female/35/44000/0/D/Moderately Low\",\"Female/35/47000/0/D/Moderately Low\",\"Male/40/47000/0/D/Moderately Low\",\"Female/35/50000/0/D/Moderately Low\",\"Male/35/50000/0/D/Moderately Low\",\"Female/36/50000/0/D/Moderately Low\",\"Female/38/50000/0/D/Moderately Low\",\"Female/33/51000/0/D/Moderately Low\",\"Male/38/51000/0/D/Moderately Low\",\"Male/36/52000/0/D/Moderately Low\",\"Male/37/52000/0/D/Moderately Low\",\"Male/35/53000/0/D/Moderately Low\",\"Male/37/53000/0/D/Moderately Low\",\"Female/36/54000/0/D/Moderately Low\",\"Male/35/55000/0/D/Moderately Low\",\"Male/37/55000/0/D/Moderately Low\",\"Female/38/55000/0/D/Moderately Low\",\"Female/35/57000/0/D/Moderately Low\",\"Female/37/57000/0/D/Moderately Low\",\"Male/40/57000/0/D/Moderately Low\",\"Male/31/58000/0/D/Moderately Low\",\"Male/35/58000/0/D/Moderately Low\",\"Male/35/59000/0/D/Moderately Low\",\"Male/38/59000/0/D/Moderately Low\",\"Female/39/59000/0/D/Moderately Low\",\"Male/40/59000/0/D/Moderately Low\",\"Female/33/60000/0/D/Moderately Low\",\"Female/35/60000/0/D/Moderately Low\",\"Male/36/60000/0/D/Moderately Low\",\"Female/40/60000/0/D/Moderately Low\",\"Male/47/43000/0/E/Moderately Low\",\"Female/50/44000/0/E/Moderately Low\",\"Male/41/45000/0/E/Moderately Low\",\"Female/47/47000/0/E/Moderately Low\",\"Female/41/51000/0/E/Moderately Low\",\"Male/41/52000/0/E/Moderately Low\",\"Female/42/53000/0/E/Moderately Low\",\"Male/42/54000/0/E/Moderately Low\",\"Male/41/59000/0/E/Moderately Low\",\"Male/46/59000/0/E/Moderately Low\",\"Female/41/60000/0/E/Moderately Low\",\"Female/59/42000/0/F/Moderately Low\",\"Male/18/82000/0/A/Moderately high\",\"Female/20/82000/0/A/Moderately high\",\"Male/19/85000/0/A/Moderately high\",\"Female/18/86000/0/A/Moderately high\",\"Male/20/86000/0/A/Moderately high\",\"Male/22/81000/0/B/Moderately high\",\"Male/26/81000/0/B/Moderately high\",\"Female/23/82000/0/B/Moderately high\",\"Male/24/84000/0/B/Moderately high\",\"Female/26/84000/0/B/Moderately high\",\"Male/26/86000/0/B/Moderately high\",\"Male/25/87000/0/B/Moderately high\",\"Male/21/88000/0/B/Moderately high\",\"Female/24/89000/0/B/Moderately high\",\"Male/25/90000/0/B/Moderately high\",\"Female/29/83000/0/C/Moderately high\",\"Female/27/84000/0/C/Moderately high\",\"Female/28/84000/0/C/Moderately high\",\"Female/28/85000/0/C/Moderately high\",\"Female/28/87000/0/C/Moderately high\",\"Male/30/87000/0/C/Moderately high\",\"Male/27/88000/0/C/Moderately high\",\"Male/27/89000/0/C/Moderately high\",\"Male/28/89000/0/C/Moderately high\",\"Male/30/89000/0/C/Moderately high\",\"Male/27/90000/0/C/Moderately high\",\"Female/32/86000/0/D/Moderately high\",\"Male/35/88000/0/D/Moderately high\",\"Female/31/89000/0/D/Moderately high\",\"Female/46/82000/0/E/Moderately high\",\"Female/46/96000/0/E/Moderately high\",\"Female/59/83000/0/F/Moderately high\",\"Female/26/118000/0/B/Very High\",\"Female/30/116000/0/C/Very High\",\"Male/35/108000/0/D/Very High\",\"Female/38/112000/0/D/Very High\",\"Female/33/113000/0/D/Very High\",\"Male/34/115000/0/D/Very High\",\"Female/32/117000/0/D/Very High\",\"Female/43/133000/0/E/Very High\",\"Male/48/141000/0/E/Very High\",\"Female/52/114000/0/F/Very High\",\"Female/51/134000/0/F/Very High\",\"Male/19/19000/0/A/Very Low\",\"Female/26/15000/0/B/Very Low\",\"Male/26/15000/0/B/Very Low\",\"Female/21/16000/0/B/Very Low\",\"Male/26/16000/0/B/Very Low\",\"Female/26/17000/0/B/Very Low\",\"Male/22/18000/0/B/Very Low\",\"Male/24/19000/0/B/Very Low\",\"Male/30/15000/0/C/Very Low\",\"Female/27/17000/0/C/Very Low\",\"Male/30/17000/0/C/Very Low\",\"Female/31/15000/0/D/Very Low\",\"Male/31/18000/0/D/Very Low\",\"Male/32/18000/0/D/Very Low\",\"Male/19/19000/0/A\",\"Female/19/21000/0/A\",\"Female/20/23000/0/A\",\"Male/19/25000/0/A\",\"Female/19/26000/0/A\",\"Female/20/36000/0/A\",\"Female/18/44000/0/A\",\"Male/20/49000/0/A\",\"Male/18/52000/0/A\",\"Female/18/68000/0/A\",\"Male/19/70000/0/A\",\"Male/20/74000/0/A\",\"Male/19/76000/0/A\",\"Male/18/82000/0/A\",\"Female/20/82000/0/A\",\"Male/19/85000/0/A\",\"Female/18/86000/0/A\",\"Male/20/86000/0/A\",\"Female/26/15000/0/B\",\"Male/26/15000/0/B\",\"Female/21/16000/0/B\",\"Male/26/16000/0/B\",\"Female/26/17000/0/B\",\"Male/22/18000/0/B\",\"Male/24/19000/0/B\",\"Male/23/20000/0/B\",\"Male/25/22000/0/B\",\"Male/24/23000/0/B\",\"Female/22/27000/0/B\",\"Female/24/27000/0/B\",\"Female/23/28000/0/B\",\"Male/26/30000/0/B\",\"Female/24/32000/0/B\",\"Male/26/32000/0/B\",\"Male/25/33000/0/B\",\"Female/26/35000/0/B\",\"Female/26/43000/0/B\",\"Female/23/48000/0/B\",\"Female/26/52000/0/B\",\"Female/22/55000/0/B\",\"Female/24/55000/0/B\",\"Male/24/55000/0/B\",\"Male/24/58000/0/B\",\"Female/22/63000/0/B\",\"Male/23/63000/0/B\",\"Female/23/66000/0/B\",\"Female/21/68000/0/B\",\"Male/21/72000/0/B\",\"Female/26/72000/0/B\",\"Male/25/79000/0/B\",\"Male/25/80000/0/B\",\"Female/26/80000/0/B\",\"Male/26/80000/0/B\",\"Male/22/81000/0/B\",\"Male/26/81000/0/B\",\"Female/23/82000/0/B\",\"Male/24/84000/0/B\",\"Female/26/84000/0/B\",\"Male/26/86000/0/B\",\"Male/25/87000/0/B\",\"Male/21/88000/0/B\",\"Female/24/89000/0/B\",\"Male/25/90000/0/B\",\"Female/26/118000/0/B\",\"Male/30/15000/0/C\",\"Female/27/17000/0/C\",\"Male/30/17000/0/C\",\"Male/27/20000/0/C\",\"Female/29/28000/0/C\",\"Female/27/31000/0/C\",\"Male/28/32000/0/C\",\"Female/28/37000/0/C\",\"Male/29/43000/0/C\",\"Female/28/44000/0/C\",\"Female/29/47000/0/C\",\"Male/30/49000/0/C\",\"Female/27/54000/0/C\",\"Female/28/55000/0/C\",\"Female/27/57000/0/C\",\"Female/27/58000/0/C\",\"Male/27/58000/0/C\",\"Female/28/59000/0/C\",\"Male/28/59000/0/C\",\"Male/29/61000/0/C\",\"Female/30/62000/0/C\",\"Male/29/75000/0/C\",\"Male/28/79000/0/C\",\"Female/30/79000/0/C\",\"Male/29/80000/0/C\",\"Male/30/80000/0/C\",\"Female/29/83000/0/C\",\"Female/27/84000/0/C\",\"Female/28/84000/0/C\",\"Female/28/85000/0/C\",\"Female/28/87000/0/C\",\"Male/30/87000/0/C\",\"Male/27/88000/0/C\",\"Male/27/89000/0/C\",\"Male/28/89000/0/C\",\"Male/30/89000/0/C\",\"Male/27/90000/0/C\",\"Female/30/116000/0/C\",\"Female/31/15000/0/D\",\"Male/31/18000/0/D\",\"Male/32/18000/0/D\",\"Male/35/20000/0/D\",\"Male/35/22000/0/D\",\"Female/35/23000/0/D\",\"Female/34/25000/0/D\",\"Female/35/25000/0/D\",\"Male/35/27000/0/D\",\"Female/33/28000/0/D\",\"Male/33/31000/0/D\",\"Male/36/33000/0/D\",\"Female/37/33000/0/D\",\"Female/31/34000/0/D\",\"Male/35/38000/0/D\",\"Male/35/39000/0/D\",\"Female/33/41000/0/D\",\"Male/39/42000/0/D\",\"Male/33/43000/0/D\",\"Female/34/43000/0/D\",\"Male/34/43000/0/D\",\"Female/35/44000/0/D\",\"Female/35/47000/0/D\",\"Male/40/47000/0/D\",\"Female/35/50000/0/D\",\"Male/35/50000/0/D\",\"Female/36/50000/0/D\",\"Female/38/50000/0/D\",\"Female/33/51000/0/D\",\"Male/38/51000/0/D\",\"Male/36/52000/0/D\",\"Male/37/52000/0/D\",\"Male/35/53000/0/D\",\"Male/37/53000/0/D\",\"Female/36/54000/0/D\",\"Male/35/55000/0/D\",\"Male/37/55000/0/D\",\"Female/38/55000/0/D\",\"Female/35/57000/0/D\",\"Female/37/57000/0/D\",\"Male/40/57000/0/D\",\"Male/31/58000/0/D\",\"Male/35/58000/0/D\",\"Male/35/59000/0/D\",\"Male/38/59000/0/D\",\"Female/39/59000/0/D\",\"Male/40/59000/0/D\",\"Female/33/60000/0/D\",\"Female/35/60000/0/D\",\"Male/36/60000/0/D\",\"Female/40/60000/0/D\",\"Male/35/61000/0/D\",\"Male/38/61000/0/D\",\"Female/39/61000/0/D\",\"Male/40/61000/0/D\",\"Female/37/62000/0/D\",\"Female/36/63000/0/D\",\"Female/35/65000/0/D\",\"Female/38/65000/0/D\",\"Male/40/65000/0/D\",\"Male/31/66000/0/D\",\"Female/31/68000/0/D\",\"Female/33/69000/0/D\",\"Female/31/71000/0/D\",\"Female/35/71000/0/D\",\"Female/37/71000/0/D\",\"Male/38/71000/0/D\",\"Female/39/71000/0/D\",\"Male/39/71000/0/D\",\"Female/34/72000/0/D\",\"Female/35/72000/0/D\",\"Male/35/72000/0/D\",\"Male/37/72000/0/D\",\"Female/40/72000/0/D\",\"Male/35/73000/0/D\",\"Female/39/73000/0/D\",\"Male/31/74000/0/D\",\"Male/37/74000/0/D\",\"Male/35/75000/0/D\",\"Female/36/75000/0/D\",\"Male/37/75000/0/D\",\"Female/40/75000/0/D\",\"Male/40/75000/0/D\",\"Male/31/76000/0/D\",\"Female/35/77000/0/D\",\"Male/37/77000/0/D\",\"Male/39/77000/0/D\",\"Male/40/78000/0/D\",\"Male/35/79000/0/D\",\"Female/39/79000/0/D\",\"Female/37/80000/0/D\",\"Female/38/80000/0/D\",\"Female/32/86000/0/D\",\"Male/35/88000/0/D\",\"Female/31/89000/0/D\",\"Male/35/108000/0/D\",\"Female/38/112000/0/D\",\"Female/33/113000/0/D\",\"Male/34/115000/0/D\",\"Female/32/117000/0/D\",\"Female/46/22000/0/E\",\"Female/41/30000/0/E\",\"Female/44/39000/0/E\",\"Male/47/43000/0/E\",\"Female/50/44000/0/E\",\"Male/41/45000/0/E\",\"Female/47/47000/0/E\",\"Female/41/51000/0/E\",\"Male/41/52000/0/E\",\"Female/42/53000/0/E\",\"Male/42/54000/0/E\",\"Male/41/59000/0/E\",\"Male/46/59000/0/E\",\"Female/41/60000/0/E\",\"Female/41/63000/0/E\",\"Male/42/64000/0/E\",\"Male/42/65000/0/E\",\"Male/49/65000/0/E\",\"Female/42/70000/0/E\",\"Female/41/71000/0/E\",\"Female/41/72000/0/E\",\"Male/41/72000/0/E\",\"Female/46/74000/0/E\",\"Male/49/74000/0/E\",\"Female/42/75000/0/E\",\"Male/41/79000/0/E\",\"Female/42/79000/0/E\",\"Male/45/79000/0/E\",\"Female/41/80000/0/E\",\"Male/42/80000/0/E\",\"Female/46/82000/0/E\",\"Female/46/96000/0/E\",\"Female/43/133000/0/E\",\"Male/48/141000/0/E\",\"Female/59/42000/0/F\",\"Female/59/83000/0/F\",\"Female/52/114000/0/F\",\"Female/51/134000/0/F\",\"Female/26/15000/0\",\"Male/26/15000/0\",\"Male/30/15000/0\",\"Female/31/15000/0\",\"Female/21/16000/0\",\"Male/26/16000/0\",\"Female/26/17000/0\",\"Female/27/17000/0\",\"Male/30/17000/0\",\"Male/22/18000/0\",\"Male/31/18000/0\",\"Male/32/18000/0\",\"Male/19/19000/0\",\"Male/24/19000/0\",\"Male/23/20000/0\",\"Male/27/20000/0\",\"Male/35/20000/0\",\"Female/19/21000/0\",\"Male/25/22000/0\",\"Male/35/22000/0\",\"Female/46/22000/0\",\"Female/20/23000/0\",\"Male/24/23000/0\",\"Female/35/23000/0\",\"Male/19/25000/0\",\"Female/34/25000/0\",\"Female/35/25000/0\",\"Female/19/26000/0\",\"Female/22/27000/0\",\"Female/24/27000/0\",\"Male/35/27000/0\",\"Female/23/28000/0\",\"Female/29/28000/0\",\"Female/33/28000/0\",\"Male/26/30000/0\",\"Female/41/30000/0\",\"Female/27/31000/0\",\"Male/33/31000/0\",\"Female/24/32000/0\",\"Male/26/32000/0\",\"Male/28/32000/0\",\"Male/25/33000/0\",\"Male/36/33000/0\",\"Female/37/33000/0\",\"Female/31/34000/0\",\"Female/26/35000/0\",\"Female/20/36000/0\",\"Female/28/37000/0\",\"Male/35/38000/0\",\"Male/35/39000/0\",\"Female/44/39000/0\",\"Female/33/41000/0\",\"Male/39/42000/0\",\"Female/59/42000/0\",\"Female/26/43000/0\",\"Male/29/43000/0\",\"Male/33/43000/0\",\"Female/34/43000/0\",\"Male/34/43000/0\",\"Male/47/43000/0\",\"Female/18/44000/0\",\"Female/28/44000/0\",\"Female/35/44000/0\",\"Female/50/44000/0\",\"Male/41/45000/0\",\"Female/29/47000/0\",\"Female/35/47000/0\",\"Male/40/47000/0\",\"Female/47/47000/0\",\"Female/23/48000/0\",\"Male/20/49000/0\",\"Male/30/49000/0\",\"Female/35/50000/0\",\"Male/35/50000/0\",\"Female/36/50000/0\",\"Female/38/50000/0\",\"Female/33/51000/0\",\"Male/38/51000/0\",\"Female/41/51000/0\",\"Male/18/52000/0\",\"Female/26/52000/0\",\"Male/36/52000/0\",\"Male/37/52000/0\",\"Male/41/52000/0\",\"Male/35/53000/0\",\"Male/37/53000/0\",\"Female/42/53000/0\",\"Female/27/54000/0\",\"Female/36/54000/0\",\"Male/42/54000/0\",\"Female/22/55000/0\",\"Female/24/55000/0\",\"Male/24/55000/0\",\"Female/28/55000/0\",\"Male/35/55000/0\",\"Male/37/55000/0\",\"Female/38/55000/0\",\"Female/27/57000/0\",\"Female/35/57000/0\",\"Female/37/57000/0\",\"Male/40/57000/0\",\"Male/24/58000/0\",\"Female/27/58000/0\",\"Male/27/58000/0\",\"Male/31/58000/0\",\"Male/35/58000/0\",\"Female/28/59000/0\",\"Male/28/59000/0\",\"Male/35/59000/0\",\"Male/38/59000/0\",\"Female/39/59000/0\",\"Male/40/59000/0\",\"Male/41/59000/0\",\"Male/46/59000/0\",\"Female/33/60000/0\",\"Female/35/60000/0\",\"Male/36/60000/0\",\"Female/40/60000/0\",\"Female/41/60000/0\",\"Male/29/61000/0\",\"Male/35/61000/0\",\"Male/38/61000/0\",\"Female/39/61000/0\",\"Male/40/61000/0\",\"Female/30/62000/0\",\"Female/37/62000/0\",\"Female/22/63000/0\",\"Male/23/63000/0\",\"Female/36/63000/0\",\"Female/41/63000/0\",\"Male/42/64000/0\",\"Female/35/65000/0\",\"Female/38/65000/0\",\"Male/40/65000/0\",\"Male/42/65000/0\",\"Male/49/65000/0\",\"Female/23/66000/0\",\"Male/31/66000/0\",\"Female/18/68000/0\",\"Female/21/68000/0\",\"Female/31/68000/0\",\"Female/33/69000/0\",\"Male/19/70000/0\",\"Female/42/70000/0\",\"Female/31/71000/0\",\"Female/35/71000/0\",\"Female/37/71000/0\",\"Male/38/71000/0\",\"Female/39/71000/0\",\"Male/39/71000/0\",\"Female/41/71000/0\",\"Male/21/72000/0\",\"Female/26/72000/0\",\"Female/34/72000/0\",\"Female/35/72000/0\",\"Male/35/72000/0\",\"Male/37/72000/0\",\"Female/40/72000/0\",\"Female/41/72000/0\",\"Male/41/72000/0\",\"Male/35/73000/0\",\"Female/39/73000/0\",\"Male/20/74000/0\",\"Male/31/74000/0\",\"Male/37/74000/0\",\"Female/46/74000/0\",\"Male/49/74000/0\",\"Male/29/75000/0\",\"Male/35/75000/0\",\"Female/36/75000/0\",\"Male/37/75000/0\",\"Female/40/75000/0\",\"Male/40/75000/0\",\"Female/42/75000/0\",\"Male/19/76000/0\",\"Male/31/76000/0\",\"Female/35/77000/0\",\"Male/37/77000/0\",\"Male/39/77000/0\",\"Male/40/78000/0\",\"Male/25/79000/0\",\"Male/28/79000/0\",\"Female/30/79000/0\",\"Male/35/79000/0\",\"Female/39/79000/0\",\"Male/41/79000/0\",\"Female/42/79000/0\",\"Male/45/79000/0\",\"Male/25/80000/0\",\"Female/26/80000/0\",\"Male/26/80000/0\",\"Male/29/80000/0\",\"Male/30/80000/0\",\"Female/37/80000/0\",\"Female/38/80000/0\",\"Female/41/80000/0\",\"Male/42/80000/0\",\"Male/22/81000/0\",\"Male/26/81000/0\",\"Male/18/82000/0\",\"Female/20/82000/0\",\"Female/23/82000/0\",\"Female/46/82000/0\",\"Female/29/83000/0\",\"Female/59/83000/0\",\"Male/24/84000/0\",\"Female/26/84000/0\",\"Female/27/84000/0\",\"Female/28/84000/0\",\"Male/19/85000/0\",\"Female/28/85000/0\",\"Female/18/86000/0\",\"Male/20/86000/0\",\"Male/26/86000/0\",\"Female/32/86000/0\",\"Male/25/87000/0\",\"Female/28/87000/0\",\"Male/30/87000/0\",\"Male/21/88000/0\",\"Male/27/88000/0\",\"Male/35/88000/0\",\"Female/24/89000/0\",\"Male/27/89000/0\",\"Male/28/89000/0\",\"Male/30/89000/0\",\"Female/31/89000/0\",\"Male/25/90000/0\",\"Male/27/90000/0\",\"Female/46/96000/0\",\"Male/35/108000/0\",\"Female/38/112000/0\",\"Female/33/113000/0\",\"Female/52/114000/0\",\"Male/34/115000/0\",\"Female/30/116000/0\",\"Female/32/117000/0\",\"Female/26/118000/0\",\"Female/43/133000/0\",\"Female/51/134000/0\",\"Male/48/141000/0\",\"Female/26/15000\",\"Male/26/15000\",\"Male/30/15000\",\"Female/31/15000\",\"Female/21/16000\",\"Male/26/16000\",\"Female/26/17000\",\"Female/27/17000\",\"Male/30/17000\",\"Male/22/18000\",\"Male/31/18000\",\"Male/32/18000\",\"Male/19/19000\",\"Male/24/19000\",\"Male/23/20000\",\"Male/27/20000\",\"Male/35/20000\",\"Female/19/21000\",\"Male/25/22000\",\"Male/35/22000\",\"Female/46/22000\",\"Female/20/23000\",\"Male/24/23000\",\"Female/35/23000\",\"Male/19/25000\",\"Female/34/25000\",\"Female/35/25000\",\"Female/19/26000\",\"Female/22/27000\",\"Female/24/27000\",\"Male/35/27000\",\"Female/23/28000\",\"Female/29/28000\",\"Female/33/28000\",\"Male/26/30000\",\"Female/41/30000\",\"Female/27/31000\",\"Male/33/31000\",\"Female/24/32000\",\"Male/26/32000\",\"Male/28/32000\",\"Male/25/33000\",\"Male/36/33000\",\"Female/37/33000\",\"Female/31/34000\",\"Female/26/35000\",\"Female/20/36000\",\"Female/28/37000\",\"Male/35/38000\",\"Male/35/39000\",\"Female/44/39000\",\"Female/33/41000\",\"Male/39/42000\",\"Female/59/42000\",\"Female/26/43000\",\"Male/29/43000\",\"Male/33/43000\",\"Female/34/43000\",\"Male/34/43000\",\"Male/47/43000\",\"Female/18/44000\",\"Female/28/44000\",\"Female/35/44000\",\"Female/50/44000\",\"Male/41/45000\",\"Female/29/47000\",\"Female/35/47000\",\"Male/40/47000\",\"Female/47/47000\",\"Female/23/48000\",\"Male/20/49000\",\"Male/30/49000\",\"Female/35/50000\",\"Male/35/50000\",\"Female/36/50000\",\"Female/38/50000\",\"Female/33/51000\",\"Male/38/51000\",\"Female/41/51000\",\"Male/18/52000\",\"Female/26/52000\",\"Male/36/52000\",\"Male/37/52000\",\"Male/41/52000\",\"Male/35/53000\",\"Male/37/53000\",\"Female/42/53000\",\"Female/27/54000\",\"Female/36/54000\",\"Male/42/54000\",\"Female/22/55000\",\"Female/24/55000\",\"Male/24/55000\",\"Female/28/55000\",\"Male/35/55000\",\"Male/37/55000\",\"Female/38/55000\",\"Female/27/57000\",\"Female/35/57000\",\"Female/37/57000\",\"Male/40/57000\",\"Male/24/58000\",\"Female/27/58000\",\"Male/27/58000\",\"Male/31/58000\",\"Male/35/58000\",\"Female/28/59000\",\"Male/28/59000\",\"Male/35/59000\",\"Male/38/59000\",\"Female/39/59000\",\"Male/40/59000\",\"Male/41/59000\",\"Male/46/59000\",\"Female/33/60000\",\"Female/35/60000\",\"Male/36/60000\",\"Female/40/60000\",\"Female/41/60000\",\"Male/29/61000\",\"Male/35/61000\",\"Male/38/61000\",\"Female/39/61000\",\"Male/40/61000\",\"Female/30/62000\",\"Female/37/62000\",\"Female/22/63000\",\"Male/23/63000\",\"Female/36/63000\",\"Female/41/63000\",\"Male/42/64000\",\"Female/35/65000\",\"Female/38/65000\",\"Male/40/65000\",\"Male/42/65000\",\"Male/49/65000\",\"Female/23/66000\",\"Male/31/66000\",\"Female/18/68000\",\"Female/21/68000\",\"Female/31/68000\",\"Female/33/69000\",\"Male/19/70000\",\"Female/42/70000\",\"Female/31/71000\",\"Female/35/71000\",\"Female/37/71000\",\"Male/38/71000\",\"Female/39/71000\",\"Male/39/71000\",\"Female/41/71000\",\"Male/21/72000\",\"Female/26/72000\",\"Female/34/72000\",\"Female/35/72000\",\"Male/35/72000\",\"Male/37/72000\",\"Female/40/72000\",\"Female/41/72000\",\"Male/41/72000\",\"Male/35/73000\",\"Female/39/73000\",\"Male/20/74000\",\"Male/31/74000\",\"Male/37/74000\",\"Female/46/74000\",\"Male/49/74000\",\"Male/29/75000\",\"Male/35/75000\",\"Female/36/75000\",\"Male/37/75000\",\"Female/40/75000\",\"Male/40/75000\",\"Female/42/75000\",\"Male/19/76000\",\"Male/31/76000\",\"Female/35/77000\",\"Male/37/77000\",\"Male/39/77000\",\"Male/40/78000\",\"Male/25/79000\",\"Male/28/79000\",\"Female/30/79000\",\"Male/35/79000\",\"Female/39/79000\",\"Male/41/79000\",\"Female/42/79000\",\"Male/45/79000\",\"Male/25/80000\",\"Female/26/80000\",\"Male/26/80000\",\"Male/29/80000\",\"Male/30/80000\",\"Female/37/80000\",\"Female/38/80000\",\"Female/41/80000\",\"Male/42/80000\",\"Male/22/81000\",\"Male/26/81000\",\"Male/18/82000\",\"Female/20/82000\",\"Female/23/82000\",\"Female/46/82000\",\"Female/29/83000\",\"Female/59/83000\",\"Male/24/84000\",\"Female/26/84000\",\"Female/27/84000\",\"Female/28/84000\",\"Male/19/85000\",\"Female/28/85000\",\"Female/18/86000\",\"Male/20/86000\",\"Male/26/86000\",\"Female/32/86000\",\"Male/25/87000\",\"Female/28/87000\",\"Male/30/87000\",\"Male/21/88000\",\"Male/27/88000\",\"Male/35/88000\",\"Female/24/89000\",\"Male/27/89000\",\"Male/28/89000\",\"Male/30/89000\",\"Female/31/89000\",\"Male/25/90000\",\"Male/27/90000\",\"Female/46/96000\",\"Male/35/108000\",\"Female/38/112000\",\"Female/33/113000\",\"Female/52/114000\",\"Male/34/115000\",\"Female/30/116000\",\"Female/32/117000\",\"Female/26/118000\",\"Female/43/133000\",\"Female/51/134000\",\"Male/48/141000\",\"Female/18\",\"Male/18\",\"Female/19\",\"Male/19\",\"Female/20\",\"Male/20\",\"Female/21\",\"Male/21\",\"Female/22\",\"Male/22\",\"Female/23\",\"Male/23\",\"Female/24\",\"Male/24\",\"Male/25\",\"Female/26\",\"Male/26\",\"Female/27\",\"Male/27\",\"Female/28\",\"Male/28\",\"Female/29\",\"Male/29\",\"Female/30\",\"Male/30\",\"Female/31\",\"Male/31\",\"Female/32\",\"Male/32\",\"Female/33\",\"Male/33\",\"Female/34\",\"Male/34\",\"Female/35\",\"Male/35\",\"Female/36\",\"Male/36\",\"Female/37\",\"Male/37\",\"Female/38\",\"Male/38\",\"Female/39\",\"Male/39\",\"Female/40\",\"Male/40\",\"Female/41\",\"Male/41\",\"Female/42\",\"Male/42\",\"Female/43\",\"Female/44\",\"Male/45\",\"Female/46\",\"Male/46\",\"Female/47\",\"Male/47\",\"Male/48\",\"Male/49\",\"Female/50\",\"Female/51\",\"Female/52\",\"Female/59\",\"Female\",\"Male\"],\"labels\":[\"Low\",\"Low\",\"Low\",\"Low\",\"Low\",\"Low\",\"Low\",\"Low\",\"Low\",\"Low\",\"Low\",\"Low\",\"Low\",\"Low\",\"Low\",\"Low\",\"Low\",\"Low\",\"Low\",\"Low\",\"Low\",\"Low\",\"Low\",\"Low\",\"Low\",\"Low\",\"Low\",\"Low\",\"Low\",\"Low\",\"Low\",\"Low\",\"Low\",\"Low\",\"Low\",\"Low\",\"Low\",\"Medium\",\"Medium\",\"Medium\",\"Medium\",\"Medium\",\"Medium\",\"Medium\",\"Medium\",\"Medium\",\"Medium\",\"Medium\",\"Medium\",\"Medium\",\"Medium\",\"Medium\",\"Medium\",\"Medium\",\"Medium\",\"Medium\",\"Medium\",\"Medium\",\"Medium\",\"Medium\",\"Medium\",\"Medium\",\"Medium\",\"Medium\",\"Medium\",\"Medium\",\"Medium\",\"Medium\",\"Medium\",\"Medium\",\"Medium\",\"Medium\",\"Medium\",\"Medium\",\"Medium\",\"Medium\",\"Medium\",\"Medium\",\"Medium\",\"Medium\",\"Medium\",\"Medium\",\"Medium\",\"Medium\",\"Medium\",\"Medium\",\"Medium\",\"Medium\",\"Medium\",\"Medium\",\"Medium\",\"Medium\",\"Medium\",\"Medium\",\"Medium\",\"Medium\",\"Medium\",\"Medium\",\"Medium\",\"Medium\",\"Medium\",\"Medium\",\"Medium\",\"Medium\",\"Medium\",\"Medium\",\"Medium\",\"Medium\",\"Medium\",\"Medium\",\"Medium\",\"Medium\",\"Medium\",\"Medium\",\"Medium\",\"Moderately Low\",\"Moderately Low\",\"Moderately Low\",\"Moderately Low\",\"Moderately Low\",\"Moderately Low\",\"Moderately Low\",\"Moderately Low\",\"Moderately Low\",\"Moderately Low\",\"Moderately Low\",\"Moderately Low\",\"Moderately Low\",\"Moderately Low\",\"Moderately Low\",\"Moderately Low\",\"Moderately Low\",\"Moderately Low\",\"Moderately Low\",\"Moderately Low\",\"Moderately Low\",\"Moderately Low\",\"Moderately Low\",\"Moderately Low\",\"Moderately Low\",\"Moderately Low\",\"Moderately Low\",\"Moderately Low\",\"Moderately Low\",\"Moderately Low\",\"Moderately Low\",\"Moderately Low\",\"Moderately Low\",\"Moderately Low\",\"Moderately Low\",\"Moderately Low\",\"Moderately Low\",\"Moderately Low\",\"Moderately Low\",\"Moderately Low\",\"Moderately Low\",\"Moderately Low\",\"Moderately Low\",\"Moderately Low\",\"Moderately Low\",\"Moderately Low\",\"Moderately Low\",\"Moderately Low\",\"Moderately Low\",\"Moderately Low\",\"Moderately Low\",\"Moderately Low\",\"Moderately Low\",\"Moderately Low\",\"Moderately Low\",\"Moderately Low\",\"Moderately Low\",\"Moderately Low\",\"Moderately Low\",\"Moderately Low\",\"Moderately Low\",\"Moderately Low\",\"Moderately Low\",\"Moderately Low\",\"Moderately Low\",\"Moderately Low\",\"Moderately Low\",\"Moderately Low\",\"Moderately high\",\"Moderately high\",\"Moderately high\",\"Moderately high\",\"Moderately high\",\"Moderately high\",\"Moderately high\",\"Moderately high\",\"Moderately high\",\"Moderately high\",\"Moderately high\",\"Moderately high\",\"Moderately high\",\"Moderately high\",\"Moderately high\",\"Moderately high\",\"Moderately high\",\"Moderately high\",\"Moderately high\",\"Moderately high\",\"Moderately high\",\"Moderately high\",\"Moderately high\",\"Moderately high\",\"Moderately high\",\"Moderately high\",\"Moderately high\",\"Moderately high\",\"Moderately high\",\"Moderately high\",\"Moderately high\",\"Moderately high\",\"Very High\",\"Very High\",\"Very High\",\"Very High\",\"Very High\",\"Very High\",\"Very High\",\"Very High\",\"Very High\",\"Very High\",\"Very High\",\"Very Low\",\"Very Low\",\"Very Low\",\"Very Low\",\"Very Low\",\"Very Low\",\"Very Low\",\"Very Low\",\"Very Low\",\"Very Low\",\"Very Low\",\"Very Low\",\"Very Low\",\"Very Low\",\"A\",\"A\",\"A\",\"A\",\"A\",\"A\",\"A\",\"A\",\"A\",\"A\",\"A\",\"A\",\"A\",\"A\",\"A\",\"A\",\"A\",\"A\",\"B\",\"B\",\"B\",\"B\",\"B\",\"B\",\"B\",\"B\",\"B\",\"B\",\"B\",\"B\",\"B\",\"B\",\"B\",\"B\",\"B\",\"B\",\"B\",\"B\",\"B\",\"B\",\"B\",\"B\",\"B\",\"B\",\"B\",\"B\",\"B\",\"B\",\"B\",\"B\",\"B\",\"B\",\"B\",\"B\",\"B\",\"B\",\"B\",\"B\",\"B\",\"B\",\"B\",\"B\",\"B\",\"B\",\"C\",\"C\",\"C\",\"C\",\"C\",\"C\",\"C\",\"C\",\"C\",\"C\",\"C\",\"C\",\"C\",\"C\",\"C\",\"C\",\"C\",\"C\",\"C\",\"C\",\"C\",\"C\",\"C\",\"C\",\"C\",\"C\",\"C\",\"C\",\"C\",\"C\",\"C\",\"C\",\"C\",\"C\",\"C\",\"C\",\"C\",\"C\",\"D\",\"D\",\"D\",\"D\",\"D\",\"D\",\"D\",\"D\",\"D\",\"D\",\"D\",\"D\",\"D\",\"D\",\"D\",\"D\",\"D\",\"D\",\"D\",\"D\",\"D\",\"D\",\"D\",\"D\",\"D\",\"D\",\"D\",\"D\",\"D\",\"D\",\"D\",\"D\",\"D\",\"D\",\"D\",\"D\",\"D\",\"D\",\"D\",\"D\",\"D\",\"D\",\"D\",\"D\",\"D\",\"D\",\"D\",\"D\",\"D\",\"D\",\"D\",\"D\",\"D\",\"D\",\"D\",\"D\",\"D\",\"D\",\"D\",\"D\",\"D\",\"D\",\"D\",\"D\",\"D\",\"D\",\"D\",\"D\",\"D\",\"D\",\"D\",\"D\",\"D\",\"D\",\"D\",\"D\",\"D\",\"D\",\"D\",\"D\",\"D\",\"D\",\"D\",\"D\",\"D\",\"D\",\"D\",\"D\",\"D\",\"D\",\"D\",\"D\",\"D\",\"D\",\"D\",\"D\",\"D\",\"D\",\"D\",\"D\",\"E\",\"E\",\"E\",\"E\",\"E\",\"E\",\"E\",\"E\",\"E\",\"E\",\"E\",\"E\",\"E\",\"E\",\"E\",\"E\",\"E\",\"E\",\"E\",\"E\",\"E\",\"E\",\"E\",\"E\",\"E\",\"E\",\"E\",\"E\",\"E\",\"E\",\"E\",\"E\",\"E\",\"E\",\"F\",\"F\",\"F\",\"F\",\"0\",\"0\",\"0\",\"0\",\"0\",\"0\",\"0\",\"0\",\"0\",\"0\",\"0\",\"0\",\"0\",\"0\",\"0\",\"0\",\"0\",\"0\",\"0\",\"0\",\"0\",\"0\",\"0\",\"0\",\"0\",\"0\",\"0\",\"0\",\"0\",\"0\",\"0\",\"0\",\"0\",\"0\",\"0\",\"0\",\"0\",\"0\",\"0\",\"0\",\"0\",\"0\",\"0\",\"0\",\"0\",\"0\",\"0\",\"0\",\"0\",\"0\",\"0\",\"0\",\"0\",\"0\",\"0\",\"0\",\"0\",\"0\",\"0\",\"0\",\"0\",\"0\",\"0\",\"0\",\"0\",\"0\",\"0\",\"0\",\"0\",\"0\",\"0\",\"0\",\"0\",\"0\",\"0\",\"0\",\"0\",\"0\",\"0\",\"0\",\"0\",\"0\",\"0\",\"0\",\"0\",\"0\",\"0\",\"0\",\"0\",\"0\",\"0\",\"0\",\"0\",\"0\",\"0\",\"0\",\"0\",\"0\",\"0\",\"0\",\"0\",\"0\",\"0\",\"0\",\"0\",\"0\",\"0\",\"0\",\"0\",\"0\",\"0\",\"0\",\"0\",\"0\",\"0\",\"0\",\"0\",\"0\",\"0\",\"0\",\"0\",\"0\",\"0\",\"0\",\"0\",\"0\",\"0\",\"0\",\"0\",\"0\",\"0\",\"0\",\"0\",\"0\",\"0\",\"0\",\"0\",\"0\",\"0\",\"0\",\"0\",\"0\",\"0\",\"0\",\"0\",\"0\",\"0\",\"0\",\"0\",\"0\",\"0\",\"0\",\"0\",\"0\",\"0\",\"0\",\"0\",\"0\",\"0\",\"0\",\"0\",\"0\",\"0\",\"0\",\"0\",\"0\",\"0\",\"0\",\"0\",\"0\",\"0\",\"0\",\"0\",\"0\",\"0\",\"0\",\"0\",\"0\",\"0\",\"0\",\"0\",\"0\",\"0\",\"0\",\"0\",\"0\",\"0\",\"0\",\"0\",\"0\",\"0\",\"0\",\"0\",\"0\",\"0\",\"0\",\"0\",\"0\",\"0\",\"0\",\"0\",\"0\",\"0\",\"0\",\"0\",\"0\",\"0\",\"0\",\"0\",\"0\",\"0\",\"0\",\"0\",\"0\",\"0\",\"0\",\"0\",\"0\",\"0\",\"0\",\"0\",\"0\",\"0\",\"0\",\"0\",\"0\",\"0\",\"0\",\"0\",\"0\",\"0\",\"0\",\"0\",\"0\",\"0\",\"0\",\"0\",\"0\",\"0\",\"0\",\"15000\",\"15000\",\"15000\",\"15000\",\"16000\",\"16000\",\"17000\",\"17000\",\"17000\",\"18000\",\"18000\",\"18000\",\"19000\",\"19000\",\"20000\",\"20000\",\"20000\",\"21000\",\"22000\",\"22000\",\"22000\",\"23000\",\"23000\",\"23000\",\"25000\",\"25000\",\"25000\",\"26000\",\"27000\",\"27000\",\"27000\",\"28000\",\"28000\",\"28000\",\"30000\",\"30000\",\"31000\",\"31000\",\"32000\",\"32000\",\"32000\",\"33000\",\"33000\",\"33000\",\"34000\",\"35000\",\"36000\",\"37000\",\"38000\",\"39000\",\"39000\",\"41000\",\"42000\",\"42000\",\"43000\",\"43000\",\"43000\",\"43000\",\"43000\",\"43000\",\"44000\",\"44000\",\"44000\",\"44000\",\"45000\",\"47000\",\"47000\",\"47000\",\"47000\",\"48000\",\"49000\",\"49000\",\"50000\",\"50000\",\"50000\",\"50000\",\"51000\",\"51000\",\"51000\",\"52000\",\"52000\",\"52000\",\"52000\",\"52000\",\"53000\",\"53000\",\"53000\",\"54000\",\"54000\",\"54000\",\"55000\",\"55000\",\"55000\",\"55000\",\"55000\",\"55000\",\"55000\",\"57000\",\"57000\",\"57000\",\"57000\",\"58000\",\"58000\",\"58000\",\"58000\",\"58000\",\"59000\",\"59000\",\"59000\",\"59000\",\"59000\",\"59000\",\"59000\",\"59000\",\"60000\",\"60000\",\"60000\",\"60000\",\"60000\",\"61000\",\"61000\",\"61000\",\"61000\",\"61000\",\"62000\",\"62000\",\"63000\",\"63000\",\"63000\",\"63000\",\"64000\",\"65000\",\"65000\",\"65000\",\"65000\",\"65000\",\"66000\",\"66000\",\"68000\",\"68000\",\"68000\",\"69000\",\"70000\",\"70000\",\"71000\",\"71000\",\"71000\",\"71000\",\"71000\",\"71000\",\"71000\",\"72000\",\"72000\",\"72000\",\"72000\",\"72000\",\"72000\",\"72000\",\"72000\",\"72000\",\"73000\",\"73000\",\"74000\",\"74000\",\"74000\",\"74000\",\"74000\",\"75000\",\"75000\",\"75000\",\"75000\",\"75000\",\"75000\",\"75000\",\"76000\",\"76000\",\"77000\",\"77000\",\"77000\",\"78000\",\"79000\",\"79000\",\"79000\",\"79000\",\"79000\",\"79000\",\"79000\",\"79000\",\"80000\",\"80000\",\"80000\",\"80000\",\"80000\",\"80000\",\"80000\",\"80000\",\"80000\",\"81000\",\"81000\",\"82000\",\"82000\",\"82000\",\"82000\",\"83000\",\"83000\",\"84000\",\"84000\",\"84000\",\"84000\",\"85000\",\"85000\",\"86000\",\"86000\",\"86000\",\"86000\",\"87000\",\"87000\",\"87000\",\"88000\",\"88000\",\"88000\",\"89000\",\"89000\",\"89000\",\"89000\",\"89000\",\"90000\",\"90000\",\"96000\",\"108000\",\"112000\",\"113000\",\"114000\",\"115000\",\"116000\",\"117000\",\"118000\",\"133000\",\"134000\",\"141000\",\"18\",\"18\",\"19\",\"19\",\"20\",\"20\",\"21\",\"21\",\"22\",\"22\",\"23\",\"23\",\"24\",\"24\",\"25\",\"26\",\"26\",\"27\",\"27\",\"28\",\"28\",\"29\",\"29\",\"30\",\"30\",\"31\",\"31\",\"32\",\"32\",\"33\",\"33\",\"34\",\"34\",\"35\",\"35\",\"36\",\"36\",\"37\",\"37\",\"38\",\"38\",\"39\",\"39\",\"40\",\"40\",\"41\",\"41\",\"42\",\"42\",\"43\",\"44\",\"45\",\"46\",\"46\",\"47\",\"47\",\"48\",\"49\",\"50\",\"51\",\"52\",\"59\",\"Female\",\"Male\"],\"name\":\"\",\"parents\":[\"Female/19/21000/0/A\",\"Female/20/23000/0/A\",\"Male/19/25000/0/A\",\"Female/19/26000/0/A\",\"Female/20/36000/0/A\",\"Male/23/20000/0/B\",\"Male/25/22000/0/B\",\"Male/24/23000/0/B\",\"Female/22/27000/0/B\",\"Female/24/27000/0/B\",\"Female/23/28000/0/B\",\"Male/26/30000/0/B\",\"Female/24/32000/0/B\",\"Male/26/32000/0/B\",\"Male/25/33000/0/B\",\"Female/26/35000/0/B\",\"Male/27/20000/0/C\",\"Female/29/28000/0/C\",\"Female/27/31000/0/C\",\"Male/28/32000/0/C\",\"Female/28/37000/0/C\",\"Male/35/20000/0/D\",\"Male/35/22000/0/D\",\"Female/35/23000/0/D\",\"Female/34/25000/0/D\",\"Female/35/25000/0/D\",\"Male/35/27000/0/D\",\"Female/33/28000/0/D\",\"Male/33/31000/0/D\",\"Male/36/33000/0/D\",\"Female/37/33000/0/D\",\"Female/31/34000/0/D\",\"Male/35/38000/0/D\",\"Male/35/39000/0/D\",\"Female/46/22000/0/E\",\"Female/41/30000/0/E\",\"Female/44/39000/0/E\",\"Female/18/68000/0/A\",\"Male/19/70000/0/A\",\"Male/20/74000/0/A\",\"Male/19/76000/0/A\",\"Female/22/63000/0/B\",\"Male/23/63000/0/B\",\"Female/23/66000/0/B\",\"Female/21/68000/0/B\",\"Male/21/72000/0/B\",\"Female/26/72000/0/B\",\"Male/25/79000/0/B\",\"Male/25/80000/0/B\",\"Female/26/80000/0/B\",\"Male/26/80000/0/B\",\"Male/29/61000/0/C\",\"Female/30/62000/0/C\",\"Male/29/75000/0/C\",\"Male/28/79000/0/C\",\"Female/30/79000/0/C\",\"Male/29/80000/0/C\",\"Male/30/80000/0/C\",\"Male/35/61000/0/D\",\"Male/38/61000/0/D\",\"Female/39/61000/0/D\",\"Male/40/61000/0/D\",\"Female/37/62000/0/D\",\"Female/36/63000/0/D\",\"Female/35/65000/0/D\",\"Female/38/65000/0/D\",\"Male/40/65000/0/D\",\"Male/31/66000/0/D\",\"Female/31/68000/0/D\",\"Female/33/69000/0/D\",\"Female/31/71000/0/D\",\"Female/35/71000/0/D\",\"Female/37/71000/0/D\",\"Male/38/71000/0/D\",\"Female/39/71000/0/D\",\"Male/39/71000/0/D\",\"Female/34/72000/0/D\",\"Female/35/72000/0/D\",\"Male/35/72000/0/D\",\"Male/37/72000/0/D\",\"Female/40/72000/0/D\",\"Male/35/73000/0/D\",\"Female/39/73000/0/D\",\"Male/31/74000/0/D\",\"Male/37/74000/0/D\",\"Male/35/75000/0/D\",\"Female/36/75000/0/D\",\"Male/37/75000/0/D\",\"Female/40/75000/0/D\",\"Male/40/75000/0/D\",\"Male/31/76000/0/D\",\"Female/35/77000/0/D\",\"Male/37/77000/0/D\",\"Male/39/77000/0/D\",\"Male/40/78000/0/D\",\"Male/35/79000/0/D\",\"Female/39/79000/0/D\",\"Female/37/80000/0/D\",\"Female/38/80000/0/D\",\"Female/41/63000/0/E\",\"Male/42/64000/0/E\",\"Male/42/65000/0/E\",\"Male/49/65000/0/E\",\"Female/42/70000/0/E\",\"Female/41/71000/0/E\",\"Female/41/72000/0/E\",\"Male/41/72000/0/E\",\"Female/46/74000/0/E\",\"Male/49/74000/0/E\",\"Female/42/75000/0/E\",\"Male/41/79000/0/E\",\"Female/42/79000/0/E\",\"Male/45/79000/0/E\",\"Female/41/80000/0/E\",\"Male/42/80000/0/E\",\"Female/18/44000/0/A\",\"Male/20/49000/0/A\",\"Male/18/52000/0/A\",\"Female/26/43000/0/B\",\"Female/23/48000/0/B\",\"Female/26/52000/0/B\",\"Female/22/55000/0/B\",\"Female/24/55000/0/B\",\"Male/24/55000/0/B\",\"Male/24/58000/0/B\",\"Male/29/43000/0/C\",\"Female/28/44000/0/C\",\"Female/29/47000/0/C\",\"Male/30/49000/0/C\",\"Female/27/54000/0/C\",\"Female/28/55000/0/C\",\"Female/27/57000/0/C\",\"Female/27/58000/0/C\",\"Male/27/58000/0/C\",\"Female/28/59000/0/C\",\"Male/28/59000/0/C\",\"Female/33/41000/0/D\",\"Male/39/42000/0/D\",\"Male/33/43000/0/D\",\"Female/34/43000/0/D\",\"Male/34/43000/0/D\",\"Female/35/44000/0/D\",\"Female/35/47000/0/D\",\"Male/40/47000/0/D\",\"Female/35/50000/0/D\",\"Male/35/50000/0/D\",\"Female/36/50000/0/D\",\"Female/38/50000/0/D\",\"Female/33/51000/0/D\",\"Male/38/51000/0/D\",\"Male/36/52000/0/D\",\"Male/37/52000/0/D\",\"Male/35/53000/0/D\",\"Male/37/53000/0/D\",\"Female/36/54000/0/D\",\"Male/35/55000/0/D\",\"Male/37/55000/0/D\",\"Female/38/55000/0/D\",\"Female/35/57000/0/D\",\"Female/37/57000/0/D\",\"Male/40/57000/0/D\",\"Male/31/58000/0/D\",\"Male/35/58000/0/D\",\"Male/35/59000/0/D\",\"Male/38/59000/0/D\",\"Female/39/59000/0/D\",\"Male/40/59000/0/D\",\"Female/33/60000/0/D\",\"Female/35/60000/0/D\",\"Male/36/60000/0/D\",\"Female/40/60000/0/D\",\"Male/47/43000/0/E\",\"Female/50/44000/0/E\",\"Male/41/45000/0/E\",\"Female/47/47000/0/E\",\"Female/41/51000/0/E\",\"Male/41/52000/0/E\",\"Female/42/53000/0/E\",\"Male/42/54000/0/E\",\"Male/41/59000/0/E\",\"Male/46/59000/0/E\",\"Female/41/60000/0/E\",\"Female/59/42000/0/F\",\"Male/18/82000/0/A\",\"Female/20/82000/0/A\",\"Male/19/85000/0/A\",\"Female/18/86000/0/A\",\"Male/20/86000/0/A\",\"Male/22/81000/0/B\",\"Male/26/81000/0/B\",\"Female/23/82000/0/B\",\"Male/24/84000/0/B\",\"Female/26/84000/0/B\",\"Male/26/86000/0/B\",\"Male/25/87000/0/B\",\"Male/21/88000/0/B\",\"Female/24/89000/0/B\",\"Male/25/90000/0/B\",\"Female/29/83000/0/C\",\"Female/27/84000/0/C\",\"Female/28/84000/0/C\",\"Female/28/85000/0/C\",\"Female/28/87000/0/C\",\"Male/30/87000/0/C\",\"Male/27/88000/0/C\",\"Male/27/89000/0/C\",\"Male/28/89000/0/C\",\"Male/30/89000/0/C\",\"Male/27/90000/0/C\",\"Female/32/86000/0/D\",\"Male/35/88000/0/D\",\"Female/31/89000/0/D\",\"Female/46/82000/0/E\",\"Female/46/96000/0/E\",\"Female/59/83000/0/F\",\"Female/26/118000/0/B\",\"Female/30/116000/0/C\",\"Male/35/108000/0/D\",\"Female/38/112000/0/D\",\"Female/33/113000/0/D\",\"Male/34/115000/0/D\",\"Female/32/117000/0/D\",\"Female/43/133000/0/E\",\"Male/48/141000/0/E\",\"Female/52/114000/0/F\",\"Female/51/134000/0/F\",\"Male/19/19000/0/A\",\"Female/26/15000/0/B\",\"Male/26/15000/0/B\",\"Female/21/16000/0/B\",\"Male/26/16000/0/B\",\"Female/26/17000/0/B\",\"Male/22/18000/0/B\",\"Male/24/19000/0/B\",\"Male/30/15000/0/C\",\"Female/27/17000/0/C\",\"Male/30/17000/0/C\",\"Female/31/15000/0/D\",\"Male/31/18000/0/D\",\"Male/32/18000/0/D\",\"Male/19/19000/0\",\"Female/19/21000/0\",\"Female/20/23000/0\",\"Male/19/25000/0\",\"Female/19/26000/0\",\"Female/20/36000/0\",\"Female/18/44000/0\",\"Male/20/49000/0\",\"Male/18/52000/0\",\"Female/18/68000/0\",\"Male/19/70000/0\",\"Male/20/74000/0\",\"Male/19/76000/0\",\"Male/18/82000/0\",\"Female/20/82000/0\",\"Male/19/85000/0\",\"Female/18/86000/0\",\"Male/20/86000/0\",\"Female/26/15000/0\",\"Male/26/15000/0\",\"Female/21/16000/0\",\"Male/26/16000/0\",\"Female/26/17000/0\",\"Male/22/18000/0\",\"Male/24/19000/0\",\"Male/23/20000/0\",\"Male/25/22000/0\",\"Male/24/23000/0\",\"Female/22/27000/0\",\"Female/24/27000/0\",\"Female/23/28000/0\",\"Male/26/30000/0\",\"Female/24/32000/0\",\"Male/26/32000/0\",\"Male/25/33000/0\",\"Female/26/35000/0\",\"Female/26/43000/0\",\"Female/23/48000/0\",\"Female/26/52000/0\",\"Female/22/55000/0\",\"Female/24/55000/0\",\"Male/24/55000/0\",\"Male/24/58000/0\",\"Female/22/63000/0\",\"Male/23/63000/0\",\"Female/23/66000/0\",\"Female/21/68000/0\",\"Male/21/72000/0\",\"Female/26/72000/0\",\"Male/25/79000/0\",\"Male/25/80000/0\",\"Female/26/80000/0\",\"Male/26/80000/0\",\"Male/22/81000/0\",\"Male/26/81000/0\",\"Female/23/82000/0\",\"Male/24/84000/0\",\"Female/26/84000/0\",\"Male/26/86000/0\",\"Male/25/87000/0\",\"Male/21/88000/0\",\"Female/24/89000/0\",\"Male/25/90000/0\",\"Female/26/118000/0\",\"Male/30/15000/0\",\"Female/27/17000/0\",\"Male/30/17000/0\",\"Male/27/20000/0\",\"Female/29/28000/0\",\"Female/27/31000/0\",\"Male/28/32000/0\",\"Female/28/37000/0\",\"Male/29/43000/0\",\"Female/28/44000/0\",\"Female/29/47000/0\",\"Male/30/49000/0\",\"Female/27/54000/0\",\"Female/28/55000/0\",\"Female/27/57000/0\",\"Female/27/58000/0\",\"Male/27/58000/0\",\"Female/28/59000/0\",\"Male/28/59000/0\",\"Male/29/61000/0\",\"Female/30/62000/0\",\"Male/29/75000/0\",\"Male/28/79000/0\",\"Female/30/79000/0\",\"Male/29/80000/0\",\"Male/30/80000/0\",\"Female/29/83000/0\",\"Female/27/84000/0\",\"Female/28/84000/0\",\"Female/28/85000/0\",\"Female/28/87000/0\",\"Male/30/87000/0\",\"Male/27/88000/0\",\"Male/27/89000/0\",\"Male/28/89000/0\",\"Male/30/89000/0\",\"Male/27/90000/0\",\"Female/30/116000/0\",\"Female/31/15000/0\",\"Male/31/18000/0\",\"Male/32/18000/0\",\"Male/35/20000/0\",\"Male/35/22000/0\",\"Female/35/23000/0\",\"Female/34/25000/0\",\"Female/35/25000/0\",\"Male/35/27000/0\",\"Female/33/28000/0\",\"Male/33/31000/0\",\"Male/36/33000/0\",\"Female/37/33000/0\",\"Female/31/34000/0\",\"Male/35/38000/0\",\"Male/35/39000/0\",\"Female/33/41000/0\",\"Male/39/42000/0\",\"Male/33/43000/0\",\"Female/34/43000/0\",\"Male/34/43000/0\",\"Female/35/44000/0\",\"Female/35/47000/0\",\"Male/40/47000/0\",\"Female/35/50000/0\",\"Male/35/50000/0\",\"Female/36/50000/0\",\"Female/38/50000/0\",\"Female/33/51000/0\",\"Male/38/51000/0\",\"Male/36/52000/0\",\"Male/37/52000/0\",\"Male/35/53000/0\",\"Male/37/53000/0\",\"Female/36/54000/0\",\"Male/35/55000/0\",\"Male/37/55000/0\",\"Female/38/55000/0\",\"Female/35/57000/0\",\"Female/37/57000/0\",\"Male/40/57000/0\",\"Male/31/58000/0\",\"Male/35/58000/0\",\"Male/35/59000/0\",\"Male/38/59000/0\",\"Female/39/59000/0\",\"Male/40/59000/0\",\"Female/33/60000/0\",\"Female/35/60000/0\",\"Male/36/60000/0\",\"Female/40/60000/0\",\"Male/35/61000/0\",\"Male/38/61000/0\",\"Female/39/61000/0\",\"Male/40/61000/0\",\"Female/37/62000/0\",\"Female/36/63000/0\",\"Female/35/65000/0\",\"Female/38/65000/0\",\"Male/40/65000/0\",\"Male/31/66000/0\",\"Female/31/68000/0\",\"Female/33/69000/0\",\"Female/31/71000/0\",\"Female/35/71000/0\",\"Female/37/71000/0\",\"Male/38/71000/0\",\"Female/39/71000/0\",\"Male/39/71000/0\",\"Female/34/72000/0\",\"Female/35/72000/0\",\"Male/35/72000/0\",\"Male/37/72000/0\",\"Female/40/72000/0\",\"Male/35/73000/0\",\"Female/39/73000/0\",\"Male/31/74000/0\",\"Male/37/74000/0\",\"Male/35/75000/0\",\"Female/36/75000/0\",\"Male/37/75000/0\",\"Female/40/75000/0\",\"Male/40/75000/0\",\"Male/31/76000/0\",\"Female/35/77000/0\",\"Male/37/77000/0\",\"Male/39/77000/0\",\"Male/40/78000/0\",\"Male/35/79000/0\",\"Female/39/79000/0\",\"Female/37/80000/0\",\"Female/38/80000/0\",\"Female/32/86000/0\",\"Male/35/88000/0\",\"Female/31/89000/0\",\"Male/35/108000/0\",\"Female/38/112000/0\",\"Female/33/113000/0\",\"Male/34/115000/0\",\"Female/32/117000/0\",\"Female/46/22000/0\",\"Female/41/30000/0\",\"Female/44/39000/0\",\"Male/47/43000/0\",\"Female/50/44000/0\",\"Male/41/45000/0\",\"Female/47/47000/0\",\"Female/41/51000/0\",\"Male/41/52000/0\",\"Female/42/53000/0\",\"Male/42/54000/0\",\"Male/41/59000/0\",\"Male/46/59000/0\",\"Female/41/60000/0\",\"Female/41/63000/0\",\"Male/42/64000/0\",\"Male/42/65000/0\",\"Male/49/65000/0\",\"Female/42/70000/0\",\"Female/41/71000/0\",\"Female/41/72000/0\",\"Male/41/72000/0\",\"Female/46/74000/0\",\"Male/49/74000/0\",\"Female/42/75000/0\",\"Male/41/79000/0\",\"Female/42/79000/0\",\"Male/45/79000/0\",\"Female/41/80000/0\",\"Male/42/80000/0\",\"Female/46/82000/0\",\"Female/46/96000/0\",\"Female/43/133000/0\",\"Male/48/141000/0\",\"Female/59/42000/0\",\"Female/59/83000/0\",\"Female/52/114000/0\",\"Female/51/134000/0\",\"Female/26/15000\",\"Male/26/15000\",\"Male/30/15000\",\"Female/31/15000\",\"Female/21/16000\",\"Male/26/16000\",\"Female/26/17000\",\"Female/27/17000\",\"Male/30/17000\",\"Male/22/18000\",\"Male/31/18000\",\"Male/32/18000\",\"Male/19/19000\",\"Male/24/19000\",\"Male/23/20000\",\"Male/27/20000\",\"Male/35/20000\",\"Female/19/21000\",\"Male/25/22000\",\"Male/35/22000\",\"Female/46/22000\",\"Female/20/23000\",\"Male/24/23000\",\"Female/35/23000\",\"Male/19/25000\",\"Female/34/25000\",\"Female/35/25000\",\"Female/19/26000\",\"Female/22/27000\",\"Female/24/27000\",\"Male/35/27000\",\"Female/23/28000\",\"Female/29/28000\",\"Female/33/28000\",\"Male/26/30000\",\"Female/41/30000\",\"Female/27/31000\",\"Male/33/31000\",\"Female/24/32000\",\"Male/26/32000\",\"Male/28/32000\",\"Male/25/33000\",\"Male/36/33000\",\"Female/37/33000\",\"Female/31/34000\",\"Female/26/35000\",\"Female/20/36000\",\"Female/28/37000\",\"Male/35/38000\",\"Male/35/39000\",\"Female/44/39000\",\"Female/33/41000\",\"Male/39/42000\",\"Female/59/42000\",\"Female/26/43000\",\"Male/29/43000\",\"Male/33/43000\",\"Female/34/43000\",\"Male/34/43000\",\"Male/47/43000\",\"Female/18/44000\",\"Female/28/44000\",\"Female/35/44000\",\"Female/50/44000\",\"Male/41/45000\",\"Female/29/47000\",\"Female/35/47000\",\"Male/40/47000\",\"Female/47/47000\",\"Female/23/48000\",\"Male/20/49000\",\"Male/30/49000\",\"Female/35/50000\",\"Male/35/50000\",\"Female/36/50000\",\"Female/38/50000\",\"Female/33/51000\",\"Male/38/51000\",\"Female/41/51000\",\"Male/18/52000\",\"Female/26/52000\",\"Male/36/52000\",\"Male/37/52000\",\"Male/41/52000\",\"Male/35/53000\",\"Male/37/53000\",\"Female/42/53000\",\"Female/27/54000\",\"Female/36/54000\",\"Male/42/54000\",\"Female/22/55000\",\"Female/24/55000\",\"Male/24/55000\",\"Female/28/55000\",\"Male/35/55000\",\"Male/37/55000\",\"Female/38/55000\",\"Female/27/57000\",\"Female/35/57000\",\"Female/37/57000\",\"Male/40/57000\",\"Male/24/58000\",\"Female/27/58000\",\"Male/27/58000\",\"Male/31/58000\",\"Male/35/58000\",\"Female/28/59000\",\"Male/28/59000\",\"Male/35/59000\",\"Male/38/59000\",\"Female/39/59000\",\"Male/40/59000\",\"Male/41/59000\",\"Male/46/59000\",\"Female/33/60000\",\"Female/35/60000\",\"Male/36/60000\",\"Female/40/60000\",\"Female/41/60000\",\"Male/29/61000\",\"Male/35/61000\",\"Male/38/61000\",\"Female/39/61000\",\"Male/40/61000\",\"Female/30/62000\",\"Female/37/62000\",\"Female/22/63000\",\"Male/23/63000\",\"Female/36/63000\",\"Female/41/63000\",\"Male/42/64000\",\"Female/35/65000\",\"Female/38/65000\",\"Male/40/65000\",\"Male/42/65000\",\"Male/49/65000\",\"Female/23/66000\",\"Male/31/66000\",\"Female/18/68000\",\"Female/21/68000\",\"Female/31/68000\",\"Female/33/69000\",\"Male/19/70000\",\"Female/42/70000\",\"Female/31/71000\",\"Female/35/71000\",\"Female/37/71000\",\"Male/38/71000\",\"Female/39/71000\",\"Male/39/71000\",\"Female/41/71000\",\"Male/21/72000\",\"Female/26/72000\",\"Female/34/72000\",\"Female/35/72000\",\"Male/35/72000\",\"Male/37/72000\",\"Female/40/72000\",\"Female/41/72000\",\"Male/41/72000\",\"Male/35/73000\",\"Female/39/73000\",\"Male/20/74000\",\"Male/31/74000\",\"Male/37/74000\",\"Female/46/74000\",\"Male/49/74000\",\"Male/29/75000\",\"Male/35/75000\",\"Female/36/75000\",\"Male/37/75000\",\"Female/40/75000\",\"Male/40/75000\",\"Female/42/75000\",\"Male/19/76000\",\"Male/31/76000\",\"Female/35/77000\",\"Male/37/77000\",\"Male/39/77000\",\"Male/40/78000\",\"Male/25/79000\",\"Male/28/79000\",\"Female/30/79000\",\"Male/35/79000\",\"Female/39/79000\",\"Male/41/79000\",\"Female/42/79000\",\"Male/45/79000\",\"Male/25/80000\",\"Female/26/80000\",\"Male/26/80000\",\"Male/29/80000\",\"Male/30/80000\",\"Female/37/80000\",\"Female/38/80000\",\"Female/41/80000\",\"Male/42/80000\",\"Male/22/81000\",\"Male/26/81000\",\"Male/18/82000\",\"Female/20/82000\",\"Female/23/82000\",\"Female/46/82000\",\"Female/29/83000\",\"Female/59/83000\",\"Male/24/84000\",\"Female/26/84000\",\"Female/27/84000\",\"Female/28/84000\",\"Male/19/85000\",\"Female/28/85000\",\"Female/18/86000\",\"Male/20/86000\",\"Male/26/86000\",\"Female/32/86000\",\"Male/25/87000\",\"Female/28/87000\",\"Male/30/87000\",\"Male/21/88000\",\"Male/27/88000\",\"Male/35/88000\",\"Female/24/89000\",\"Male/27/89000\",\"Male/28/89000\",\"Male/30/89000\",\"Female/31/89000\",\"Male/25/90000\",\"Male/27/90000\",\"Female/46/96000\",\"Male/35/108000\",\"Female/38/112000\",\"Female/33/113000\",\"Female/52/114000\",\"Male/34/115000\",\"Female/30/116000\",\"Female/32/117000\",\"Female/26/118000\",\"Female/43/133000\",\"Female/51/134000\",\"Male/48/141000\",\"Female/26\",\"Male/26\",\"Male/30\",\"Female/31\",\"Female/21\",\"Male/26\",\"Female/26\",\"Female/27\",\"Male/30\",\"Male/22\",\"Male/31\",\"Male/32\",\"Male/19\",\"Male/24\",\"Male/23\",\"Male/27\",\"Male/35\",\"Female/19\",\"Male/25\",\"Male/35\",\"Female/46\",\"Female/20\",\"Male/24\",\"Female/35\",\"Male/19\",\"Female/34\",\"Female/35\",\"Female/19\",\"Female/22\",\"Female/24\",\"Male/35\",\"Female/23\",\"Female/29\",\"Female/33\",\"Male/26\",\"Female/41\",\"Female/27\",\"Male/33\",\"Female/24\",\"Male/26\",\"Male/28\",\"Male/25\",\"Male/36\",\"Female/37\",\"Female/31\",\"Female/26\",\"Female/20\",\"Female/28\",\"Male/35\",\"Male/35\",\"Female/44\",\"Female/33\",\"Male/39\",\"Female/59\",\"Female/26\",\"Male/29\",\"Male/33\",\"Female/34\",\"Male/34\",\"Male/47\",\"Female/18\",\"Female/28\",\"Female/35\",\"Female/50\",\"Male/41\",\"Female/29\",\"Female/35\",\"Male/40\",\"Female/47\",\"Female/23\",\"Male/20\",\"Male/30\",\"Female/35\",\"Male/35\",\"Female/36\",\"Female/38\",\"Female/33\",\"Male/38\",\"Female/41\",\"Male/18\",\"Female/26\",\"Male/36\",\"Male/37\",\"Male/41\",\"Male/35\",\"Male/37\",\"Female/42\",\"Female/27\",\"Female/36\",\"Male/42\",\"Female/22\",\"Female/24\",\"Male/24\",\"Female/28\",\"Male/35\",\"Male/37\",\"Female/38\",\"Female/27\",\"Female/35\",\"Female/37\",\"Male/40\",\"Male/24\",\"Female/27\",\"Male/27\",\"Male/31\",\"Male/35\",\"Female/28\",\"Male/28\",\"Male/35\",\"Male/38\",\"Female/39\",\"Male/40\",\"Male/41\",\"Male/46\",\"Female/33\",\"Female/35\",\"Male/36\",\"Female/40\",\"Female/41\",\"Male/29\",\"Male/35\",\"Male/38\",\"Female/39\",\"Male/40\",\"Female/30\",\"Female/37\",\"Female/22\",\"Male/23\",\"Female/36\",\"Female/41\",\"Male/42\",\"Female/35\",\"Female/38\",\"Male/40\",\"Male/42\",\"Male/49\",\"Female/23\",\"Male/31\",\"Female/18\",\"Female/21\",\"Female/31\",\"Female/33\",\"Male/19\",\"Female/42\",\"Female/31\",\"Female/35\",\"Female/37\",\"Male/38\",\"Female/39\",\"Male/39\",\"Female/41\",\"Male/21\",\"Female/26\",\"Female/34\",\"Female/35\",\"Male/35\",\"Male/37\",\"Female/40\",\"Female/41\",\"Male/41\",\"Male/35\",\"Female/39\",\"Male/20\",\"Male/31\",\"Male/37\",\"Female/46\",\"Male/49\",\"Male/29\",\"Male/35\",\"Female/36\",\"Male/37\",\"Female/40\",\"Male/40\",\"Female/42\",\"Male/19\",\"Male/31\",\"Female/35\",\"Male/37\",\"Male/39\",\"Male/40\",\"Male/25\",\"Male/28\",\"Female/30\",\"Male/35\",\"Female/39\",\"Male/41\",\"Female/42\",\"Male/45\",\"Male/25\",\"Female/26\",\"Male/26\",\"Male/29\",\"Male/30\",\"Female/37\",\"Female/38\",\"Female/41\",\"Male/42\",\"Male/22\",\"Male/26\",\"Male/18\",\"Female/20\",\"Female/23\",\"Female/46\",\"Female/29\",\"Female/59\",\"Male/24\",\"Female/26\",\"Female/27\",\"Female/28\",\"Male/19\",\"Female/28\",\"Female/18\",\"Male/20\",\"Male/26\",\"Female/32\",\"Male/25\",\"Female/28\",\"Male/30\",\"Male/21\",\"Male/27\",\"Male/35\",\"Female/24\",\"Male/27\",\"Male/28\",\"Male/30\",\"Female/31\",\"Male/25\",\"Male/27\",\"Female/46\",\"Male/35\",\"Female/38\",\"Female/33\",\"Female/52\",\"Male/34\",\"Female/30\",\"Female/32\",\"Female/26\",\"Female/43\",\"Female/51\",\"Male/48\",\"Female\",\"Male\",\"Female\",\"Male\",\"Female\",\"Male\",\"Female\",\"Male\",\"Female\",\"Male\",\"Female\",\"Male\",\"Female\",\"Male\",\"Male\",\"Female\",\"Male\",\"Female\",\"Male\",\"Female\",\"Male\",\"Female\",\"Male\",\"Female\",\"Male\",\"Female\",\"Male\",\"Female\",\"Male\",\"Female\",\"Male\",\"Female\",\"Male\",\"Female\",\"Male\",\"Female\",\"Male\",\"Female\",\"Male\",\"Female\",\"Male\",\"Female\",\"Male\",\"Female\",\"Male\",\"Female\",\"Male\",\"Female\",\"Male\",\"Female\",\"Female\",\"Male\",\"Female\",\"Male\",\"Female\",\"Male\",\"Male\",\"Male\",\"Female\",\"Female\",\"Female\",\"Female\",\"\",\"\"],\"values\":[1,1,1,1,1,1,1,1,1,1,1,1,1,1,1,1,1,1,1,1,1,1,1,1,1,1,1,1,1,1,1,1,1,1,1,1,1,1,1,1,1,1,1,1,1,1,1,1,1,1,1,1,1,1,1,1,1,1,1,2,1,1,1,1,1,1,1,1,1,1,1,1,1,2,1,1,1,1,1,1,1,1,1,1,1,2,1,1,1,1,1,1,1,1,1,1,1,2,1,1,1,2,1,1,1,3,1,1,1,1,1,1,1,1,1,1,1,1,1,1,1,1,1,1,1,2,1,1,1,1,1,1,1,1,1,1,1,2,1,1,1,1,1,1,1,1,1,2,1,1,1,1,1,1,1,1,1,1,1,1,3,1,1,1,1,1,1,1,1,1,1,1,1,1,1,1,2,1,2,1,1,1,1,1,2,1,1,1,1,1,1,1,1,1,1,1,1,1,2,1,1,1,1,1,1,1,1,1,1,1,1,1,1,1,1,1,1,1,1,1,1,1,1,1,1,1,1,1,1,1,1,1,1,1,1,1,1,1,1,2,1,1,1,1,1,1,1,1,1,1,1,1,1,1,2,1,1,1,1,1,1,1,1,1,1,1,1,1,1,1,1,1,1,1,1,1,1,1,1,1,1,1,1,1,1,1,1,1,1,1,1,1,1,1,1,1,1,1,1,1,1,1,1,1,1,1,1,1,1,1,1,1,2,1,1,1,1,1,1,1,1,1,1,1,1,1,1,1,1,1,2,1,1,1,1,1,1,1,1,1,1,1,1,1,2,1,1,1,1,1,1,1,1,1,1,1,1,1,1,2,1,1,1,1,1,1,1,1,1,2,1,1,1,1,1,1,1,1,1,1,1,1,3,1,1,1,1,1,1,1,1,1,1,1,2,1,1,1,1,1,1,1,1,1,1,1,1,1,2,1,1,1,1,1,1,1,1,1,1,1,2,1,1,1,1,1,1,1,1,1,1,1,2,1,1,1,1,1,1,1,1,1,1,1,1,1,1,1,1,1,2,1,2,1,1,1,1,1,2,1,1,1,3,1,1,1,1,1,1,1,1,1,1,1,1,1,1,1,1,1,1,1,1,1,1,1,1,1,1,1,1,2,1,1,1,1,1,1,1,1,1,1,1,1,1,1,1,1,1,1,1,1,1,1,1,1,1,1,1,1,1,1,1,1,1,1,1,1,1,1,1,1,2,1,1,2,1,1,1,1,1,1,1,1,1,1,1,1,1,1,1,1,1,1,1,2,1,1,1,1,1,1,1,2,1,1,1,1,1,2,1,1,1,1,1,1,1,1,1,1,3,1,1,1,1,1,1,1,1,1,1,1,1,1,1,1,1,1,1,1,1,2,1,1,1,1,1,1,1,1,1,1,1,1,2,1,1,1,1,1,1,1,1,1,1,1,1,2,1,1,1,1,1,1,1,1,1,1,3,1,1,1,1,1,1,1,1,1,2,1,1,1,1,1,1,1,1,1,1,1,1,1,1,1,1,1,1,1,1,1,1,1,1,2,1,1,1,1,1,1,2,1,1,2,1,1,1,1,1,1,1,1,1,1,1,1,1,1,1,1,1,1,1,1,1,1,1,1,1,1,1,1,1,1,1,1,1,1,1,1,1,1,1,1,1,1,1,1,1,1,1,2,1,1,1,1,1,1,1,1,1,1,1,1,1,1,1,1,1,1,1,1,1,1,1,1,1,1,1,1,1,1,1,1,1,1,1,1,1,1,1,1,2,1,1,2,1,1,1,1,1,1,1,1,1,1,1,1,1,1,1,1,1,1,1,2,1,1,1,1,1,1,1,2,1,1,1,1,1,2,1,1,1,1,1,1,1,1,1,1,3,1,1,1,1,1,1,1,1,1,1,1,1,1,1,1,1,1,1,1,1,2,1,1,1,1,1,1,1,1,1,1,1,1,2,1,1,1,1,1,1,1,1,1,1,1,1,2,1,1,1,1,1,1,1,1,1,1,3,1,1,1,1,1,1,1,1,1,2,1,1,1,1,1,1,1,1,1,1,1,1,1,1,1,1,1,1,1,1,1,1,1,1,2,1,1,1,1,1,1,2,1,1,2,1,1,1,1,1,1,1,1,1,1,1,1,1,1,1,1,1,1,1,1,1,1,1,1,1,1,1,1,1,1,1,1,1,1,1,1,3,2,2,5,4,3,2,2,3,2,4,2,4,5,6,9,7,6,5,7,4,4,5,3,6,5,5,2,2,6,2,3,2,11,18,4,3,6,7,6,6,5,4,3,9,9,6,4,6,1,1,1,4,1,1,1,1,2,1,1,1,2,127,130],\"type\":\"sunburst\"}],                        {\"template\":{\"data\":{\"histogram2dcontour\":[{\"type\":\"histogram2dcontour\",\"colorbar\":{\"outlinewidth\":0,\"ticks\":\"\"},\"colorscale\":[[0.0,\"#0d0887\"],[0.1111111111111111,\"#46039f\"],[0.2222222222222222,\"#7201a8\"],[0.3333333333333333,\"#9c179e\"],[0.4444444444444444,\"#bd3786\"],[0.5555555555555556,\"#d8576b\"],[0.6666666666666666,\"#ed7953\"],[0.7777777777777778,\"#fb9f3a\"],[0.8888888888888888,\"#fdca26\"],[1.0,\"#f0f921\"]]}],\"choropleth\":[{\"type\":\"choropleth\",\"colorbar\":{\"outlinewidth\":0,\"ticks\":\"\"}}],\"histogram2d\":[{\"type\":\"histogram2d\",\"colorbar\":{\"outlinewidth\":0,\"ticks\":\"\"},\"colorscale\":[[0.0,\"#0d0887\"],[0.1111111111111111,\"#46039f\"],[0.2222222222222222,\"#7201a8\"],[0.3333333333333333,\"#9c179e\"],[0.4444444444444444,\"#bd3786\"],[0.5555555555555556,\"#d8576b\"],[0.6666666666666666,\"#ed7953\"],[0.7777777777777778,\"#fb9f3a\"],[0.8888888888888888,\"#fdca26\"],[1.0,\"#f0f921\"]]}],\"heatmap\":[{\"type\":\"heatmap\",\"colorbar\":{\"outlinewidth\":0,\"ticks\":\"\"},\"colorscale\":[[0.0,\"#0d0887\"],[0.1111111111111111,\"#46039f\"],[0.2222222222222222,\"#7201a8\"],[0.3333333333333333,\"#9c179e\"],[0.4444444444444444,\"#bd3786\"],[0.5555555555555556,\"#d8576b\"],[0.6666666666666666,\"#ed7953\"],[0.7777777777777778,\"#fb9f3a\"],[0.8888888888888888,\"#fdca26\"],[1.0,\"#f0f921\"]]}],\"heatmapgl\":[{\"type\":\"heatmapgl\",\"colorbar\":{\"outlinewidth\":0,\"ticks\":\"\"},\"colorscale\":[[0.0,\"#0d0887\"],[0.1111111111111111,\"#46039f\"],[0.2222222222222222,\"#7201a8\"],[0.3333333333333333,\"#9c179e\"],[0.4444444444444444,\"#bd3786\"],[0.5555555555555556,\"#d8576b\"],[0.6666666666666666,\"#ed7953\"],[0.7777777777777778,\"#fb9f3a\"],[0.8888888888888888,\"#fdca26\"],[1.0,\"#f0f921\"]]}],\"contourcarpet\":[{\"type\":\"contourcarpet\",\"colorbar\":{\"outlinewidth\":0,\"ticks\":\"\"}}],\"contour\":[{\"type\":\"contour\",\"colorbar\":{\"outlinewidth\":0,\"ticks\":\"\"},\"colorscale\":[[0.0,\"#0d0887\"],[0.1111111111111111,\"#46039f\"],[0.2222222222222222,\"#7201a8\"],[0.3333333333333333,\"#9c179e\"],[0.4444444444444444,\"#bd3786\"],[0.5555555555555556,\"#d8576b\"],[0.6666666666666666,\"#ed7953\"],[0.7777777777777778,\"#fb9f3a\"],[0.8888888888888888,\"#fdca26\"],[1.0,\"#f0f921\"]]}],\"surface\":[{\"type\":\"surface\",\"colorbar\":{\"outlinewidth\":0,\"ticks\":\"\"},\"colorscale\":[[0.0,\"#0d0887\"],[0.1111111111111111,\"#46039f\"],[0.2222222222222222,\"#7201a8\"],[0.3333333333333333,\"#9c179e\"],[0.4444444444444444,\"#bd3786\"],[0.5555555555555556,\"#d8576b\"],[0.6666666666666666,\"#ed7953\"],[0.7777777777777778,\"#fb9f3a\"],[0.8888888888888888,\"#fdca26\"],[1.0,\"#f0f921\"]]}],\"mesh3d\":[{\"type\":\"mesh3d\",\"colorbar\":{\"outlinewidth\":0,\"ticks\":\"\"}}],\"scatter\":[{\"fillpattern\":{\"fillmode\":\"overlay\",\"size\":10,\"solidity\":0.2},\"type\":\"scatter\"}],\"parcoords\":[{\"type\":\"parcoords\",\"line\":{\"colorbar\":{\"outlinewidth\":0,\"ticks\":\"\"}}}],\"scatterpolargl\":[{\"type\":\"scatterpolargl\",\"marker\":{\"colorbar\":{\"outlinewidth\":0,\"ticks\":\"\"}}}],\"bar\":[{\"error_x\":{\"color\":\"#2a3f5f\"},\"error_y\":{\"color\":\"#2a3f5f\"},\"marker\":{\"line\":{\"color\":\"#E5ECF6\",\"width\":0.5},\"pattern\":{\"fillmode\":\"overlay\",\"size\":10,\"solidity\":0.2}},\"type\":\"bar\"}],\"scattergeo\":[{\"type\":\"scattergeo\",\"marker\":{\"colorbar\":{\"outlinewidth\":0,\"ticks\":\"\"}}}],\"scatterpolar\":[{\"type\":\"scatterpolar\",\"marker\":{\"colorbar\":{\"outlinewidth\":0,\"ticks\":\"\"}}}],\"histogram\":[{\"marker\":{\"pattern\":{\"fillmode\":\"overlay\",\"size\":10,\"solidity\":0.2}},\"type\":\"histogram\"}],\"scattergl\":[{\"type\":\"scattergl\",\"marker\":{\"colorbar\":{\"outlinewidth\":0,\"ticks\":\"\"}}}],\"scatter3d\":[{\"type\":\"scatter3d\",\"line\":{\"colorbar\":{\"outlinewidth\":0,\"ticks\":\"\"}},\"marker\":{\"colorbar\":{\"outlinewidth\":0,\"ticks\":\"\"}}}],\"scattermapbox\":[{\"type\":\"scattermapbox\",\"marker\":{\"colorbar\":{\"outlinewidth\":0,\"ticks\":\"\"}}}],\"scatterternary\":[{\"type\":\"scatterternary\",\"marker\":{\"colorbar\":{\"outlinewidth\":0,\"ticks\":\"\"}}}],\"scattercarpet\":[{\"type\":\"scattercarpet\",\"marker\":{\"colorbar\":{\"outlinewidth\":0,\"ticks\":\"\"}}}],\"carpet\":[{\"aaxis\":{\"endlinecolor\":\"#2a3f5f\",\"gridcolor\":\"white\",\"linecolor\":\"white\",\"minorgridcolor\":\"white\",\"startlinecolor\":\"#2a3f5f\"},\"baxis\":{\"endlinecolor\":\"#2a3f5f\",\"gridcolor\":\"white\",\"linecolor\":\"white\",\"minorgridcolor\":\"white\",\"startlinecolor\":\"#2a3f5f\"},\"type\":\"carpet\"}],\"table\":[{\"cells\":{\"fill\":{\"color\":\"#EBF0F8\"},\"line\":{\"color\":\"white\"}},\"header\":{\"fill\":{\"color\":\"#C8D4E3\"},\"line\":{\"color\":\"white\"}},\"type\":\"table\"}],\"barpolar\":[{\"marker\":{\"line\":{\"color\":\"#E5ECF6\",\"width\":0.5},\"pattern\":{\"fillmode\":\"overlay\",\"size\":10,\"solidity\":0.2}},\"type\":\"barpolar\"}],\"pie\":[{\"automargin\":true,\"type\":\"pie\"}]},\"layout\":{\"autotypenumbers\":\"strict\",\"colorway\":[\"#636efa\",\"#EF553B\",\"#00cc96\",\"#ab63fa\",\"#FFA15A\",\"#19d3f3\",\"#FF6692\",\"#B6E880\",\"#FF97FF\",\"#FECB52\"],\"font\":{\"color\":\"#2a3f5f\"},\"hovermode\":\"closest\",\"hoverlabel\":{\"align\":\"left\"},\"paper_bgcolor\":\"white\",\"plot_bgcolor\":\"#E5ECF6\",\"polar\":{\"bgcolor\":\"#E5ECF6\",\"angularaxis\":{\"gridcolor\":\"white\",\"linecolor\":\"white\",\"ticks\":\"\"},\"radialaxis\":{\"gridcolor\":\"white\",\"linecolor\":\"white\",\"ticks\":\"\"}},\"ternary\":{\"bgcolor\":\"#E5ECF6\",\"aaxis\":{\"gridcolor\":\"white\",\"linecolor\":\"white\",\"ticks\":\"\"},\"baxis\":{\"gridcolor\":\"white\",\"linecolor\":\"white\",\"ticks\":\"\"},\"caxis\":{\"gridcolor\":\"white\",\"linecolor\":\"white\",\"ticks\":\"\"}},\"coloraxis\":{\"colorbar\":{\"outlinewidth\":0,\"ticks\":\"\"}},\"colorscale\":{\"sequential\":[[0.0,\"#0d0887\"],[0.1111111111111111,\"#46039f\"],[0.2222222222222222,\"#7201a8\"],[0.3333333333333333,\"#9c179e\"],[0.4444444444444444,\"#bd3786\"],[0.5555555555555556,\"#d8576b\"],[0.6666666666666666,\"#ed7953\"],[0.7777777777777778,\"#fb9f3a\"],[0.8888888888888888,\"#fdca26\"],[1.0,\"#f0f921\"]],\"sequentialminus\":[[0.0,\"#0d0887\"],[0.1111111111111111,\"#46039f\"],[0.2222222222222222,\"#7201a8\"],[0.3333333333333333,\"#9c179e\"],[0.4444444444444444,\"#bd3786\"],[0.5555555555555556,\"#d8576b\"],[0.6666666666666666,\"#ed7953\"],[0.7777777777777778,\"#fb9f3a\"],[0.8888888888888888,\"#fdca26\"],[1.0,\"#f0f921\"]],\"diverging\":[[0,\"#8e0152\"],[0.1,\"#c51b7d\"],[0.2,\"#de77ae\"],[0.3,\"#f1b6da\"],[0.4,\"#fde0ef\"],[0.5,\"#f7f7f7\"],[0.6,\"#e6f5d0\"],[0.7,\"#b8e186\"],[0.8,\"#7fbc41\"],[0.9,\"#4d9221\"],[1,\"#276419\"]]},\"xaxis\":{\"gridcolor\":\"white\",\"linecolor\":\"white\",\"ticks\":\"\",\"title\":{\"standoff\":15},\"zerolinecolor\":\"white\",\"automargin\":true,\"zerolinewidth\":2},\"yaxis\":{\"gridcolor\":\"white\",\"linecolor\":\"white\",\"ticks\":\"\",\"title\":{\"standoff\":15},\"zerolinecolor\":\"white\",\"automargin\":true,\"zerolinewidth\":2},\"scene\":{\"xaxis\":{\"backgroundcolor\":\"#E5ECF6\",\"gridcolor\":\"white\",\"linecolor\":\"white\",\"showbackground\":true,\"ticks\":\"\",\"zerolinecolor\":\"white\",\"gridwidth\":2},\"yaxis\":{\"backgroundcolor\":\"#E5ECF6\",\"gridcolor\":\"white\",\"linecolor\":\"white\",\"showbackground\":true,\"ticks\":\"\",\"zerolinecolor\":\"white\",\"gridwidth\":2},\"zaxis\":{\"backgroundcolor\":\"#E5ECF6\",\"gridcolor\":\"white\",\"linecolor\":\"white\",\"showbackground\":true,\"ticks\":\"\",\"zerolinecolor\":\"white\",\"gridwidth\":2}},\"shapedefaults\":{\"line\":{\"color\":\"#2a3f5f\"}},\"annotationdefaults\":{\"arrowcolor\":\"#2a3f5f\",\"arrowhead\":0,\"arrowwidth\":1},\"geo\":{\"bgcolor\":\"white\",\"landcolor\":\"#E5ECF6\",\"subunitcolor\":\"white\",\"showland\":true,\"showlakes\":true,\"lakecolor\":\"white\"},\"title\":{\"x\":0.05},\"mapbox\":{\"style\":\"light\"}}},\"legend\":{\"tracegroupgap\":0},\"margin\":{\"t\":60}},                        {\"responsive\": true}                    ).then(function(){\n",
       "                            \n",
       "var gd = document.getElementById('27ba7737-fc0f-4c0d-9735-618e7b93a154');\n",
       "var x = new MutationObserver(function (mutations, observer) {{\n",
       "        var display = window.getComputedStyle(gd).display;\n",
       "        if (!display || display === 'none') {{\n",
       "            console.log([gd, 'removed!']);\n",
       "            Plotly.purge(gd);\n",
       "            observer.disconnect();\n",
       "        }}\n",
       "}});\n",
       "\n",
       "// Listen for the removal of the full notebook cells\n",
       "var notebookContainer = gd.closest('#notebook-container');\n",
       "if (notebookContainer) {{\n",
       "    x.observe(notebookContainer, {childList: true});\n",
       "}}\n",
       "\n",
       "// Listen for the clearing of the current output cell\n",
       "var outputEl = gd.closest('.output');\n",
       "if (outputEl) {{\n",
       "    x.observe(outputEl, {childList: true});\n",
       "}}\n",
       "\n",
       "                        })                };                });            </script>        </div>"
      ]
     },
     "metadata": {},
     "output_type": "display_data"
    }
   ],
   "source": [
    "fig = px.sunburst(NotPurchased, path=[\"Gender\",\"Age\",\"EstimatedSalary\",\"Purchased\",\"age_group\",\"income_category\"])\n",
    "fig.show()"
   ]
  },
  {
   "cell_type": "markdown",
   "id": "778d9ac5",
   "metadata": {},
   "source": [
    "# Step4.Breaking Data Into Two Parts"
   ]
  },
  {
   "cell_type": "code",
   "execution_count": 33,
   "id": "44af4391",
   "metadata": {},
   "outputs": [
    {
     "data": {
      "text/plain": [
       "['Age', 'EstimatedSalary', 'Purchased']"
      ]
     },
     "execution_count": 33,
     "metadata": {},
     "output_type": "execute_result"
    }
   ],
   "source": [
    "new_data_set.select_dtypes(include=[np.number]).columns.tolist()"
   ]
  },
  {
   "cell_type": "code",
   "execution_count": 34,
   "id": "92fb9366",
   "metadata": {},
   "outputs": [
    {
     "data": {
      "text/html": [
       "<div>\n",
       "<style scoped>\n",
       "    .dataframe tbody tr th:only-of-type {\n",
       "        vertical-align: middle;\n",
       "    }\n",
       "\n",
       "    .dataframe tbody tr th {\n",
       "        vertical-align: top;\n",
       "    }\n",
       "\n",
       "    .dataframe thead th {\n",
       "        text-align: right;\n",
       "    }\n",
       "</style>\n",
       "<table border=\"1\" class=\"dataframe\">\n",
       "  <thead>\n",
       "    <tr style=\"text-align: right;\">\n",
       "      <th></th>\n",
       "      <th>Age</th>\n",
       "      <th>EstimatedSalary</th>\n",
       "      <th>Purchased</th>\n",
       "    </tr>\n",
       "  </thead>\n",
       "  <tbody>\n",
       "    <tr>\n",
       "      <th>0</th>\n",
       "      <td>19</td>\n",
       "      <td>19000</td>\n",
       "      <td>0</td>\n",
       "    </tr>\n",
       "    <tr>\n",
       "      <th>1</th>\n",
       "      <td>35</td>\n",
       "      <td>20000</td>\n",
       "      <td>0</td>\n",
       "    </tr>\n",
       "    <tr>\n",
       "      <th>2</th>\n",
       "      <td>26</td>\n",
       "      <td>43000</td>\n",
       "      <td>0</td>\n",
       "    </tr>\n",
       "  </tbody>\n",
       "</table>\n",
       "</div>"
      ],
      "text/plain": [
       "   Age  EstimatedSalary  Purchased\n",
       "0   19            19000          0\n",
       "1   35            20000          0\n",
       "2   26            43000          0"
      ]
     },
     "execution_count": 34,
     "metadata": {},
     "output_type": "execute_result"
    }
   ],
   "source": [
    "# Qualitative Variable\n",
    "Quantitative_Variable = new_data_set[new_data_set.select_dtypes(include=[np.number]).columns.tolist()]\n",
    "Quantitative_Variable.head(3)"
   ]
  },
  {
   "cell_type": "code",
   "execution_count": 35,
   "id": "22eb81f3",
   "metadata": {},
   "outputs": [
    {
     "data": {
      "text/html": [
       "<div>\n",
       "<style scoped>\n",
       "    .dataframe tbody tr th:only-of-type {\n",
       "        vertical-align: middle;\n",
       "    }\n",
       "\n",
       "    .dataframe tbody tr th {\n",
       "        vertical-align: top;\n",
       "    }\n",
       "\n",
       "    .dataframe thead th {\n",
       "        text-align: right;\n",
       "    }\n",
       "</style>\n",
       "<table border=\"1\" class=\"dataframe\">\n",
       "  <thead>\n",
       "    <tr style=\"text-align: right;\">\n",
       "      <th></th>\n",
       "      <th>Male</th>\n",
       "    </tr>\n",
       "  </thead>\n",
       "  <tbody>\n",
       "    <tr>\n",
       "      <th>0</th>\n",
       "      <td>1</td>\n",
       "    </tr>\n",
       "    <tr>\n",
       "      <th>1</th>\n",
       "      <td>1</td>\n",
       "    </tr>\n",
       "    <tr>\n",
       "      <th>2</th>\n",
       "      <td>0</td>\n",
       "    </tr>\n",
       "    <tr>\n",
       "      <th>3</th>\n",
       "      <td>0</td>\n",
       "    </tr>\n",
       "    <tr>\n",
       "      <th>4</th>\n",
       "      <td>1</td>\n",
       "    </tr>\n",
       "  </tbody>\n",
       "</table>\n",
       "</div>"
      ],
      "text/plain": [
       "   Male\n",
       "0     1\n",
       "1     1\n",
       "2     0\n",
       "3     0\n",
       "4     1"
      ]
     },
     "execution_count": 35,
     "metadata": {},
     "output_type": "execute_result"
    }
   ],
   "source": [
    "binary_gender = pd.get_dummies (new_data_set ['Gender'],drop_first = True)\n",
    "binary_gender.head ()"
   ]
  },
  {
   "cell_type": "code",
   "execution_count": 36,
   "id": "3dcd814f",
   "metadata": {},
   "outputs": [
    {
     "data": {
      "text/html": [
       "<div>\n",
       "<style scoped>\n",
       "    .dataframe tbody tr th:only-of-type {\n",
       "        vertical-align: middle;\n",
       "    }\n",
       "\n",
       "    .dataframe tbody tr th {\n",
       "        vertical-align: top;\n",
       "    }\n",
       "\n",
       "    .dataframe thead th {\n",
       "        text-align: right;\n",
       "    }\n",
       "</style>\n",
       "<table border=\"1\" class=\"dataframe\">\n",
       "  <thead>\n",
       "    <tr style=\"text-align: right;\">\n",
       "      <th></th>\n",
       "      <th>A</th>\n",
       "      <th>B</th>\n",
       "      <th>C</th>\n",
       "      <th>D</th>\n",
       "      <th>E</th>\n",
       "      <th>F</th>\n",
       "    </tr>\n",
       "  </thead>\n",
       "  <tbody>\n",
       "    <tr>\n",
       "      <th>0</th>\n",
       "      <td>1</td>\n",
       "      <td>0</td>\n",
       "      <td>0</td>\n",
       "      <td>0</td>\n",
       "      <td>0</td>\n",
       "      <td>0</td>\n",
       "    </tr>\n",
       "    <tr>\n",
       "      <th>1</th>\n",
       "      <td>0</td>\n",
       "      <td>0</td>\n",
       "      <td>0</td>\n",
       "      <td>1</td>\n",
       "      <td>0</td>\n",
       "      <td>0</td>\n",
       "    </tr>\n",
       "    <tr>\n",
       "      <th>2</th>\n",
       "      <td>0</td>\n",
       "      <td>1</td>\n",
       "      <td>0</td>\n",
       "      <td>0</td>\n",
       "      <td>0</td>\n",
       "      <td>0</td>\n",
       "    </tr>\n",
       "    <tr>\n",
       "      <th>3</th>\n",
       "      <td>0</td>\n",
       "      <td>0</td>\n",
       "      <td>1</td>\n",
       "      <td>0</td>\n",
       "      <td>0</td>\n",
       "      <td>0</td>\n",
       "    </tr>\n",
       "    <tr>\n",
       "      <th>4</th>\n",
       "      <td>1</td>\n",
       "      <td>0</td>\n",
       "      <td>0</td>\n",
       "      <td>0</td>\n",
       "      <td>0</td>\n",
       "      <td>0</td>\n",
       "    </tr>\n",
       "  </tbody>\n",
       "</table>\n",
       "</div>"
      ],
      "text/plain": [
       "   A  B  C  D  E  F\n",
       "0  1  0  0  0  0  0\n",
       "1  0  0  0  1  0  0\n",
       "2  0  1  0  0  0  0\n",
       "3  0  0  1  0  0  0\n",
       "4  1  0  0  0  0  0"
      ]
     },
     "execution_count": 36,
     "metadata": {},
     "output_type": "execute_result"
    }
   ],
   "source": [
    "binary_age = pd.get_dummies (new_data_set ['age_group'])\n",
    "binary_age.head ()"
   ]
  },
  {
   "cell_type": "code",
   "execution_count": 37,
   "id": "dbeb5639",
   "metadata": {},
   "outputs": [
    {
     "data": {
      "text/html": [
       "<div>\n",
       "<style scoped>\n",
       "    .dataframe tbody tr th:only-of-type {\n",
       "        vertical-align: middle;\n",
       "    }\n",
       "\n",
       "    .dataframe tbody tr th {\n",
       "        vertical-align: top;\n",
       "    }\n",
       "\n",
       "    .dataframe thead th {\n",
       "        text-align: right;\n",
       "    }\n",
       "</style>\n",
       "<table border=\"1\" class=\"dataframe\">\n",
       "  <thead>\n",
       "    <tr style=\"text-align: right;\">\n",
       "      <th></th>\n",
       "      <th>Extremely High</th>\n",
       "      <th>Low</th>\n",
       "      <th>Medium</th>\n",
       "      <th>Moderately Low</th>\n",
       "      <th>Moderately high</th>\n",
       "      <th>Very High</th>\n",
       "      <th>Very Low</th>\n",
       "    </tr>\n",
       "  </thead>\n",
       "  <tbody>\n",
       "    <tr>\n",
       "      <th>0</th>\n",
       "      <td>0</td>\n",
       "      <td>0</td>\n",
       "      <td>0</td>\n",
       "      <td>0</td>\n",
       "      <td>0</td>\n",
       "      <td>0</td>\n",
       "      <td>1</td>\n",
       "    </tr>\n",
       "    <tr>\n",
       "      <th>1</th>\n",
       "      <td>0</td>\n",
       "      <td>1</td>\n",
       "      <td>0</td>\n",
       "      <td>0</td>\n",
       "      <td>0</td>\n",
       "      <td>0</td>\n",
       "      <td>0</td>\n",
       "    </tr>\n",
       "    <tr>\n",
       "      <th>2</th>\n",
       "      <td>0</td>\n",
       "      <td>0</td>\n",
       "      <td>0</td>\n",
       "      <td>1</td>\n",
       "      <td>0</td>\n",
       "      <td>0</td>\n",
       "      <td>0</td>\n",
       "    </tr>\n",
       "    <tr>\n",
       "      <th>3</th>\n",
       "      <td>0</td>\n",
       "      <td>0</td>\n",
       "      <td>0</td>\n",
       "      <td>1</td>\n",
       "      <td>0</td>\n",
       "      <td>0</td>\n",
       "      <td>0</td>\n",
       "    </tr>\n",
       "    <tr>\n",
       "      <th>4</th>\n",
       "      <td>0</td>\n",
       "      <td>0</td>\n",
       "      <td>1</td>\n",
       "      <td>0</td>\n",
       "      <td>0</td>\n",
       "      <td>0</td>\n",
       "      <td>0</td>\n",
       "    </tr>\n",
       "  </tbody>\n",
       "</table>\n",
       "</div>"
      ],
      "text/plain": [
       "   Extremely High  Low  Medium  Moderately Low  Moderately high  Very High  \\\n",
       "0               0    0       0               0                0          0   \n",
       "1               0    1       0               0                0          0   \n",
       "2               0    0       0               1                0          0   \n",
       "3               0    0       0               1                0          0   \n",
       "4               0    0       1               0                0          0   \n",
       "\n",
       "   Very Low  \n",
       "0         1  \n",
       "1         0  \n",
       "2         0  \n",
       "3         0  \n",
       "4         0  "
      ]
     },
     "execution_count": 37,
     "metadata": {},
     "output_type": "execute_result"
    }
   ],
   "source": [
    "binary_income = pd.get_dummies (new_data_set ['income_category'])\n",
    "binary_income.head ()\n"
   ]
  },
  {
   "cell_type": "code",
   "execution_count": 38,
   "id": "6a8518f5",
   "metadata": {},
   "outputs": [
    {
     "data": {
      "text/html": [
       "<div>\n",
       "<style scoped>\n",
       "    .dataframe tbody tr th:only-of-type {\n",
       "        vertical-align: middle;\n",
       "    }\n",
       "\n",
       "    .dataframe tbody tr th {\n",
       "        vertical-align: top;\n",
       "    }\n",
       "\n",
       "    .dataframe thead th {\n",
       "        text-align: right;\n",
       "    }\n",
       "</style>\n",
       "<table border=\"1\" class=\"dataframe\">\n",
       "  <thead>\n",
       "    <tr style=\"text-align: right;\">\n",
       "      <th></th>\n",
       "      <th>Purchased</th>\n",
       "      <th>A</th>\n",
       "      <th>B</th>\n",
       "      <th>C</th>\n",
       "      <th>D</th>\n",
       "      <th>E</th>\n",
       "      <th>F</th>\n",
       "      <th>Male</th>\n",
       "      <th>Extremely High</th>\n",
       "      <th>Low</th>\n",
       "      <th>Medium</th>\n",
       "      <th>Moderately Low</th>\n",
       "      <th>Moderately high</th>\n",
       "      <th>Very High</th>\n",
       "      <th>Very Low</th>\n",
       "    </tr>\n",
       "  </thead>\n",
       "  <tbody>\n",
       "    <tr>\n",
       "      <th>0</th>\n",
       "      <td>0</td>\n",
       "      <td>1</td>\n",
       "      <td>0</td>\n",
       "      <td>0</td>\n",
       "      <td>0</td>\n",
       "      <td>0</td>\n",
       "      <td>0</td>\n",
       "      <td>1</td>\n",
       "      <td>0</td>\n",
       "      <td>0</td>\n",
       "      <td>0</td>\n",
       "      <td>0</td>\n",
       "      <td>0</td>\n",
       "      <td>0</td>\n",
       "      <td>1</td>\n",
       "    </tr>\n",
       "    <tr>\n",
       "      <th>1</th>\n",
       "      <td>0</td>\n",
       "      <td>0</td>\n",
       "      <td>0</td>\n",
       "      <td>0</td>\n",
       "      <td>1</td>\n",
       "      <td>0</td>\n",
       "      <td>0</td>\n",
       "      <td>1</td>\n",
       "      <td>0</td>\n",
       "      <td>1</td>\n",
       "      <td>0</td>\n",
       "      <td>0</td>\n",
       "      <td>0</td>\n",
       "      <td>0</td>\n",
       "      <td>0</td>\n",
       "    </tr>\n",
       "    <tr>\n",
       "      <th>2</th>\n",
       "      <td>0</td>\n",
       "      <td>0</td>\n",
       "      <td>1</td>\n",
       "      <td>0</td>\n",
       "      <td>0</td>\n",
       "      <td>0</td>\n",
       "      <td>0</td>\n",
       "      <td>0</td>\n",
       "      <td>0</td>\n",
       "      <td>0</td>\n",
       "      <td>0</td>\n",
       "      <td>1</td>\n",
       "      <td>0</td>\n",
       "      <td>0</td>\n",
       "      <td>0</td>\n",
       "    </tr>\n",
       "    <tr>\n",
       "      <th>3</th>\n",
       "      <td>0</td>\n",
       "      <td>0</td>\n",
       "      <td>0</td>\n",
       "      <td>1</td>\n",
       "      <td>0</td>\n",
       "      <td>0</td>\n",
       "      <td>0</td>\n",
       "      <td>0</td>\n",
       "      <td>0</td>\n",
       "      <td>0</td>\n",
       "      <td>0</td>\n",
       "      <td>1</td>\n",
       "      <td>0</td>\n",
       "      <td>0</td>\n",
       "      <td>0</td>\n",
       "    </tr>\n",
       "    <tr>\n",
       "      <th>4</th>\n",
       "      <td>0</td>\n",
       "      <td>1</td>\n",
       "      <td>0</td>\n",
       "      <td>0</td>\n",
       "      <td>0</td>\n",
       "      <td>0</td>\n",
       "      <td>0</td>\n",
       "      <td>1</td>\n",
       "      <td>0</td>\n",
       "      <td>0</td>\n",
       "      <td>1</td>\n",
       "      <td>0</td>\n",
       "      <td>0</td>\n",
       "      <td>0</td>\n",
       "      <td>0</td>\n",
       "    </tr>\n",
       "  </tbody>\n",
       "</table>\n",
       "</div>"
      ],
      "text/plain": [
       "   Purchased  A  B  C  D  E  F  Male  Extremely High  Low  Medium  \\\n",
       "0          0  1  0  0  0  0  0     1               0    0       0   \n",
       "1          0  0  0  0  1  0  0     1               0    1       0   \n",
       "2          0  0  1  0  0  0  0     0               0    0       0   \n",
       "3          0  0  0  1  0  0  0     0               0    0       0   \n",
       "4          0  1  0  0  0  0  0     1               0    0       1   \n",
       "\n",
       "   Moderately Low  Moderately high  Very High  Very Low  \n",
       "0               0                0          0         1  \n",
       "1               0                0          0         0  \n",
       "2               1                0          0         0  \n",
       "3               1                0          0         0  \n",
       "4               0                0          0         0  "
      ]
     },
     "execution_count": 38,
     "metadata": {},
     "output_type": "execute_result"
    }
   ],
   "source": [
    "final_data_set  = pd.concat ([new_data_set, binary_age, binary_gender, binary_income], axis = 1)\n",
    "final_data_set_1 = final_data_set.drop (columns = ['Age', 'Gender','EstimatedSalary','income_category', 'age_group'], axis = 1)\n",
    "final_data_set_1.head ()"
   ]
  },
  {
   "cell_type": "markdown",
   "id": "f307af7b",
   "metadata": {},
   "source": [
    "# Step 5. Modelling Data\n"
   ]
  },
  {
   "cell_type": "markdown",
   "id": "aea27f31",
   "metadata": {},
   "source": [
    "Modeling the data considering all the features available in the dataset"
   ]
  },
  {
   "cell_type": "markdown",
   "id": "36c590d4",
   "metadata": {},
   "source": [
    "# Hypothesis\n",
    "\n",
    "* H0 :- There is no log linear relationship between Loan_Status and all independent Variable \n",
    "\n",
    "* H1 :- There is log linear relationship between Loan_Status and all independent Variable\n",
    "\n",
    "Alpha = 0.05 (5%)"
   ]
  },
  {
   "cell_type": "code",
   "execution_count": 39,
   "id": "cec68026",
   "metadata": {},
   "outputs": [],
   "source": [
    "Y = final_data_set_1 ['Purchased']\n",
    "X = final_data_set_1.drop (columns = ['Purchased'], axis = 1)"
   ]
  },
  {
   "cell_type": "code",
   "execution_count": 40,
   "id": "c444525c",
   "metadata": {},
   "outputs": [
    {
     "data": {
      "text/html": [
       "<div>\n",
       "<style scoped>\n",
       "    .dataframe tbody tr th:only-of-type {\n",
       "        vertical-align: middle;\n",
       "    }\n",
       "\n",
       "    .dataframe tbody tr th {\n",
       "        vertical-align: top;\n",
       "    }\n",
       "\n",
       "    .dataframe thead th {\n",
       "        text-align: right;\n",
       "    }\n",
       "</style>\n",
       "<table border=\"1\" class=\"dataframe\">\n",
       "  <thead>\n",
       "    <tr style=\"text-align: right;\">\n",
       "      <th></th>\n",
       "      <th>A</th>\n",
       "      <th>B</th>\n",
       "      <th>C</th>\n",
       "      <th>D</th>\n",
       "      <th>E</th>\n",
       "      <th>F</th>\n",
       "      <th>Male</th>\n",
       "      <th>Extremely High</th>\n",
       "      <th>Low</th>\n",
       "      <th>Medium</th>\n",
       "      <th>Moderately Low</th>\n",
       "      <th>Moderately high</th>\n",
       "      <th>Very High</th>\n",
       "      <th>Very Low</th>\n",
       "    </tr>\n",
       "  </thead>\n",
       "  <tbody>\n",
       "    <tr>\n",
       "      <th>0</th>\n",
       "      <td>1</td>\n",
       "      <td>0</td>\n",
       "      <td>0</td>\n",
       "      <td>0</td>\n",
       "      <td>0</td>\n",
       "      <td>0</td>\n",
       "      <td>1</td>\n",
       "      <td>0</td>\n",
       "      <td>0</td>\n",
       "      <td>0</td>\n",
       "      <td>0</td>\n",
       "      <td>0</td>\n",
       "      <td>0</td>\n",
       "      <td>1</td>\n",
       "    </tr>\n",
       "    <tr>\n",
       "      <th>1</th>\n",
       "      <td>0</td>\n",
       "      <td>0</td>\n",
       "      <td>0</td>\n",
       "      <td>1</td>\n",
       "      <td>0</td>\n",
       "      <td>0</td>\n",
       "      <td>1</td>\n",
       "      <td>0</td>\n",
       "      <td>1</td>\n",
       "      <td>0</td>\n",
       "      <td>0</td>\n",
       "      <td>0</td>\n",
       "      <td>0</td>\n",
       "      <td>0</td>\n",
       "    </tr>\n",
       "    <tr>\n",
       "      <th>2</th>\n",
       "      <td>0</td>\n",
       "      <td>1</td>\n",
       "      <td>0</td>\n",
       "      <td>0</td>\n",
       "      <td>0</td>\n",
       "      <td>0</td>\n",
       "      <td>0</td>\n",
       "      <td>0</td>\n",
       "      <td>0</td>\n",
       "      <td>0</td>\n",
       "      <td>1</td>\n",
       "      <td>0</td>\n",
       "      <td>0</td>\n",
       "      <td>0</td>\n",
       "    </tr>\n",
       "    <tr>\n",
       "      <th>3</th>\n",
       "      <td>0</td>\n",
       "      <td>0</td>\n",
       "      <td>1</td>\n",
       "      <td>0</td>\n",
       "      <td>0</td>\n",
       "      <td>0</td>\n",
       "      <td>0</td>\n",
       "      <td>0</td>\n",
       "      <td>0</td>\n",
       "      <td>0</td>\n",
       "      <td>1</td>\n",
       "      <td>0</td>\n",
       "      <td>0</td>\n",
       "      <td>0</td>\n",
       "    </tr>\n",
       "    <tr>\n",
       "      <th>4</th>\n",
       "      <td>1</td>\n",
       "      <td>0</td>\n",
       "      <td>0</td>\n",
       "      <td>0</td>\n",
       "      <td>0</td>\n",
       "      <td>0</td>\n",
       "      <td>1</td>\n",
       "      <td>0</td>\n",
       "      <td>0</td>\n",
       "      <td>1</td>\n",
       "      <td>0</td>\n",
       "      <td>0</td>\n",
       "      <td>0</td>\n",
       "      <td>0</td>\n",
       "    </tr>\n",
       "  </tbody>\n",
       "</table>\n",
       "</div>"
      ],
      "text/plain": [
       "   A  B  C  D  E  F  Male  Extremely High  Low  Medium  Moderately Low  \\\n",
       "0  1  0  0  0  0  0     1               0    0       0               0   \n",
       "1  0  0  0  1  0  0     1               0    1       0               0   \n",
       "2  0  1  0  0  0  0     0               0    0       0               1   \n",
       "3  0  0  1  0  0  0     0               0    0       0               1   \n",
       "4  1  0  0  0  0  0     1               0    0       1               0   \n",
       "\n",
       "   Moderately high  Very High  Very Low  \n",
       "0                0          0         1  \n",
       "1                0          0         0  \n",
       "2                0          0         0  \n",
       "3                0          0         0  \n",
       "4                0          0         0  "
      ]
     },
     "execution_count": 40,
     "metadata": {},
     "output_type": "execute_result"
    }
   ],
   "source": [
    "X.head()"
   ]
  },
  {
   "cell_type": "code",
   "execution_count": 41,
   "id": "e9b0fa7a",
   "metadata": {},
   "outputs": [
    {
     "data": {
      "text/plain": [
       "0    0\n",
       "1    0\n",
       "2    0\n",
       "3    0\n",
       "4    0\n",
       "Name: Purchased, dtype: int64"
      ]
     },
     "execution_count": 41,
     "metadata": {},
     "output_type": "execute_result"
    }
   ],
   "source": [
    "Y.head()"
   ]
  },
  {
   "cell_type": "code",
   "execution_count": 42,
   "id": "de1c9f17",
   "metadata": {},
   "outputs": [
    {
     "data": {
      "text/plain": [
       "395    1\n",
       "396    1\n",
       "397    1\n",
       "398    0\n",
       "399    1\n",
       "Name: Purchased, dtype: int64"
      ]
     },
     "execution_count": 42,
     "metadata": {},
     "output_type": "execute_result"
    }
   ],
   "source": [
    "Y.tail()"
   ]
  },
  {
   "cell_type": "markdown",
   "id": "e3f8fbc2",
   "metadata": {},
   "source": [
    "# Step 6.Data Partition"
   ]
  },
  {
   "cell_type": "code",
   "execution_count": 43,
   "id": "b2cdb1cf",
   "metadata": {},
   "outputs": [],
   "source": [
    "from sklearn.model_selection import train_test_split\n",
    "\n",
    "X_train, X_test, Y_train, Y_test = model_selection.train_test_split (X,Y, test_size = 0.2, random_state = 10)\n"
   ]
  },
  {
   "cell_type": "code",
   "execution_count": 44,
   "id": "6826f35e",
   "metadata": {},
   "outputs": [
    {
     "data": {
      "text/html": [
       "<div>\n",
       "<style scoped>\n",
       "    .dataframe tbody tr th:only-of-type {\n",
       "        vertical-align: middle;\n",
       "    }\n",
       "\n",
       "    .dataframe tbody tr th {\n",
       "        vertical-align: top;\n",
       "    }\n",
       "\n",
       "    .dataframe thead th {\n",
       "        text-align: right;\n",
       "    }\n",
       "</style>\n",
       "<table border=\"1\" class=\"dataframe\">\n",
       "  <thead>\n",
       "    <tr style=\"text-align: right;\">\n",
       "      <th></th>\n",
       "      <th>A</th>\n",
       "      <th>B</th>\n",
       "      <th>C</th>\n",
       "      <th>D</th>\n",
       "      <th>E</th>\n",
       "      <th>F</th>\n",
       "      <th>Male</th>\n",
       "      <th>Extremely High</th>\n",
       "      <th>Low</th>\n",
       "      <th>Medium</th>\n",
       "      <th>Moderately Low</th>\n",
       "      <th>Moderately high</th>\n",
       "      <th>Very High</th>\n",
       "      <th>Very Low</th>\n",
       "    </tr>\n",
       "  </thead>\n",
       "  <tbody>\n",
       "    <tr>\n",
       "      <th>303</th>\n",
       "      <td>0</td>\n",
       "      <td>0</td>\n",
       "      <td>0</td>\n",
       "      <td>1</td>\n",
       "      <td>0</td>\n",
       "      <td>0</td>\n",
       "      <td>1</td>\n",
       "      <td>0</td>\n",
       "      <td>0</td>\n",
       "      <td>1</td>\n",
       "      <td>0</td>\n",
       "      <td>0</td>\n",
       "      <td>0</td>\n",
       "      <td>0</td>\n",
       "    </tr>\n",
       "    <tr>\n",
       "      <th>349</th>\n",
       "      <td>0</td>\n",
       "      <td>0</td>\n",
       "      <td>0</td>\n",
       "      <td>1</td>\n",
       "      <td>0</td>\n",
       "      <td>0</td>\n",
       "      <td>1</td>\n",
       "      <td>0</td>\n",
       "      <td>0</td>\n",
       "      <td>1</td>\n",
       "      <td>0</td>\n",
       "      <td>0</td>\n",
       "      <td>0</td>\n",
       "      <td>0</td>\n",
       "    </tr>\n",
       "    <tr>\n",
       "      <th>149</th>\n",
       "      <td>1</td>\n",
       "      <td>0</td>\n",
       "      <td>0</td>\n",
       "      <td>0</td>\n",
       "      <td>0</td>\n",
       "      <td>0</td>\n",
       "      <td>1</td>\n",
       "      <td>0</td>\n",
       "      <td>0</td>\n",
       "      <td>1</td>\n",
       "      <td>0</td>\n",
       "      <td>0</td>\n",
       "      <td>0</td>\n",
       "      <td>0</td>\n",
       "    </tr>\n",
       "    <tr>\n",
       "      <th>100</th>\n",
       "      <td>0</td>\n",
       "      <td>0</td>\n",
       "      <td>1</td>\n",
       "      <td>0</td>\n",
       "      <td>0</td>\n",
       "      <td>0</td>\n",
       "      <td>1</td>\n",
       "      <td>0</td>\n",
       "      <td>0</td>\n",
       "      <td>0</td>\n",
       "      <td>0</td>\n",
       "      <td>1</td>\n",
       "      <td>0</td>\n",
       "      <td>0</td>\n",
       "    </tr>\n",
       "    <tr>\n",
       "      <th>175</th>\n",
       "      <td>0</td>\n",
       "      <td>1</td>\n",
       "      <td>0</td>\n",
       "      <td>0</td>\n",
       "      <td>0</td>\n",
       "      <td>0</td>\n",
       "      <td>0</td>\n",
       "      <td>0</td>\n",
       "      <td>1</td>\n",
       "      <td>0</td>\n",
       "      <td>0</td>\n",
       "      <td>0</td>\n",
       "      <td>0</td>\n",
       "      <td>0</td>\n",
       "    </tr>\n",
       "    <tr>\n",
       "      <th>...</th>\n",
       "      <td>...</td>\n",
       "      <td>...</td>\n",
       "      <td>...</td>\n",
       "      <td>...</td>\n",
       "      <td>...</td>\n",
       "      <td>...</td>\n",
       "      <td>...</td>\n",
       "      <td>...</td>\n",
       "      <td>...</td>\n",
       "      <td>...</td>\n",
       "      <td>...</td>\n",
       "      <td>...</td>\n",
       "      <td>...</td>\n",
       "      <td>...</td>\n",
       "    </tr>\n",
       "    <tr>\n",
       "      <th>369</th>\n",
       "      <td>0</td>\n",
       "      <td>0</td>\n",
       "      <td>0</td>\n",
       "      <td>0</td>\n",
       "      <td>0</td>\n",
       "      <td>1</td>\n",
       "      <td>0</td>\n",
       "      <td>0</td>\n",
       "      <td>1</td>\n",
       "      <td>0</td>\n",
       "      <td>0</td>\n",
       "      <td>0</td>\n",
       "      <td>0</td>\n",
       "      <td>0</td>\n",
       "    </tr>\n",
       "    <tr>\n",
       "      <th>320</th>\n",
       "      <td>0</td>\n",
       "      <td>0</td>\n",
       "      <td>0</td>\n",
       "      <td>0</td>\n",
       "      <td>0</td>\n",
       "      <td>1</td>\n",
       "      <td>0</td>\n",
       "      <td>0</td>\n",
       "      <td>0</td>\n",
       "      <td>0</td>\n",
       "      <td>0</td>\n",
       "      <td>0</td>\n",
       "      <td>1</td>\n",
       "      <td>0</td>\n",
       "    </tr>\n",
       "    <tr>\n",
       "      <th>15</th>\n",
       "      <td>0</td>\n",
       "      <td>0</td>\n",
       "      <td>1</td>\n",
       "      <td>0</td>\n",
       "      <td>0</td>\n",
       "      <td>0</td>\n",
       "      <td>1</td>\n",
       "      <td>0</td>\n",
       "      <td>0</td>\n",
       "      <td>1</td>\n",
       "      <td>0</td>\n",
       "      <td>0</td>\n",
       "      <td>0</td>\n",
       "      <td>0</td>\n",
       "    </tr>\n",
       "    <tr>\n",
       "      <th>125</th>\n",
       "      <td>0</td>\n",
       "      <td>0</td>\n",
       "      <td>0</td>\n",
       "      <td>1</td>\n",
       "      <td>0</td>\n",
       "      <td>0</td>\n",
       "      <td>0</td>\n",
       "      <td>0</td>\n",
       "      <td>0</td>\n",
       "      <td>1</td>\n",
       "      <td>0</td>\n",
       "      <td>0</td>\n",
       "      <td>0</td>\n",
       "      <td>0</td>\n",
       "    </tr>\n",
       "    <tr>\n",
       "      <th>265</th>\n",
       "      <td>0</td>\n",
       "      <td>0</td>\n",
       "      <td>0</td>\n",
       "      <td>0</td>\n",
       "      <td>1</td>\n",
       "      <td>0</td>\n",
       "      <td>0</td>\n",
       "      <td>0</td>\n",
       "      <td>0</td>\n",
       "      <td>0</td>\n",
       "      <td>0</td>\n",
       "      <td>0</td>\n",
       "      <td>1</td>\n",
       "      <td>0</td>\n",
       "    </tr>\n",
       "  </tbody>\n",
       "</table>\n",
       "<p>320 rows × 14 columns</p>\n",
       "</div>"
      ],
      "text/plain": [
       "     A  B  C  D  E  F  Male  Extremely High  Low  Medium  Moderately Low  \\\n",
       "303  0  0  0  1  0  0     1               0    0       1               0   \n",
       "349  0  0  0  1  0  0     1               0    0       1               0   \n",
       "149  1  0  0  0  0  0     1               0    0       1               0   \n",
       "100  0  0  1  0  0  0     1               0    0       0               0   \n",
       "175  0  1  0  0  0  0     0               0    1       0               0   \n",
       "..  .. .. .. .. .. ..   ...             ...  ...     ...             ...   \n",
       "369  0  0  0  0  0  1     0               0    1       0               0   \n",
       "320  0  0  0  0  0  1     0               0    0       0               0   \n",
       "15   0  0  1  0  0  0     1               0    0       1               0   \n",
       "125  0  0  0  1  0  0     0               0    0       1               0   \n",
       "265  0  0  0  0  1  0     0               0    0       0               0   \n",
       "\n",
       "     Moderately high  Very High  Very Low  \n",
       "303                0          0         0  \n",
       "349                0          0         0  \n",
       "149                0          0         0  \n",
       "100                1          0         0  \n",
       "175                0          0         0  \n",
       "..               ...        ...       ...  \n",
       "369                0          0         0  \n",
       "320                0          1         0  \n",
       "15                 0          0         0  \n",
       "125                0          0         0  \n",
       "265                0          1         0  \n",
       "\n",
       "[320 rows x 14 columns]"
      ]
     },
     "execution_count": 44,
     "metadata": {},
     "output_type": "execute_result"
    }
   ],
   "source": [
    "X_train"
   ]
  },
  {
   "cell_type": "code",
   "execution_count": 45,
   "id": "e547e84b",
   "metadata": {},
   "outputs": [
    {
     "data": {
      "text/plain": [
       "303    1\n",
       "349    0\n",
       "149    0\n",
       "100    0\n",
       "175    0\n",
       "      ..\n",
       "369    1\n",
       "320    1\n",
       "15     0\n",
       "125    0\n",
       "265    1\n",
       "Name: Purchased, Length: 320, dtype: int64"
      ]
     },
     "execution_count": 45,
     "metadata": {},
     "output_type": "execute_result"
    }
   ],
   "source": [
    "Y_train"
   ]
  },
  {
   "cell_type": "markdown",
   "id": "88c27131",
   "metadata": {},
   "source": [
    "# Step 7. Logistics Regression"
   ]
  },
  {
   "cell_type": "code",
   "execution_count": 48,
   "id": "6ff18bd8",
   "metadata": {},
   "outputs": [],
   "source": [
    "from sklearn.linear_model import LogisticRegression\n",
    "\n",
    "logreg = LogisticRegression()\n",
    "output=logreg.fit(X_train, Y_train) # model = output"
   ]
  },
  {
   "cell_type": "code",
   "execution_count": 49,
   "id": "b9a6029a",
   "metadata": {},
   "outputs": [
    {
     "data": {
      "text/plain": [
       "array([-1.0883565])"
      ]
     },
     "execution_count": 49,
     "metadata": {},
     "output_type": "execute_result"
    }
   ],
   "source": [
    "output.intercept_  "
   ]
  },
  {
   "cell_type": "code",
   "execution_count": 50,
   "id": "4f3d13a2",
   "metadata": {},
   "outputs": [
    {
     "data": {
      "text/plain": [
       "array([[-1.34245598, -1.88394956, -0.88242914, -0.08550397,  1.46702909,\n",
       "         2.7273632 ,  0.48869656,  1.69367275,  0.15967655, -1.27306366,\n",
       "        -1.43084173,  0.29132316,  1.49998153, -0.94069497]])"
      ]
     },
     "execution_count": 50,
     "metadata": {},
     "output_type": "execute_result"
    }
   ],
   "source": [
    "output.coef_  "
   ]
  },
  {
   "cell_type": "code",
   "execution_count": 51,
   "id": "25aeda30",
   "metadata": {},
   "outputs": [
    {
     "data": {
      "text/plain": [
       "array(['A', 'B', 'C', 'D', 'E', 'F', 'Male', 'Extremely High', 'Low',\n",
       "       'Medium', 'Moderately Low', 'Moderately high', 'Very High',\n",
       "       'Very Low'], dtype=object)"
      ]
     },
     "execution_count": 51,
     "metadata": {},
     "output_type": "execute_result"
    }
   ],
   "source": [
    "output.feature_names_in_"
   ]
  },
  {
   "cell_type": "markdown",
   "id": "3fabdd08",
   "metadata": {},
   "source": [
    "# Step 8. Prediction on trained dataset"
   ]
  },
  {
   "cell_type": "code",
   "execution_count": 52,
   "id": "b9f0f61f",
   "metadata": {},
   "outputs": [
    {
     "data": {
      "text/html": [
       "<div>\n",
       "<style scoped>\n",
       "    .dataframe tbody tr th:only-of-type {\n",
       "        vertical-align: middle;\n",
       "    }\n",
       "\n",
       "    .dataframe tbody tr th {\n",
       "        vertical-align: top;\n",
       "    }\n",
       "\n",
       "    .dataframe thead th {\n",
       "        text-align: right;\n",
       "    }\n",
       "</style>\n",
       "<table border=\"1\" class=\"dataframe\">\n",
       "  <thead>\n",
       "    <tr style=\"text-align: right;\">\n",
       "      <th></th>\n",
       "      <th>A</th>\n",
       "      <th>B</th>\n",
       "      <th>C</th>\n",
       "      <th>D</th>\n",
       "      <th>E</th>\n",
       "      <th>F</th>\n",
       "      <th>Male</th>\n",
       "      <th>Extremely High</th>\n",
       "      <th>Low</th>\n",
       "      <th>Medium</th>\n",
       "      <th>Moderately Low</th>\n",
       "      <th>Moderately high</th>\n",
       "      <th>Very High</th>\n",
       "      <th>Very Low</th>\n",
       "      <th>Purchased</th>\n",
       "    </tr>\n",
       "  </thead>\n",
       "  <tbody>\n",
       "    <tr>\n",
       "      <th>303</th>\n",
       "      <td>0</td>\n",
       "      <td>0</td>\n",
       "      <td>0</td>\n",
       "      <td>1</td>\n",
       "      <td>0</td>\n",
       "      <td>0</td>\n",
       "      <td>1</td>\n",
       "      <td>0</td>\n",
       "      <td>0</td>\n",
       "      <td>1</td>\n",
       "      <td>0</td>\n",
       "      <td>0</td>\n",
       "      <td>0</td>\n",
       "      <td>0</td>\n",
       "      <td>1</td>\n",
       "    </tr>\n",
       "    <tr>\n",
       "      <th>349</th>\n",
       "      <td>0</td>\n",
       "      <td>0</td>\n",
       "      <td>0</td>\n",
       "      <td>1</td>\n",
       "      <td>0</td>\n",
       "      <td>0</td>\n",
       "      <td>1</td>\n",
       "      <td>0</td>\n",
       "      <td>0</td>\n",
       "      <td>1</td>\n",
       "      <td>0</td>\n",
       "      <td>0</td>\n",
       "      <td>0</td>\n",
       "      <td>0</td>\n",
       "      <td>0</td>\n",
       "    </tr>\n",
       "    <tr>\n",
       "      <th>149</th>\n",
       "      <td>1</td>\n",
       "      <td>0</td>\n",
       "      <td>0</td>\n",
       "      <td>0</td>\n",
       "      <td>0</td>\n",
       "      <td>0</td>\n",
       "      <td>1</td>\n",
       "      <td>0</td>\n",
       "      <td>0</td>\n",
       "      <td>1</td>\n",
       "      <td>0</td>\n",
       "      <td>0</td>\n",
       "      <td>0</td>\n",
       "      <td>0</td>\n",
       "      <td>0</td>\n",
       "    </tr>\n",
       "    <tr>\n",
       "      <th>100</th>\n",
       "      <td>0</td>\n",
       "      <td>0</td>\n",
       "      <td>1</td>\n",
       "      <td>0</td>\n",
       "      <td>0</td>\n",
       "      <td>0</td>\n",
       "      <td>1</td>\n",
       "      <td>0</td>\n",
       "      <td>0</td>\n",
       "      <td>0</td>\n",
       "      <td>0</td>\n",
       "      <td>1</td>\n",
       "      <td>0</td>\n",
       "      <td>0</td>\n",
       "      <td>0</td>\n",
       "    </tr>\n",
       "    <tr>\n",
       "      <th>175</th>\n",
       "      <td>0</td>\n",
       "      <td>1</td>\n",
       "      <td>0</td>\n",
       "      <td>0</td>\n",
       "      <td>0</td>\n",
       "      <td>0</td>\n",
       "      <td>0</td>\n",
       "      <td>0</td>\n",
       "      <td>1</td>\n",
       "      <td>0</td>\n",
       "      <td>0</td>\n",
       "      <td>0</td>\n",
       "      <td>0</td>\n",
       "      <td>0</td>\n",
       "      <td>0</td>\n",
       "    </tr>\n",
       "  </tbody>\n",
       "</table>\n",
       "</div>"
      ],
      "text/plain": [
       "     A  B  C  D  E  F  Male  Extremely High  Low  Medium  Moderately Low  \\\n",
       "303  0  0  0  1  0  0     1               0    0       1               0   \n",
       "349  0  0  0  1  0  0     1               0    0       1               0   \n",
       "149  1  0  0  0  0  0     1               0    0       1               0   \n",
       "100  0  0  1  0  0  0     1               0    0       0               0   \n",
       "175  0  1  0  0  0  0     0               0    1       0               0   \n",
       "\n",
       "     Moderately high  Very High  Very Low  Purchased  \n",
       "303                0          0         0          1  \n",
       "349                0          0         0          0  \n",
       "149                0          0         0          0  \n",
       "100                1          0         0          0  \n",
       "175                0          0         0          0  "
      ]
     },
     "execution_count": 52,
     "metadata": {},
     "output_type": "execute_result"
    }
   ],
   "source": [
    "train=pd.concat([X_train,Y_train],axis=1)\n",
    "train.head()"
   ]
  },
  {
   "cell_type": "code",
   "execution_count": 53,
   "id": "d8c5ee4a",
   "metadata": {},
   "outputs": [
    {
     "data": {
      "text/html": [
       "<div>\n",
       "<style scoped>\n",
       "    .dataframe tbody tr th:only-of-type {\n",
       "        vertical-align: middle;\n",
       "    }\n",
       "\n",
       "    .dataframe tbody tr th {\n",
       "        vertical-align: top;\n",
       "    }\n",
       "\n",
       "    .dataframe thead th {\n",
       "        text-align: right;\n",
       "    }\n",
       "</style>\n",
       "<table border=\"1\" class=\"dataframe\">\n",
       "  <thead>\n",
       "    <tr style=\"text-align: right;\">\n",
       "      <th></th>\n",
       "      <th>A</th>\n",
       "      <th>B</th>\n",
       "      <th>C</th>\n",
       "      <th>D</th>\n",
       "      <th>E</th>\n",
       "      <th>F</th>\n",
       "      <th>Male</th>\n",
       "      <th>Extremely High</th>\n",
       "      <th>Low</th>\n",
       "      <th>Medium</th>\n",
       "      <th>Moderately Low</th>\n",
       "      <th>Moderately high</th>\n",
       "      <th>Very High</th>\n",
       "      <th>Very Low</th>\n",
       "      <th>Purchased</th>\n",
       "      <th>Predicted</th>\n",
       "    </tr>\n",
       "  </thead>\n",
       "  <tbody>\n",
       "    <tr>\n",
       "      <th>303</th>\n",
       "      <td>0</td>\n",
       "      <td>0</td>\n",
       "      <td>0</td>\n",
       "      <td>1</td>\n",
       "      <td>0</td>\n",
       "      <td>0</td>\n",
       "      <td>1</td>\n",
       "      <td>0</td>\n",
       "      <td>0</td>\n",
       "      <td>1</td>\n",
       "      <td>0</td>\n",
       "      <td>0</td>\n",
       "      <td>0</td>\n",
       "      <td>0</td>\n",
       "      <td>1</td>\n",
       "      <td>0</td>\n",
       "    </tr>\n",
       "    <tr>\n",
       "      <th>349</th>\n",
       "      <td>0</td>\n",
       "      <td>0</td>\n",
       "      <td>0</td>\n",
       "      <td>1</td>\n",
       "      <td>0</td>\n",
       "      <td>0</td>\n",
       "      <td>1</td>\n",
       "      <td>0</td>\n",
       "      <td>0</td>\n",
       "      <td>1</td>\n",
       "      <td>0</td>\n",
       "      <td>0</td>\n",
       "      <td>0</td>\n",
       "      <td>0</td>\n",
       "      <td>0</td>\n",
       "      <td>0</td>\n",
       "    </tr>\n",
       "    <tr>\n",
       "      <th>149</th>\n",
       "      <td>1</td>\n",
       "      <td>0</td>\n",
       "      <td>0</td>\n",
       "      <td>0</td>\n",
       "      <td>0</td>\n",
       "      <td>0</td>\n",
       "      <td>1</td>\n",
       "      <td>0</td>\n",
       "      <td>0</td>\n",
       "      <td>1</td>\n",
       "      <td>0</td>\n",
       "      <td>0</td>\n",
       "      <td>0</td>\n",
       "      <td>0</td>\n",
       "      <td>0</td>\n",
       "      <td>0</td>\n",
       "    </tr>\n",
       "    <tr>\n",
       "      <th>100</th>\n",
       "      <td>0</td>\n",
       "      <td>0</td>\n",
       "      <td>1</td>\n",
       "      <td>0</td>\n",
       "      <td>0</td>\n",
       "      <td>0</td>\n",
       "      <td>1</td>\n",
       "      <td>0</td>\n",
       "      <td>0</td>\n",
       "      <td>0</td>\n",
       "      <td>0</td>\n",
       "      <td>1</td>\n",
       "      <td>0</td>\n",
       "      <td>0</td>\n",
       "      <td>0</td>\n",
       "      <td>0</td>\n",
       "    </tr>\n",
       "    <tr>\n",
       "      <th>175</th>\n",
       "      <td>0</td>\n",
       "      <td>1</td>\n",
       "      <td>0</td>\n",
       "      <td>0</td>\n",
       "      <td>0</td>\n",
       "      <td>0</td>\n",
       "      <td>0</td>\n",
       "      <td>0</td>\n",
       "      <td>1</td>\n",
       "      <td>0</td>\n",
       "      <td>0</td>\n",
       "      <td>0</td>\n",
       "      <td>0</td>\n",
       "      <td>0</td>\n",
       "      <td>0</td>\n",
       "      <td>0</td>\n",
       "    </tr>\n",
       "  </tbody>\n",
       "</table>\n",
       "</div>"
      ],
      "text/plain": [
       "     A  B  C  D  E  F  Male  Extremely High  Low  Medium  Moderately Low  \\\n",
       "303  0  0  0  1  0  0     1               0    0       1               0   \n",
       "349  0  0  0  1  0  0     1               0    0       1               0   \n",
       "149  1  0  0  0  0  0     1               0    0       1               0   \n",
       "100  0  0  1  0  0  0     1               0    0       0               0   \n",
       "175  0  1  0  0  0  0     0               0    1       0               0   \n",
       "\n",
       "     Moderately high  Very High  Very Low  Purchased  Predicted  \n",
       "303                0          0         0          1          0  \n",
       "349                0          0         0          0          0  \n",
       "149                0          0         0          0          0  \n",
       "100                1          0         0          0          0  \n",
       "175                0          0         0          0          0  "
      ]
     },
     "execution_count": 53,
     "metadata": {},
     "output_type": "execute_result"
    }
   ],
   "source": [
    "train['Predicted']=output.predict(X_train)\n",
    "train.head()"
   ]
  },
  {
   "cell_type": "code",
   "execution_count": 54,
   "id": "86293c88",
   "metadata": {},
   "outputs": [
    {
     "data": {
      "text/plain": [
       "array([[0.87634101, 0.12365899],\n",
       "       [0.87634101, 0.12365899],\n",
       "       [0.96140153, 0.03859847],\n",
       "       [0.76687802, 0.23312198],\n",
       "       [0.9433545 , 0.0566455 ],\n",
       "       [0.70734774, 0.29265226],\n",
       "       [0.89955468, 0.10044532],\n",
       "       [0.76687802, 0.23312198],\n",
       "       [0.90645815, 0.09354185],\n",
       "       [0.87634101, 0.12365899],\n",
       "       [0.33250844, 0.66749156],\n",
       "       [0.92033623, 0.07966377],\n",
       "       [0.62843   , 0.37157   ],\n",
       "       [0.44814587, 0.55185413],\n",
       "       [0.98587203, 0.01412797],\n",
       "       [0.96684862, 0.03315138],\n",
       "       [0.04152737, 0.95847263],\n",
       "       [0.76687802, 0.23312198],\n",
       "       [0.92033623, 0.07966377],\n",
       "       [0.9402037 , 0.0597963 ],\n",
       "       [0.9402037 , 0.0597963 ],\n",
       "       [0.84283334, 0.15716666],\n",
       "       [0.7097955 , 0.2902045 ],\n",
       "       [0.09217357, 0.90782643],\n",
       "       [0.33849779, 0.66150221],\n",
       "       [0.26365726, 0.73634274],\n",
       "       [0.92033623, 0.07966377],\n",
       "       [0.96845554, 0.03154446],\n",
       "       [0.30686484, 0.69313516],\n",
       "       [0.62843   , 0.37157   ],\n",
       "       [0.83560156, 0.16439844],\n",
       "       [0.04152737, 0.95847263],\n",
       "       [0.89244914, 0.10755086],\n",
       "       [0.97717196, 0.02282804],\n",
       "       [0.2984605 , 0.7015395 ],\n",
       "       [0.26365726, 0.73634274],\n",
       "       [0.89244914, 0.10755086],\n",
       "       [0.02588956, 0.97411044],\n",
       "       [0.41918473, 0.58081527],\n",
       "       [0.60005506, 0.39994494],\n",
       "       [0.3685717 , 0.6314283 ],\n",
       "       [0.26365726, 0.73634274],\n",
       "       [0.3685717 , 0.6314283 ],\n",
       "       [0.92033623, 0.07966377],\n",
       "       [0.89244914, 0.10755086],\n",
       "       [0.60005506, 0.39994494],\n",
       "       [0.08569649, 0.91430351],\n",
       "       [0.26365726, 0.73634274],\n",
       "       [0.94848196, 0.05151804],\n",
       "       [0.12671408, 0.87328592],\n",
       "       [0.74119122, 0.25880878],\n",
       "       [0.70734774, 0.29265226],\n",
       "       [0.9402037 , 0.0597963 ],\n",
       "       [0.89244914, 0.10755086],\n",
       "       [0.3685717 , 0.6314283 ],\n",
       "       [0.2984605 , 0.7015395 ],\n",
       "       [0.26365726, 0.73634274],\n",
       "       [0.73383815, 0.26616185],\n",
       "       [0.37289613, 0.62710387],\n",
       "       [0.87634101, 0.12365899],\n",
       "       [0.92033623, 0.07966377],\n",
       "       [0.23890498, 0.76109502],\n",
       "       [0.3685717 , 0.6314283 ],\n",
       "       [0.03446695, 0.96553305],\n",
       "       [0.84283334, 0.15716666],\n",
       "       [0.04152737, 0.95847263],\n",
       "       [0.62843   , 0.37157   ],\n",
       "       [0.60005506, 0.39994494],\n",
       "       [0.3685717 , 0.6314283 ],\n",
       "       [0.33849779, 0.66150221],\n",
       "       [0.87634101, 0.12365899],\n",
       "       [0.89955468, 0.10044532],\n",
       "       [0.94848196, 0.05151804],\n",
       "       [0.92033623, 0.07966377],\n",
       "       [0.14201143, 0.85798857],\n",
       "       [0.74119122, 0.25880878],\n",
       "       [0.04152737, 0.95847263],\n",
       "       [0.90645815, 0.09354185],\n",
       "       [0.09217357, 0.90782643],\n",
       "       [0.02142842, 0.97857158],\n",
       "       [0.78958281, 0.21041719],\n",
       "       [0.74119122, 0.25880878],\n",
       "       [0.08569649, 0.91430351],\n",
       "       [0.9433545 , 0.0566455 ],\n",
       "       [0.85599782, 0.14400218],\n",
       "       [0.91083985, 0.08916015],\n",
       "       [0.70734774, 0.29265226],\n",
       "       [0.33849779, 0.66150221],\n",
       "       [0.96845554, 0.03154446],\n",
       "       [0.92033623, 0.07966377],\n",
       "       [0.30686484, 0.69313516],\n",
       "       [0.60005506, 0.39994494],\n",
       "       [0.87634101, 0.12365899],\n",
       "       [0.87634101, 0.12365899],\n",
       "       [0.9402037 , 0.0597963 ],\n",
       "       [0.98587203, 0.01412797],\n",
       "       [0.41918473, 0.58081527],\n",
       "       [0.93116359, 0.06883641],\n",
       "       [0.89244914, 0.10755086],\n",
       "       [0.78958281, 0.21041719],\n",
       "       [0.76687802, 0.23312198],\n",
       "       [0.89244914, 0.10755086],\n",
       "       [0.60005506, 0.39994494],\n",
       "       [0.98587203, 0.01412797],\n",
       "       [0.87634101, 0.12365899],\n",
       "       [0.94699015, 0.05300985],\n",
       "       [0.9433545 , 0.0566455 ],\n",
       "       [0.93116359, 0.06883641],\n",
       "       [0.7097955 , 0.2902045 ],\n",
       "       [0.30686484, 0.69313516],\n",
       "       [0.98790922, 0.01209078],\n",
       "       [0.13254354, 0.86745646],\n",
       "       [0.07168817, 0.92831183],\n",
       "       [0.30686484, 0.69313516],\n",
       "       [0.59720694, 0.40279306],\n",
       "       [0.89230986, 0.10769014],\n",
       "       [0.41918473, 0.58081527],\n",
       "       [0.76687802, 0.23312198],\n",
       "       [0.30686484, 0.69313516],\n",
       "       [0.93589512, 0.06410488],\n",
       "       [0.87634101, 0.12365899],\n",
       "       [0.60005506, 0.39994494],\n",
       "       [0.04152737, 0.95847263],\n",
       "       [0.7097955 , 0.2902045 ],\n",
       "       [0.92033623, 0.07966377],\n",
       "       [0.90645815, 0.09354185],\n",
       "       [0.8946825 , 0.1053175 ],\n",
       "       [0.98043878, 0.01956122],\n",
       "       [0.87634101, 0.12365899],\n",
       "       [0.59720694, 0.40279306],\n",
       "       [0.97717196, 0.02282804],\n",
       "       [0.92033623, 0.07966377],\n",
       "       [0.73383815, 0.26616185],\n",
       "       [0.92033623, 0.07966377],\n",
       "       [0.93116359, 0.06883641],\n",
       "       [0.93116359, 0.06883641],\n",
       "       [0.96245147, 0.03754853],\n",
       "       [0.02588956, 0.97411044],\n",
       "       [0.87634101, 0.12365899],\n",
       "       [0.87634101, 0.12365899],\n",
       "       [0.87634101, 0.12365899],\n",
       "       [0.13254354, 0.86745646],\n",
       "       [0.96140153, 0.03859847],\n",
       "       [0.98790922, 0.01209078],\n",
       "       [0.49552701, 0.50447299],\n",
       "       [0.89244914, 0.10755086],\n",
       "       [0.41918473, 0.58081527],\n",
       "       [0.87634101, 0.12365899],\n",
       "       [0.92033623, 0.07966377],\n",
       "       [0.97717196, 0.02282804],\n",
       "       [0.08569649, 0.91430351],\n",
       "       [0.96245147, 0.03754853],\n",
       "       [0.04152737, 0.95847263],\n",
       "       [0.96845554, 0.03154446],\n",
       "       [0.26365726, 0.73634274],\n",
       "       [0.63725565, 0.36274435],\n",
       "       [0.98041095, 0.01958905],\n",
       "       [0.13254354, 0.86745646],\n",
       "       [0.37289613, 0.62710387],\n",
       "       [0.92033623, 0.07966377],\n",
       "       [0.37289613, 0.62710387],\n",
       "       [0.61557406, 0.38442594],\n",
       "       [0.85949587, 0.14050413],\n",
       "       [0.94848196, 0.05151804],\n",
       "       [0.93116359, 0.06883641],\n",
       "       [0.04152737, 0.95847263],\n",
       "       [0.93116359, 0.06883641],\n",
       "       [0.89955468, 0.10044532],\n",
       "       [0.96775536, 0.03224464],\n",
       "       [0.44814587, 0.55185413],\n",
       "       [0.89955468, 0.10044532],\n",
       "       [0.13254354, 0.86745646],\n",
       "       [0.13254354, 0.86745646],\n",
       "       [0.04152737, 0.95847263],\n",
       "       [0.93116359, 0.06883641],\n",
       "       [0.87634101, 0.12365899],\n",
       "       [0.93116359, 0.06883641],\n",
       "       [0.87634101, 0.12365899],\n",
       "       [0.12671408, 0.87328592],\n",
       "       [0.89244914, 0.10755086],\n",
       "       [0.8946825 , 0.1053175 ],\n",
       "       [0.33250844, 0.66749156],\n",
       "       [0.93116359, 0.06883641],\n",
       "       [0.44730054, 0.55269946],\n",
       "       [0.3685717 , 0.6314283 ],\n",
       "       [0.7097955 , 0.2902045 ],\n",
       "       [0.93116359, 0.06883641],\n",
       "       [0.30686484, 0.69313516],\n",
       "       [0.23890498, 0.76109502],\n",
       "       [0.87634101, 0.12365899],\n",
       "       [0.89244914, 0.10755086],\n",
       "       [0.92033623, 0.07966377],\n",
       "       [0.49552701, 0.50447299],\n",
       "       [0.59720694, 0.40279306],\n",
       "       [0.7097955 , 0.2902045 ],\n",
       "       [0.89244914, 0.10755086],\n",
       "       [0.96684862, 0.03315138],\n",
       "       [0.93116359, 0.06883641],\n",
       "       [0.93589512, 0.06410488],\n",
       "       [0.73383815, 0.26616185],\n",
       "       [0.63725565, 0.36274435],\n",
       "       [0.74119122, 0.25880878],\n",
       "       [0.7097955 , 0.2902045 ],\n",
       "       [0.93116359, 0.06883641],\n",
       "       [0.41918473, 0.58081527],\n",
       "       [0.13254354, 0.86745646],\n",
       "       [0.73383815, 0.26616185],\n",
       "       [0.3685717 , 0.6314283 ],\n",
       "       [0.14201143, 0.85798857],\n",
       "       [0.14201143, 0.85798857],\n",
       "       [0.89955468, 0.10044532],\n",
       "       [0.93116359, 0.06883641],\n",
       "       [0.23890498, 0.76109502],\n",
       "       [0.13254354, 0.86745646],\n",
       "       [0.74119122, 0.25880878],\n",
       "       [0.73383815, 0.26616185],\n",
       "       [0.91083985, 0.08916015],\n",
       "       [0.30686484, 0.69313516],\n",
       "       [0.26365726, 0.73634274],\n",
       "       [0.89244914, 0.10755086],\n",
       "       [0.9794001 , 0.0205999 ],\n",
       "       [0.83899817, 0.16100183],\n",
       "       [0.63725565, 0.36274435],\n",
       "       [0.33250844, 0.66749156],\n",
       "       [0.70734774, 0.29265226],\n",
       "       [0.96775536, 0.03224464],\n",
       "       [0.3685717 , 0.6314283 ],\n",
       "       [0.91854828, 0.08145172],\n",
       "       [0.8946825 , 0.1053175 ],\n",
       "       [0.60005506, 0.39994494],\n",
       "       [0.91083985, 0.08916015],\n",
       "       [0.87634101, 0.12365899],\n",
       "       [0.60005506, 0.39994494],\n",
       "       [0.63725565, 0.36274435],\n",
       "       [0.92033623, 0.07966377],\n",
       "       [0.30686484, 0.69313516],\n",
       "       [0.30686484, 0.69313516],\n",
       "       [0.98041095, 0.01958905],\n",
       "       [0.87634101, 0.12365899],\n",
       "       [0.23890498, 0.76109502],\n",
       "       [0.7097955 , 0.2902045 ],\n",
       "       [0.13254354, 0.86745646],\n",
       "       [0.87634101, 0.12365899],\n",
       "       [0.98790922, 0.01209078],\n",
       "       [0.98041095, 0.01958905],\n",
       "       [0.41918473, 0.58081527],\n",
       "       [0.41918473, 0.58081527],\n",
       "       [0.93116359, 0.06883641],\n",
       "       [0.96775536, 0.03224464],\n",
       "       [0.76687802, 0.23312198],\n",
       "       [0.40952169, 0.59047831],\n",
       "       [0.30686484, 0.69313516],\n",
       "       [0.41918473, 0.58081527],\n",
       "       [0.04152737, 0.95847263],\n",
       "       [0.7097955 , 0.2902045 ],\n",
       "       [0.96140153, 0.03859847],\n",
       "       [0.98587203, 0.01412797],\n",
       "       [0.84283334, 0.15716666],\n",
       "       [0.3685717 , 0.6314283 ],\n",
       "       [0.92033623, 0.07966377],\n",
       "       [0.08569649, 0.91430351],\n",
       "       [0.7097955 , 0.2902045 ],\n",
       "       [0.97717196, 0.02282804],\n",
       "       [0.93589512, 0.06410488],\n",
       "       [0.26365726, 0.73634274],\n",
       "       [0.9433545 , 0.0566455 ],\n",
       "       [0.89244914, 0.10755086],\n",
       "       [0.3685717 , 0.6314283 ],\n",
       "       [0.3685717 , 0.6314283 ],\n",
       "       [0.60005506, 0.39994494],\n",
       "       [0.83560156, 0.16439844],\n",
       "       [0.33250844, 0.66749156],\n",
       "       [0.63725565, 0.36274435],\n",
       "       [0.84283334, 0.15716666],\n",
       "       [0.3685717 , 0.6314283 ],\n",
       "       [0.85949587, 0.14050413],\n",
       "       [0.26365726, 0.73634274],\n",
       "       [0.14201143, 0.85798857],\n",
       "       [0.09217357, 0.90782643],\n",
       "       [0.13254354, 0.86745646],\n",
       "       [0.61557406, 0.38442594],\n",
       "       [0.12671408, 0.87328592],\n",
       "       [0.83899817, 0.16100183],\n",
       "       [0.89244914, 0.10755086],\n",
       "       [0.91083985, 0.08916015],\n",
       "       [0.92033623, 0.07966377],\n",
       "       [0.92033623, 0.07966377],\n",
       "       [0.87634101, 0.12365899],\n",
       "       [0.97596407, 0.02403593],\n",
       "       [0.04152737, 0.95847263],\n",
       "       [0.83560156, 0.16439844],\n",
       "       [0.9433545 , 0.0566455 ],\n",
       "       [0.13254354, 0.86745646],\n",
       "       [0.73383815, 0.26616185],\n",
       "       [0.91083985, 0.08916015],\n",
       "       [0.14201143, 0.85798857],\n",
       "       [0.62843   , 0.37157   ],\n",
       "       [0.96775536, 0.03224464],\n",
       "       [0.98587203, 0.01412797],\n",
       "       [0.92033623, 0.07966377],\n",
       "       [0.7097955 , 0.2902045 ],\n",
       "       [0.08569649, 0.91430351],\n",
       "       [0.96775536, 0.03224464],\n",
       "       [0.04152737, 0.95847263],\n",
       "       [0.2984605 , 0.7015395 ],\n",
       "       [0.26365726, 0.73634274],\n",
       "       [0.0817333 , 0.9182667 ],\n",
       "       [0.94841106, 0.05158894],\n",
       "       [0.7097955 , 0.2902045 ],\n",
       "       [0.41918473, 0.58081527],\n",
       "       [0.91083985, 0.08916015],\n",
       "       [0.74119122, 0.25880878],\n",
       "       [0.59720694, 0.40279306],\n",
       "       [0.63725565, 0.36274435],\n",
       "       [0.89244914, 0.10755086],\n",
       "       [0.14201143, 0.85798857],\n",
       "       [0.04152737, 0.95847263],\n",
       "       [0.9402037 , 0.0597963 ],\n",
       "       [0.92033623, 0.07966377],\n",
       "       [0.13254354, 0.86745646]])"
      ]
     },
     "execution_count": 54,
     "metadata": {},
     "output_type": "execute_result"
    }
   ],
   "source": [
    "output.predict_proba(X_train)"
   ]
  },
  {
   "cell_type": "markdown",
   "id": "ce93a06c",
   "metadata": {},
   "source": [
    "# Step 9. Model Performance Metrice"
   ]
  },
  {
   "cell_type": "code",
   "execution_count": 55,
   "id": "06ca83c2",
   "metadata": {},
   "outputs": [
    {
     "data": {
      "text/plain": [
       "array([[190,  20],\n",
       "       [ 15,  95]], dtype=int64)"
      ]
     },
     "execution_count": 55,
     "metadata": {},
     "output_type": "execute_result"
    }
   ],
   "source": [
    "from sklearn.metrics import confusion_matrix\n",
    "matrix = confusion_matrix(train['Predicted'], train['Purchased'])\n",
    "matrix"
   ]
  },
  {
   "cell_type": "code",
   "execution_count": 56,
   "id": "626fc0ba",
   "metadata": {},
   "outputs": [
    {
     "name": "stdout",
     "output_type": "stream",
     "text": [
      "89.0625\n"
     ]
    }
   ],
   "source": [
    "Accuracy_Train=((190+95)/(320)*100)\n",
    "print(Accuracy_Train)"
   ]
  },
  {
   "cell_type": "markdown",
   "id": "e66b5d02",
   "metadata": {},
   "source": [
    "### Accuracy of the model is 89.0625 %\n"
   ]
  },
  {
   "cell_type": "code",
   "execution_count": 57,
   "id": "2693e763",
   "metadata": {},
   "outputs": [
    {
     "name": "stdout",
     "output_type": "stream",
     "text": [
      "              precision    recall  f1-score   support\n",
      "\n",
      "           0       0.90      0.93      0.92       205\n",
      "           1       0.86      0.83      0.84       115\n",
      "\n",
      "    accuracy                           0.89       320\n",
      "   macro avg       0.88      0.88      0.88       320\n",
      "weighted avg       0.89      0.89      0.89       320\n",
      "\n"
     ]
    }
   ],
   "source": [
    "from sklearn.metrics import classification_report\n",
    "print(classification_report(train['Purchased'],train['Predicted']))"
   ]
  },
  {
   "cell_type": "markdown",
   "id": "1c2f0b14",
   "metadata": {},
   "source": [
    "#### Accuracy of  Model is 90%,Hence Model is good Fit \n",
    "#### Accuracy of SUV Not Purchased  by Model is 93% ( Sensitivity )\n",
    "#### Accuracy of SUV Purchased by Model is 83 % (Specificity)"
   ]
  },
  {
   "cell_type": "markdown",
   "id": "045435b0",
   "metadata": {},
   "source": [
    "# Step 10. Prediction on Test Datasets"
   ]
  },
  {
   "cell_type": "code",
   "execution_count": 58,
   "id": "03eb75ec",
   "metadata": {},
   "outputs": [],
   "source": [
    "Y = data_set.iloc [:, 4]\n",
    "X = data_set.iloc [:, 2:4]"
   ]
  },
  {
   "cell_type": "code",
   "execution_count": 59,
   "id": "790ca6b2",
   "metadata": {},
   "outputs": [
    {
     "name": "stdout",
     "output_type": "stream",
     "text": [
      "   Age  EstimatedSalary\n",
      "0   19            19000\n",
      "1   35            20000\n",
      "2   26            43000\n",
      "3   27            57000\n",
      "4   19            76000\n"
     ]
    }
   ],
   "source": [
    "print (X.head())"
   ]
  },
  {
   "cell_type": "code",
   "execution_count": 60,
   "id": "98b59ce9",
   "metadata": {},
   "outputs": [
    {
     "name": "stdout",
     "output_type": "stream",
     "text": [
      "0    0\n",
      "1    0\n",
      "2    0\n",
      "3    0\n",
      "4    0\n",
      "Name: Purchased, dtype: int64\n"
     ]
    }
   ],
   "source": [
    "print (Y.head())"
   ]
  },
  {
   "cell_type": "code",
   "execution_count": 61,
   "id": "16a52eea",
   "metadata": {},
   "outputs": [],
   "source": [
    "test_set_size = 0.2\n",
    "seed = 10\n",
    "X_train, X_test, Y_train, Y_test = model_selection.train_test_split (X,Y, test_size = test_set_size, random_state = seed)"
   ]
  },
  {
   "cell_type": "markdown",
   "id": "2e7d5f56",
   "metadata": {},
   "source": [
    "##### Since the values of the estimated salary feature are in a wide range we need to scale the values."
   ]
  },
  {
   "cell_type": "code",
   "execution_count": 62,
   "id": "cba88e1c",
   "metadata": {},
   "outputs": [],
   "source": [
    "scaler = StandardScaler ()\n",
    "X_train = scaler.fit_transform(X_train)\n",
    "X_test = scaler.fit_transform(X_test)"
   ]
  },
  {
   "cell_type": "code",
   "execution_count": 63,
   "id": "8450af2c",
   "metadata": {},
   "outputs": [
    {
     "data": {
      "text/plain": [
       "LogisticRegression(random_state=10, solver='liblinear')"
      ]
     },
     "execution_count": 63,
     "metadata": {},
     "output_type": "execute_result"
    }
   ],
   "source": [
    "classifier = LogisticRegression (random_state = 10, solver = 'liblinear')\n",
    "classifier.fit (X_train, Y_train)"
   ]
  },
  {
   "cell_type": "code",
   "execution_count": 65,
   "id": "3dda7787",
   "metadata": {},
   "outputs": [],
   "source": [
    "predictions = classifier.predict (X_test)"
   ]
  },
  {
   "cell_type": "code",
   "execution_count": 66,
   "id": "e883fe75",
   "metadata": {},
   "outputs": [
    {
     "name": "stdout",
     "output_type": "stream",
     "text": [
      "              precision    recall  f1-score   support\n",
      "\n",
      "           0       0.88      0.96      0.92        52\n",
      "           1       0.91      0.75      0.82        28\n",
      "\n",
      "    accuracy                           0.89        80\n",
      "   macro avg       0.90      0.86      0.87        80\n",
      "weighted avg       0.89      0.89      0.88        80\n",
      "\n"
     ]
    }
   ],
   "source": [
    "report = classification_report (Y_test, predictions)\n",
    "print (report)"
   ]
  },
  {
   "cell_type": "markdown",
   "id": "304a39ed",
   "metadata": {},
   "source": [
    "#### Accuracy of  Model is 88%,Hence Model is good Fit \n",
    "#### Accuracy of SUV Not Purchased  by Model is 936 ( Sensitivity )\n",
    "#### Accuracy of SUV Purchased by Model is 75 % (Specificity)"
   ]
  },
  {
   "cell_type": "code",
   "execution_count": 68,
   "id": "8864a388",
   "metadata": {},
   "outputs": [
    {
     "data": {
      "text/plain": [
       "88.75"
      ]
     },
     "execution_count": 68,
     "metadata": {},
     "output_type": "execute_result"
    }
   ],
   "source": [
    "accuracy_score (Y_test, predictions)*100\n"
   ]
  },
  {
   "cell_type": "code",
   "execution_count": 69,
   "id": "22c57b70",
   "metadata": {},
   "outputs": [
    {
     "data": {
      "text/html": [
       "<div>\n",
       "<style scoped>\n",
       "    .dataframe tbody tr th:only-of-type {\n",
       "        vertical-align: middle;\n",
       "    }\n",
       "\n",
       "    .dataframe tbody tr th {\n",
       "        vertical-align: top;\n",
       "    }\n",
       "\n",
       "    .dataframe thead th {\n",
       "        text-align: right;\n",
       "    }\n",
       "</style>\n",
       "<table border=\"1\" class=\"dataframe\">\n",
       "  <thead>\n",
       "    <tr style=\"text-align: right;\">\n",
       "      <th></th>\n",
       "      <th>Coefficient</th>\n",
       "    </tr>\n",
       "  </thead>\n",
       "  <tbody>\n",
       "    <tr>\n",
       "      <th>Intercept</th>\n",
       "      <td>-1.088357</td>\n",
       "    </tr>\n",
       "  </tbody>\n",
       "</table>\n",
       "</div>"
      ],
      "text/plain": [
       "           Coefficient\n",
       "Intercept    -1.088357"
      ]
     },
     "execution_count": 69,
     "metadata": {},
     "output_type": "execute_result"
    }
   ],
   "source": [
    "Model_Values=pd.DataFrame(output.intercept_,index=['Intercept'],columns=['Coefficient'])\n",
    "Model_Values"
   ]
  },
  {
   "cell_type": "code",
   "execution_count": 75,
   "id": "a4f85a8a",
   "metadata": {},
   "outputs": [
    {
     "data": {
      "text/html": [
       "<div>\n",
       "<style scoped>\n",
       "    .dataframe tbody tr th:only-of-type {\n",
       "        vertical-align: middle;\n",
       "    }\n",
       "\n",
       "    .dataframe tbody tr th {\n",
       "        vertical-align: top;\n",
       "    }\n",
       "\n",
       "    .dataframe thead th {\n",
       "        text-align: right;\n",
       "    }\n",
       "</style>\n",
       "<table border=\"1\" class=\"dataframe\">\n",
       "  <thead>\n",
       "    <tr style=\"text-align: right;\">\n",
       "      <th></th>\n",
       "      <th>Coefficient</th>\n",
       "    </tr>\n",
       "  </thead>\n",
       "  <tbody>\n",
       "    <tr>\n",
       "      <th>Age</th>\n",
       "      <td>-2.104152e-09</td>\n",
       "    </tr>\n",
       "    <tr>\n",
       "      <th>EstimatedSalary</th>\n",
       "      <td>-2.693014e-06</td>\n",
       "    </tr>\n",
       "  </tbody>\n",
       "</table>\n",
       "</div>"
      ],
      "text/plain": [
       "                  Coefficient\n",
       "Age             -2.104152e-09\n",
       "EstimatedSalary -2.693014e-06"
      ]
     },
     "execution_count": 75,
     "metadata": {},
     "output_type": "execute_result"
    }
   ],
   "source": [
    "logreg = LogisticRegression()\n",
    "logreg.fit(X, Y)\n",
    "log_odds = logreg.coef_[0]\n",
    "pd.DataFrame(log_odds, \n",
    "             X.columns, \n",
    "             columns=['Coefficient'])\\\n",
    "            .sort_values(by='Coefficient', ascending=False)"
   ]
  },
  {
   "cell_type": "markdown",
   "id": "287b09db",
   "metadata": {},
   "source": [
    "# FINISH"
   ]
  }
 ],
 "metadata": {
  "kernelspec": {
   "display_name": "Python 3 (ipykernel)",
   "language": "python",
   "name": "python3"
  },
  "language_info": {
   "codemirror_mode": {
    "name": "ipython",
    "version": 3
   },
   "file_extension": ".py",
   "mimetype": "text/x-python",
   "name": "python",
   "nbconvert_exporter": "python",
   "pygments_lexer": "ipython3",
   "version": "3.9.13"
  }
 },
 "nbformat": 4,
 "nbformat_minor": 5
}
