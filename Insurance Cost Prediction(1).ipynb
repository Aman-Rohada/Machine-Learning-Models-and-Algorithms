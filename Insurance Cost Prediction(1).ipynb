{
 "cells": [
  {
   "cell_type": "markdown",
   "metadata": {},
   "source": [
    "# Aman Rohada\n",
    "021230022987 |\n",
    "Business Analytics(2022-24)\n"
   ]
  },
  {
   "cell_type": "markdown",
   "metadata": {},
   "source": [
    "Consider the data present in the Insurance dataset file.<br>\n",
    "Following is the attribute related information:<br><br>\n",
    "\n",
    "age: age of primary beneficiary<br>\n",
    "sex: insurance contractor gender, female, male<br>\n",
    "bmi: Body mass index, providing an understanding of body, weights that are relatively high or low relative to height,\n",
    "objective index of body weight (kg / m ^ 2) using the ratio of height to weight, ideally 18.5 to 24.9<br>\n",
    "children: Number of children covered by health insurance / Number of dependents<br>\n",
    "smoker: Smoking, yes or no<br>\n",
    "region: the beneficiary's residential area in the US, northeast, southeast, southwest, northwest.<br>\n",
    "charges: Individual medical costs billed by health insurance<br><br>\n",
    "\n",
    "Problem statement: To predict the approximate insurance cost based upon the rest of the features provided for each individual."
   ]
  },
  {
   "cell_type": "markdown",
   "metadata": {},
   "source": [
    "Import the libraries- Pandas, Numpy, Matplotlib and Seaborn"
   ]
  },
  {
   "cell_type": "code",
   "execution_count": 19,
   "metadata": {},
   "outputs": [],
   "source": [
    "import pandas as pd\n",
    "import numpy as np\n",
    "import matplotlib.pyplot as plt\n",
    "import seaborn as sns\n",
    "import matplotlib.pyplot as plt\n",
    "import seaborn as sns\n",
    "from statsmodels.stats.outliers_influence import variance_inflation_factor as vif\n",
    "from sklearn.model_selection import train_test_split\n",
    "from sklearn.metrics import r2_score,mean_squared_error\n",
    "from sklearn.linear_model import LinearRegression, Ridge\n",
    "from sklearn.preprocessing import StandardScaler\n",
    "from sklearn.linear_model import SGDRegressor\n",
    "import warnings\n",
    "warnings.filterwarnings(\"ignore\")"
   ]
  },
  {
   "cell_type": "markdown",
   "metadata": {},
   "source": [
    "Create a dataframe named \"data\" from the given datafile and print it's head"
   ]
  },
  {
   "cell_type": "code",
   "execution_count": 20,
   "metadata": {
    "scrolled": false
   },
   "outputs": [
    {
     "data": {
      "text/html": [
       "<div>\n",
       "<style scoped>\n",
       "    .dataframe tbody tr th:only-of-type {\n",
       "        vertical-align: middle;\n",
       "    }\n",
       "\n",
       "    .dataframe tbody tr th {\n",
       "        vertical-align: top;\n",
       "    }\n",
       "\n",
       "    .dataframe thead th {\n",
       "        text-align: right;\n",
       "    }\n",
       "</style>\n",
       "<table border=\"1\" class=\"dataframe\">\n",
       "  <thead>\n",
       "    <tr style=\"text-align: right;\">\n",
       "      <th></th>\n",
       "      <th>age</th>\n",
       "      <th>sex</th>\n",
       "      <th>bmi</th>\n",
       "      <th>children</th>\n",
       "      <th>smoker</th>\n",
       "      <th>region</th>\n",
       "      <th>charges</th>\n",
       "    </tr>\n",
       "  </thead>\n",
       "  <tbody>\n",
       "    <tr>\n",
       "      <th>0</th>\n",
       "      <td>19</td>\n",
       "      <td>female</td>\n",
       "      <td>27.900</td>\n",
       "      <td>0</td>\n",
       "      <td>yes</td>\n",
       "      <td>southwest</td>\n",
       "      <td>16884.92400</td>\n",
       "    </tr>\n",
       "    <tr>\n",
       "      <th>1</th>\n",
       "      <td>18</td>\n",
       "      <td>male</td>\n",
       "      <td>33.770</td>\n",
       "      <td>1</td>\n",
       "      <td>no</td>\n",
       "      <td>southeast</td>\n",
       "      <td>1725.55230</td>\n",
       "    </tr>\n",
       "    <tr>\n",
       "      <th>2</th>\n",
       "      <td>28</td>\n",
       "      <td>male</td>\n",
       "      <td>33.000</td>\n",
       "      <td>3</td>\n",
       "      <td>no</td>\n",
       "      <td>southeast</td>\n",
       "      <td>4449.46200</td>\n",
       "    </tr>\n",
       "    <tr>\n",
       "      <th>3</th>\n",
       "      <td>33</td>\n",
       "      <td>male</td>\n",
       "      <td>22.705</td>\n",
       "      <td>0</td>\n",
       "      <td>no</td>\n",
       "      <td>northwest</td>\n",
       "      <td>21984.47061</td>\n",
       "    </tr>\n",
       "    <tr>\n",
       "      <th>4</th>\n",
       "      <td>32</td>\n",
       "      <td>male</td>\n",
       "      <td>28.880</td>\n",
       "      <td>0</td>\n",
       "      <td>no</td>\n",
       "      <td>northwest</td>\n",
       "      <td>3866.85520</td>\n",
       "    </tr>\n",
       "  </tbody>\n",
       "</table>\n",
       "</div>"
      ],
      "text/plain": [
       "   age     sex     bmi  children smoker     region      charges\n",
       "0   19  female  27.900         0    yes  southwest  16884.92400\n",
       "1   18    male  33.770         1     no  southeast   1725.55230\n",
       "2   28    male  33.000         3     no  southeast   4449.46200\n",
       "3   33    male  22.705         0     no  northwest  21984.47061\n",
       "4   32    male  28.880         0     no  northwest   3866.85520"
      ]
     },
     "execution_count": 20,
     "metadata": {},
     "output_type": "execute_result"
    }
   ],
   "source": [
    "data=pd.read_csv(r\"C:\\Users\\amanr\\Downloads\\datasets_insurance.csv\", header=0)\n",
    "data.head()"
   ]
  },
  {
   "cell_type": "markdown",
   "metadata": {},
   "source": [
    "Understand the problem statement and the data, try understanding importance of each variable given.<br>\n",
    "Perform Exploratory Data Analysis- print datatypes, dimension and descriptive statistics."
   ]
  },
  {
   "cell_type": "code",
   "execution_count": 21,
   "metadata": {
    "scrolled": true
   },
   "outputs": [
    {
     "name": "stdout",
     "output_type": "stream",
     "text": [
      "age           int64\n",
      "sex          object\n",
      "bmi         float64\n",
      "children      int64\n",
      "smoker       object\n",
      "region       object\n",
      "charges     float64\n",
      "dtype: object\n"
     ]
    }
   ],
   "source": [
    "print(data.dtypes)"
   ]
  },
  {
   "cell_type": "code",
   "execution_count": 22,
   "metadata": {},
   "outputs": [
    {
     "name": "stdout",
     "output_type": "stream",
     "text": [
      "(1338, 7)\n"
     ]
    }
   ],
   "source": [
    "print(data.shape)"
   ]
  },
  {
   "cell_type": "code",
   "execution_count": 23,
   "metadata": {},
   "outputs": [
    {
     "data": {
      "text/html": [
       "<div>\n",
       "<style scoped>\n",
       "    .dataframe tbody tr th:only-of-type {\n",
       "        vertical-align: middle;\n",
       "    }\n",
       "\n",
       "    .dataframe tbody tr th {\n",
       "        vertical-align: top;\n",
       "    }\n",
       "\n",
       "    .dataframe thead th {\n",
       "        text-align: right;\n",
       "    }\n",
       "</style>\n",
       "<table border=\"1\" class=\"dataframe\">\n",
       "  <thead>\n",
       "    <tr style=\"text-align: right;\">\n",
       "      <th></th>\n",
       "      <th>age</th>\n",
       "      <th>bmi</th>\n",
       "      <th>children</th>\n",
       "      <th>charges</th>\n",
       "    </tr>\n",
       "  </thead>\n",
       "  <tbody>\n",
       "    <tr>\n",
       "      <th>count</th>\n",
       "      <td>1338.000000</td>\n",
       "      <td>1338.000000</td>\n",
       "      <td>1338.000000</td>\n",
       "      <td>1338.000000</td>\n",
       "    </tr>\n",
       "    <tr>\n",
       "      <th>mean</th>\n",
       "      <td>39.207025</td>\n",
       "      <td>30.663397</td>\n",
       "      <td>1.094918</td>\n",
       "      <td>13270.422265</td>\n",
       "    </tr>\n",
       "    <tr>\n",
       "      <th>std</th>\n",
       "      <td>14.049960</td>\n",
       "      <td>6.098187</td>\n",
       "      <td>1.205493</td>\n",
       "      <td>12110.011237</td>\n",
       "    </tr>\n",
       "    <tr>\n",
       "      <th>min</th>\n",
       "      <td>18.000000</td>\n",
       "      <td>15.960000</td>\n",
       "      <td>0.000000</td>\n",
       "      <td>1121.873900</td>\n",
       "    </tr>\n",
       "    <tr>\n",
       "      <th>25%</th>\n",
       "      <td>27.000000</td>\n",
       "      <td>26.296250</td>\n",
       "      <td>0.000000</td>\n",
       "      <td>4740.287150</td>\n",
       "    </tr>\n",
       "    <tr>\n",
       "      <th>50%</th>\n",
       "      <td>39.000000</td>\n",
       "      <td>30.400000</td>\n",
       "      <td>1.000000</td>\n",
       "      <td>9382.033000</td>\n",
       "    </tr>\n",
       "    <tr>\n",
       "      <th>75%</th>\n",
       "      <td>51.000000</td>\n",
       "      <td>34.693750</td>\n",
       "      <td>2.000000</td>\n",
       "      <td>16639.912515</td>\n",
       "    </tr>\n",
       "    <tr>\n",
       "      <th>max</th>\n",
       "      <td>64.000000</td>\n",
       "      <td>53.130000</td>\n",
       "      <td>5.000000</td>\n",
       "      <td>63770.428010</td>\n",
       "    </tr>\n",
       "  </tbody>\n",
       "</table>\n",
       "</div>"
      ],
      "text/plain": [
       "               age          bmi     children       charges\n",
       "count  1338.000000  1338.000000  1338.000000   1338.000000\n",
       "mean     39.207025    30.663397     1.094918  13270.422265\n",
       "std      14.049960     6.098187     1.205493  12110.011237\n",
       "min      18.000000    15.960000     0.000000   1121.873900\n",
       "25%      27.000000    26.296250     0.000000   4740.287150\n",
       "50%      39.000000    30.400000     1.000000   9382.033000\n",
       "75%      51.000000    34.693750     2.000000  16639.912515\n",
       "max      64.000000    53.130000     5.000000  63770.428010"
      ]
     },
     "execution_count": 23,
     "metadata": {},
     "output_type": "execute_result"
    }
   ],
   "source": [
    "data.describe()"
   ]
  },
  {
   "cell_type": "markdown",
   "metadata": {},
   "source": [
    "Check if there are missing values. If yes, handle them."
   ]
  },
  {
   "cell_type": "code",
   "execution_count": 24,
   "metadata": {
    "scrolled": true
   },
   "outputs": [
    {
     "data": {
      "text/plain": [
       "age         0\n",
       "sex         0\n",
       "bmi         0\n",
       "children    0\n",
       "smoker      0\n",
       "region      0\n",
       "charges     0\n",
       "dtype: int64"
      ]
     },
     "execution_count": 24,
     "metadata": {},
     "output_type": "execute_result"
    }
   ],
   "source": [
    "data.isnull().sum()"
   ]
  },
  {
   "cell_type": "markdown",
   "metadata": {},
   "source": [
    "Check for Assumption 1- There should be no outliers in the data.<br>\n",
    "Hint: Think logically, nothing needs to be worked upon here."
   ]
  },
  {
   "cell_type": "code",
   "execution_count": 25,
   "metadata": {},
   "outputs": [
    {
     "data": {
      "image/png": "[encoded data removed]",
      "text/plain": [
       "<Figure size 640x480 with 1 Axes>"
      ]
     },
     "metadata": {},
     "output_type": "display_data"
    },
    {
     "data": {
      "image/png": "[encoded data removed]",
      "text/plain": [
       "<Figure size 640x480 with 1 Axes>"
      ]
     },
     "metadata": {},
     "output_type": "display_data"
    },
    {
     "data": {
      "image/png": "[encoded data removed]",
      "text/plain": [
       "<Figure size 640x480 with 1 Axes>"
      ]
     },
     "metadata": {},
     "output_type": "display_data"
    },
    {
     "data": {
      "image/png": "[encoded data removed]",
      "text/plain": [
       "<Figure size 640x480 with 1 Axes>"
      ]
     },
     "metadata": {},
     "output_type": "display_data"
    }
   ],
   "source": [
    "for x in data.columns:\n",
    "    if data[x].dtypes!='object':\n",
    "        data.boxplot(column = x)\n",
    "        plt.show()"
   ]
  },
  {
   "cell_type": "markdown",
   "metadata": {},
   "source": [
    "Check for Assumption 2-Assumption of Linearity<br>\n",
    "Hint: Use kind=\"scatter\" in the pairplot, because it wont be able to fit a line in categorical variables. Some might show no relationship, but remember they are categorical or important variables, leave it as it is."
   ]
  },
  {
   "cell_type": "code",
   "execution_count": 26,
   "metadata": {},
   "outputs": [
    {
     "data": {
      "text/plain": [
       "<seaborn.axisgrid.PairGrid at 0x1c63c2d3eb0>"
      ]
     },
     "execution_count": 26,
     "metadata": {},
     "output_type": "execute_result"
    }
   ],
   "source": [
    "sns.pairplot(data,x_vars=['age', 'bmi', 'children'],\n",
    "             y_vars=\"charges\", kind='reg')"
   ]
  },
  {
   "cell_type": "markdown",
   "metadata": {},
   "source": [
    "Create X and Y"
   ]
  },
  {
   "cell_type": "code",
   "execution_count": 27,
   "metadata": {},
   "outputs": [],
   "source": [
    "data['sex'].replace(to_replace = 'female', value = 0, inplace=True)\n",
    "data['sex'].replace(to_replace = 'male', value = 1, inplace=True)\n",
    "data['smoker'].replace(to_replace = 'no', value = 0, inplace=True)\n",
    "data['smoker'].replace(to_replace = 'yes', value = 1, inplace=True)\n",
    "data['region'].replace(to_replace = 'northeast', value = 0, inplace=True)\n",
    "data['region'].replace(to_replace = 'northwest', value = 1, inplace=True)\n",
    "data['region'].replace(to_replace = 'southeast', value = 2, inplace=True)\n",
    "data['region'].replace(to_replace = 'southwest', value = 3, inplace=True)"
   ]
  },
  {
   "cell_type": "code",
   "execution_count": 28,
   "metadata": {},
   "outputs": [],
   "source": [
    "X=data[['age','sex','bmi','children','smoker','region']]\n",
    "y=data['charges']"
   ]
  },
  {
   "cell_type": "code",
   "execution_count": 29,
   "metadata": {},
   "outputs": [
    {
     "name": "stdout",
     "output_type": "stream",
     "text": [
      "(1338, 6)\n",
      "(1338,)\n"
     ]
    }
   ],
   "source": [
    "print(X.shape)\n",
    "print(y.shape)"
   ]
  },
  {
   "cell_type": "markdown",
   "metadata": {},
   "source": [
    "Check for Assumption 3-Assumption of Normality <br>\n",
    "Hint: You will find the data is highly positively skewed. So log transform the data."
   ]
  },
  {
   "cell_type": "code",
   "execution_count": 30,
   "metadata": {
    "scrolled": true
   },
   "outputs": [
    {
     "data": {
      "image/png": "[encoded data removed]",
      "text/plain": [
       "<Figure size 750x250 with 3 Axes>"
      ]
     },
     "metadata": {},
     "output_type": "display_data"
    }
   ],
   "source": [
    "sns.distplot(y)\n",
    "plt.show()"
   ]
  },
  {
   "cell_type": "code",
   "execution_count": 31,
   "metadata": {},
   "outputs": [
    {
     "data": {
      "image/png": "[encoded data removed]",
      "text/plain": [
       "<Figure size 640x480 with 1 Axes>"
      ]
     },
     "metadata": {},
     "output_type": "display_data"
    }
   ],
   "source": [
    "## The data is positively skewed, so we need to log transform the data\n",
    "\n",
    "Y_log = np.log(y)\n",
    "\n",
    "sns.distplot(Y_log)\n",
    "plt.show()"
   ]
  },
  {
   "cell_type": "code",
   "execution_count": 32,
   "metadata": {},
   "outputs": [
    {
     "data": {
      "image/png": "[encoded data removed]",
      "text/plain": [
       "<Figure size 640x480 with 6 Axes>"
      ]
     },
     "metadata": {},
     "output_type": "display_data"
    }
   ],
   "source": [
    "X.hist(bins=20)\n",
    "plt.show()"
   ]
  },
  {
   "cell_type": "markdown",
   "metadata": {},
   "source": [
    "Convert Categorical variables to numerical- Sex, Smoker and Region<br>\n",
    "Hint: Make use of replace function.<br>\n",
    "Sex: Female-0,Male-1<br>\n",
    "Smoker: No-0, Yes-1<br>\n",
    "Region: northeast-0,northwest-1,southeast-2,southwest-3"
   ]
  },
  {
   "cell_type": "code",
   "execution_count": 33,
   "metadata": {},
   "outputs": [
    {
     "data": {
      "text/html": [
       "<div>\n",
       "<style scoped>\n",
       "    .dataframe tbody tr th:only-of-type {\n",
       "        vertical-align: middle;\n",
       "    }\n",
       "\n",
       "    .dataframe tbody tr th {\n",
       "        vertical-align: top;\n",
       "    }\n",
       "\n",
       "    .dataframe thead th {\n",
       "        text-align: right;\n",
       "    }\n",
       "</style>\n",
       "<table border=\"1\" class=\"dataframe\">\n",
       "  <thead>\n",
       "    <tr style=\"text-align: right;\">\n",
       "      <th></th>\n",
       "      <th>age</th>\n",
       "      <th>sex</th>\n",
       "      <th>bmi</th>\n",
       "      <th>children</th>\n",
       "      <th>smoker</th>\n",
       "      <th>region</th>\n",
       "      <th>charges</th>\n",
       "    </tr>\n",
       "  </thead>\n",
       "  <tbody>\n",
       "    <tr>\n",
       "      <th>0</th>\n",
       "      <td>19</td>\n",
       "      <td>0</td>\n",
       "      <td>27.900</td>\n",
       "      <td>0</td>\n",
       "      <td>1</td>\n",
       "      <td>3</td>\n",
       "      <td>16884.92400</td>\n",
       "    </tr>\n",
       "    <tr>\n",
       "      <th>1</th>\n",
       "      <td>18</td>\n",
       "      <td>1</td>\n",
       "      <td>33.770</td>\n",
       "      <td>1</td>\n",
       "      <td>0</td>\n",
       "      <td>2</td>\n",
       "      <td>1725.55230</td>\n",
       "    </tr>\n",
       "    <tr>\n",
       "      <th>2</th>\n",
       "      <td>28</td>\n",
       "      <td>1</td>\n",
       "      <td>33.000</td>\n",
       "      <td>3</td>\n",
       "      <td>0</td>\n",
       "      <td>2</td>\n",
       "      <td>4449.46200</td>\n",
       "    </tr>\n",
       "    <tr>\n",
       "      <th>3</th>\n",
       "      <td>33</td>\n",
       "      <td>1</td>\n",
       "      <td>22.705</td>\n",
       "      <td>0</td>\n",
       "      <td>0</td>\n",
       "      <td>1</td>\n",
       "      <td>21984.47061</td>\n",
       "    </tr>\n",
       "    <tr>\n",
       "      <th>4</th>\n",
       "      <td>32</td>\n",
       "      <td>1</td>\n",
       "      <td>28.880</td>\n",
       "      <td>0</td>\n",
       "      <td>0</td>\n",
       "      <td>1</td>\n",
       "      <td>3866.85520</td>\n",
       "    </tr>\n",
       "  </tbody>\n",
       "</table>\n",
       "</div>"
      ],
      "text/plain": [
       "   age  sex     bmi  children  smoker  region      charges\n",
       "0   19    0  27.900         0       1       3  16884.92400\n",
       "1   18    1  33.770         1       0       2   1725.55230\n",
       "2   28    1  33.000         3       0       2   4449.46200\n",
       "3   33    1  22.705         0       0       1  21984.47061\n",
       "4   32    1  28.880         0       0       1   3866.85520"
      ]
     },
     "execution_count": 33,
     "metadata": {},
     "output_type": "execute_result"
    }
   ],
   "source": [
    "data.head()"
   ]
  },
  {
   "cell_type": "markdown",
   "metadata": {},
   "source": [
    "Check for the normality in the X variables. <br>\n",
    "Hint: Some variables make not look normal but realize that they are actually discrete valued.\n",
    "    No transformation required."
   ]
  },
  {
   "cell_type": "code",
   "execution_count": 34,
   "metadata": {},
   "outputs": [],
   "source": [
    "from scipy.stats import skew"
   ]
  },
  {
   "cell_type": "code",
   "execution_count": 36,
   "metadata": {},
   "outputs": [
    {
     "name": "stdout",
     "output_type": "stream",
     "text": [
      "age         0.055610\n",
      "sex        -0.020928\n",
      "bmi         0.283729\n",
      "children    0.263787\n",
      "smoker      1.463124\n",
      "region     -0.038058\n",
      "dtype: float64\n",
      "smoker    1.463124\n",
      "dtype: float64\n"
     ]
    }
   ],
   "source": [
    "# import necessary libraries\n",
    "import numpy as np\n",
    "from scipy.stats import skew\n",
    "\n",
    "# finding the skewness in each variable\n",
    "data_num_skew = X.apply(lambda i: skew(i.dropna()))\n",
    "\n",
    "# subsetting the variables that are highly skewed\n",
    "data_num_skewed = data_num_skew[(data_num_skew > 0.75) | (data_num_skew < -0.75)]\n",
    "\n",
    "# print the skewness of all variables and the variables that are highly skewed\n",
    "print(data_num_skew)\n",
    "print(data_num_skewed)\n",
    "\n",
    "# apply log + 1 transformation for all numeric features with skewness over 0.75\n",
    "X[data_num_skewed.index] = np.log1p(X[data_num_skewed.index])\n",
    "# log1p to ensure that we don't get infinite values from log 0\n"
   ]
  },
  {
   "cell_type": "markdown",
   "metadata": {},
   "source": [
    "Check for Assumption 4-No multicollinearity in the data<br>\n",
    "Try both the approaches-correlation and VIF.<br>\n",
    "Hint: You will find no high correlation. VIF might be high for a few variables but do not eliminate them because they are important as per the domain knowledge."
   ]
  },
  {
   "cell_type": "code",
   "execution_count": 39,
   "metadata": {},
   "outputs": [
    {
     "name": "stdout",
     "output_type": "stream",
     "text": [
      "               age       sex       bmi  children    smoker    region\n",
      "age       1.000000 -0.020856  0.109272  0.048406 -0.025019  0.002127\n",
      "sex      -0.020856  1.000000  0.046371  0.016296  0.076185  0.004588\n",
      "bmi       0.109272  0.046371  1.000000  0.016178  0.003750  0.157566\n",
      "children  0.048406  0.016296  0.016178  1.000000  0.013245  0.013722\n",
      "smoker   -0.025019  0.076185  0.003750  0.013245  1.000000 -0.002181\n",
      "region    0.002127  0.004588  0.157566  0.013722 -0.002181  1.000000\n"
     ]
    },
    {
     "data": {
      "image/png": "[encoded data removed]",
      "text/plain": [
       "<Figure size 640x480 with 2 Axes>"
      ]
     },
     "metadata": {},
     "output_type": "display_data"
    }
   ],
   "source": [
    "corr_df = X.corr(method = \"pearson\")\n",
    "print(corr_df)\n",
    "\n",
    "sns.heatmap(corr_df,vmax=1.0,vmin=-1.0,annot=True)\n",
    "plt.show()"
   ]
  },
  {
   "cell_type": "code",
   "execution_count": 41,
   "metadata": {
    "scrolled": true
   },
   "outputs": [
    {
     "data": {
      "text/html": [
       "<div>\n",
       "<style scoped>\n",
       "    .dataframe tbody tr th:only-of-type {\n",
       "        vertical-align: middle;\n",
       "    }\n",
       "\n",
       "    .dataframe tbody tr th {\n",
       "        vertical-align: top;\n",
       "    }\n",
       "\n",
       "    .dataframe thead th {\n",
       "        text-align: right;\n",
       "    }\n",
       "</style>\n",
       "<table border=\"1\" class=\"dataframe\">\n",
       "  <thead>\n",
       "    <tr style=\"text-align: right;\">\n",
       "      <th></th>\n",
       "      <th>features</th>\n",
       "      <th>VIF Factor</th>\n",
       "    </tr>\n",
       "  </thead>\n",
       "  <tbody>\n",
       "    <tr>\n",
       "      <th>0</th>\n",
       "      <td>age</td>\n",
       "      <td>7.57</td>\n",
       "    </tr>\n",
       "    <tr>\n",
       "      <th>1</th>\n",
       "      <td>sex</td>\n",
       "      <td>2.00</td>\n",
       "    </tr>\n",
       "    <tr>\n",
       "      <th>2</th>\n",
       "      <td>bmi</td>\n",
       "      <td>10.48</td>\n",
       "    </tr>\n",
       "    <tr>\n",
       "      <th>3</th>\n",
       "      <td>children</td>\n",
       "      <td>2.05</td>\n",
       "    </tr>\n",
       "    <tr>\n",
       "      <th>4</th>\n",
       "      <td>smoker</td>\n",
       "      <td>1.26</td>\n",
       "    </tr>\n",
       "    <tr>\n",
       "      <th>5</th>\n",
       "      <td>region</td>\n",
       "      <td>2.92</td>\n",
       "    </tr>\n",
       "  </tbody>\n",
       "</table>\n",
       "</div>"
      ],
      "text/plain": [
       "   features  VIF Factor\n",
       "0       age        7.57\n",
       "1       sex        2.00\n",
       "2       bmi       10.48\n",
       "3  children        2.05\n",
       "4    smoker        1.26\n",
       "5    region        2.92"
      ]
     },
     "execution_count": 41,
     "metadata": {},
     "output_type": "execute_result"
    }
   ],
   "source": [
    "from statsmodels.stats.outliers_influence import variance_inflation_factor as vif\n",
    "\n",
    "vif_df = pd.DataFrame()\n",
    "vif_df[\"features\"] = X.columns\n",
    "vif_df[\"VIF Factor\"] = [vif(X.values, i) for i in range(X.shape[1])]\n",
    "vif_df.round(2)"
   ]
  },
  {
   "cell_type": "markdown",
   "metadata": {},
   "source": [
    "Split the data into train and test.<br>\n",
    "Hint: Make sure you are considering the log transformed Y."
   ]
  },
  {
   "cell_type": "code",
   "execution_count": 43,
   "metadata": {},
   "outputs": [
    {
     "name": "stdout",
     "output_type": "stream",
     "text": [
      "(1070, 6)\n"
     ]
    }
   ],
   "source": [
    "X_train, X_test, Y_train, Y_test = train_test_split(X,y, test_size=0.2, random_state=10)\n",
    "print(X_train.shape)\n"
   ]
  },
  {
   "cell_type": "code",
   "execution_count": 44,
   "metadata": {},
   "outputs": [
    {
     "name": "stdout",
     "output_type": "stream",
     "text": [
      "(1070, 6)\n",
      "(1070,)\n",
      "(268, 6)\n",
      "(268,)\n",
      "Percent of train data 79.97010463378177\n"
     ]
    }
   ],
   "source": [
    "print(X_train.shape)\n",
    "print(Y_train.shape)\n",
    "print(X_test.shape)\n",
    "print(Y_test.shape)\n",
    "print(\"Percent of train data\",X_train.shape[0]/X.shape[0]*100)"
   ]
  },
  {
   "cell_type": "markdown",
   "metadata": {},
   "source": [
    "Build a base Linear Regression model using sklearn."
   ]
  },
  {
   "cell_type": "code",
   "execution_count": 45,
   "metadata": {},
   "outputs": [
    {
     "name": "stdout",
     "output_type": "stream",
     "text": [
      "-12592.27163092921\n",
      "[  259.26601478  -258.10661594   344.80222984  1189.0446963\n",
      " 45702.82174758  -252.35457137]\n"
     ]
    }
   ],
   "source": [
    "#create a model object\n",
    "lm = LinearRegression()\n",
    "#train the model object\n",
    "lm.fit(X_train,Y_train)\n",
    "\n",
    "# print intercept and coefficients\n",
    "print(lm.intercept_)\n",
    "print(lm.coef_)\n"
   ]
  },
  {
   "cell_type": "markdown",
   "metadata": {},
   "source": [
    "Create a zipped list of the slope coefficients to understand the equation better.<br>\n",
    "Write down the equation manually and try making sense out of it."
   ]
  },
  {
   "cell_type": "code",
   "execution_count": 46,
   "metadata": {
    "scrolled": true
   },
   "outputs": [
    {
     "name": "stdout",
     "output_type": "stream",
     "text": [
      "[('age', 259.2660147750204), ('sex', -258.106615943017), ('bmi', 344.8022298404144), ('children', 1189.0446962972132), ('smoker', 45702.821747579255), ('region', -252.3545713674165)]\n"
     ]
    }
   ],
   "source": [
    "print(list(zip(X.columns, lm.coef_)))"
   ]
  },
  {
   "cell_type": "markdown",
   "metadata": {},
   "source": []
  },
  {
   "cell_type": "code",
   "execution_count": 47,
   "metadata": {},
   "outputs": [
    {
     "name": "stdout",
     "output_type": "stream",
     "text": [
      "26.805332913800665\n"
     ]
    }
   ],
   "source": [
    "\n",
    "X1=100\n",
    "X2=100\n",
    "X3=np.log1p(100)\n",
    "\n",
    "Y_pred=3.3532913858151545+(0.0437425*X1)+(0.19303708*X2)+(-0.04895137*X3)\n",
    "print(Y_pred)"
   ]
  },
  {
   "cell_type": "code",
   "execution_count": 48,
   "metadata": {},
   "outputs": [
    {
     "name": "stdout",
     "output_type": "stream",
     "text": [
      "46.33495738581516\n"
     ]
    }
   ],
   "source": [
    "X1=100\n",
    "X2=200\n",
    "X3=np.log1p(0)\n",
    "\n",
    "Y_pred=3.3532913858151545+(0.0437425*X1)+(0.19303708*X2)+(-0.04895137*X3)\n",
    "print(Y_pred)"
   ]
  },
  {
   "cell_type": "code",
   "execution_count": 49,
   "metadata": {},
   "outputs": [
    {
     "name": "stdout",
     "output_type": "stream",
     "text": [
      "27.031249385815155\n"
     ]
    }
   ],
   "source": [
    "X1=100\n",
    "X2=100\n",
    "X3=np.log1p(0)\n",
    "\n",
    "Y_pred=3.3532913858151545+(0.0437425*X1)+(0.19303708*X2)+(-0.04895137*X3)\n",
    "print(Y_pred)"
   ]
  },
  {
   "cell_type": "markdown",
   "metadata": {},
   "source": [
    "Predict using the model."
   ]
  },
  {
   "cell_type": "code",
   "execution_count": 50,
   "metadata": {},
   "outputs": [
    {
     "name": "stdout",
     "output_type": "stream",
     "text": [
      "[ 7.96139616e+03  5.75895828e+03  1.53055986e+04  1.13658861e+04\n",
      "  3.64929027e+03  9.76963649e+03  8.82450758e+03  2.62336191e+04\n",
      "  7.88538046e+03  3.08406316e+04  1.83720557e+03  4.07377694e+03\n",
      "  7.27326243e+03  1.11179189e+04  1.30585281e+04  1.09986563e+04\n",
      "  5.92868037e+03  1.80978117e+04  1.05481821e+04  3.10370685e+04\n",
      "  3.42576640e+04  4.20122646e+03  1.14798731e+03  7.48505271e+03\n",
      "  4.60947387e+03  1.32616186e+04  1.18987245e+04  1.02070084e+04\n",
      "  6.49011641e+03  3.11526235e+04 -1.85430353e+03  3.40483552e+04\n",
      "  9.53125278e+03  7.49582288e+03  8.41440885e+03  1.22273575e+04\n",
      "  1.33227230e+04  1.25286326e+04  9.80481812e+03  8.55414290e+03\n",
      "  1.59427403e+04  9.91277560e+03  5.39863995e+03  1.13938184e+04\n",
      "  5.49686461e+03  7.64329720e+03  6.77606222e+03  3.41075117e+04\n",
      "  1.09629317e+04  1.05184478e+04  3.30019298e+04  5.57886947e+03\n",
      "  1.05035468e+04  1.47247873e+04  1.11955613e+04  1.33455459e+04\n",
      "  1.23267568e+04  7.75771870e+03  7.77695184e+03  3.49931892e+04\n",
      "  5.95074791e+02  3.32964337e+04  3.68585017e+04  1.60325678e+03\n",
      "  2.79751548e+04  9.73058913e+03  5.97497503e+03  9.38097311e+03\n",
      "  8.36461360e+03  7.97008407e+03  7.20380693e+03  2.49029482e+03\n",
      "  8.37081451e+03  9.71131891e+03  9.21135670e+03  1.29154926e+04\n",
      "  6.55307848e+03  1.06078418e+04 -1.13409299e+03  1.26832101e+04\n",
      "  1.11420438e+04  1.30941986e+04  2.66909830e+04  2.73024436e+03\n",
      "  3.38480721e+04  4.78460131e+03  2.80395920e+03  3.31789920e+03\n",
      "  9.40295916e+03  9.15822332e+03  3.16924023e+04  3.28466837e+04\n",
      "  9.27359568e+03  3.80289972e+04  1.33462256e+04  6.37452373e+03\n",
      "  7.16556143e+03  1.43171025e+04  6.80751955e+03  1.09169788e+04\n",
      "  8.14546410e+03  2.45823579e+03  3.02997984e+03  6.82114405e+03\n",
      "  1.03822139e+04  9.81659974e+03  3.14138671e+04  2.97682856e+04\n",
      "  2.92690069e+04  3.24546380e+03  1.07611853e+04  8.42206957e+03\n",
      "  6.99744097e+03  2.61059212e+04  3.04102708e+04  3.08699167e+04\n",
      "  5.85336191e+03  3.53978462e+04  6.21956489e+03  3.55245495e+03\n",
      "  3.37041351e+04  1.10276525e+04  6.76604353e+03  5.29983228e+03\n",
      "  3.91443865e+04  5.39237645e+03  1.37229892e+04  9.45877020e+03\n",
      "  6.60530926e+03  1.20491644e+04  1.12485949e+04  3.61089675e+04\n",
      "  2.69464480e+04  3.45681379e+04  1.21653260e+04  3.07027796e+04\n",
      "  1.21874589e+04  1.26723650e+04  2.92695762e+04  4.91000978e+03\n",
      "  8.14458810e+03  3.18955571e+04  1.42091695e+04  4.30172430e+03\n",
      "  4.25281420e+03  2.98503717e+04  1.37024582e+04  9.04347275e+03\n",
      "  1.18376995e+04  3.36012032e+03  7.71282025e+03  4.42238120e+03\n",
      "  1.80060011e+03  3.83295628e+04  1.33283590e+04  4.16937603e+03\n",
      "  1.43091838e+04 -6.85439369e+02  1.51531964e+04  3.59850340e+04\n",
      "  1.11211454e+04  7.05869240e+03  7.72147210e+03  1.19954972e+04\n",
      "  5.32182844e+03  3.97727327e+04  1.07975733e+04  1.04466863e+04\n",
      "  2.30350091e+03  1.06109644e+04  1.23334835e+04  1.00878485e+04\n",
      "  7.23802728e+03  1.22913720e+04  2.95563574e+04  8.21376021e+03\n",
      "  6.28807337e+02  1.21788018e+04  1.02858110e+04  1.58725775e+04\n",
      "  3.89864419e+04  1.08674467e+04  5.61553270e+03  6.14164478e+03\n",
      "  2.73843347e+04  7.26835216e+03  3.60263413e+04  9.34253373e+03\n",
      "  3.06832939e+04  1.61002652e+03  8.33660752e+03  8.62377223e+03\n",
      "  7.21971108e+03  9.57913467e+03  1.31474942e+04  1.13141073e+04\n",
      "  2.41377648e+04  2.95746046e+03  1.02424797e+04  6.87353920e+03\n",
      "  6.30611876e+03  5.46297779e+00  1.58376113e+04  1.39297689e+04\n",
      "  3.25170704e+03  3.73153636e+04  2.78876892e+04  1.55226574e+04\n",
      "  3.23190293e+04  4.76739725e+03  9.54410033e+03  3.25072330e+04\n",
      "  9.15632903e+03  9.20738604e+03  3.20285803e+04  6.40196198e+03\n",
      "  9.75205252e+03  1.04284817e+03  1.47121032e+04  1.25504924e+04\n",
      "  6.95734515e+03  7.28494011e+03  7.22156559e+02  1.42348089e+04\n",
      "  9.23586753e+01  2.61409868e+04  1.40221968e+04  4.76883685e+03\n",
      "  8.09513609e+03  2.95416585e+04  6.10586866e+03  2.54012268e+04\n",
      "  6.99921570e+03  3.05034875e+04  1.16750057e+04  4.87518851e+03\n",
      "  1.08223964e+04  3.73729059e+04 -1.26175415e+03  1.46849599e+04\n",
      "  1.07528343e+04  2.77909179e+04  1.05962544e+04  3.26154329e+04\n",
      "  1.18810327e+04  3.18108625e+03  1.30353502e+04  8.73537052e+03\n",
      "  1.28488736e+04  4.84512037e+02  1.02536597e+04  1.21367727e+04\n",
      "  3.38604975e+04  5.01805961e+03  1.01681612e+04  1.17992699e+04\n",
      "  9.38021535e+03  5.77195346e+03 -2.69161033e+02  1.65824377e+04\n",
      "  3.16459864e+03  3.46597763e+04  8.84293403e+03  3.65209989e+04\n",
      "  7.75216779e+03  2.53065337e+03  1.60457119e+04  1.12429206e+04]\n"
     ]
    }
   ],
   "source": [
    "Y_pred=lm.predict(X_test)\n",
    "print(Y_pred)"
   ]
  },
  {
   "cell_type": "code",
   "execution_count": 51,
   "metadata": {},
   "outputs": [
    {
     "data": {
      "text/html": [
       "<div>\n",
       "<style scoped>\n",
       "    .dataframe tbody tr th:only-of-type {\n",
       "        vertical-align: middle;\n",
       "    }\n",
       "\n",
       "    .dataframe tbody tr th {\n",
       "        vertical-align: top;\n",
       "    }\n",
       "\n",
       "    .dataframe thead th {\n",
       "        text-align: right;\n",
       "    }\n",
       "</style>\n",
       "<table border=\"1\" class=\"dataframe\">\n",
       "  <thead>\n",
       "    <tr style=\"text-align: right;\">\n",
       "      <th></th>\n",
       "      <th>age</th>\n",
       "      <th>sex</th>\n",
       "      <th>bmi</th>\n",
       "      <th>children</th>\n",
       "      <th>smoker</th>\n",
       "      <th>region</th>\n",
       "      <th>Actual sales</th>\n",
       "      <th>Predicted sales</th>\n",
       "    </tr>\n",
       "  </thead>\n",
       "  <tbody>\n",
       "    <tr>\n",
       "      <th>0</th>\n",
       "      <td>37</td>\n",
       "      <td>0</td>\n",
       "      <td>27.740</td>\n",
       "      <td>1.386294</td>\n",
       "      <td>0.000000</td>\n",
       "      <td>1</td>\n",
       "      <td>7281.50560</td>\n",
       "      <td>7961.396158</td>\n",
       "    </tr>\n",
       "    <tr>\n",
       "      <th>1</th>\n",
       "      <td>36</td>\n",
       "      <td>0</td>\n",
       "      <td>26.885</td>\n",
       "      <td>0.000000</td>\n",
       "      <td>0.000000</td>\n",
       "      <td>1</td>\n",
       "      <td>5267.81815</td>\n",
       "      <td>5758.958279</td>\n",
       "    </tr>\n",
       "    <tr>\n",
       "      <th>2</th>\n",
       "      <td>59</td>\n",
       "      <td>1</td>\n",
       "      <td>37.100</td>\n",
       "      <td>0.693147</td>\n",
       "      <td>0.000000</td>\n",
       "      <td>3</td>\n",
       "      <td>12347.17200</td>\n",
       "      <td>15305.598617</td>\n",
       "    </tr>\n",
       "    <tr>\n",
       "      <th>3</th>\n",
       "      <td>61</td>\n",
       "      <td>0</td>\n",
       "      <td>25.080</td>\n",
       "      <td>0.000000</td>\n",
       "      <td>0.000000</td>\n",
       "      <td>2</td>\n",
       "      <td>24513.09126</td>\n",
       "      <td>11365.886052</td>\n",
       "    </tr>\n",
       "    <tr>\n",
       "      <th>4</th>\n",
       "      <td>29</td>\n",
       "      <td>0</td>\n",
       "      <td>26.030</td>\n",
       "      <td>0.000000</td>\n",
       "      <td>0.000000</td>\n",
       "      <td>1</td>\n",
       "      <td>3736.46470</td>\n",
       "      <td>3649.290269</td>\n",
       "    </tr>\n",
       "    <tr>\n",
       "      <th>...</th>\n",
       "      <td>...</td>\n",
       "      <td>...</td>\n",
       "      <td>...</td>\n",
       "      <td>...</td>\n",
       "      <td>...</td>\n",
       "      <td>...</td>\n",
       "      <td>...</td>\n",
       "      <td>...</td>\n",
       "    </tr>\n",
       "    <tr>\n",
       "      <th>263</th>\n",
       "      <td>50</td>\n",
       "      <td>1</td>\n",
       "      <td>34.200</td>\n",
       "      <td>1.098612</td>\n",
       "      <td>0.526589</td>\n",
       "      <td>3</td>\n",
       "      <td>42856.83800</td>\n",
       "      <td>36520.998915</td>\n",
       "    </tr>\n",
       "    <tr>\n",
       "      <th>264</th>\n",
       "      <td>26</td>\n",
       "      <td>0</td>\n",
       "      <td>40.185</td>\n",
       "      <td>0.000000</td>\n",
       "      <td>0.000000</td>\n",
       "      <td>1</td>\n",
       "      <td>3201.24515</td>\n",
       "      <td>7752.167788</td>\n",
       "    </tr>\n",
       "    <tr>\n",
       "      <th>265</th>\n",
       "      <td>19</td>\n",
       "      <td>1</td>\n",
       "      <td>27.265</td>\n",
       "      <td>1.098612</td>\n",
       "      <td>0.000000</td>\n",
       "      <td>1</td>\n",
       "      <td>22493.65964</td>\n",
       "      <td>2530.653374</td>\n",
       "    </tr>\n",
       "    <tr>\n",
       "      <th>266</th>\n",
       "      <td>57</td>\n",
       "      <td>1</td>\n",
       "      <td>40.945</td>\n",
       "      <td>0.000000</td>\n",
       "      <td>0.000000</td>\n",
       "      <td>0</td>\n",
       "      <td>11566.30055</td>\n",
       "      <td>16045.711896</td>\n",
       "    </tr>\n",
       "    <tr>\n",
       "      <th>267</th>\n",
       "      <td>42</td>\n",
       "      <td>1</td>\n",
       "      <td>35.970</td>\n",
       "      <td>1.098612</td>\n",
       "      <td>0.000000</td>\n",
       "      <td>2</td>\n",
       "      <td>7160.33030</td>\n",
       "      <td>11242.920553</td>\n",
       "    </tr>\n",
       "  </tbody>\n",
       "</table>\n",
       "<p>268 rows × 8 columns</p>\n",
       "</div>"
      ],
      "text/plain": [
       "     age  sex     bmi  children    smoker  region  Actual sales  \\\n",
       "0     37    0  27.740  1.386294  0.000000       1    7281.50560   \n",
       "1     36    0  26.885  0.000000  0.000000       1    5267.81815   \n",
       "2     59    1  37.100  0.693147  0.000000       3   12347.17200   \n",
       "3     61    0  25.080  0.000000  0.000000       2   24513.09126   \n",
       "4     29    0  26.030  0.000000  0.000000       1    3736.46470   \n",
       "..   ...  ...     ...       ...       ...     ...           ...   \n",
       "263   50    1  34.200  1.098612  0.526589       3   42856.83800   \n",
       "264   26    0  40.185  0.000000  0.000000       1    3201.24515   \n",
       "265   19    1  27.265  1.098612  0.000000       1   22493.65964   \n",
       "266   57    1  40.945  0.000000  0.000000       0   11566.30055   \n",
       "267   42    1  35.970  1.098612  0.000000       2    7160.33030   \n",
       "\n",
       "     Predicted sales  \n",
       "0        7961.396158  \n",
       "1        5758.958279  \n",
       "2       15305.598617  \n",
       "3       11365.886052  \n",
       "4        3649.290269  \n",
       "..               ...  \n",
       "263     36520.998915  \n",
       "264      7752.167788  \n",
       "265      2530.653374  \n",
       "266     16045.711896  \n",
       "267     11242.920553  \n",
       "\n",
       "[268 rows x 8 columns]"
      ]
     },
     "execution_count": 51,
     "metadata": {},
     "output_type": "execute_result"
    }
   ],
   "source": [
    "new_df=pd.DataFrame()\n",
    "new_df=X_test.copy()\n",
    "\n",
    "new_df[\"Actual sales\"]=Y_test\n",
    "new_df[\"Predicted sales\"]=Y_pred\n",
    "new_df=new_df.reset_index().drop(\"index\", axis=1)\n",
    "new_df"
   ]
  },
  {
   "cell_type": "markdown",
   "metadata": {},
   "source": [
    "Evaluate the model."
   ]
  },
  {
   "cell_type": "code",
   "execution_count": 52,
   "metadata": {},
   "outputs": [
    {
     "data": {
      "text/plain": [
       "0.7634502253961377"
      ]
     },
     "execution_count": 52,
     "metadata": {},
     "output_type": "execute_result"
    }
   ],
   "source": [
    " lm.score(X_train, Y_train)"
   ]
  },
  {
   "cell_type": "code",
   "execution_count": 55,
   "metadata": {
    "scrolled": true
   },
   "outputs": [
    {
     "name": "stdout",
     "output_type": "stream",
     "text": [
      "R-squared: 0.69604935291416\n",
      "RMSE: 6529.1109917210515\n",
      "Adj R-square: 0.6946791771947649\n"
     ]
    }
   ],
   "source": [
    "r2=r2_score(Y_test,Y_pred)\n",
    "print(\"R-squared:\",r2)\n",
    "\n",
    "rmse=np.sqrt(mean_squared_error(Y_test,Y_pred))\n",
    "print(\"RMSE:\",rmse)\n",
    "\n",
    "adjusted_r_squared=1-(1-r2)*(len(y)-1)/(len(y)-X.shape[1]-1)\n",
    "print(\"Adj R-square:\",adjusted_r_squared)\n",
    "\n",
    "\n"
   ]
  },
  {
   "cell_type": "code",
   "execution_count": 56,
   "metadata": {},
   "outputs": [
    {
     "data": {
      "text/html": [
       "<div>\n",
       "<style scoped>\n",
       "    .dataframe tbody tr th:only-of-type {\n",
       "        vertical-align: middle;\n",
       "    }\n",
       "\n",
       "    .dataframe tbody tr th {\n",
       "        vertical-align: top;\n",
       "    }\n",
       "\n",
       "    .dataframe thead th {\n",
       "        text-align: right;\n",
       "    }\n",
       "</style>\n",
       "<table border=\"1\" class=\"dataframe\">\n",
       "  <thead>\n",
       "    <tr style=\"text-align: right;\">\n",
       "      <th></th>\n",
       "      <th>age</th>\n",
       "      <th>sex</th>\n",
       "      <th>bmi</th>\n",
       "      <th>children</th>\n",
       "      <th>smoker</th>\n",
       "      <th>region</th>\n",
       "      <th>Actual sales</th>\n",
       "      <th>Predicted sales</th>\n",
       "      <th>Deviation</th>\n",
       "    </tr>\n",
       "  </thead>\n",
       "  <tbody>\n",
       "    <tr>\n",
       "      <th>0</th>\n",
       "      <td>37</td>\n",
       "      <td>0</td>\n",
       "      <td>27.740</td>\n",
       "      <td>1.386294</td>\n",
       "      <td>0.0</td>\n",
       "      <td>1</td>\n",
       "      <td>7281.50560</td>\n",
       "      <td>7961.396158</td>\n",
       "      <td>-679.890558</td>\n",
       "    </tr>\n",
       "    <tr>\n",
       "      <th>1</th>\n",
       "      <td>36</td>\n",
       "      <td>0</td>\n",
       "      <td>26.885</td>\n",
       "      <td>0.000000</td>\n",
       "      <td>0.0</td>\n",
       "      <td>1</td>\n",
       "      <td>5267.81815</td>\n",
       "      <td>5758.958279</td>\n",
       "      <td>-491.140129</td>\n",
       "    </tr>\n",
       "    <tr>\n",
       "      <th>2</th>\n",
       "      <td>59</td>\n",
       "      <td>1</td>\n",
       "      <td>37.100</td>\n",
       "      <td>0.693147</td>\n",
       "      <td>0.0</td>\n",
       "      <td>3</td>\n",
       "      <td>12347.17200</td>\n",
       "      <td>15305.598617</td>\n",
       "      <td>-2958.426617</td>\n",
       "    </tr>\n",
       "    <tr>\n",
       "      <th>3</th>\n",
       "      <td>61</td>\n",
       "      <td>0</td>\n",
       "      <td>25.080</td>\n",
       "      <td>0.000000</td>\n",
       "      <td>0.0</td>\n",
       "      <td>2</td>\n",
       "      <td>24513.09126</td>\n",
       "      <td>11365.886052</td>\n",
       "      <td>13147.205208</td>\n",
       "    </tr>\n",
       "    <tr>\n",
       "      <th>4</th>\n",
       "      <td>29</td>\n",
       "      <td>0</td>\n",
       "      <td>26.030</td>\n",
       "      <td>0.000000</td>\n",
       "      <td>0.0</td>\n",
       "      <td>1</td>\n",
       "      <td>3736.46470</td>\n",
       "      <td>3649.290269</td>\n",
       "      <td>87.174431</td>\n",
       "    </tr>\n",
       "  </tbody>\n",
       "</table>\n",
       "</div>"
      ],
      "text/plain": [
       "   age  sex     bmi  children  smoker  region  Actual sales  Predicted sales  \\\n",
       "0   37    0  27.740  1.386294     0.0       1    7281.50560      7961.396158   \n",
       "1   36    0  26.885  0.000000     0.0       1    5267.81815      5758.958279   \n",
       "2   59    1  37.100  0.693147     0.0       3   12347.17200     15305.598617   \n",
       "3   61    0  25.080  0.000000     0.0       2   24513.09126     11365.886052   \n",
       "4   29    0  26.030  0.000000     0.0       1    3736.46470      3649.290269   \n",
       "\n",
       "      Deviation  \n",
       "0   -679.890558  \n",
       "1   -491.140129  \n",
       "2  -2958.426617  \n",
       "3  13147.205208  \n",
       "4     87.174431  "
      ]
     },
     "execution_count": 56,
     "metadata": {},
     "output_type": "execute_result"
    }
   ],
   "source": [
    "new_df[\"Deviation\"]=new_df[\"Actual sales\"]-new_df[\"Predicted sales\"]\n",
    "new_df.to_excel(\"Sales Prediction.xlsx\",header=True,index=True)\n",
    "new_df.head()"
   ]
  },
  {
   "cell_type": "code",
   "execution_count": 57,
   "metadata": {},
   "outputs": [
    {
     "data": {
      "text/plain": [
       "<AxesSubplot:xlabel='charges'>"
      ]
     },
     "execution_count": 57,
     "metadata": {},
     "output_type": "execute_result"
    }
   ],
   "source": [
    "sns.regplot(x=Y_train,y=lm.predict(X_train),ci=95)"
   ]
  },
  {
   "cell_type": "code",
   "execution_count": 58,
   "metadata": {},
   "outputs": [
    {
     "data": {
      "text/plain": [
       "<AxesSubplot:xlabel='charges'>"
      ]
     },
     "execution_count": 58,
     "metadata": {},
     "output_type": "execute_result"
    }
   ],
   "source": [
    "sns.regplot(x=Y_test,y=lm.predict(X_test),ci=95)"
   ]
  },
  {
   "cell_type": "markdown",
   "metadata": {},
   "source": [
    "Perform Ridge and Lasso regression. Evaluate them as well.<br>\n",
    "Hint:Look at the fun in the Lasso Regression, ignore such model."
   ]
  },
  {
   "cell_type": "code",
   "execution_count": 59,
   "metadata": {},
   "outputs": [
    {
     "name": "stdout",
     "output_type": "stream",
     "text": [
      "-12500.662790594493\n",
      "[  259.02987979  -224.20769981   344.95760503  1183.45383735\n",
      " 44762.48129328  -252.79455351]\n"
     ]
    }
   ],
   "source": [
    "## RIDGE\n",
    "\n",
    "lm = Ridge()\n",
    "#train the model object\n",
    "lm.fit(X_train,Y_train)\n",
    "\n",
    "# print intercept and coefficients\n",
    "print(lm.intercept_)\n",
    "print(lm.coef_)"
   ]
  },
  {
   "cell_type": "code",
   "execution_count": 60,
   "metadata": {},
   "outputs": [
    {
     "name": "stdout",
     "output_type": "stream",
     "text": [
      "[ 8040.38755317  5845.80353971 15417.74359417 11446.10750388\n",
      "  3737.65562888  9852.60380677  8932.268991   25824.7472979\n",
      "  7963.30311068 30423.88595199  1954.86248004  4163.71874488\n",
      "  7392.66079964 11197.2470571  13140.50672683 11079.39148033\n",
      "  6014.91178296 18205.55633761 10629.47367409 30659.38154372\n",
      " 33878.60461878  4293.37018889  1239.43442212  7568.0494334\n",
      "  4691.56777477 13343.72648137 12012.14463542 10281.01132604\n",
      "  6573.4374444  30772.95086395 -1731.52585523 33667.50333729\n",
      "  9616.29495701  7608.2377366   8534.36374723 12310.41342604\n",
      " 13437.81480623 12646.24370294  9888.87127268  8666.05586658\n",
      " 16024.31827472 10023.83552609  5485.32284245 11480.70535185\n",
      "  5623.63410993  7724.30084408  6889.57799104 33725.19683522\n",
      " 11078.34526158 10600.3784933  32595.7015404   5668.13103922\n",
      " 10618.46941999 14801.50294626 11312.54494931 13460.67466074\n",
      " 12406.99373216  7873.87472786  7892.05763615 34575.89972456\n",
      "   720.28797001 32911.71336636 36443.81305642  1726.8598771\n",
      " 27595.39540822  9815.3948661   6091.6727845   9494.97009428\n",
      "  8444.91008879  8049.14387105  7289.15877467  2611.46280868\n",
      "  8452.82521652  9825.8177191   9291.65507499 12994.5695878\n",
      "  6639.95531749 10694.1017309  -1010.33824506 12760.79956216\n",
      " 11252.24813562 13208.49701567 26278.77657522  2814.32856027\n",
      " 33431.66289506  4869.96421026  2929.51521461  3408.63939235\n",
      "  9487.55276356  9235.28097911 31316.1607412  32470.22967189\n",
      "  9384.34317815 37616.62981946 13460.32251093  6492.17425164\n",
      "  7281.39721487 14397.61050775  6924.30628597 10997.35094132\n",
      "  8261.38848918  2550.27332126  3113.77935533  6904.56314445\n",
      " 10462.66020992  9929.80091397 31033.5795976  29390.36872378\n",
      " 28847.7394422   3357.44422362 10875.08503325  8502.70481849\n",
      "  7082.38916259 25701.91779521 30005.05703628 30487.62622629\n",
      "  5937.44158989 34983.60063402  6332.11286551  3669.79919493\n",
      " 33289.41473953 11145.59266067  6879.56809609  5392.4977711\n",
      " 38764.41697993  5483.97134412 13805.6579961   9540.93380117\n",
      "  6725.54563638 12160.82073209 11365.57576791 35693.96787565\n",
      " 26541.41147951 34182.9340005  12247.62363054 30290.57383889\n",
      " 12297.78135489 12753.49038337 28893.61688222  4988.43022513\n",
      "  8259.08684022 31513.65505134 14318.66250305  4420.55856534\n",
      "  4370.50074333 29472.21664794 13785.52408414  9160.92518804\n",
      " 11955.70514085  3443.3916619   7798.07741607  4501.1629993\n",
      "  1925.02475814 37950.23157168 13438.48959156  4295.54733055\n",
      " 14390.75827303  -561.45574834 15229.42817026 35606.41105342\n",
      " 11235.9243239   7184.40086476  7801.46537843 12106.15058584\n",
      "  5407.7863981  39393.77886727 10880.35125413 10536.72955032\n",
      "  2394.81618335 10727.27826443 12448.09171221 10200.80553297\n",
      "  7320.9927883  12409.53084692 29175.5724415   8330.06833418\n",
      "   716.49083459 12259.66462102 10367.29945067 15956.59459766\n",
      " 38606.04815763 10983.17024419  5733.4937362   6268.70483135\n",
      " 27014.27001019  7387.81732067 35613.06924642  9456.94423644\n",
      " 30268.60853864  1731.86783322  8447.72991638  8734.35174336\n",
      "  7336.96973867  9659.91164921 13222.21430151 11431.11771287\n",
      " 23732.52154648  3038.78323648 10322.5212133   6989.5963626\n",
      "  6393.53684553   130.4104654  15914.20261704 14045.13869845\n",
      "  3343.4495972  36904.79020922 27506.50757669 15597.6171135\n",
      " 31940.22190401  4858.08468552  9661.42539135 32127.40043799\n",
      "  9271.66334516  9289.12119309 31622.30418576  6488.35326953\n",
      "  9838.95902022  1126.1986938  14787.75650165 12667.00096693\n",
      "  7071.01161879  7369.99115262   813.41177991 14343.96283099\n",
      "   215.63389103 25767.44690014 14099.32847817  4861.26305935\n",
      "  8180.21035786 29130.73434928  6224.44141494 24996.25327728\n",
      "  7111.18094361 30127.36489528 11757.83719236  4965.87111075\n",
      " 10903.02549159 36958.77538976 -1172.04545271 14803.51591226\n",
      " 10865.67133314 27418.86524381 10713.29421838 32234.99424836\n",
      " 11992.66672598  3300.77400062 13152.10401219  8822.86668795\n",
      " 12963.37216515   574.60127245 10375.50233008 12216.96181697\n",
      " 33447.28614396  5103.91847325 10246.78857375 11910.52740999\n",
      "  9492.06979569  5854.61129089  -147.4872884  16664.64579864\n",
      "  3279.73041181 34239.45945939  8963.0931229  36137.37864945\n",
      "  7843.44088877  2649.32870216 16164.1217958  11357.07733565]\n"
     ]
    }
   ],
   "source": [
    "Y_pred=lm.predict(X_test)\n",
    "\n",
    "print(Y_pred)"
   ]
  },
  {
   "cell_type": "code",
   "execution_count": 61,
   "metadata": {},
   "outputs": [
    {
     "data": {
      "text/html": [
       "<div>\n",
       "<style scoped>\n",
       "    .dataframe tbody tr th:only-of-type {\n",
       "        vertical-align: middle;\n",
       "    }\n",
       "\n",
       "    .dataframe tbody tr th {\n",
       "        vertical-align: top;\n",
       "    }\n",
       "\n",
       "    .dataframe thead th {\n",
       "        text-align: right;\n",
       "    }\n",
       "</style>\n",
       "<table border=\"1\" class=\"dataframe\">\n",
       "  <thead>\n",
       "    <tr style=\"text-align: right;\">\n",
       "      <th></th>\n",
       "      <th>age</th>\n",
       "      <th>sex</th>\n",
       "      <th>bmi</th>\n",
       "      <th>children</th>\n",
       "      <th>smoker</th>\n",
       "      <th>region</th>\n",
       "      <th>Actual charges</th>\n",
       "      <th>Predicted charges</th>\n",
       "    </tr>\n",
       "  </thead>\n",
       "  <tbody>\n",
       "    <tr>\n",
       "      <th>0</th>\n",
       "      <td>37</td>\n",
       "      <td>0</td>\n",
       "      <td>27.740</td>\n",
       "      <td>1.386294</td>\n",
       "      <td>0.000000</td>\n",
       "      <td>1</td>\n",
       "      <td>7281.50560</td>\n",
       "      <td>8040.387553</td>\n",
       "    </tr>\n",
       "    <tr>\n",
       "      <th>1</th>\n",
       "      <td>36</td>\n",
       "      <td>0</td>\n",
       "      <td>26.885</td>\n",
       "      <td>0.000000</td>\n",
       "      <td>0.000000</td>\n",
       "      <td>1</td>\n",
       "      <td>5267.81815</td>\n",
       "      <td>5845.803540</td>\n",
       "    </tr>\n",
       "    <tr>\n",
       "      <th>2</th>\n",
       "      <td>59</td>\n",
       "      <td>1</td>\n",
       "      <td>37.100</td>\n",
       "      <td>0.693147</td>\n",
       "      <td>0.000000</td>\n",
       "      <td>3</td>\n",
       "      <td>12347.17200</td>\n",
       "      <td>15417.743594</td>\n",
       "    </tr>\n",
       "    <tr>\n",
       "      <th>3</th>\n",
       "      <td>61</td>\n",
       "      <td>0</td>\n",
       "      <td>25.080</td>\n",
       "      <td>0.000000</td>\n",
       "      <td>0.000000</td>\n",
       "      <td>2</td>\n",
       "      <td>24513.09126</td>\n",
       "      <td>11446.107504</td>\n",
       "    </tr>\n",
       "    <tr>\n",
       "      <th>4</th>\n",
       "      <td>29</td>\n",
       "      <td>0</td>\n",
       "      <td>26.030</td>\n",
       "      <td>0.000000</td>\n",
       "      <td>0.000000</td>\n",
       "      <td>1</td>\n",
       "      <td>3736.46470</td>\n",
       "      <td>3737.655629</td>\n",
       "    </tr>\n",
       "    <tr>\n",
       "      <th>...</th>\n",
       "      <td>...</td>\n",
       "      <td>...</td>\n",
       "      <td>...</td>\n",
       "      <td>...</td>\n",
       "      <td>...</td>\n",
       "      <td>...</td>\n",
       "      <td>...</td>\n",
       "      <td>...</td>\n",
       "    </tr>\n",
       "    <tr>\n",
       "      <th>263</th>\n",
       "      <td>50</td>\n",
       "      <td>1</td>\n",
       "      <td>34.200</td>\n",
       "      <td>1.098612</td>\n",
       "      <td>0.526589</td>\n",
       "      <td>3</td>\n",
       "      <td>42856.83800</td>\n",
       "      <td>36137.378649</td>\n",
       "    </tr>\n",
       "    <tr>\n",
       "      <th>264</th>\n",
       "      <td>26</td>\n",
       "      <td>0</td>\n",
       "      <td>40.185</td>\n",
       "      <td>0.000000</td>\n",
       "      <td>0.000000</td>\n",
       "      <td>1</td>\n",
       "      <td>3201.24515</td>\n",
       "      <td>7843.440889</td>\n",
       "    </tr>\n",
       "    <tr>\n",
       "      <th>265</th>\n",
       "      <td>19</td>\n",
       "      <td>1</td>\n",
       "      <td>27.265</td>\n",
       "      <td>1.098612</td>\n",
       "      <td>0.000000</td>\n",
       "      <td>1</td>\n",
       "      <td>22493.65964</td>\n",
       "      <td>2649.328702</td>\n",
       "    </tr>\n",
       "    <tr>\n",
       "      <th>266</th>\n",
       "      <td>57</td>\n",
       "      <td>1</td>\n",
       "      <td>40.945</td>\n",
       "      <td>0.000000</td>\n",
       "      <td>0.000000</td>\n",
       "      <td>0</td>\n",
       "      <td>11566.30055</td>\n",
       "      <td>16164.121796</td>\n",
       "    </tr>\n",
       "    <tr>\n",
       "      <th>267</th>\n",
       "      <td>42</td>\n",
       "      <td>1</td>\n",
       "      <td>35.970</td>\n",
       "      <td>1.098612</td>\n",
       "      <td>0.000000</td>\n",
       "      <td>2</td>\n",
       "      <td>7160.33030</td>\n",
       "      <td>11357.077336</td>\n",
       "    </tr>\n",
       "  </tbody>\n",
       "</table>\n",
       "<p>268 rows × 8 columns</p>\n",
       "</div>"
      ],
      "text/plain": [
       "     age  sex     bmi  children    smoker  region  Actual charges  \\\n",
       "0     37    0  27.740  1.386294  0.000000       1      7281.50560   \n",
       "1     36    0  26.885  0.000000  0.000000       1      5267.81815   \n",
       "2     59    1  37.100  0.693147  0.000000       3     12347.17200   \n",
       "3     61    0  25.080  0.000000  0.000000       2     24513.09126   \n",
       "4     29    0  26.030  0.000000  0.000000       1      3736.46470   \n",
       "..   ...  ...     ...       ...       ...     ...             ...   \n",
       "263   50    1  34.200  1.098612  0.526589       3     42856.83800   \n",
       "264   26    0  40.185  0.000000  0.000000       1      3201.24515   \n",
       "265   19    1  27.265  1.098612  0.000000       1     22493.65964   \n",
       "266   57    1  40.945  0.000000  0.000000       0     11566.30055   \n",
       "267   42    1  35.970  1.098612  0.000000       2      7160.33030   \n",
       "\n",
       "     Predicted charges  \n",
       "0          8040.387553  \n",
       "1          5845.803540  \n",
       "2         15417.743594  \n",
       "3         11446.107504  \n",
       "4          3737.655629  \n",
       "..                 ...  \n",
       "263       36137.378649  \n",
       "264        7843.440889  \n",
       "265        2649.328702  \n",
       "266       16164.121796  \n",
       "267       11357.077336  \n",
       "\n",
       "[268 rows x 8 columns]"
      ]
     },
     "execution_count": 61,
     "metadata": {},
     "output_type": "execute_result"
    }
   ],
   "source": [
    "new_df=pd.DataFrame()\n",
    "new_df=X_test.copy()\n",
    "\n",
    "new_df[\"Actual charges\"]=Y_test\n",
    "new_df[\"Predicted charges\"]=Y_pred\n",
    "new_df=new_df.reset_index().drop(\"index\", axis=1)\n",
    "\n",
    "new_df"
   ]
  },
  {
   "cell_type": "code",
   "execution_count": 64,
   "metadata": {},
   "outputs": [
    {
     "name": "stdout",
     "output_type": "stream",
     "text": [
      "R-squared: 0.697239006847707\n",
      "RMSE: 6516.321089995858\n",
      "Adj R-square: 0.6958741939559612\n"
     ]
    }
   ],
   "source": [
    "r2=r2_score(Y_test,Y_pred)\n",
    "print(\"R-squared:\",r2)\n",
    "\n",
    "rmse=np.sqrt(mean_squared_error(Y_test,Y_pred))\n",
    "print(\"RMSE:\",rmse)\n",
    "\n",
    "adjusted_r_squared=1-(1-r2)*(len(y)-1)/(len(y)-X.shape[1]-1)\n",
    "print(\"Adj R-square:\",adjusted_r_squared)"
   ]
  },
  {
   "cell_type": "code",
   "execution_count": 65,
   "metadata": {},
   "outputs": [
    {
     "name": "stdout",
     "output_type": "stream",
     "text": [
      "-12590.171045138968\n",
      "[  259.27918237  -253.11384228   344.73381926  1185.75267828\n",
      " 45679.52366     -251.46172464]\n"
     ]
    }
   ],
   "source": [
    "## LASSO\n",
    "\n",
    "from sklearn.linear_model import Lasso\n",
    "\n",
    "lm = Lasso()\n",
    "#train the model object\n",
    "lm.fit(X_train,Y_train)\n",
    "\n",
    "# print intercept and coefficients\n",
    "print(lm.intercept_)\n",
    "print(lm.coef_)"
   ]
  },
  {
   "cell_type": "code",
   "execution_count": 66,
   "metadata": {},
   "outputs": [
    {
     "name": "stdout",
     "output_type": "stream",
     "text": [
      "[ 7.95841538e+03  5.76058653e+03  1.53113275e+04  1.13688598e+04\n",
      "  3.65088483e+03  9.76783093e+03  8.82641761e+03  2.62213822e+04\n",
      "  7.88458898e+03  3.08260419e+04  1.84022689e+03  4.07425068e+03\n",
      "  7.27914127e+03  1.11137275e+04  1.30565223e+04  1.10007955e+04\n",
      "  5.92828871e+03  1.81011267e+04  1.05518379e+04  3.10281683e+04\n",
      "  3.42486417e+04  4.20206544e+03  1.14852469e+03  7.48350659e+03\n",
      "  4.60829862e+03  1.32632442e+04  1.19029211e+04  1.02046804e+04\n",
      "  6.48928160e+03  3.11464225e+04 -1.84563597e+03  3.40403406e+04\n",
      "  9.53355683e+03  7.49836469e+03  8.41872400e+03  1.22251231e+04\n",
      "  1.33294719e+04  1.25365786e+04  9.80570537e+03  8.55900307e+03\n",
      "  1.59449352e+04  9.91606830e+03  5.40033969e+03  1.13940027e+04\n",
      "  5.50316627e+03  7.64366368e+03  6.78017980e+03  3.40962070e+04\n",
      "  1.09691122e+04  1.05204239e+04  3.29868583e+04  5.58085937e+03\n",
      "  1.05093240e+04  1.47218578e+04  1.12029936e+04  1.33530685e+04\n",
      "  1.23251545e+04  7.76358839e+03  7.78301154e+03  3.49785820e+04\n",
      "  6.00663434e+02  3.32892144e+04  3.68482104e+04  1.61058938e+03\n",
      "  2.79660781e+04  9.73369641e+03  5.97769226e+03  9.38378986e+03\n",
      "  8.36580896e+03  7.97155152e+03  7.20475798e+03  2.49507466e+03\n",
      "  8.37012926e+03  9.71400551e+03  9.21167049e+03  1.29123406e+04\n",
      "  6.55539194e+03  1.06105812e+04 -1.12725389e+03  1.26799385e+04\n",
      "  1.11441489e+04  1.30990066e+04  2.66764079e+04  2.73061650e+03\n",
      "  3.38355491e+04  4.78450125e+03  2.81079514e+03  3.32066361e+03\n",
      "  9.40168148e+03  9.15665956e+03  3.16884064e+04  3.28418099e+04\n",
      "  9.27503480e+03  3.80151220e+04  1.33547201e+04  6.38028021e+03\n",
      "  7.16999226e+03  1.43175691e+04  6.81338393e+03  1.09199770e+04\n",
      "  8.14976513e+03  2.45851320e+03  3.02710938e+03  6.81748500e+03\n",
      "  1.03815818e+04  9.82277161e+03  3.14069654e+04  2.97566789e+04\n",
      "  2.92548806e+04  3.24803137e+03  1.07647707e+04  8.42071935e+03\n",
      "  6.99716030e+03  2.60949206e+04  3.03997759e+04  3.08588338e+04\n",
      "  5.85337284e+03  3.53863137e+04  6.22102848e+03  3.55455161e+03\n",
      "  3.36884240e+04  1.10341461e+04  6.76924987e+03  5.30123147e+03\n",
      "  3.91394261e+04  5.39239476e+03  1.37244587e+04  9.45581825e+03\n",
      "  6.61346132e+03  1.20530110e+04  1.12552385e+04  3.60996032e+04\n",
      "  2.69355391e+04  3.45596578e+04  1.21612527e+04  3.06890688e+04\n",
      "  1.21894211e+04  1.26713432e+04  2.92621308e+04  4.90812116e+03\n",
      "  8.14745633e+03  3.18856351e+04  1.42130340e+04  4.30750438e+03\n",
      "  4.25555008e+03  2.98423500e+04  1.37054235e+04  9.05185174e+03\n",
      "  1.18456533e+04  3.35688952e+03  7.71070625e+03  4.41906597e+03\n",
      "  1.80854251e+03  3.83230139e+04  1.33302240e+04  4.17594107e+03\n",
      "  1.43123518e+04 -6.77911109e+02  1.51498871e+04  3.59786272e+04\n",
      "  1.11274237e+04  7.06500722e+03  7.72110366e+03  1.20018829e+04\n",
      "  5.32155719e+03  3.97682965e+04  1.07972493e+04  1.04479688e+04\n",
      "  2.30549458e+03  1.06170209e+04  1.23367569e+04  1.00923398e+04\n",
      "  7.23886469e+03  1.22938726e+04  2.95480682e+04  8.21798307e+03\n",
      "  6.30093796e+02  1.21754083e+04  1.02857824e+04  1.58743341e+04\n",
      "  3.89815774e+04  1.08735816e+04  5.61975421e+03  6.14781851e+03\n",
      "  2.73797076e+04  7.27367287e+03  3.60166703e+04  9.35143485e+03\n",
      "  3.06700392e+04  1.61768081e+03  8.34333146e+03  8.62673442e+03\n",
      "  7.22218134e+03  9.57684132e+03  1.31453279e+04  1.13207379e+04\n",
      "  2.41272193e+04  2.95583482e+03  1.02448336e+04  6.87796337e+03\n",
      "  6.30679567e+03  1.11686026e+01  1.58369248e+04  1.39313883e+04\n",
      "  3.25351258e+03  3.73050492e+04  2.78784643e+04  1.55187550e+04\n",
      "  3.23108409e+04  4.77000329e+03  9.55244460e+03  3.24964426e+04\n",
      "  9.15971009e+03  9.20822036e+03  3.20173091e+04  6.39992008e+03\n",
      "  9.75398972e+03  1.04433327e+03  1.47081678e+04  1.25570714e+04\n",
      "  6.96086766e+03  7.28382422e+03  7.22778425e+02  1.42375307e+04\n",
      "  9.99264381e+01  2.61318951e+04  1.40200557e+04  4.77034139e+03\n",
      "  8.09681769e+03  2.95277200e+04  6.11360007e+03  2.53920516e+04\n",
      "  7.00211256e+03  3.04942351e+04  1.16774659e+04  4.87621681e+03\n",
      "  1.08237925e+04  3.73616698e+04 -1.25905311e+03  1.46916998e+04\n",
      "  1.07566151e+04  2.77850414e+04  1.06029628e+04  3.26075088e+04\n",
      "  1.18864691e+04  3.18527391e+03  1.30426113e+04  8.73442200e+03\n",
      "  1.28550030e+04  4.85374874e+02  1.02574161e+04  1.21388799e+04\n",
      "  3.38452751e+04  5.02152041e+03  1.01665574e+04  1.18038739e+04\n",
      "  9.38143950e+03  5.77301714e+03 -2.62041284e+02  1.65815475e+04\n",
      "  3.16949441e+03  3.46441958e+04  8.85005778e+03  3.65132044e+04\n",
      "  7.75275450e+03  2.53340790e+03  1.60507547e+04  1.12462753e+04]\n"
     ]
    }
   ],
   "source": [
    "Y_pred=lm.predict(X_test)\n",
    "print(Y_pred)"
   ]
  },
  {
   "cell_type": "code",
   "execution_count": 69,
   "metadata": {},
   "outputs": [
    {
     "name": "stdout",
     "output_type": "stream",
     "text": [
      "R-squared: 0.6960965761141051\n",
      "RMSE: 6528.603775346554\n",
      "Adj R-square: 0.6947266132716443\n"
     ]
    }
   ],
   "source": [
    "r2=r2_score(Y_test,Y_pred)\n",
    "print(\"R-squared:\",r2)\n",
    "\n",
    "rmse=np.sqrt(mean_squared_error(Y_test,Y_pred))\n",
    "print(\"RMSE:\",rmse)\n",
    "\n",
    "adjusted_r_squared=1-(1-r2)*(len(y)-1)/(len(y)-X.shape[1]-1)\n",
    "print(\"Adj R-square:\",adjusted_r_squared)"
   ]
  },
  {
   "cell_type": "markdown",
   "metadata": {},
   "source": [
    "Scale the data using Standard Scaler to prepare it for SGD."
   ]
  },
  {
   "cell_type": "code",
   "execution_count": 70,
   "metadata": {},
   "outputs": [],
   "source": [
    "X=data[['age','sex','bmi','children','smoker','region']]\n",
    "Y=data['charges']"
   ]
  },
  {
   "cell_type": "code",
   "execution_count": 71,
   "metadata": {},
   "outputs": [
    {
     "name": "stdout",
     "output_type": "stream",
     "text": [
      "[[-1.43876426 -1.0105187  -0.45332    -0.90861367  1.97058663  1.34390459]\n",
      " [-1.50996545  0.98959079  0.5096211  -0.07876719 -0.5074631   0.43849455]\n",
      " [-0.79795355  0.98959079  0.38330685  1.58092576 -0.5074631   0.43849455]\n",
      " ...\n",
      " [-1.50996545 -1.0105187   1.0148781  -0.90861367 -0.5074631   0.43849455]\n",
      " [-1.29636188 -1.0105187  -0.79781341 -0.90861367 -0.5074631   1.34390459]\n",
      " [ 1.55168573 -1.0105187  -0.26138796 -0.90861367  1.97058663 -0.46691549]]\n"
     ]
    }
   ],
   "source": [
    "from sklearn.preprocessing import StandardScaler\n",
    "\n",
    "scaler=StandardScaler()\n",
    "X=scaler.fit_transform(X)\n",
    "\n",
    "#scaler.fit(X)\n",
    "#X=scaler.transform(X)\n",
    "\n",
    "print(X)"
   ]
  },
  {
   "cell_type": "code",
   "execution_count": 72,
   "metadata": {},
   "outputs": [
    {
     "name": "stdout",
     "output_type": "stream",
     "text": [
      "[[-1.43876426 -1.0105187  -0.45332    -0.90861367  1.97058663  1.34390459]\n",
      " [-1.50996545  0.98959079  0.5096211  -0.07876719 -0.5074631   0.43849455]\n",
      " [-0.79795355  0.98959079  0.38330685  1.58092576 -0.5074631   0.43849455]\n",
      " ...\n",
      " [-1.50996545 -1.0105187   1.0148781  -0.90861367 -0.5074631   0.43849455]\n",
      " [-1.29636188 -1.0105187  -0.79781341 -0.90861367 -0.5074631   1.34390459]\n",
      " [ 1.55168573 -1.0105187  -0.26138796 -0.90861367  1.97058663 -0.46691549]]\n"
     ]
    }
   ],
   "source": [
    "scaler=StandardScaler()\n",
    "X=scaler.fit_transform(X)\n",
    "\n",
    "np.set_printoptions(suppress=True) ##converting the scientific notations to float by suppressing the values\n",
    "\n",
    "print(X)"
   ]
  },
  {
   "cell_type": "markdown",
   "metadata": {},
   "source": [
    "Split the data into train and test.<br>\n",
    "Hint: Make sure you are considering the log transformed Y."
   ]
  },
  {
   "cell_type": "code",
   "execution_count": 73,
   "metadata": {},
   "outputs": [],
   "source": [
    "X_train, X_test, Y_train, Y_test = train_test_split(X,Y_log, test_size=0.2, random_state=10)"
   ]
  },
  {
   "cell_type": "markdown",
   "metadata": {},
   "source": [
    "Build the SGDRegressor."
   ]
  },
  {
   "cell_type": "code",
   "execution_count": 74,
   "metadata": {
    "scrolled": true
   },
   "outputs": [
    {
     "data": {
      "text/plain": [
       "SGDRegressor(early_stopping=True, eta0=0.1, learning_rate='constant',\n",
       "             random_state=10)"
      ]
     },
     "execution_count": 74,
     "metadata": {},
     "output_type": "execute_result"
    }
   ],
   "source": [
    "from sklearn.linear_model import SGDRegressor\n",
    "\n",
    "lm = SGDRegressor(learning_rate=\"constant\",  \n",
    "                  #want to use a constant learning rate\n",
    "                  eta0=0.1,  #alpha\n",
    "                  shuffle=True, \n",
    "        #while going ahead with the next epoch shuffle the obs\n",
    "                  random_state=10, #set seed\n",
    "                  max_iter=1000, #max no of epochs\n",
    "                  early_stopping=True,\n",
    "                  #stop if zero convergence is reached first\n",
    "                  n_iter_no_change=5) \n",
    "    #no of obs to wait for before concluding upon early stopping\n",
    "lm.fit(X_train,Y_train)"
   ]
  },
  {
   "cell_type": "code",
   "execution_count": 75,
   "metadata": {},
   "outputs": [
    {
     "name": "stdout",
     "output_type": "stream",
     "text": [
      "[9.09358862]\n",
      "[ 0.35102586 -0.14693724  0.43349556 -0.00081673  0.43827899 -0.20248566]\n"
     ]
    }
   ],
   "source": [
    "print (lm.intercept_)\n",
    "print (lm.coef_)"
   ]
  },
  {
   "cell_type": "markdown",
   "metadata": {},
   "source": [
    "Predict using the model. Evaluate the model. Perform trial and error to reach the optimum model."
   ]
  },
  {
   "cell_type": "code",
   "execution_count": 76,
   "metadata": {},
   "outputs": [
    {
     "name": "stdout",
     "output_type": "stream",
     "text": [
      "[ 7958.41537579  5760.58652637 15311.32751888 11368.85981729\n",
      "  3650.88483429  9767.83093014  8826.41760569 26221.38223174\n",
      "  7884.58897945 30826.04191164  1840.22688881  4074.25068387\n",
      "  7279.14126987 11113.7274612  13056.52228407 11000.79551844\n",
      "  5928.28870724 18101.12668616 10551.83787761 31028.16833253\n",
      " 34248.64174054  4202.06544218  1148.52469132  7483.50659287\n",
      "  4608.2986242  13263.24422393 11902.92112118 10204.68042939\n",
      "  6489.2816049  31146.42250601 -1845.63597497 34040.3405787\n",
      "  9533.55682654  7498.36468993  8418.72399977 12225.12307891\n",
      " 13329.47194915 12536.57858878  9805.70536838  8559.00307439\n",
      " 15944.93523469  9916.06829572  5400.33968524 11394.00270576\n",
      "  5503.16627024  7643.66367918  6780.17980144 34096.20704224\n",
      " 10969.11220823 10520.42390704 32986.85829251  5580.85936761\n",
      " 10509.32398019 14721.85779403 11202.99356277 13353.06846199\n",
      " 12325.15452078  7763.58839158  7783.01153634 34978.58199826\n",
      "   600.66343357 33289.21435564 36848.21040732  1610.58938436\n",
      " 27966.07807158  9733.69640512  5977.69225604  9383.78985998\n",
      "  8365.8089607   7971.55152235  7204.75798386  2495.07466409\n",
      "  8370.12925647  9714.00550854  9211.67049033 12912.34055794\n",
      "  6555.39194317 10610.58119043 -1127.25388865 12679.93853343\n",
      " 11144.14885028 13099.00656878 26676.40787326  2730.61650039\n",
      " 33835.54914213  4784.50124523  2810.79514184  3320.66360965\n",
      "  9401.68147575  9156.65956055 31688.40642008 32841.80986677\n",
      "  9275.0348018  38015.1220331  13354.72006126  6380.28020698\n",
      "  7169.9922624  14317.5690684   6813.38393484 10919.97703433\n",
      "  8149.76512702  2458.51320449  3027.10938462  6817.4849976\n",
      " 10381.58181005  9822.7716134  31406.96536083 29756.67888782\n",
      " 29254.88061941  3248.0313677  10764.77068558  8420.71935017\n",
      "  6997.16029839 26094.92063949 30399.77587249 30858.83378063\n",
      "  5853.37283639 35386.31368622  6221.0284782   3554.55160972\n",
      " 33688.42401467 11034.14606115  6769.24987415  5301.2314711\n",
      " 39139.42611457  5392.39475783 13724.4587238   9455.81824772\n",
      "  6613.46131957 12053.01103666 11255.23849017 36099.60316501\n",
      " 26935.53909201 34559.65781968 12161.252699   30689.06882361\n",
      " 12189.42114056 12671.34318785 29262.13075068  4908.12115793\n",
      "  8147.45633325 31885.63510279 14213.03400116  4307.50438385\n",
      "  4255.55007739 29842.35004164 13705.42350588  9051.85174256\n",
      " 11845.6533144   3356.88951874  7710.70624606  4419.06597301\n",
      "  1808.54250915 38323.01388726 13330.22404906  4175.9410661\n",
      " 14312.35177923  -677.91110904 15149.88706663 35978.62716486\n",
      " 11127.42373185  7065.00722293  7721.1036605  12001.88285402\n",
      "  5321.55718534 39768.29651343 10797.24930745 10447.96882905\n",
      "  2305.49458176 10617.02092789 12336.75690139 10092.33975215\n",
      "  7238.86468675 12293.87257294 29548.06819891  8217.98307294\n",
      "   630.09379625 12175.40828444 10285.78237055 15874.33408352\n",
      " 38981.57737564 10873.58159     5619.75420868  6147.81851225\n",
      " 27379.70755793  7273.67286532 36016.67029693  9351.4348503\n",
      " 30670.03918178  1617.6808122   8343.33146231  8626.7344164\n",
      "  7222.18134356  9576.84131713 13145.32792374 11320.73791583\n",
      " 24127.21934947  2955.83481538 10244.8336031   6877.96336719\n",
      "  6306.79566647    11.16860264 15836.92477164 13931.38827271\n",
      "  3253.51258471 37305.04921156 27878.46425116 15518.75504128\n",
      " 32310.84093898  4770.00328639  9552.44459841 32496.44258138\n",
      "  9159.71008942  9208.22036409 32017.30909077  6399.92007955\n",
      "  9753.9897194   1044.33326971 14708.16778133 12557.07144256\n",
      "  6960.86765929  7283.82422289   722.77842454 14237.53074182\n",
      "    99.92643808 26131.89506001 14020.05565056  4770.34138944\n",
      "  8096.81768799 29527.72000313  6113.60006969 25392.05157504\n",
      "  7002.11255832 30494.23506309 11677.4658673   4876.21681029\n",
      " 10823.79245603 37361.66983459 -1259.05310936 14691.69981365\n",
      " 10756.61512479 27785.04140488 10602.96275384 32607.508775\n",
      " 11886.46909439  3185.27390858 13042.6112732   8734.42199599\n",
      " 12855.00295102   485.37487394 10257.41614081 12138.87990668\n",
      " 33845.27511438  5021.52041089 10166.55738173 11803.87388298\n",
      "  9381.43950107  5773.01713697  -262.0412841  16581.54747957\n",
      "  3169.4944071  34644.19576966  8850.05777666 36513.20438362\n",
      "  7752.75449875  2533.40789875 16050.75473731 11246.27526531]\n"
     ]
    }
   ],
   "source": [
    "Y_pred_new=lm.predict(X_test)\n",
    "print(Y_pred)"
   ]
  },
  {
   "cell_type": "code",
   "execution_count": 77,
   "metadata": {},
   "outputs": [
    {
     "name": "stdout",
     "output_type": "stream",
     "text": [
      "R-squared: 0.4652473500549147\n",
      "RMSE: 0.6572916021765494\n",
      "Adj R-square: 0.46283674457056423\n"
     ]
    }
   ],
   "source": [
    "r2=r2_score(Y_test,Y_pred_new)\n",
    "print(\"R-squared:\",r2)\n",
    "\n",
    "rmse=np.sqrt(mean_squared_error(Y_test,Y_pred_new))\n",
    "print(\"RMSE:\",rmse)\n",
    "\n",
    "adjusted_r_squared=1-(1-r2)*(len(Y)-1)/(len(Y)-X.shape[1]-1)\n",
    "print(\"Adj R-square:\",adjusted_r_squared)"
   ]
  },
  {
   "cell_type": "markdown",
   "metadata": {},
   "source": [
    "Write down your conclusion as to which is the final model that you would go with along with the reasons."
   ]
  },
  {
   "cell_type": "code",
   "execution_count": 78,
   "metadata": {},
   "outputs": [],
   "source": [
    "## Since the R-squared value of the RIDGE model is the highest, therefore I will use that model only to predict the charges of the test sample data."
   ]
  },
  {
   "cell_type": "markdown",
   "metadata": {},
   "source": [
    "Once finalized the model, try predicting the following observations for me.<br>\n",
    "Create the dataframe named \"X_test_sample\" using the given dictionary object.<br>\n",
    "\n",
    "sample_data={\"age\":[56,51,31,64,44,43,56],\n",
    "             \"sex\":[1,0,1,1,0,1,1],\n",
    "             \"bmi\":[19.95,18.05,34.39,25.6,23.98,32.6,33.725],\n",
    "             \"children\":[0,0,3,2,2,2,0],\"smoker\":[1,0,1,0,0,0,0],\"region\":[0,1,1,3,2,3,1]}\n",
    "\n",
    "\n",
    "\n"
   ]
  },
  {
   "cell_type": "code",
   "execution_count": 79,
   "metadata": {},
   "outputs": [
    {
     "name": "stdout",
     "output_type": "stream",
     "text": [
      "   age  sex     bmi  children  smoker  region\n",
      "0   56    1  19.950    19.950       1       0\n",
      "1   51    0  18.050    18.050       0       1\n",
      "2   31    1  34.390    34.390       1       1\n",
      "3   64    1  25.600    25.600       0       3\n",
      "4   44    0  23.980    23.980       0       2\n",
      "5   43    1  32.600    32.600       0       3\n",
      "6   56    1  33.725    33.725       0       1\n"
     ]
    }
   ],
   "source": [
    "age = [56, 51, 31, 64, 44, 43, 56]\n",
    "sex = [1, 0, 1, 1, 0, 1, 1]\n",
    "bmi = [19.95,18.05,34.39,25.6,23.98,32.6,33.725]\n",
    "children = [19.95,18.05,34.39,25.6,23.98,32.6,33.725]\n",
    "smoker = [1,0,1,0,0,0,0]\n",
    "region = [0,1,1,3,2,3,1]\n",
    "\n",
    "X_test_sample = pd.DataFrame()\n",
    "\n",
    "X_test_sample['age'] = age\n",
    "X_test_sample['sex'] =  sex\n",
    "X_test_sample['bmi'] = bmi\n",
    "X_test_sample['children'] = children\n",
    "X_test_sample['smoker'] = smoker\n",
    "X_test_sample['region'] = region\n",
    "\n",
    "\n",
    "print(X_test_sample)"
   ]
  },
  {
   "cell_type": "code",
   "execution_count": 80,
   "metadata": {
    "scrolled": true
   },
   "outputs": [
    {
     "name": "stdout",
     "output_type": "stream",
     "text": [
      "9.092247838773915\n",
      "[ 0.49094579 -0.03549643  0.07674275  0.11996674  0.63268625 -0.04290726]\n"
     ]
    }
   ],
   "source": [
    "lm = Ridge()\n",
    "lm.fit(X_train,Y_train)\n",
    "\n",
    "print(lm.intercept_)\n",
    "print(lm.coef_)"
   ]
  },
  {
   "cell_type": "code",
   "execution_count": 81,
   "metadata": {},
   "outputs": [
    {
     "data": {
      "text/html": [
       "<div>\n",
       "<style scoped>\n",
       "    .dataframe tbody tr th:only-of-type {\n",
       "        vertical-align: middle;\n",
       "    }\n",
       "\n",
       "    .dataframe tbody tr th {\n",
       "        vertical-align: top;\n",
       "    }\n",
       "\n",
       "    .dataframe thead th {\n",
       "        text-align: right;\n",
       "    }\n",
       "</style>\n",
       "<table border=\"1\" class=\"dataframe\">\n",
       "  <thead>\n",
       "    <tr style=\"text-align: right;\">\n",
       "      <th></th>\n",
       "      <th>age</th>\n",
       "      <th>sex</th>\n",
       "      <th>bmi</th>\n",
       "      <th>children</th>\n",
       "      <th>smoker</th>\n",
       "      <th>region</th>\n",
       "    </tr>\n",
       "  </thead>\n",
       "  <tbody>\n",
       "    <tr>\n",
       "      <th>0</th>\n",
       "      <td>56</td>\n",
       "      <td>1</td>\n",
       "      <td>19.950</td>\n",
       "      <td>19.950</td>\n",
       "      <td>1</td>\n",
       "      <td>0</td>\n",
       "    </tr>\n",
       "    <tr>\n",
       "      <th>1</th>\n",
       "      <td>51</td>\n",
       "      <td>0</td>\n",
       "      <td>18.050</td>\n",
       "      <td>18.050</td>\n",
       "      <td>0</td>\n",
       "      <td>1</td>\n",
       "    </tr>\n",
       "    <tr>\n",
       "      <th>2</th>\n",
       "      <td>31</td>\n",
       "      <td>1</td>\n",
       "      <td>34.390</td>\n",
       "      <td>34.390</td>\n",
       "      <td>1</td>\n",
       "      <td>1</td>\n",
       "    </tr>\n",
       "    <tr>\n",
       "      <th>3</th>\n",
       "      <td>64</td>\n",
       "      <td>1</td>\n",
       "      <td>25.600</td>\n",
       "      <td>25.600</td>\n",
       "      <td>0</td>\n",
       "      <td>3</td>\n",
       "    </tr>\n",
       "    <tr>\n",
       "      <th>4</th>\n",
       "      <td>44</td>\n",
       "      <td>0</td>\n",
       "      <td>23.980</td>\n",
       "      <td>23.980</td>\n",
       "      <td>0</td>\n",
       "      <td>2</td>\n",
       "    </tr>\n",
       "    <tr>\n",
       "      <th>5</th>\n",
       "      <td>43</td>\n",
       "      <td>1</td>\n",
       "      <td>32.600</td>\n",
       "      <td>32.600</td>\n",
       "      <td>0</td>\n",
       "      <td>3</td>\n",
       "    </tr>\n",
       "    <tr>\n",
       "      <th>6</th>\n",
       "      <td>56</td>\n",
       "      <td>1</td>\n",
       "      <td>33.725</td>\n",
       "      <td>33.725</td>\n",
       "      <td>0</td>\n",
       "      <td>1</td>\n",
       "    </tr>\n",
       "  </tbody>\n",
       "</table>\n",
       "</div>"
      ],
      "text/plain": [
       "   age  sex     bmi  children  smoker  region\n",
       "0   56    1  19.950    19.950       1       0\n",
       "1   51    0  18.050    18.050       0       1\n",
       "2   31    1  34.390    34.390       1       1\n",
       "3   64    1  25.600    25.600       0       3\n",
       "4   44    0  23.980    23.980       0       2\n",
       "5   43    1  32.600    32.600       0       3\n",
       "6   56    1  33.725    33.725       0       1"
      ]
     },
     "execution_count": 81,
     "metadata": {},
     "output_type": "execute_result"
    }
   ],
   "source": [
    "X_test_sample=X_test_sample.reset_index(drop=True)\n",
    "X_test_sample"
   ]
  },
  {
   "cell_type": "code",
   "execution_count": 82,
   "metadata": {},
   "outputs": [
    {
     "name": "stdout",
     "output_type": "stream",
     "text": [
      "[41.106756   37.63818196 31.63068902 45.38432286 35.32514144 36.45142772\n",
      " 43.14083566]\n"
     ]
    }
   ],
   "source": [
    "charges_pred = lm.predict(X_test_sample)\n",
    "print(charges_pred)"
   ]
  },
  {
   "cell_type": "markdown",
   "metadata": {},
   "source": [
    "The predicted values would be log transformed.Convert them back to original values.<br>\n",
    "Hint: Use np.exp()"
   ]
  },
  {
   "cell_type": "code",
   "execution_count": 83,
   "metadata": {},
   "outputs": [
    {
     "data": {
      "text/plain": [
       "array([7.11930010e+17, 2.21847600e+16, 5.45800212e+13, 5.13051525e+19,\n",
       "       2.19540171e+15, 6.77101718e+15, 5.44285632e+18])"
      ]
     },
     "execution_count": 83,
     "metadata": {},
     "output_type": "execute_result"
    }
   ],
   "source": [
    "np.exp(charges_pred)"
   ]
  },
  {
   "cell_type": "markdown",
   "metadata": {},
   "source": [
    "Save the predicted values along with the observations into an excel file."
   ]
  },
  {
   "cell_type": "code",
   "execution_count": 2,
   "metadata": {},
   "outputs": [
    {
     "name": "stderr",
     "output_type": "stream",
     "text": [
      "C:\\Users\\amanr\\AppData\\Local\\Temp\\ipykernel_19580\\3414449421.py:4: RuntimeWarning: overflow encountered in exp\n",
      "  np.exp(charges_pred)\n"
     ]
    },
    {
     "ename": "NameError",
     "evalue": "name 'X_test_sample' is not defined",
     "output_type": "error",
     "traceback": [
      "\u001b[1;31m---------------------------------------------------------------------------\u001b[0m",
      "\u001b[1;31mNameError\u001b[0m                                 Traceback (most recent call last)",
      "\u001b[1;32m~\\AppData\\Local\\Temp\\ipykernel_19580\\3414449421.py\u001b[0m in \u001b[0;36m<module>\u001b[1;34m\u001b[0m\n\u001b[0;32m      3\u001b[0m        9.71044554e+14, 2.00827231e+16, 4.69818259e+18]\n\u001b[0;32m      4\u001b[0m \u001b[0mnp\u001b[0m\u001b[1;33m.\u001b[0m\u001b[0mexp\u001b[0m\u001b[1;33m(\u001b[0m\u001b[0mcharges_pred\u001b[0m\u001b[1;33m)\u001b[0m\u001b[1;33m\u001b[0m\u001b[1;33m\u001b[0m\u001b[0m\n\u001b[1;32m----> 5\u001b[1;33m \u001b[0mX_test_sample\u001b[0m\u001b[1;33m[\u001b[0m\u001b[1;34m'charges_pred'\u001b[0m\u001b[1;33m]\u001b[0m\u001b[1;33m=\u001b[0m \u001b[0mcharges_pred\u001b[0m\u001b[1;33m\u001b[0m\u001b[1;33m\u001b[0m\u001b[0m\n\u001b[0m\u001b[0;32m      6\u001b[0m \u001b[1;33m\u001b[0m\u001b[0m\n\u001b[0;32m      7\u001b[0m \u001b[0mprint\u001b[0m\u001b[1;33m(\u001b[0m\u001b[0mX_test_sample\u001b[0m\u001b[1;33m)\u001b[0m\u001b[1;33m\u001b[0m\u001b[1;33m\u001b[0m\u001b[0m\n",
      "\u001b[1;31mNameError\u001b[0m: name 'X_test_sample' is not defined"
     ]
    }
   ],
   "source": [
    "import numpy as np\n",
    "charges_pred = [2.30011609e+16, 1.06662367e+15, 1.49974497e+15, 1.54480194e+18,\n",
    "       9.71044554e+14, 2.00827231e+16, 4.69818259e+18]\n",
    "np.exp(charges_pred)\n",
    "X_test_sample['charges_pred']= charges_pred\n",
    "\n",
    "print(X_test_sample)"
   ]
  },
  {
   "cell_type": "code",
   "execution_count": 86,
   "metadata": {},
   "outputs": [
    {
     "name": "stdout",
     "output_type": "stream",
     "text": [
      "dataframe is written to Excel File Successfully\n"
     ]
    }
   ],
   "source": [
    "file_name = 'X_test_sample.xlsx'\n",
    "X_test_sample.to_excel(file_name)\n",
    "print('dataframe is written to Excel File Successfully')"
   ]
  },
  {
   "cell_type": "code",
   "execution_count": null,
   "metadata": {},
   "outputs": [],
   "source": []
  },
  {
   "cell_type": "code",
   "execution_count": null,
   "metadata": {},
   "outputs": [],
   "source": []
  }
 ],
 "metadata": {
  "kernelspec": {
   "display_name": "Python 3 (ipykernel)",
   "language": "python",
   "name": "python3"
  },
  "language_info": {
   "codemirror_mode": {
    "name": "ipython",
    "version": 3
   },
   "file_extension": ".py",
   "mimetype": "text/x-python",
   "name": "python",
   "nbconvert_exporter": "python",
   "pygments_lexer": "ipython3",
   "version": "3.9.13"
  }
 },
 "nbformat": 4,
 "nbformat_minor": 2
}
